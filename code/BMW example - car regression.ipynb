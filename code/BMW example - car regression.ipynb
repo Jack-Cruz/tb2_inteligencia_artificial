{
 "cells": [
  {
   "cell_type": "markdown",
   "id": "84e403d2",
   "metadata": {},
   "source": [
    "# Regresión lineal - Predecir el costo de un vehículo"
   ]
  },
  {
   "cell_type": "markdown",
   "id": "31c4def2",
   "metadata": {},
   "source": [
    "El siguiente dataset se basa en el grupo de automoviles marca BMW."
   ]
  },
  {
   "cell_type": "code",
   "execution_count": 1,
   "id": "57b200ae",
   "metadata": {},
   "outputs": [],
   "source": [
    "import numpy as np\n",
    "import matplotlib.pyplot as plt\n",
    "import pandas as pd\n",
    "\n",
    "import seaborn as sns"
   ]
  },
  {
   "cell_type": "code",
   "execution_count": 2,
   "id": "7ccaec0e",
   "metadata": {},
   "outputs": [],
   "source": [
    "dataframe = pd.read_csv('../data/bmw.csv')"
   ]
  },
  {
   "cell_type": "markdown",
   "id": "9fcd3ef8",
   "metadata": {},
   "source": [
    "## Exploring the data"
   ]
  },
  {
   "cell_type": "markdown",
   "id": "dc5b627e",
   "metadata": {},
   "source": [
    "Con el método `.head()` podemos observar los cinco primeras entradas."
   ]
  },
  {
   "cell_type": "code",
   "execution_count": 3,
   "id": "d24b31aa",
   "metadata": {},
   "outputs": [
    {
     "data": {
      "text/html": [
       "<div>\n",
       "<style scoped>\n",
       "    .dataframe tbody tr th:only-of-type {\n",
       "        vertical-align: middle;\n",
       "    }\n",
       "\n",
       "    .dataframe tbody tr th {\n",
       "        vertical-align: top;\n",
       "    }\n",
       "\n",
       "    .dataframe thead th {\n",
       "        text-align: right;\n",
       "    }\n",
       "</style>\n",
       "<table border=\"1\" class=\"dataframe\">\n",
       "  <thead>\n",
       "    <tr style=\"text-align: right;\">\n",
       "      <th></th>\n",
       "      <th>model</th>\n",
       "      <th>year</th>\n",
       "      <th>price</th>\n",
       "      <th>transmission</th>\n",
       "      <th>mileage</th>\n",
       "      <th>fuelType</th>\n",
       "      <th>tax</th>\n",
       "      <th>mpg</th>\n",
       "      <th>engineSize</th>\n",
       "    </tr>\n",
       "  </thead>\n",
       "  <tbody>\n",
       "    <tr>\n",
       "      <th>0</th>\n",
       "      <td>5 Series</td>\n",
       "      <td>2014</td>\n",
       "      <td>11200</td>\n",
       "      <td>Automatic</td>\n",
       "      <td>67068</td>\n",
       "      <td>Diesel</td>\n",
       "      <td>125</td>\n",
       "      <td>57.6</td>\n",
       "      <td>2.0</td>\n",
       "    </tr>\n",
       "    <tr>\n",
       "      <th>1</th>\n",
       "      <td>6 Series</td>\n",
       "      <td>2018</td>\n",
       "      <td>27000</td>\n",
       "      <td>Automatic</td>\n",
       "      <td>14827</td>\n",
       "      <td>Petrol</td>\n",
       "      <td>145</td>\n",
       "      <td>42.8</td>\n",
       "      <td>2.0</td>\n",
       "    </tr>\n",
       "    <tr>\n",
       "      <th>2</th>\n",
       "      <td>5 Series</td>\n",
       "      <td>2016</td>\n",
       "      <td>16000</td>\n",
       "      <td>Automatic</td>\n",
       "      <td>62794</td>\n",
       "      <td>Diesel</td>\n",
       "      <td>160</td>\n",
       "      <td>51.4</td>\n",
       "      <td>3.0</td>\n",
       "    </tr>\n",
       "    <tr>\n",
       "      <th>3</th>\n",
       "      <td>1 Series</td>\n",
       "      <td>2017</td>\n",
       "      <td>12750</td>\n",
       "      <td>Automatic</td>\n",
       "      <td>26676</td>\n",
       "      <td>Diesel</td>\n",
       "      <td>145</td>\n",
       "      <td>72.4</td>\n",
       "      <td>1.5</td>\n",
       "    </tr>\n",
       "    <tr>\n",
       "      <th>4</th>\n",
       "      <td>7 Series</td>\n",
       "      <td>2014</td>\n",
       "      <td>14500</td>\n",
       "      <td>Automatic</td>\n",
       "      <td>39554</td>\n",
       "      <td>Diesel</td>\n",
       "      <td>160</td>\n",
       "      <td>50.4</td>\n",
       "      <td>3.0</td>\n",
       "    </tr>\n",
       "  </tbody>\n",
       "</table>\n",
       "</div>"
      ],
      "text/plain": [
       "       model  year  price transmission  mileage fuelType  tax   mpg  \\\n",
       "0   5 Series  2014  11200    Automatic    67068   Diesel  125  57.6   \n",
       "1   6 Series  2018  27000    Automatic    14827   Petrol  145  42.8   \n",
       "2   5 Series  2016  16000    Automatic    62794   Diesel  160  51.4   \n",
       "3   1 Series  2017  12750    Automatic    26676   Diesel  145  72.4   \n",
       "4   7 Series  2014  14500    Automatic    39554   Diesel  160  50.4   \n",
       "\n",
       "   engineSize  \n",
       "0         2.0  \n",
       "1         2.0  \n",
       "2         3.0  \n",
       "3         1.5  \n",
       "4         3.0  "
      ]
     },
     "execution_count": 3,
     "metadata": {},
     "output_type": "execute_result"
    }
   ],
   "source": [
    "dataframe.head()"
   ]
  },
  {
   "cell_type": "markdown",
   "id": "66b2ade7",
   "metadata": {},
   "source": [
    "Con el método `.shape()` podemos observar las dimensiones del dataframe."
   ]
  },
  {
   "cell_type": "code",
   "execution_count": 4,
   "id": "815cdfd0",
   "metadata": {},
   "outputs": [
    {
     "data": {
      "text/plain": [
       "(10781, 9)"
      ]
     },
     "execution_count": 4,
     "metadata": {},
     "output_type": "execute_result"
    }
   ],
   "source": [
    "dataframe.shape"
   ]
  },
  {
   "cell_type": "markdown",
   "id": "a13b0c6f",
   "metadata": {},
   "source": [
    "Con la extensión is `isnull().sum()` podemos observar los valores nulos."
   ]
  },
  {
   "cell_type": "code",
   "execution_count": 5,
   "id": "1008a200",
   "metadata": {},
   "outputs": [
    {
     "data": {
      "text/plain": [
       "model           0\n",
       "year            0\n",
       "price           0\n",
       "transmission    0\n",
       "mileage         0\n",
       "fuelType        0\n",
       "tax             0\n",
       "mpg             0\n",
       "engineSize      0\n",
       "dtype: int64"
      ]
     },
     "execution_count": 5,
     "metadata": {},
     "output_type": "execute_result"
    }
   ],
   "source": [
    "dataframe.isnull().sum()"
   ]
  },
  {
   "cell_type": "markdown",
   "id": "aab04178",
   "metadata": {},
   "source": [
    "Con el atributo `.dtypes` podemos ver el tipo de dato de las variables."
   ]
  },
  {
   "cell_type": "code",
   "execution_count": 6,
   "id": "75a463cb",
   "metadata": {},
   "outputs": [
    {
     "data": {
      "text/plain": [
       "model            object\n",
       "year              int64\n",
       "price             int64\n",
       "transmission     object\n",
       "mileage           int64\n",
       "fuelType         object\n",
       "tax               int64\n",
       "mpg             float64\n",
       "engineSize      float64\n",
       "dtype: object"
      ]
     },
     "execution_count": 6,
     "metadata": {},
     "output_type": "execute_result"
    }
   ],
   "source": [
    "dataframe.dtypes"
   ]
  },
  {
   "cell_type": "markdown",
   "id": "6ec2682a",
   "metadata": {},
   "source": [
    "Podemos usar el método `.value_counts()` para cuantas veces se repite el tipo de dato. Además, en este caso se está accediendo a una sola columna 'transmission'."
   ]
  },
  {
   "cell_type": "code",
   "execution_count": 7,
   "id": "d58d8062",
   "metadata": {},
   "outputs": [
    {
     "data": {
      "text/plain": [
       "Semi-Auto    4666\n",
       "Automatic    3588\n",
       "Manual       2527\n",
       "Name: transmission, dtype: int64"
      ]
     },
     "execution_count": 7,
     "metadata": {},
     "output_type": "execute_result"
    }
   ],
   "source": [
    "dataframe['transmission'].value_counts()"
   ]
  },
  {
   "cell_type": "code",
   "execution_count": 8,
   "id": "e6923eea",
   "metadata": {},
   "outputs": [
    {
     "data": {
      "text/plain": [
       "Diesel      7027\n",
       "Petrol      3417\n",
       "Hybrid       298\n",
       "Other         36\n",
       "Electric       3\n",
       "Name: fuelType, dtype: int64"
      ]
     },
     "execution_count": 8,
     "metadata": {},
     "output_type": "execute_result"
    }
   ],
   "source": [
    "dataframe['fuelType'].value_counts()"
   ]
  },
  {
   "cell_type": "code",
   "execution_count": 9,
   "id": "a60733d0",
   "metadata": {},
   "outputs": [
    {
     "data": {
      "text/plain": [
       " 3 Series    2443\n",
       " 1 Series    1969\n",
       " 2 Series    1229\n",
       " 5 Series    1056\n",
       " 4 Series     995\n",
       " X1           804\n",
       " X3           551\n",
       " X5           468\n",
       " X2           288\n",
       " X4           179\n",
       " M4           125\n",
       " 6 Series     108\n",
       " Z4           108\n",
       " 7 Series     106\n",
       " X6           106\n",
       " X7            55\n",
       " i3            43\n",
       " 8 Series      39\n",
       " M5            29\n",
       " M3            27\n",
       " M2            21\n",
       " i8            17\n",
       " M6             8\n",
       " Z3             7\n",
       "Name: model, dtype: int64"
      ]
     },
     "execution_count": 9,
     "metadata": {},
     "output_type": "execute_result"
    }
   ],
   "source": [
    "dataframe['model'].value_counts()"
   ]
  },
  {
   "cell_type": "markdown",
   "id": "e4314638",
   "metadata": {},
   "source": [
    "## Visualizing Data"
   ]
  },
  {
   "cell_type": "code",
   "execution_count": 10,
   "id": "da013723",
   "metadata": {},
   "outputs": [
    {
     "data": {
      "image/png": "[encoded data removed]",
      "text/plain": [
       "<Figure size 864x720 with 2 Axes>"
      ]
     },
     "metadata": {
      "needs_background": "light"
     },
     "output_type": "display_data"
    }
   ],
   "source": [
    "plt.figure(figsize=(12, 10))\n",
    "ax = sns.heatmap(dataframe.corr())"
   ]
  },
  {
   "cell_type": "code",
   "execution_count": 11,
   "id": "64854aa5",
   "metadata": {},
   "outputs": [
    {
     "name": "stderr",
     "output_type": "stream",
     "text": [
      "C:\\Users\\PC\\.conda\\envs\\IA\\lib\\site-packages\\ipykernel_launcher.py:3: UserWarning: To output multiple subplots, the figure containing the passed axes is being cleared\n",
      "  This is separate from the ipykernel package so we can avoid doing imports until\n"
     ]
    },
    {
     "data": {
      "image/png": "[encoded data removed]",
      "text/plain": [
       "<Figure size 1440x1080 with 6 Axes>"
      ]
     },
     "metadata": {
      "needs_background": "light"
     },
     "output_type": "display_data"
    }
   ],
   "source": [
    "fig = plt.figure(figsize=(20, 15))\n",
    "ax = fig.gca()\n",
    "dataframe.hist(ax=ax)\n",
    "plt.show()"
   ]
  },
  {
   "cell_type": "markdown",
   "id": "f5f1976e",
   "metadata": {},
   "source": [
    "## One hot encoding"
   ]
  },
  {
   "cell_type": "code",
   "execution_count": 12,
   "id": "4c063975",
   "metadata": {},
   "outputs": [
    {
     "data": {
      "text/plain": [
       "Index(['model', 'year', 'price', 'transmission', 'mileage', 'fuelType', 'tax',\n",
       "       'mpg', 'engineSize'],\n",
       "      dtype='object')"
      ]
     },
     "execution_count": 12,
     "metadata": {},
     "output_type": "execute_result"
    }
   ],
   "source": [
    "dataframe.columns"
   ]
  },
  {
   "cell_type": "code",
   "execution_count": 13,
   "id": "c94f8951",
   "metadata": {},
   "outputs": [],
   "source": [
    "dataframe = dataframe[['price', 'year', 'model', 'transmission']]"
   ]
  },
  {
   "cell_type": "code",
   "execution_count": 14,
   "id": "8d33f071",
   "metadata": {},
   "outputs": [],
   "source": [
    "dataframe = pd.get_dummies(data=dataframe, columns=['model', 'transmission'])"
   ]
  },
  {
   "cell_type": "code",
   "execution_count": 15,
   "id": "0edf9ec2",
   "metadata": {},
   "outputs": [
    {
     "data": {
      "text/plain": [
       "(10781, 29)"
      ]
     },
     "execution_count": 15,
     "metadata": {},
     "output_type": "execute_result"
    }
   ],
   "source": [
    "dataframe.shape"
   ]
  },
  {
   "cell_type": "markdown",
   "id": "c0a0385c",
   "metadata": {},
   "source": [
    "## Split the data"
   ]
  },
  {
   "cell_type": "code",
   "execution_count": 16,
   "id": "1cbd3a9e",
   "metadata": {},
   "outputs": [],
   "source": [
    "data = dataframe.drop('price', axis=1)\n",
    "label = dataframe['price']"
   ]
  },
  {
   "cell_type": "code",
   "execution_count": 17,
   "id": "29a1b3ff",
   "metadata": {},
   "outputs": [],
   "source": [
    "from sklearn.model_selection import train_test_split\n",
    "\n",
    "train_dataset, test_dataset, train_label, test_label = train_test_split(data, label, test_size=0.33) "
   ]
  },
  {
   "cell_type": "markdown",
   "id": "174beb04",
   "metadata": {},
   "source": [
    "## Modelo One --> Ridge"
   ]
  },
  {
   "cell_type": "code",
   "execution_count": 18,
   "id": "beff16a4",
   "metadata": {},
   "outputs": [],
   "source": [
    "from sklearn.metrics import mean_squared_error as MSE\n",
    "from sklearn.linear_model import Ridge"
   ]
  },
  {
   "cell_type": "code",
   "execution_count": 19,
   "id": "23994592",
   "metadata": {},
   "outputs": [
    {
     "data": {
      "text/plain": [
       "Ridge()"
      ]
     },
     "execution_count": 19,
     "metadata": {},
     "output_type": "execute_result"
    }
   ],
   "source": [
    "model_1 = Ridge(alpha=1.0)\n",
    "model_1.fit(train_dataset, train_label)"
   ]
  },
  {
   "cell_type": "code",
   "execution_count": 20,
   "id": "31c0ae4d",
   "metadata": {},
   "outputs": [
    {
     "data": {
      "text/plain": [
       "0.8093345758096093"
      ]
     },
     "execution_count": 20,
     "metadata": {},
     "output_type": "execute_result"
    }
   ],
   "source": [
    "model_1.score(test_dataset, test_label)"
   ]
  },
  {
   "cell_type": "code",
   "execution_count": 21,
   "id": "c03f374f",
   "metadata": {},
   "outputs": [
    {
     "data": {
      "text/plain": [
       "4920.897377625879"
      ]
     },
     "execution_count": 21,
     "metadata": {},
     "output_type": "execute_result"
    }
   ],
   "source": [
    "prediction = model_1.predict(test_dataset)\n",
    "np.sqrt(MSE(test_label, prediction))"
   ]
  },
  {
   "cell_type": "markdown",
   "id": "3a1479d0",
   "metadata": {},
   "source": [
    "# Modelo Two --> Xgboost"
   ]
  },
  {
   "cell_type": "code",
   "execution_count": 22,
   "id": "e5fa5aba",
   "metadata": {},
   "outputs": [],
   "source": [
    "import xgboost as xg"
   ]
  },
  {
   "cell_type": "code",
   "execution_count": 23,
   "id": "626561ba",
   "metadata": {},
   "outputs": [
    {
     "name": "stdout",
     "output_type": "stream",
     "text": [
      "[11:18:06] WARNING: c:\\ci\\xgboost-split_1619728435298\\work\\src\\objective\\regression_obj.cu:170: reg:linear is now deprecated in favor of reg:squarederror.\n"
     ]
    },
    {
     "data": {
      "text/plain": [
       "XGBRegressor(base_score=0.5, booster='gbtree', colsample_bylevel=1,\n",
       "             colsample_bynode=1, colsample_bytree=1, gamma=0, gpu_id=-1,\n",
       "             importance_type='gain', interaction_constraints='',\n",
       "             learning_rate=0.300000012, max_delta_step=0, max_depth=6,\n",
       "             min_child_weight=1, missing=nan, monotone_constraints='()',\n",
       "             n_estimators=10, n_jobs=4, num_parallel_tree=1,\n",
       "             objective='reg:linear', random_state=123, reg_alpha=0,\n",
       "             reg_lambda=1, scale_pos_weight=1, seed=123, subsample=1,\n",
       "             tree_method='exact', validate_parameters=1, verbosity=None)"
      ]
     },
     "execution_count": 23,
     "metadata": {},
     "output_type": "execute_result"
    }
   ],
   "source": [
    "model_2 = xg.XGBRegressor(objective = 'reg:linear', n_estimators=10, seed=123)\n",
    "model_2.fit(train_dataset, train_label)"
   ]
  },
  {
   "cell_type": "code",
   "execution_count": 24,
   "id": "b8b08ef6",
   "metadata": {},
   "outputs": [
    {
     "data": {
      "text/plain": [
       "0.8499202985878077"
      ]
     },
     "execution_count": 24,
     "metadata": {},
     "output_type": "execute_result"
    }
   ],
   "source": [
    "model_2.score(test_dataset, test_label)"
   ]
  },
  {
   "cell_type": "code",
   "execution_count": 25,
   "id": "115521ca",
   "metadata": {},
   "outputs": [
    {
     "data": {
      "text/plain": [
       "4365.855070126473"
      ]
     },
     "execution_count": 25,
     "metadata": {},
     "output_type": "execute_result"
    }
   ],
   "source": [
    "prediction = model_2.predict(test_dataset)\n",
    "np.sqrt(MSE(test_label, prediction))"
   ]
  },
  {
   "cell_type": "markdown",
   "id": "3adb4fc0",
   "metadata": {},
   "source": [
    "### Datos de prueba con el siguiente modelo para el programa python"
   ]
  },
  {
   "cell_type": "code",
   "execution_count": 26,
   "id": "8e931127",
   "metadata": {},
   "outputs": [
    {
     "data": {
      "text/plain": [
       "Index(['year', 'model_ 1 Series', 'model_ 2 Series', 'model_ 3 Series',\n",
       "       'model_ 4 Series', 'model_ 5 Series', 'model_ 6 Series',\n",
       "       'model_ 7 Series', 'model_ 8 Series', 'model_ M2', 'model_ M3',\n",
       "       'model_ M4', 'model_ M5', 'model_ M6', 'model_ X1', 'model_ X2',\n",
       "       'model_ X3', 'model_ X4', 'model_ X5', 'model_ X6', 'model_ X7',\n",
       "       'model_ Z3', 'model_ Z4', 'model_ i3', 'model_ i8',\n",
       "       'transmission_Automatic', 'transmission_Manual',\n",
       "       'transmission_Semi-Auto'],\n",
       "      dtype='object')"
      ]
     },
     "execution_count": 26,
     "metadata": {},
     "output_type": "execute_result"
    }
   ],
   "source": [
    "train_dataset.columns"
   ]
  },
  {
   "cell_type": "code",
   "execution_count": 27,
   "id": "132cd075",
   "metadata": {},
   "outputs": [
    {
     "data": {
      "text/html": [
       "<div>\n",
       "<style scoped>\n",
       "    .dataframe tbody tr th:only-of-type {\n",
       "        vertical-align: middle;\n",
       "    }\n",
       "\n",
       "    .dataframe tbody tr th {\n",
       "        vertical-align: top;\n",
       "    }\n",
       "\n",
       "    .dataframe thead th {\n",
       "        text-align: right;\n",
       "    }\n",
       "</style>\n",
       "<table border=\"1\" class=\"dataframe\">\n",
       "  <thead>\n",
       "    <tr style=\"text-align: right;\">\n",
       "      <th></th>\n",
       "      <th>year</th>\n",
       "      <th>model_ 1 Series</th>\n",
       "      <th>model_ 2 Series</th>\n",
       "      <th>model_ 3 Series</th>\n",
       "      <th>model_ 4 Series</th>\n",
       "      <th>model_ 5 Series</th>\n",
       "      <th>model_ 6 Series</th>\n",
       "      <th>model_ 7 Series</th>\n",
       "      <th>model_ 8 Series</th>\n",
       "      <th>model_ M2</th>\n",
       "      <th>...</th>\n",
       "      <th>model_ X5</th>\n",
       "      <th>model_ X6</th>\n",
       "      <th>model_ X7</th>\n",
       "      <th>model_ Z3</th>\n",
       "      <th>model_ Z4</th>\n",
       "      <th>model_ i3</th>\n",
       "      <th>model_ i8</th>\n",
       "      <th>transmission_Automatic</th>\n",
       "      <th>transmission_Manual</th>\n",
       "      <th>transmission_Semi-Auto</th>\n",
       "    </tr>\n",
       "  </thead>\n",
       "  <tbody>\n",
       "    <tr>\n",
       "      <th>529</th>\n",
       "      <td>2013</td>\n",
       "      <td>1</td>\n",
       "      <td>0</td>\n",
       "      <td>0</td>\n",
       "      <td>0</td>\n",
       "      <td>0</td>\n",
       "      <td>0</td>\n",
       "      <td>0</td>\n",
       "      <td>0</td>\n",
       "      <td>0</td>\n",
       "      <td>...</td>\n",
       "      <td>0</td>\n",
       "      <td>0</td>\n",
       "      <td>0</td>\n",
       "      <td>0</td>\n",
       "      <td>0</td>\n",
       "      <td>0</td>\n",
       "      <td>0</td>\n",
       "      <td>0</td>\n",
       "      <td>1</td>\n",
       "      <td>0</td>\n",
       "    </tr>\n",
       "    <tr>\n",
       "      <th>1345</th>\n",
       "      <td>2019</td>\n",
       "      <td>0</td>\n",
       "      <td>0</td>\n",
       "      <td>0</td>\n",
       "      <td>0</td>\n",
       "      <td>0</td>\n",
       "      <td>0</td>\n",
       "      <td>0</td>\n",
       "      <td>0</td>\n",
       "      <td>0</td>\n",
       "      <td>...</td>\n",
       "      <td>0</td>\n",
       "      <td>0</td>\n",
       "      <td>0</td>\n",
       "      <td>0</td>\n",
       "      <td>0</td>\n",
       "      <td>0</td>\n",
       "      <td>0</td>\n",
       "      <td>1</td>\n",
       "      <td>0</td>\n",
       "      <td>0</td>\n",
       "    </tr>\n",
       "    <tr>\n",
       "      <th>993</th>\n",
       "      <td>2017</td>\n",
       "      <td>0</td>\n",
       "      <td>1</td>\n",
       "      <td>0</td>\n",
       "      <td>0</td>\n",
       "      <td>0</td>\n",
       "      <td>0</td>\n",
       "      <td>0</td>\n",
       "      <td>0</td>\n",
       "      <td>0</td>\n",
       "      <td>...</td>\n",
       "      <td>0</td>\n",
       "      <td>0</td>\n",
       "      <td>0</td>\n",
       "      <td>0</td>\n",
       "      <td>0</td>\n",
       "      <td>0</td>\n",
       "      <td>0</td>\n",
       "      <td>0</td>\n",
       "      <td>0</td>\n",
       "      <td>1</td>\n",
       "    </tr>\n",
       "    <tr>\n",
       "      <th>7157</th>\n",
       "      <td>2016</td>\n",
       "      <td>0</td>\n",
       "      <td>0</td>\n",
       "      <td>0</td>\n",
       "      <td>0</td>\n",
       "      <td>0</td>\n",
       "      <td>0</td>\n",
       "      <td>0</td>\n",
       "      <td>0</td>\n",
       "      <td>0</td>\n",
       "      <td>...</td>\n",
       "      <td>0</td>\n",
       "      <td>0</td>\n",
       "      <td>0</td>\n",
       "      <td>0</td>\n",
       "      <td>0</td>\n",
       "      <td>0</td>\n",
       "      <td>0</td>\n",
       "      <td>0</td>\n",
       "      <td>1</td>\n",
       "      <td>0</td>\n",
       "    </tr>\n",
       "    <tr>\n",
       "      <th>6017</th>\n",
       "      <td>2017</td>\n",
       "      <td>0</td>\n",
       "      <td>0</td>\n",
       "      <td>0</td>\n",
       "      <td>0</td>\n",
       "      <td>1</td>\n",
       "      <td>0</td>\n",
       "      <td>0</td>\n",
       "      <td>0</td>\n",
       "      <td>0</td>\n",
       "      <td>...</td>\n",
       "      <td>0</td>\n",
       "      <td>0</td>\n",
       "      <td>0</td>\n",
       "      <td>0</td>\n",
       "      <td>0</td>\n",
       "      <td>0</td>\n",
       "      <td>0</td>\n",
       "      <td>0</td>\n",
       "      <td>0</td>\n",
       "      <td>1</td>\n",
       "    </tr>\n",
       "  </tbody>\n",
       "</table>\n",
       "<p>5 rows × 28 columns</p>\n",
       "</div>"
      ],
      "text/plain": [
       "      year  model_ 1 Series  model_ 2 Series  model_ 3 Series  \\\n",
       "529   2013                1                0                0   \n",
       "1345  2019                0                0                0   \n",
       "993   2017                0                1                0   \n",
       "7157  2016                0                0                0   \n",
       "6017  2017                0                0                0   \n",
       "\n",
       "      model_ 4 Series  model_ 5 Series  model_ 6 Series  model_ 7 Series  \\\n",
       "529                 0                0                0                0   \n",
       "1345                0                0                0                0   \n",
       "993                 0                0                0                0   \n",
       "7157                0                0                0                0   \n",
       "6017                0                1                0                0   \n",
       "\n",
       "      model_ 8 Series  model_ M2  ...  model_ X5  model_ X6  model_ X7  \\\n",
       "529                 0          0  ...          0          0          0   \n",
       "1345                0          0  ...          0          0          0   \n",
       "993                 0          0  ...          0          0          0   \n",
       "7157                0          0  ...          0          0          0   \n",
       "6017                0          0  ...          0          0          0   \n",
       "\n",
       "      model_ Z3  model_ Z4  model_ i3  model_ i8  transmission_Automatic  \\\n",
       "529           0          0          0          0                       0   \n",
       "1345          0          0          0          0                       1   \n",
       "993           0          0          0          0                       0   \n",
       "7157          0          0          0          0                       0   \n",
       "6017          0          0          0          0                       0   \n",
       "\n",
       "      transmission_Manual  transmission_Semi-Auto  \n",
       "529                     1                       0  \n",
       "1345                    0                       0  \n",
       "993                     0                       1  \n",
       "7157                    1                       0  \n",
       "6017                    0                       1  \n",
       "\n",
       "[5 rows x 28 columns]"
      ]
     },
     "execution_count": 27,
     "metadata": {},
     "output_type": "execute_result"
    }
   ],
   "source": [
    "train_dataset.head()"
   ]
  },
  {
   "cell_type": "code",
   "execution_count": 28,
   "id": "ca1c0621",
   "metadata": {},
   "outputs": [
    {
     "data": {
      "text/plain": [
       "529      7998\n",
       "1345    31276\n",
       "993     17498\n",
       "7157    17995\n",
       "6017    21790\n",
       "Name: price, dtype: int64"
      ]
     },
     "execution_count": 28,
     "metadata": {},
     "output_type": "execute_result"
    }
   ],
   "source": [
    "train_label.head(5)"
   ]
  },
  {
   "cell_type": "code",
   "execution_count": 43,
   "id": "40ae9c61",
   "metadata": {},
   "outputs": [],
   "source": [
    "user_input = pd.DataFrame(data = {'year':0, 'model_ 1 Series':0, 'model_ 2 Series':0, 'model_ 3 Series':0,\n",
    "       'model_ 4 Series':0, 'model_ 5 Series':0, 'model_ 6 Series':0,\n",
    "       'model_ 7 Series':0, 'model_ 8 Series':0, 'model_ M2':0, 'model_ M3':0,\n",
    "       'model_ M4':0, 'model_ M5':0, 'model_ M6':0, 'model_ X1':0, 'model_ X2':0,\n",
    "       'model_ X3':0, 'model_ X4':0, 'model_ X5':0, 'model_ X6':0, 'model_ X7':0,\n",
    "       'model_ Z3':0, 'model_ Z4':0, 'model_ i3':0, 'model_ i8':0,\n",
    "       'transmission_Automatic':0, 'transmission_Manual':0,\n",
    "       'transmission_Semi-Auto':0}, index=[0])"
   ]
  },
  {
   "cell_type": "code",
   "execution_count": 44,
   "id": "2d18e239",
   "metadata": {},
   "outputs": [
    {
     "data": {
      "text/html": [
       "<div>\n",
       "<style scoped>\n",
       "    .dataframe tbody tr th:only-of-type {\n",
       "        vertical-align: middle;\n",
       "    }\n",
       "\n",
       "    .dataframe tbody tr th {\n",
       "        vertical-align: top;\n",
       "    }\n",
       "\n",
       "    .dataframe thead th {\n",
       "        text-align: right;\n",
       "    }\n",
       "</style>\n",
       "<table border=\"1\" class=\"dataframe\">\n",
       "  <thead>\n",
       "    <tr style=\"text-align: right;\">\n",
       "      <th></th>\n",
       "      <th>year</th>\n",
       "      <th>model_ 1 Series</th>\n",
       "      <th>model_ 2 Series</th>\n",
       "      <th>model_ 3 Series</th>\n",
       "      <th>model_ 4 Series</th>\n",
       "      <th>model_ 5 Series</th>\n",
       "      <th>model_ 6 Series</th>\n",
       "      <th>model_ 7 Series</th>\n",
       "      <th>model_ 8 Series</th>\n",
       "      <th>model_ M2</th>\n",
       "      <th>...</th>\n",
       "      <th>model_ X5</th>\n",
       "      <th>model_ X6</th>\n",
       "      <th>model_ X7</th>\n",
       "      <th>model_ Z3</th>\n",
       "      <th>model_ Z4</th>\n",
       "      <th>model_ i3</th>\n",
       "      <th>model_ i8</th>\n",
       "      <th>transmission_Automatic</th>\n",
       "      <th>transmission_Manual</th>\n",
       "      <th>transmission_Semi-Auto</th>\n",
       "    </tr>\n",
       "  </thead>\n",
       "  <tbody>\n",
       "    <tr>\n",
       "      <th>0</th>\n",
       "      <td>2017</td>\n",
       "      <td>0</td>\n",
       "      <td>0</td>\n",
       "      <td>0</td>\n",
       "      <td>0</td>\n",
       "      <td>1</td>\n",
       "      <td>0</td>\n",
       "      <td>0</td>\n",
       "      <td>0</td>\n",
       "      <td>0</td>\n",
       "      <td>...</td>\n",
       "      <td>0</td>\n",
       "      <td>0</td>\n",
       "      <td>0</td>\n",
       "      <td>0</td>\n",
       "      <td>0</td>\n",
       "      <td>0</td>\n",
       "      <td>0</td>\n",
       "      <td>0</td>\n",
       "      <td>0</td>\n",
       "      <td>1</td>\n",
       "    </tr>\n",
       "  </tbody>\n",
       "</table>\n",
       "<p>1 rows × 28 columns</p>\n",
       "</div>"
      ],
      "text/plain": [
       "   year  model_ 1 Series  model_ 2 Series  model_ 3 Series  model_ 4 Series  \\\n",
       "0  2017                0                0                0                0   \n",
       "\n",
       "   model_ 5 Series  model_ 6 Series  model_ 7 Series  model_ 8 Series  \\\n",
       "0                1                0                0                0   \n",
       "\n",
       "   model_ M2  ...  model_ X5  model_ X6  model_ X7  model_ Z3  model_ Z4  \\\n",
       "0          0  ...          0          0          0          0          0   \n",
       "\n",
       "   model_ i3  model_ i8  transmission_Automatic  transmission_Manual  \\\n",
       "0          0          0                       0                    0   \n",
       "\n",
       "   transmission_Semi-Auto  \n",
       "0                       1  \n",
       "\n",
       "[1 rows x 28 columns]"
      ]
     },
     "execution_count": 44,
     "metadata": {},
     "output_type": "execute_result"
    }
   ],
   "source": [
    "year = 2017\n",
    "transmission = 'transmission_Semi-Auto'\n",
    "model = 'model_ 5 Series'\n",
    "\n",
    "user_input['year'] = year\n",
    "user_input[transmission] = 1\n",
    "user_input[model] = 1\n",
    "\n",
    "user_input"
   ]
  },
  {
   "cell_type": "code",
   "execution_count": 50,
   "id": "5b78fd91",
   "metadata": {},
   "outputs": [
    {
     "name": "stdout",
     "output_type": "stream",
     "text": [
      "[21092.023]\n"
     ]
    }
   ],
   "source": [
    "prediction = model_2.predict(user_input)\n",
    "print(prediction)"
   ]
  },
  {
   "cell_type": "markdown",
   "id": "f12051ea",
   "metadata": {},
   "source": [
    "## Modelo Three --> ElasticNet"
   ]
  },
  {
   "cell_type": "code",
   "execution_count": 32,
   "id": "6d45ba90",
   "metadata": {},
   "outputs": [
    {
     "data": {
      "text/plain": [
       "ElasticNet(random_state=0)"
      ]
     },
     "execution_count": 32,
     "metadata": {},
     "output_type": "execute_result"
    }
   ],
   "source": [
    "from sklearn.linear_model import ElasticNet\n",
    "model_3 = ElasticNet(random_state=0)\n",
    "model_3.fit(train_dataset, train_label)"
   ]
  },
  {
   "cell_type": "code",
   "execution_count": 33,
   "id": "40e9ac40",
   "metadata": {},
   "outputs": [
    {
     "data": {
      "text/plain": [
       "8174.355719731421"
      ]
     },
     "execution_count": 33,
     "metadata": {},
     "output_type": "execute_result"
    }
   ],
   "source": [
    "prediction = model_3.predict(test_dataset)\n",
    "np.sqrt(MSE(test_label, prediction))"
   ]
  },
  {
   "cell_type": "markdown",
   "id": "4566e274",
   "metadata": {},
   "source": [
    "## Modelo Four --> Neural Network (N.N.)"
   ]
  },
  {
   "cell_type": "code",
   "execution_count": 34,
   "id": "15b6da4f",
   "metadata": {},
   "outputs": [],
   "source": [
    "from tensorflow.keras.models import Sequential\n",
    "from tensorflow.keras.layers import Dense, Dropout\n",
    "from tensorflow.keras.callbacks import EarlyStopping"
   ]
  },
  {
   "cell_type": "code",
   "execution_count": 35,
   "id": "b021e245",
   "metadata": {},
   "outputs": [],
   "source": [
    "early_stop = EarlyStopping(monitor='val_loss', mode='min', verbose=1, patience=25)"
   ]
  },
  {
   "cell_type": "code",
   "execution_count": 36,
   "id": "f76df499",
   "metadata": {},
   "outputs": [],
   "source": [
    "model_4 = Sequential()\n",
    "\n",
    "model_4.add(Dense(38, activation='relu'))\n",
    "model_4.add(Dropout(0.5))\n",
    "model_4.add(Dense(1))\n",
    "\n",
    "model_4.compile(optimizer='adam', loss='mse')"
   ]
  },
  {
   "cell_type": "code",
   "execution_count": 37,
   "id": "d06c80b8",
   "metadata": {},
   "outputs": [
    {
     "name": "stdout",
     "output_type": "stream",
     "text": [
      "Epoch 1/600\n",
      "226/226 [==============================] - 1s 3ms/step - loss: 603904896.0000 - val_loss: 521963840.0000\n",
      "Epoch 2/600\n",
      "226/226 [==============================] - 1s 2ms/step - loss: 431874720.0000 - val_loss: 312269056.0000\n",
      "Epoch 3/600\n",
      "226/226 [==============================] - 1s 2ms/step - loss: 249022512.0000 - val_loss: 165618400.0000\n",
      "Epoch 4/600\n",
      "226/226 [==============================] - 1s 2ms/step - loss: 182819696.0000 - val_loss: 133586784.0000\n",
      "Epoch 5/600\n",
      "226/226 [==============================] - 1s 2ms/step - loss: 171775008.0000 - val_loss: 129554296.0000\n",
      "Epoch 6/600\n",
      "226/226 [==============================] - 1s 2ms/step - loss: 169817248.0000 - val_loss: 128778464.0000\n",
      "Epoch 7/600\n",
      "226/226 [==============================] - 1s 2ms/step - loss: 172095264.0000 - val_loss: 129122920.0000\n",
      "Epoch 8/600\n",
      "226/226 [==============================] - 1s 2ms/step - loss: 173073216.0000 - val_loss: 128896664.0000\n",
      "Epoch 9/600\n",
      "226/226 [==============================] - 1s 2ms/step - loss: 169513072.0000 - val_loss: 128752736.0000\n",
      "Epoch 10/600\n",
      "226/226 [==============================] - 1s 2ms/step - loss: 169296496.0000 - val_loss: 129478488.0000\n",
      "Epoch 11/600\n",
      "226/226 [==============================] - 1s 2ms/step - loss: 171404208.0000 - val_loss: 128736952.0000\n",
      "Epoch 12/600\n",
      "226/226 [==============================] - 1s 2ms/step - loss: 174455792.0000 - val_loss: 128765232.0000\n",
      "Epoch 13/600\n",
      "226/226 [==============================] - 0s 2ms/step - loss: 172796592.0000 - val_loss: 129052824.0000\n",
      "Epoch 14/600\n",
      "226/226 [==============================] - 0s 2ms/step - loss: 171483408.0000 - val_loss: 128864712.0000\n",
      "Epoch 15/600\n",
      "226/226 [==============================] - 0s 2ms/step - loss: 171533152.0000 - val_loss: 129359584.0000\n",
      "Epoch 16/600\n",
      "226/226 [==============================] - 0s 2ms/step - loss: 173094320.0000 - val_loss: 130081696.0000\n",
      "Epoch 17/600\n",
      "226/226 [==============================] - 0s 2ms/step - loss: 166440864.0000 - val_loss: 129057200.0000\n",
      "Epoch 18/600\n",
      "226/226 [==============================] - 0s 2ms/step - loss: 169304224.0000 - val_loss: 129036952.0000\n",
      "Epoch 19/600\n",
      "226/226 [==============================] - 0s 2ms/step - loss: 170318160.0000 - val_loss: 129779248.0000\n",
      "Epoch 20/600\n",
      "226/226 [==============================] - 0s 2ms/step - loss: 172663184.0000 - val_loss: 129221496.0000\n",
      "Epoch 21/600\n",
      "226/226 [==============================] - 0s 2ms/step - loss: 172332080.0000 - val_loss: 128911704.0000\n",
      "Epoch 22/600\n",
      "226/226 [==============================] - 0s 2ms/step - loss: 171064400.0000 - val_loss: 130558624.0000\n",
      "Epoch 23/600\n",
      "226/226 [==============================] - 0s 2ms/step - loss: 171856624.0000 - val_loss: 128601624.0000\n",
      "Epoch 24/600\n",
      "226/226 [==============================] - 1s 2ms/step - loss: 171128864.0000 - val_loss: 129137592.0000\n",
      "Epoch 25/600\n",
      "226/226 [==============================] - 1s 2ms/step - loss: 172873792.0000 - val_loss: 128163000.0000\n",
      "Epoch 26/600\n",
      "226/226 [==============================] - 1s 2ms/step - loss: 173481488.0000 - val_loss: 128693832.0000\n",
      "Epoch 27/600\n",
      "226/226 [==============================] - 0s 2ms/step - loss: 167841584.0000 - val_loss: 127993312.0000\n",
      "Epoch 28/600\n",
      "226/226 [==============================] - 0s 2ms/step - loss: 170168112.0000 - val_loss: 129142256.0000\n",
      "Epoch 29/600\n",
      "226/226 [==============================] - 0s 2ms/step - loss: 172146944.0000 - val_loss: 129419896.0000\n",
      "Epoch 30/600\n",
      "226/226 [==============================] - 0s 2ms/step - loss: 169210800.0000 - val_loss: 128283416.0000\n",
      "Epoch 31/600\n",
      "226/226 [==============================] - 0s 2ms/step - loss: 171748672.0000 - val_loss: 129497504.0000\n",
      "Epoch 32/600\n",
      "226/226 [==============================] - 0s 2ms/step - loss: 171307904.0000 - val_loss: 129057840.0000\n",
      "Epoch 33/600\n",
      "226/226 [==============================] - 0s 2ms/step - loss: 165826448.0000 - val_loss: 128924168.0000\n",
      "Epoch 34/600\n",
      "226/226 [==============================] - 0s 2ms/step - loss: 170803696.0000 - val_loss: 128555968.0000\n",
      "Epoch 35/600\n",
      "226/226 [==============================] - 0s 2ms/step - loss: 166316704.0000 - val_loss: 128286968.0000\n",
      "Epoch 36/600\n",
      "226/226 [==============================] - 0s 2ms/step - loss: 168811856.0000 - val_loss: 129136376.0000\n",
      "Epoch 37/600\n",
      "226/226 [==============================] - 0s 2ms/step - loss: 169461088.0000 - val_loss: 128808216.0000\n",
      "Epoch 38/600\n",
      "226/226 [==============================] - 0s 2ms/step - loss: 173015488.0000 - val_loss: 128623912.0000\n",
      "Epoch 39/600\n",
      "226/226 [==============================] - 0s 2ms/step - loss: 171678624.0000 - val_loss: 129031456.0000\n",
      "Epoch 40/600\n",
      "226/226 [==============================] - 0s 2ms/step - loss: 169715520.0000 - val_loss: 129648776.0000\n",
      "Epoch 41/600\n",
      "226/226 [==============================] - 0s 2ms/step - loss: 170998368.0000 - val_loss: 128496688.0000\n",
      "Epoch 42/600\n",
      "226/226 [==============================] - 0s 2ms/step - loss: 166854240.0000 - val_loss: 128216208.0000\n",
      "Epoch 43/600\n",
      "226/226 [==============================] - 0s 2ms/step - loss: 175642208.0000 - val_loss: 129396816.0000\n",
      "Epoch 44/600\n",
      "226/226 [==============================] - 0s 2ms/step - loss: 169733280.0000 - val_loss: 128406824.0000\n",
      "Epoch 45/600\n",
      "226/226 [==============================] - 1s 2ms/step - loss: 171002992.0000 - val_loss: 128130264.0000\n",
      "Epoch 46/600\n",
      "226/226 [==============================] - 1s 2ms/step - loss: 170526752.0000 - val_loss: 128275928.0000\n",
      "Epoch 47/600\n",
      "226/226 [==============================] - 1s 2ms/step - loss: 169120064.0000 - val_loss: 128867040.0000\n",
      "Epoch 48/600\n",
      "226/226 [==============================] - 1s 2ms/step - loss: 167737440.0000 - val_loss: 129058856.0000\n",
      "Epoch 49/600\n",
      "226/226 [==============================] - 1s 3ms/step - loss: 167054688.0000 - val_loss: 128023104.0000\n",
      "Epoch 50/600\n",
      "226/226 [==============================] - 0s 2ms/step - loss: 170818432.0000 - val_loss: 127605536.0000\n",
      "Epoch 51/600\n",
      "226/226 [==============================] - 0s 2ms/step - loss: 170325696.0000 - val_loss: 128129848.0000\n",
      "Epoch 52/600\n",
      "226/226 [==============================] - 0s 2ms/step - loss: 169386576.0000 - val_loss: 128349088.0000\n",
      "Epoch 53/600\n",
      "226/226 [==============================] - 0s 2ms/step - loss: 172047360.0000 - val_loss: 128459592.0000\n",
      "Epoch 54/600\n",
      "226/226 [==============================] - 0s 2ms/step - loss: 167815136.0000 - val_loss: 127211904.0000\n",
      "Epoch 55/600\n",
      "226/226 [==============================] - 0s 2ms/step - loss: 171205728.0000 - val_loss: 128680312.0000\n",
      "Epoch 56/600\n",
      "226/226 [==============================] - 0s 2ms/step - loss: 169186496.0000 - val_loss: 127348272.0000\n",
      "Epoch 57/600\n",
      "226/226 [==============================] - 0s 2ms/step - loss: 171781504.0000 - val_loss: 128432656.0000\n",
      "Epoch 58/600\n",
      "226/226 [==============================] - 0s 2ms/step - loss: 173048768.0000 - val_loss: 128485104.0000\n",
      "Epoch 59/600\n",
      "226/226 [==============================] - 0s 2ms/step - loss: 169299952.0000 - val_loss: 127274568.0000\n",
      "Epoch 60/600\n",
      "226/226 [==============================] - 0s 2ms/step - loss: 171292016.0000 - val_loss: 128375912.0000\n",
      "Epoch 61/600\n",
      "226/226 [==============================] - 0s 2ms/step - loss: 170290400.0000 - val_loss: 127202096.0000\n",
      "Epoch 62/600\n",
      "226/226 [==============================] - 0s 2ms/step - loss: 169143328.0000 - val_loss: 127268856.0000\n",
      "Epoch 63/600\n",
      "226/226 [==============================] - 0s 2ms/step - loss: 171322208.0000 - val_loss: 128811640.0000\n",
      "Epoch 64/600\n",
      "226/226 [==============================] - 0s 2ms/step - loss: 169405792.0000 - val_loss: 127925104.0000\n",
      "Epoch 65/600\n",
      "226/226 [==============================] - 0s 2ms/step - loss: 170399040.0000 - val_loss: 127515096.0000\n",
      "Epoch 66/600\n",
      "226/226 [==============================] - 0s 2ms/step - loss: 168883344.0000 - val_loss: 127824400.0000\n",
      "Epoch 67/600\n",
      "226/226 [==============================] - 0s 2ms/step - loss: 170207232.0000 - val_loss: 127624800.0000\n",
      "Epoch 68/600\n",
      "226/226 [==============================] - 0s 2ms/step - loss: 168471456.0000 - val_loss: 127695880.0000\n",
      "Epoch 69/600\n",
      "226/226 [==============================] - 0s 2ms/step - loss: 169887456.0000 - val_loss: 127601592.0000\n",
      "Epoch 70/600\n"
     ]
    },
    {
     "name": "stdout",
     "output_type": "stream",
     "text": [
      "226/226 [==============================] - 0s 2ms/step - loss: 168780320.0000 - val_loss: 127897928.0000\n",
      "Epoch 71/600\n",
      "226/226 [==============================] - 0s 2ms/step - loss: 171424784.0000 - val_loss: 127892392.0000\n",
      "Epoch 72/600\n",
      "226/226 [==============================] - 0s 2ms/step - loss: 168613232.0000 - val_loss: 128293288.0000\n",
      "Epoch 73/600\n",
      "226/226 [==============================] - 0s 2ms/step - loss: 166511328.0000 - val_loss: 127880832.0000\n",
      "Epoch 74/600\n",
      "226/226 [==============================] - 0s 2ms/step - loss: 171003088.0000 - val_loss: 127961824.0000\n",
      "Epoch 75/600\n",
      "226/226 [==============================] - 0s 2ms/step - loss: 170390448.0000 - val_loss: 127546760.0000\n",
      "Epoch 76/600\n",
      "226/226 [==============================] - 0s 2ms/step - loss: 170701056.0000 - val_loss: 128213128.0000\n",
      "Epoch 77/600\n",
      "226/226 [==============================] - 0s 2ms/step - loss: 166824096.0000 - val_loss: 127731992.0000\n",
      "Epoch 78/600\n",
      "226/226 [==============================] - 0s 2ms/step - loss: 170473392.0000 - val_loss: 127232832.0000\n",
      "Epoch 79/600\n",
      "226/226 [==============================] - 0s 2ms/step - loss: 168819200.0000 - val_loss: 127044944.0000\n",
      "Epoch 80/600\n",
      "226/226 [==============================] - 0s 2ms/step - loss: 169997648.0000 - val_loss: 127062616.0000\n",
      "Epoch 81/600\n",
      "226/226 [==============================] - 1s 2ms/step - loss: 170118576.0000 - val_loss: 127993720.0000\n",
      "Epoch 82/600\n",
      "226/226 [==============================] - 1s 2ms/step - loss: 168572496.0000 - val_loss: 126169392.0000\n",
      "Epoch 83/600\n",
      "226/226 [==============================] - 1s 2ms/step - loss: 169731600.0000 - val_loss: 127528872.0000\n",
      "Epoch 84/600\n",
      "226/226 [==============================] - 1s 2ms/step - loss: 169675072.0000 - val_loss: 127637584.0000\n",
      "Epoch 85/600\n",
      "226/226 [==============================] - 1s 2ms/step - loss: 169043824.0000 - val_loss: 127801448.0000\n",
      "Epoch 86/600\n",
      "226/226 [==============================] - 1s 2ms/step - loss: 168049984.0000 - val_loss: 126595232.0000\n",
      "Epoch 87/600\n",
      "226/226 [==============================] - 1s 2ms/step - loss: 171750160.0000 - val_loss: 126753776.0000\n",
      "Epoch 88/600\n",
      "226/226 [==============================] - 1s 2ms/step - loss: 167231792.0000 - val_loss: 126687192.0000\n",
      "Epoch 89/600\n",
      "226/226 [==============================] - 1s 2ms/step - loss: 172400992.0000 - val_loss: 128479832.0000\n",
      "Epoch 90/600\n",
      "226/226 [==============================] - 1s 2ms/step - loss: 171607376.0000 - val_loss: 127748560.0000\n",
      "Epoch 91/600\n",
      "226/226 [==============================] - 1s 3ms/step - loss: 168976928.0000 - val_loss: 127264984.0000\n",
      "Epoch 92/600\n",
      "226/226 [==============================] - 0s 2ms/step - loss: 168163856.0000 - val_loss: 127256616.0000\n",
      "Epoch 93/600\n",
      "226/226 [==============================] - 0s 2ms/step - loss: 169584624.0000 - val_loss: 126920072.0000\n",
      "Epoch 94/600\n",
      "226/226 [==============================] - 0s 2ms/step - loss: 171298256.0000 - val_loss: 126969096.0000\n",
      "Epoch 95/600\n",
      "226/226 [==============================] - 0s 2ms/step - loss: 167966144.0000 - val_loss: 127263800.0000\n",
      "Epoch 96/600\n",
      "226/226 [==============================] - 0s 2ms/step - loss: 168138784.0000 - val_loss: 126302480.0000\n",
      "Epoch 97/600\n",
      "226/226 [==============================] - 0s 2ms/step - loss: 166458064.0000 - val_loss: 126301200.0000\n",
      "Epoch 98/600\n",
      "226/226 [==============================] - 1s 2ms/step - loss: 167858688.0000 - val_loss: 126659944.0000\n",
      "Epoch 99/600\n",
      "226/226 [==============================] - 1s 2ms/step - loss: 168466048.0000 - val_loss: 127109056.0000\n",
      "Epoch 100/600\n",
      "226/226 [==============================] - 1s 2ms/step - loss: 166154432.0000 - val_loss: 125953640.0000\n",
      "Epoch 101/600\n",
      "226/226 [==============================] - 0s 2ms/step - loss: 165753600.0000 - val_loss: 127251992.0000\n",
      "Epoch 102/600\n",
      "226/226 [==============================] - 0s 2ms/step - loss: 168187280.0000 - val_loss: 127296480.0000\n",
      "Epoch 103/600\n",
      "226/226 [==============================] - 1s 2ms/step - loss: 167563840.0000 - val_loss: 126732024.0000\n",
      "Epoch 104/600\n",
      "226/226 [==============================] - 1s 2ms/step - loss: 167531664.0000 - val_loss: 126875432.0000\n",
      "Epoch 105/600\n",
      "226/226 [==============================] - 0s 2ms/step - loss: 171370896.0000 - val_loss: 126339104.0000\n",
      "Epoch 106/600\n",
      "226/226 [==============================] - 0s 1ms/step - loss: 169777104.0000 - val_loss: 126190440.0000\n",
      "Epoch 107/600\n",
      "226/226 [==============================] - 0s 2ms/step - loss: 172421344.0000 - val_loss: 126975032.0000\n",
      "Epoch 108/600\n",
      "226/226 [==============================] - 0s 2ms/step - loss: 169298656.0000 - val_loss: 127119616.0000\n",
      "Epoch 109/600\n",
      "226/226 [==============================] - 0s 2ms/step - loss: 168459888.0000 - val_loss: 126371872.0000\n",
      "Epoch 110/600\n",
      "226/226 [==============================] - 0s 2ms/step - loss: 168232928.0000 - val_loss: 126644224.0000\n",
      "Epoch 111/600\n",
      "226/226 [==============================] - 0s 2ms/step - loss: 168133104.0000 - val_loss: 125873328.0000\n",
      "Epoch 112/600\n",
      "226/226 [==============================] - 0s 2ms/step - loss: 169035760.0000 - val_loss: 126930240.0000\n",
      "Epoch 113/600\n",
      "226/226 [==============================] - 0s 2ms/step - loss: 170679648.0000 - val_loss: 126776448.0000\n",
      "Epoch 114/600\n",
      "226/226 [==============================] - 0s 2ms/step - loss: 165296976.0000 - val_loss: 125472680.0000\n",
      "Epoch 115/600\n",
      "226/226 [==============================] - 0s 2ms/step - loss: 169385680.0000 - val_loss: 125714536.0000\n",
      "Epoch 116/600\n",
      "226/226 [==============================] - 0s 2ms/step - loss: 170813600.0000 - val_loss: 126182560.0000\n",
      "Epoch 117/600\n",
      "226/226 [==============================] - 0s 2ms/step - loss: 167904304.0000 - val_loss: 125667976.0000\n",
      "Epoch 118/600\n",
      "226/226 [==============================] - 0s 2ms/step - loss: 168301840.0000 - val_loss: 125310424.0000\n",
      "Epoch 119/600\n",
      "226/226 [==============================] - 0s 2ms/step - loss: 171851664.0000 - val_loss: 126464312.0000\n",
      "Epoch 120/600\n",
      "226/226 [==============================] - 0s 1ms/step - loss: 168452416.0000 - val_loss: 126113080.0000\n",
      "Epoch 121/600\n",
      "226/226 [==============================] - 0s 2ms/step - loss: 166726640.0000 - val_loss: 126216232.0000\n",
      "Epoch 122/600\n",
      "226/226 [==============================] - 0s 2ms/step - loss: 168626752.0000 - val_loss: 125609040.0000\n",
      "Epoch 123/600\n",
      "226/226 [==============================] - 0s 2ms/step - loss: 168665168.0000 - val_loss: 126100232.0000\n",
      "Epoch 124/600\n",
      "226/226 [==============================] - 0s 2ms/step - loss: 165950992.0000 - val_loss: 126172248.0000\n",
      "Epoch 125/600\n",
      "226/226 [==============================] - 0s 2ms/step - loss: 164381904.0000 - val_loss: 125702248.0000\n",
      "Epoch 126/600\n",
      "226/226 [==============================] - 0s 2ms/step - loss: 168456576.0000 - val_loss: 126141888.0000\n",
      "Epoch 127/600\n",
      "226/226 [==============================] - 0s 2ms/step - loss: 169281536.0000 - val_loss: 125776544.0000\n",
      "Epoch 128/600\n",
      "226/226 [==============================] - 0s 2ms/step - loss: 168480848.0000 - val_loss: 125256048.0000\n",
      "Epoch 129/600\n",
      "226/226 [==============================] - 0s 2ms/step - loss: 165339104.0000 - val_loss: 125853920.0000\n",
      "Epoch 130/600\n",
      "226/226 [==============================] - 0s 2ms/step - loss: 166095664.0000 - val_loss: 125734976.0000\n",
      "Epoch 131/600\n",
      "226/226 [==============================] - 0s 2ms/step - loss: 166763136.0000 - val_loss: 124428768.0000\n",
      "Epoch 132/600\n",
      "226/226 [==============================] - 0s 2ms/step - loss: 166415712.0000 - val_loss: 125213304.0000\n",
      "Epoch 133/600\n",
      "226/226 [==============================] - 0s 2ms/step - loss: 166344176.0000 - val_loss: 126041856.0000\n",
      "Epoch 134/600\n",
      "226/226 [==============================] - 0s 2ms/step - loss: 169270112.0000 - val_loss: 125006032.0000\n",
      "Epoch 135/600\n",
      "226/226 [==============================] - 0s 2ms/step - loss: 168165696.0000 - val_loss: 126163064.0000\n",
      "Epoch 136/600\n",
      "226/226 [==============================] - 0s 2ms/step - loss: 165770960.0000 - val_loss: 124908592.0000\n",
      "Epoch 137/600\n",
      "226/226 [==============================] - 0s 2ms/step - loss: 164669584.0000 - val_loss: 124195568.0000\n",
      "Epoch 138/600\n",
      "226/226 [==============================] - 0s 2ms/step - loss: 167650144.0000 - val_loss: 125383360.0000\n",
      "Epoch 139/600\n"
     ]
    },
    {
     "name": "stdout",
     "output_type": "stream",
     "text": [
      "226/226 [==============================] - 0s 2ms/step - loss: 167269968.0000 - val_loss: 125397728.0000\n",
      "Epoch 140/600\n",
      "226/226 [==============================] - 0s 2ms/step - loss: 165681504.0000 - val_loss: 124703272.0000\n",
      "Epoch 141/600\n",
      "226/226 [==============================] - 0s 2ms/step - loss: 167062064.0000 - val_loss: 125022264.0000\n",
      "Epoch 142/600\n",
      "226/226 [==============================] - 0s 2ms/step - loss: 167979472.0000 - val_loss: 125171264.0000\n",
      "Epoch 143/600\n",
      "226/226 [==============================] - 0s 2ms/step - loss: 165436656.0000 - val_loss: 124565192.0000\n",
      "Epoch 144/600\n",
      "226/226 [==============================] - 0s 2ms/step - loss: 166732704.0000 - val_loss: 123843224.0000\n",
      "Epoch 145/600\n",
      "226/226 [==============================] - 0s 2ms/step - loss: 168689888.0000 - val_loss: 124189944.0000\n",
      "Epoch 146/600\n",
      "226/226 [==============================] - 0s 2ms/step - loss: 167836416.0000 - val_loss: 124952328.0000\n",
      "Epoch 147/600\n",
      "226/226 [==============================] - 0s 2ms/step - loss: 167488432.0000 - val_loss: 124554032.0000\n",
      "Epoch 148/600\n",
      "226/226 [==============================] - 0s 2ms/step - loss: 167452208.0000 - val_loss: 124695632.0000\n",
      "Epoch 149/600\n",
      "226/226 [==============================] - 0s 2ms/step - loss: 167944368.0000 - val_loss: 126345728.0000\n",
      "Epoch 150/600\n",
      "226/226 [==============================] - 0s 2ms/step - loss: 165997216.0000 - val_loss: 124231304.0000\n",
      "Epoch 151/600\n",
      "226/226 [==============================] - 0s 2ms/step - loss: 169907440.0000 - val_loss: 124693832.0000\n",
      "Epoch 152/600\n",
      "226/226 [==============================] - 1s 2ms/step - loss: 167597088.0000 - val_loss: 123937336.0000\n",
      "Epoch 153/600\n",
      "226/226 [==============================] - 1s 2ms/step - loss: 166832304.0000 - val_loss: 125134832.0000\n",
      "Epoch 154/600\n",
      "226/226 [==============================] - 1s 2ms/step - loss: 165479600.0000 - val_loss: 124225720.0000\n",
      "Epoch 155/600\n",
      "226/226 [==============================] - 1s 2ms/step - loss: 163774976.0000 - val_loss: 124475424.0000\n",
      "Epoch 156/600\n",
      "226/226 [==============================] - 1s 2ms/step - loss: 165078944.0000 - val_loss: 123760192.0000\n",
      "Epoch 157/600\n",
      "226/226 [==============================] - 0s 2ms/step - loss: 166385392.0000 - val_loss: 124516928.0000\n",
      "Epoch 158/600\n",
      "226/226 [==============================] - 0s 1ms/step - loss: 166526048.0000 - val_loss: 123480744.0000\n",
      "Epoch 159/600\n",
      "226/226 [==============================] - 0s 2ms/step - loss: 166897168.0000 - val_loss: 124317344.0000\n",
      "Epoch 160/600\n",
      "226/226 [==============================] - 0s 2ms/step - loss: 166034240.0000 - val_loss: 123643736.0000\n",
      "Epoch 161/600\n",
      "226/226 [==============================] - 0s 2ms/step - loss: 167609024.0000 - val_loss: 123641680.0000\n",
      "Epoch 162/600\n",
      "226/226 [==============================] - 0s 2ms/step - loss: 162099152.0000 - val_loss: 123739592.0000\n",
      "Epoch 163/600\n",
      "226/226 [==============================] - 0s 2ms/step - loss: 163702816.0000 - val_loss: 124941360.0000\n",
      "Epoch 164/600\n",
      "226/226 [==============================] - 0s 2ms/step - loss: 167125472.0000 - val_loss: 122980504.0000\n",
      "Epoch 165/600\n",
      "226/226 [==============================] - 0s 2ms/step - loss: 165156704.0000 - val_loss: 123511976.0000\n",
      "Epoch 166/600\n",
      "226/226 [==============================] - 0s 2ms/step - loss: 166487424.0000 - val_loss: 123693120.0000\n",
      "Epoch 167/600\n",
      "226/226 [==============================] - 0s 2ms/step - loss: 165767504.0000 - val_loss: 124919480.0000\n",
      "Epoch 168/600\n",
      "226/226 [==============================] - 0s 2ms/step - loss: 164204832.0000 - val_loss: 122398032.0000\n",
      "Epoch 169/600\n",
      "226/226 [==============================] - 0s 1ms/step - loss: 165795120.0000 - val_loss: 124067888.0000\n",
      "Epoch 170/600\n",
      "226/226 [==============================] - 0s 2ms/step - loss: 164886016.0000 - val_loss: 123070352.0000\n",
      "Epoch 171/600\n",
      "226/226 [==============================] - 0s 2ms/step - loss: 162990368.0000 - val_loss: 122190032.0000\n",
      "Epoch 172/600\n",
      "226/226 [==============================] - 0s 2ms/step - loss: 164754816.0000 - val_loss: 123994128.0000\n",
      "Epoch 173/600\n",
      "226/226 [==============================] - 0s 2ms/step - loss: 163608144.0000 - val_loss: 123452064.0000\n",
      "Epoch 174/600\n",
      "226/226 [==============================] - 0s 2ms/step - loss: 163884240.0000 - val_loss: 122696888.0000\n",
      "Epoch 175/600\n",
      "226/226 [==============================] - 0s 2ms/step - loss: 166619184.0000 - val_loss: 123757608.0000\n",
      "Epoch 176/600\n",
      "226/226 [==============================] - 0s 2ms/step - loss: 165198320.0000 - val_loss: 123539872.0000\n",
      "Epoch 177/600\n",
      "226/226 [==============================] - 0s 2ms/step - loss: 163820656.0000 - val_loss: 122701408.0000\n",
      "Epoch 178/600\n",
      "226/226 [==============================] - 0s 2ms/step - loss: 167084976.0000 - val_loss: 123889976.0000\n",
      "Epoch 179/600\n",
      "226/226 [==============================] - 0s 2ms/step - loss: 165397744.0000 - val_loss: 123399392.0000\n",
      "Epoch 180/600\n",
      "226/226 [==============================] - 0s 2ms/step - loss: 163263392.0000 - val_loss: 122584272.0000\n",
      "Epoch 181/600\n",
      "226/226 [==============================] - 0s 2ms/step - loss: 163854320.0000 - val_loss: 122940760.0000\n",
      "Epoch 182/600\n",
      "226/226 [==============================] - 0s 2ms/step - loss: 162740176.0000 - val_loss: 122867320.0000\n",
      "Epoch 183/600\n",
      "226/226 [==============================] - 0s 2ms/step - loss: 160948272.0000 - val_loss: 122143160.0000\n",
      "Epoch 184/600\n",
      "226/226 [==============================] - 0s 2ms/step - loss: 164239360.0000 - val_loss: 122588152.0000\n",
      "Epoch 185/600\n",
      "226/226 [==============================] - 0s 2ms/step - loss: 164384016.0000 - val_loss: 122734928.0000\n",
      "Epoch 186/600\n",
      "226/226 [==============================] - 0s 2ms/step - loss: 165436864.0000 - val_loss: 122425344.0000\n",
      "Epoch 187/600\n",
      "226/226 [==============================] - 0s 2ms/step - loss: 163950128.0000 - val_loss: 121707360.0000\n",
      "Epoch 188/600\n",
      "226/226 [==============================] - 0s 2ms/step - loss: 163346976.0000 - val_loss: 122333320.0000\n",
      "Epoch 189/600\n",
      "226/226 [==============================] - 0s 2ms/step - loss: 165267984.0000 - val_loss: 121928424.0000\n",
      "Epoch 190/600\n",
      "226/226 [==============================] - 0s 2ms/step - loss: 162868224.0000 - val_loss: 122550152.0000\n",
      "Epoch 191/600\n",
      "226/226 [==============================] - 0s 2ms/step - loss: 164904496.0000 - val_loss: 121994816.0000\n",
      "Epoch 192/600\n",
      "226/226 [==============================] - 0s 2ms/step - loss: 164278640.0000 - val_loss: 122249720.0000\n",
      "Epoch 193/600\n",
      "226/226 [==============================] - 0s 2ms/step - loss: 162598112.0000 - val_loss: 121812872.0000\n",
      "Epoch 194/600\n",
      "226/226 [==============================] - 1s 2ms/step - loss: 164279840.0000 - val_loss: 122406008.0000\n",
      "Epoch 195/600\n",
      "226/226 [==============================] - 0s 2ms/step - loss: 161151072.0000 - val_loss: 121854728.0000\n",
      "Epoch 196/600\n",
      "226/226 [==============================] - 0s 2ms/step - loss: 160975072.0000 - val_loss: 121575656.0000\n",
      "Epoch 197/600\n",
      "226/226 [==============================] - 0s 2ms/step - loss: 166697632.0000 - val_loss: 121326528.0000\n",
      "Epoch 198/600\n",
      "226/226 [==============================] - 0s 2ms/step - loss: 162674416.0000 - val_loss: 120804176.0000\n",
      "Epoch 199/600\n",
      "226/226 [==============================] - 0s 2ms/step - loss: 162024656.0000 - val_loss: 121302672.0000\n",
      "Epoch 200/600\n",
      "226/226 [==============================] - 1s 3ms/step - loss: 161677536.0000 - val_loss: 121102448.0000\n",
      "Epoch 201/600\n",
      "226/226 [==============================] - 0s 2ms/step - loss: 159364128.0000 - val_loss: 120820744.0000\n",
      "Epoch 202/600\n",
      "226/226 [==============================] - 0s 2ms/step - loss: 164886864.0000 - val_loss: 122389312.0000\n",
      "Epoch 203/600\n",
      "226/226 [==============================] - 1s 2ms/step - loss: 162622304.0000 - val_loss: 121327168.0000\n",
      "Epoch 204/600\n",
      "226/226 [==============================] - 0s 2ms/step - loss: 161200080.0000 - val_loss: 120914824.0000\n",
      "Epoch 205/600\n",
      "226/226 [==============================] - 0s 2ms/step - loss: 158459936.0000 - val_loss: 120136800.0000\n",
      "Epoch 206/600\n",
      "226/226 [==============================] - 0s 2ms/step - loss: 161971504.0000 - val_loss: 121041096.0000\n",
      "Epoch 207/600\n",
      "226/226 [==============================] - 0s 2ms/step - loss: 162556848.0000 - val_loss: 120642816.0000\n"
     ]
    },
    {
     "name": "stdout",
     "output_type": "stream",
     "text": [
      "Epoch 208/600\n",
      "226/226 [==============================] - 0s 2ms/step - loss: 162405472.0000 - val_loss: 120552880.0000\n",
      "Epoch 209/600\n",
      "226/226 [==============================] - 0s 2ms/step - loss: 160721856.0000 - val_loss: 120381448.0000\n",
      "Epoch 210/600\n",
      "226/226 [==============================] - 0s 2ms/step - loss: 160392208.0000 - val_loss: 120176928.0000\n",
      "Epoch 211/600\n",
      "226/226 [==============================] - 1s 2ms/step - loss: 159299104.0000 - val_loss: 120538552.0000\n",
      "Epoch 212/600\n",
      "226/226 [==============================] - 1s 2ms/step - loss: 163114944.0000 - val_loss: 120341824.0000\n",
      "Epoch 213/600\n",
      "226/226 [==============================] - 1s 2ms/step - loss: 160088928.0000 - val_loss: 120581752.0000\n",
      "Epoch 214/600\n",
      "226/226 [==============================] - 1s 2ms/step - loss: 160839504.0000 - val_loss: 119780976.0000\n",
      "Epoch 215/600\n",
      "226/226 [==============================] - 1s 2ms/step - loss: 162829184.0000 - val_loss: 122464928.0000\n",
      "Epoch 216/600\n",
      "226/226 [==============================] - 1s 2ms/step - loss: 159213152.0000 - val_loss: 118844120.0000\n",
      "Epoch 217/600\n",
      "226/226 [==============================] - 1s 3ms/step - loss: 162263888.0000 - val_loss: 119839656.0000\n",
      "Epoch 218/600\n",
      "226/226 [==============================] - 1s 2ms/step - loss: 161797920.0000 - val_loss: 119438560.0000\n",
      "Epoch 219/600\n",
      "226/226 [==============================] - 1s 2ms/step - loss: 161058688.0000 - val_loss: 118876808.0000\n",
      "Epoch 220/600\n",
      "226/226 [==============================] - 1s 2ms/step - loss: 161793184.0000 - val_loss: 118549056.0000\n",
      "Epoch 221/600\n",
      "226/226 [==============================] - 1s 3ms/step - loss: 160446064.0000 - val_loss: 118902000.0000\n",
      "Epoch 222/600\n",
      "226/226 [==============================] - 0s 2ms/step - loss: 161024000.0000 - val_loss: 118896984.0000\n",
      "Epoch 223/600\n",
      "226/226 [==============================] - 0s 2ms/step - loss: 160813344.0000 - val_loss: 120080872.0000\n",
      "Epoch 224/600\n",
      "226/226 [==============================] - 0s 2ms/step - loss: 164237248.0000 - val_loss: 119353480.0000\n",
      "Epoch 225/600\n",
      "226/226 [==============================] - 0s 2ms/step - loss: 160326304.0000 - val_loss: 118234568.0000\n",
      "Epoch 226/600\n",
      "226/226 [==============================] - 0s 2ms/step - loss: 159862208.0000 - val_loss: 119554656.0000\n",
      "Epoch 227/600\n",
      "226/226 [==============================] - 0s 2ms/step - loss: 157174224.0000 - val_loss: 118239976.0000\n",
      "Epoch 228/600\n",
      "226/226 [==============================] - 1s 2ms/step - loss: 156972080.0000 - val_loss: 118258544.0000\n",
      "Epoch 229/600\n",
      "226/226 [==============================] - 0s 2ms/step - loss: 162352880.0000 - val_loss: 118505848.0000\n",
      "Epoch 230/600\n",
      "226/226 [==============================] - 0s 2ms/step - loss: 159089632.0000 - val_loss: 118699544.0000\n",
      "Epoch 231/600\n",
      "226/226 [==============================] - 0s 2ms/step - loss: 162494416.0000 - val_loss: 119271624.0000\n",
      "Epoch 232/600\n",
      "226/226 [==============================] - 0s 2ms/step - loss: 158455200.0000 - val_loss: 118989792.0000\n",
      "Epoch 233/600\n",
      "226/226 [==============================] - 0s 2ms/step - loss: 161756784.0000 - val_loss: 118527632.0000\n",
      "Epoch 234/600\n",
      "226/226 [==============================] - 0s 2ms/step - loss: 161420000.0000 - val_loss: 119304752.0000\n",
      "Epoch 235/600\n",
      "226/226 [==============================] - 0s 2ms/step - loss: 159232368.0000 - val_loss: 118633200.0000\n",
      "Epoch 236/600\n",
      "226/226 [==============================] - 0s 2ms/step - loss: 158958448.0000 - val_loss: 118215816.0000\n",
      "Epoch 237/600\n",
      "226/226 [==============================] - 1s 2ms/step - loss: 161292880.0000 - val_loss: 118176640.0000\n",
      "Epoch 238/600\n",
      "226/226 [==============================] - 1s 2ms/step - loss: 160655568.0000 - val_loss: 117566208.0000\n",
      "Epoch 239/600\n",
      "226/226 [==============================] - 0s 2ms/step - loss: 161468240.0000 - val_loss: 117383680.0000\n",
      "Epoch 240/600\n",
      "226/226 [==============================] - 0s 2ms/step - loss: 156321744.0000 - val_loss: 116572208.0000\n",
      "Epoch 241/600\n",
      "226/226 [==============================] - 0s 2ms/step - loss: 157033152.0000 - val_loss: 116949416.0000\n",
      "Epoch 242/600\n",
      "226/226 [==============================] - 0s 2ms/step - loss: 159444240.0000 - val_loss: 115854232.0000\n",
      "Epoch 243/600\n",
      "226/226 [==============================] - 0s 2ms/step - loss: 159292000.0000 - val_loss: 117498032.0000\n",
      "Epoch 244/600\n",
      "226/226 [==============================] - 0s 2ms/step - loss: 160452192.0000 - val_loss: 118793720.0000\n",
      "Epoch 245/600\n",
      "226/226 [==============================] - 0s 2ms/step - loss: 158729376.0000 - val_loss: 116860472.0000\n",
      "Epoch 246/600\n",
      "226/226 [==============================] - 0s 2ms/step - loss: 157920016.0000 - val_loss: 116730688.0000\n",
      "Epoch 247/600\n",
      "226/226 [==============================] - 0s 2ms/step - loss: 157643504.0000 - val_loss: 116931896.0000\n",
      "Epoch 248/600\n",
      "226/226 [==============================] - 0s 2ms/step - loss: 159484064.0000 - val_loss: 115645328.0000\n",
      "Epoch 249/600\n",
      "226/226 [==============================] - 0s 2ms/step - loss: 155971344.0000 - val_loss: 116038224.0000\n",
      "Epoch 250/600\n",
      "226/226 [==============================] - 1s 2ms/step - loss: 155366960.0000 - val_loss: 115087168.0000\n",
      "Epoch 251/600\n",
      "226/226 [==============================] - 0s 2ms/step - loss: 157708960.0000 - val_loss: 114221456.0000\n",
      "Epoch 252/600\n",
      "226/226 [==============================] - 0s 2ms/step - loss: 155877872.0000 - val_loss: 115978728.0000\n",
      "Epoch 253/600\n",
      "226/226 [==============================] - 0s 2ms/step - loss: 154127472.0000 - val_loss: 115205672.0000\n",
      "Epoch 254/600\n",
      "226/226 [==============================] - 1s 2ms/step - loss: 156044848.0000 - val_loss: 114734472.0000\n",
      "Epoch 255/600\n",
      "226/226 [==============================] - 0s 2ms/step - loss: 155851920.0000 - val_loss: 114383768.0000\n",
      "Epoch 256/600\n",
      "226/226 [==============================] - 0s 2ms/step - loss: 154781856.0000 - val_loss: 115852224.0000\n",
      "Epoch 257/600\n",
      "226/226 [==============================] - 1s 2ms/step - loss: 153544272.0000 - val_loss: 114502240.0000\n",
      "Epoch 258/600\n",
      "226/226 [==============================] - 0s 2ms/step - loss: 157350544.0000 - val_loss: 114959136.0000\n",
      "Epoch 259/600\n",
      "226/226 [==============================] - 0s 2ms/step - loss: 154657072.0000 - val_loss: 112855736.0000\n",
      "Epoch 260/600\n",
      "226/226 [==============================] - 0s 2ms/step - loss: 159563376.0000 - val_loss: 114731192.0000\n",
      "Epoch 261/600\n",
      "226/226 [==============================] - 1s 3ms/step - loss: 158983312.0000 - val_loss: 114208000.0000\n",
      "Epoch 262/600\n",
      "226/226 [==============================] - 1s 3ms/step - loss: 155534000.0000 - val_loss: 114375016.0000\n",
      "Epoch 263/600\n",
      "226/226 [==============================] - 0s 2ms/step - loss: 155604288.0000 - val_loss: 114104368.0000\n",
      "Epoch 264/600\n",
      "226/226 [==============================] - 0s 2ms/step - loss: 154477760.0000 - val_loss: 113565792.0000\n",
      "Epoch 265/600\n",
      "226/226 [==============================] - 0s 2ms/step - loss: 153710336.0000 - val_loss: 113869032.0000\n",
      "Epoch 266/600\n",
      "226/226 [==============================] - 1s 2ms/step - loss: 155055120.0000 - val_loss: 113118768.0000\n",
      "Epoch 267/600\n",
      "226/226 [==============================] - 0s 2ms/step - loss: 154141904.0000 - val_loss: 112532632.0000\n",
      "Epoch 268/600\n",
      "226/226 [==============================] - 0s 2ms/step - loss: 155456688.0000 - val_loss: 112797408.0000\n",
      "Epoch 269/600\n",
      "226/226 [==============================] - 0s 2ms/step - loss: 157718864.0000 - val_loss: 113377944.0000\n",
      "Epoch 270/600\n",
      "226/226 [==============================] - 1s 2ms/step - loss: 153181104.0000 - val_loss: 113253536.0000\n",
      "Epoch 271/600\n",
      "226/226 [==============================] - 1s 2ms/step - loss: 156385392.0000 - val_loss: 112919912.0000\n",
      "Epoch 272/600\n",
      "226/226 [==============================] - 1s 3ms/step - loss: 154462256.0000 - val_loss: 110926504.0000\n",
      "Epoch 273/600\n",
      "226/226 [==============================] - 1s 3ms/step - loss: 152394256.0000 - val_loss: 113226784.0000\n",
      "Epoch 274/600\n",
      "226/226 [==============================] - 1s 3ms/step - loss: 151467408.0000 - val_loss: 112221984.0000\n",
      "Epoch 275/600\n",
      "226/226 [==============================] - 1s 2ms/step - loss: 152777120.0000 - val_loss: 112441744.0000\n",
      "Epoch 276/600\n",
      "226/226 [==============================] - 0s 2ms/step - loss: 153286368.0000 - val_loss: 111417032.0000\n"
     ]
    },
    {
     "name": "stdout",
     "output_type": "stream",
     "text": [
      "Epoch 277/600\n",
      "226/226 [==============================] - 0s 2ms/step - loss: 152678816.0000 - val_loss: 112253768.0000\n",
      "Epoch 278/600\n",
      "226/226 [==============================] - 0s 2ms/step - loss: 153205120.0000 - val_loss: 111129448.0000\n",
      "Epoch 279/600\n",
      "226/226 [==============================] - 0s 2ms/step - loss: 151871648.0000 - val_loss: 109702440.0000\n",
      "Epoch 280/600\n",
      "226/226 [==============================] - 0s 2ms/step - loss: 152110400.0000 - val_loss: 109995328.0000\n",
      "Epoch 281/600\n",
      "226/226 [==============================] - 0s 2ms/step - loss: 146985856.0000 - val_loss: 110392760.0000\n",
      "Epoch 282/600\n",
      "226/226 [==============================] - 0s 2ms/step - loss: 152831136.0000 - val_loss: 109464056.0000\n",
      "Epoch 283/600\n",
      "226/226 [==============================] - 0s 1ms/step - loss: 151225216.0000 - val_loss: 110941544.0000\n",
      "Epoch 284/600\n",
      "226/226 [==============================] - 0s 2ms/step - loss: 151759712.0000 - val_loss: 110118104.0000\n",
      "Epoch 285/600\n",
      "226/226 [==============================] - 0s 2ms/step - loss: 152376896.0000 - val_loss: 109495056.0000\n",
      "Epoch 286/600\n",
      "226/226 [==============================] - 0s 2ms/step - loss: 152229424.0000 - val_loss: 108955160.0000\n",
      "Epoch 287/600\n",
      "226/226 [==============================] - 0s 2ms/step - loss: 150953408.0000 - val_loss: 108204072.0000\n",
      "Epoch 288/600\n",
      "226/226 [==============================] - 0s 2ms/step - loss: 150477504.0000 - val_loss: 109034832.0000\n",
      "Epoch 289/600\n",
      "226/226 [==============================] - 0s 2ms/step - loss: 148916752.0000 - val_loss: 110169840.0000\n",
      "Epoch 290/600\n",
      "226/226 [==============================] - 0s 2ms/step - loss: 148267680.0000 - val_loss: 109342848.0000\n",
      "Epoch 291/600\n",
      "226/226 [==============================] - 0s 2ms/step - loss: 150663520.0000 - val_loss: 108886352.0000\n",
      "Epoch 292/600\n",
      "226/226 [==============================] - 0s 2ms/step - loss: 145876864.0000 - val_loss: 107873816.0000\n",
      "Epoch 293/600\n",
      "226/226 [==============================] - 0s 2ms/step - loss: 150494816.0000 - val_loss: 108124632.0000\n",
      "Epoch 294/600\n",
      "226/226 [==============================] - 0s 2ms/step - loss: 146860592.0000 - val_loss: 108232608.0000\n",
      "Epoch 295/600\n",
      "226/226 [==============================] - 0s 2ms/step - loss: 148170976.0000 - val_loss: 108427648.0000\n",
      "Epoch 296/600\n",
      "226/226 [==============================] - 0s 2ms/step - loss: 148966416.0000 - val_loss: 106856472.0000\n",
      "Epoch 297/600\n",
      "226/226 [==============================] - 0s 2ms/step - loss: 148656224.0000 - val_loss: 108059784.0000\n",
      "Epoch 298/600\n",
      "226/226 [==============================] - 0s 2ms/step - loss: 148567888.0000 - val_loss: 107755688.0000\n",
      "Epoch 299/600\n",
      "226/226 [==============================] - 1s 2ms/step - loss: 144204960.0000 - val_loss: 107463216.0000\n",
      "Epoch 300/600\n",
      "226/226 [==============================] - 0s 2ms/step - loss: 144988272.0000 - val_loss: 106722816.0000\n",
      "Epoch 301/600\n",
      "226/226 [==============================] - 0s 2ms/step - loss: 148021952.0000 - val_loss: 106109032.0000\n",
      "Epoch 302/600\n",
      "226/226 [==============================] - 0s 2ms/step - loss: 149805472.0000 - val_loss: 107356960.0000\n",
      "Epoch 303/600\n",
      "226/226 [==============================] - 0s 2ms/step - loss: 144946464.0000 - val_loss: 105471280.0000\n",
      "Epoch 304/600\n",
      "226/226 [==============================] - 0s 2ms/step - loss: 149265472.0000 - val_loss: 104773696.0000\n",
      "Epoch 305/600\n",
      "226/226 [==============================] - 0s 2ms/step - loss: 145956512.0000 - val_loss: 105688136.0000\n",
      "Epoch 306/600\n",
      "226/226 [==============================] - 0s 2ms/step - loss: 144821968.0000 - val_loss: 104792080.0000\n",
      "Epoch 307/600\n",
      "226/226 [==============================] - 0s 2ms/step - loss: 147222272.0000 - val_loss: 104046544.0000\n",
      "Epoch 308/600\n",
      "226/226 [==============================] - 0s 2ms/step - loss: 148385152.0000 - val_loss: 106441240.0000\n",
      "Epoch 309/600\n",
      "226/226 [==============================] - 0s 2ms/step - loss: 141917472.0000 - val_loss: 104819248.0000\n",
      "Epoch 310/600\n",
      "226/226 [==============================] - 0s 2ms/step - loss: 145687696.0000 - val_loss: 103561320.0000\n",
      "Epoch 311/600\n",
      "226/226 [==============================] - 0s 2ms/step - loss: 143460176.0000 - val_loss: 106453840.0000\n",
      "Epoch 312/600\n",
      "226/226 [==============================] - 0s 2ms/step - loss: 146631936.0000 - val_loss: 104495472.0000\n",
      "Epoch 313/600\n",
      "226/226 [==============================] - 0s 2ms/step - loss: 142286928.0000 - val_loss: 103126968.0000\n",
      "Epoch 314/600\n",
      "226/226 [==============================] - 0s 2ms/step - loss: 142179904.0000 - val_loss: 102602808.0000\n",
      "Epoch 315/600\n",
      "226/226 [==============================] - 0s 2ms/step - loss: 143519360.0000 - val_loss: 103817600.0000\n",
      "Epoch 316/600\n",
      "226/226 [==============================] - 0s 2ms/step - loss: 141141200.0000 - val_loss: 103606184.0000\n",
      "Epoch 317/600\n",
      "226/226 [==============================] - 0s 2ms/step - loss: 143686464.0000 - val_loss: 102656584.0000\n",
      "Epoch 318/600\n",
      "226/226 [==============================] - 0s 2ms/step - loss: 145759216.0000 - val_loss: 102410704.0000\n",
      "Epoch 319/600\n",
      "226/226 [==============================] - 0s 2ms/step - loss: 144873760.0000 - val_loss: 102588488.0000\n",
      "Epoch 320/600\n",
      "226/226 [==============================] - 0s 2ms/step - loss: 144521552.0000 - val_loss: 103089024.0000\n",
      "Epoch 321/600\n",
      "226/226 [==============================] - 0s 2ms/step - loss: 143805872.0000 - val_loss: 100389016.0000\n",
      "Epoch 322/600\n",
      "226/226 [==============================] - 0s 2ms/step - loss: 141440560.0000 - val_loss: 101885576.0000\n",
      "Epoch 323/600\n",
      "226/226 [==============================] - 0s 2ms/step - loss: 140492928.0000 - val_loss: 104653032.0000\n",
      "Epoch 324/600\n",
      "226/226 [==============================] - 0s 2ms/step - loss: 143106304.0000 - val_loss: 100323424.0000\n",
      "Epoch 325/600\n",
      "226/226 [==============================] - 0s 2ms/step - loss: 142669216.0000 - val_loss: 101214624.0000\n",
      "Epoch 326/600\n",
      "226/226 [==============================] - 0s 2ms/step - loss: 141075856.0000 - val_loss: 101554248.0000\n",
      "Epoch 327/600\n",
      "226/226 [==============================] - 1s 2ms/step - loss: 141597984.0000 - val_loss: 99301824.0000\n",
      "Epoch 328/600\n",
      "226/226 [==============================] - 1s 2ms/step - loss: 140365728.0000 - val_loss: 99615280.0000\n",
      "Epoch 329/600\n",
      "226/226 [==============================] - 1s 3ms/step - loss: 143949424.0000 - val_loss: 102665104.0000\n",
      "Epoch 330/600\n",
      "226/226 [==============================] - 1s 2ms/step - loss: 140313328.0000 - val_loss: 100535928.0000\n",
      "Epoch 331/600\n",
      "226/226 [==============================] - 0s 1ms/step - loss: 141128688.0000 - val_loss: 101321496.0000\n",
      "Epoch 332/600\n",
      "226/226 [==============================] - 0s 2ms/step - loss: 139397648.0000 - val_loss: 100192728.0000\n",
      "Epoch 333/600\n",
      "226/226 [==============================] - 0s 2ms/step - loss: 143511440.0000 - val_loss: 98988112.0000\n",
      "Epoch 334/600\n",
      "226/226 [==============================] - 0s 2ms/step - loss: 141648544.0000 - val_loss: 99834712.0000\n",
      "Epoch 335/600\n",
      "226/226 [==============================] - 0s 2ms/step - loss: 135122352.0000 - val_loss: 100541760.0000\n",
      "Epoch 336/600\n",
      "226/226 [==============================] - 0s 2ms/step - loss: 138704016.0000 - val_loss: 97999960.0000\n",
      "Epoch 337/600\n",
      "226/226 [==============================] - 0s 2ms/step - loss: 139231296.0000 - val_loss: 98286472.0000\n",
      "Epoch 338/600\n",
      "226/226 [==============================] - 0s 2ms/step - loss: 140525264.0000 - val_loss: 99026808.0000\n",
      "Epoch 339/600\n",
      "226/226 [==============================] - 0s 2ms/step - loss: 138894288.0000 - val_loss: 98582216.0000\n",
      "Epoch 340/600\n",
      "226/226 [==============================] - 0s 2ms/step - loss: 137131712.0000 - val_loss: 98923744.0000\n",
      "Epoch 341/600\n",
      "226/226 [==============================] - 0s 2ms/step - loss: 136663728.0000 - val_loss: 97502448.0000\n",
      "Epoch 342/600\n",
      "226/226 [==============================] - 0s 2ms/step - loss: 139281504.0000 - val_loss: 98082296.0000\n",
      "Epoch 343/600\n",
      "226/226 [==============================] - 0s 2ms/step - loss: 139014048.0000 - val_loss: 97082656.0000\n",
      "Epoch 344/600\n",
      "226/226 [==============================] - 0s 2ms/step - loss: 135787888.0000 - val_loss: 95864320.0000\n",
      "Epoch 345/600\n",
      "226/226 [==============================] - 0s 2ms/step - loss: 137168640.0000 - val_loss: 97837400.0000\n"
     ]
    },
    {
     "name": "stdout",
     "output_type": "stream",
     "text": [
      "Epoch 346/600\n",
      "226/226 [==============================] - 0s 2ms/step - loss: 138097440.0000 - val_loss: 97658000.0000\n",
      "Epoch 347/600\n",
      "226/226 [==============================] - 0s 2ms/step - loss: 135774208.0000 - val_loss: 98120040.0000\n",
      "Epoch 348/600\n",
      "226/226 [==============================] - 0s 2ms/step - loss: 136593440.0000 - val_loss: 97064352.0000\n",
      "Epoch 349/600\n",
      "226/226 [==============================] - 0s 2ms/step - loss: 135191408.0000 - val_loss: 94306016.0000\n",
      "Epoch 350/600\n",
      "226/226 [==============================] - 0s 2ms/step - loss: 136317248.0000 - val_loss: 98624000.0000\n",
      "Epoch 351/600\n",
      "226/226 [==============================] - 0s 2ms/step - loss: 136698768.0000 - val_loss: 97157648.0000\n",
      "Epoch 352/600\n",
      "226/226 [==============================] - 0s 2ms/step - loss: 138043552.0000 - val_loss: 94952504.0000\n",
      "Epoch 353/600\n",
      "226/226 [==============================] - 0s 2ms/step - loss: 140093280.0000 - val_loss: 95686936.0000\n",
      "Epoch 354/600\n",
      "226/226 [==============================] - 0s 2ms/step - loss: 134799392.0000 - val_loss: 96653984.0000\n",
      "Epoch 355/600\n",
      "226/226 [==============================] - 0s 2ms/step - loss: 134250880.0000 - val_loss: 94591416.0000\n",
      "Epoch 356/600\n",
      "226/226 [==============================] - 0s 2ms/step - loss: 134703376.0000 - val_loss: 95807384.0000\n",
      "Epoch 357/600\n",
      "226/226 [==============================] - 0s 2ms/step - loss: 133899928.0000 - val_loss: 94196496.0000\n",
      "Epoch 358/600\n",
      "226/226 [==============================] - 0s 2ms/step - loss: 137018400.0000 - val_loss: 94753200.0000\n",
      "Epoch 359/600\n",
      "226/226 [==============================] - 0s 2ms/step - loss: 138454944.0000 - val_loss: 93459208.0000\n",
      "Epoch 360/600\n",
      "226/226 [==============================] - 0s 2ms/step - loss: 129163568.0000 - val_loss: 96046648.0000\n",
      "Epoch 361/600\n",
      "226/226 [==============================] - 1s 2ms/step - loss: 134169088.0000 - val_loss: 94688360.0000\n",
      "Epoch 362/600\n",
      "226/226 [==============================] - 1s 2ms/step - loss: 134051424.0000 - val_loss: 93760896.0000\n",
      "Epoch 363/600\n",
      "226/226 [==============================] - 1s 2ms/step - loss: 132956560.0000 - val_loss: 95506504.0000\n",
      "Epoch 364/600\n",
      "226/226 [==============================] - 0s 2ms/step - loss: 133678544.0000 - val_loss: 92655224.0000\n",
      "Epoch 365/600\n",
      "226/226 [==============================] - 0s 2ms/step - loss: 136156912.0000 - val_loss: 94246568.0000\n",
      "Epoch 366/600\n",
      "226/226 [==============================] - 0s 2ms/step - loss: 133126360.0000 - val_loss: 92904568.0000\n",
      "Epoch 367/600\n",
      "226/226 [==============================] - 0s 2ms/step - loss: 132457736.0000 - val_loss: 92769400.0000\n",
      "Epoch 368/600\n",
      "226/226 [==============================] - 0s 2ms/step - loss: 136339792.0000 - val_loss: 95286944.0000\n",
      "Epoch 369/600\n",
      "226/226 [==============================] - 0s 2ms/step - loss: 135188192.0000 - val_loss: 92766576.0000\n",
      "Epoch 370/600\n",
      "226/226 [==============================] - 0s 2ms/step - loss: 134185064.0000 - val_loss: 96688488.0000\n",
      "Epoch 371/600\n",
      "226/226 [==============================] - 0s 2ms/step - loss: 129104240.0000 - val_loss: 93538192.0000\n",
      "Epoch 372/600\n",
      "226/226 [==============================] - 0s 2ms/step - loss: 133333528.0000 - val_loss: 92023472.0000\n",
      "Epoch 373/600\n",
      "226/226 [==============================] - 0s 2ms/step - loss: 130445448.0000 - val_loss: 91488904.0000\n",
      "Epoch 374/600\n",
      "226/226 [==============================] - 1s 2ms/step - loss: 131321184.0000 - val_loss: 92929400.0000\n",
      "Epoch 375/600\n",
      "226/226 [==============================] - 1s 2ms/step - loss: 132766488.0000 - val_loss: 93682848.0000\n",
      "Epoch 376/600\n",
      "226/226 [==============================] - 1s 2ms/step - loss: 132038360.0000 - val_loss: 91047152.0000\n",
      "Epoch 377/600\n",
      "226/226 [==============================] - 1s 2ms/step - loss: 133086720.0000 - val_loss: 91871808.0000\n",
      "Epoch 378/600\n",
      "226/226 [==============================] - 1s 2ms/step - loss: 131853784.0000 - val_loss: 91551696.0000\n",
      "Epoch 379/600\n",
      "226/226 [==============================] - 1s 2ms/step - loss: 130194216.0000 - val_loss: 90247416.0000\n",
      "Epoch 380/600\n",
      "226/226 [==============================] - 0s 2ms/step - loss: 131180736.0000 - val_loss: 91059408.0000\n",
      "Epoch 381/600\n",
      "226/226 [==============================] - 0s 2ms/step - loss: 130585152.0000 - val_loss: 90095896.0000\n",
      "Epoch 382/600\n",
      "226/226 [==============================] - 0s 2ms/step - loss: 130704368.0000 - val_loss: 90574704.0000\n",
      "Epoch 383/600\n",
      "226/226 [==============================] - 0s 2ms/step - loss: 134504784.0000 - val_loss: 90074592.0000\n",
      "Epoch 384/600\n",
      "226/226 [==============================] - 0s 2ms/step - loss: 130853600.0000 - val_loss: 93407128.0000\n",
      "Epoch 385/600\n",
      "226/226 [==============================] - 0s 2ms/step - loss: 132563824.0000 - val_loss: 92068112.0000\n",
      "Epoch 386/600\n",
      "226/226 [==============================] - 0s 2ms/step - loss: 131013672.0000 - val_loss: 89932104.0000\n",
      "Epoch 387/600\n",
      "226/226 [==============================] - 0s 2ms/step - loss: 130614912.0000 - val_loss: 89961976.0000\n",
      "Epoch 388/600\n",
      "226/226 [==============================] - 0s 2ms/step - loss: 129968232.0000 - val_loss: 89861128.0000\n",
      "Epoch 389/600\n",
      "226/226 [==============================] - 0s 2ms/step - loss: 129565392.0000 - val_loss: 89095448.0000\n",
      "Epoch 390/600\n",
      "226/226 [==============================] - 0s 2ms/step - loss: 129953952.0000 - val_loss: 89458328.0000\n",
      "Epoch 391/600\n",
      "226/226 [==============================] - 0s 2ms/step - loss: 133307744.0000 - val_loss: 89573136.0000\n",
      "Epoch 392/600\n",
      "226/226 [==============================] - 0s 2ms/step - loss: 131154496.0000 - val_loss: 90533792.0000\n",
      "Epoch 393/600\n",
      "226/226 [==============================] - 0s 2ms/step - loss: 128995408.0000 - val_loss: 89894552.0000\n",
      "Epoch 394/600\n",
      "226/226 [==============================] - 1s 2ms/step - loss: 131234648.0000 - val_loss: 89325432.0000\n",
      "Epoch 395/600\n",
      "226/226 [==============================] - 1s 2ms/step - loss: 129780352.0000 - val_loss: 89137240.0000\n",
      "Epoch 396/600\n",
      "226/226 [==============================] - 1s 2ms/step - loss: 129552160.0000 - val_loss: 89209008.0000\n",
      "Epoch 397/600\n",
      "226/226 [==============================] - 0s 2ms/step - loss: 130630904.0000 - val_loss: 89538936.0000\n",
      "Epoch 398/600\n",
      "226/226 [==============================] - 0s 2ms/step - loss: 130116616.0000 - val_loss: 88621376.0000\n",
      "Epoch 399/600\n",
      "226/226 [==============================] - 0s 2ms/step - loss: 126199024.0000 - val_loss: 88401888.0000\n",
      "Epoch 400/600\n",
      "226/226 [==============================] - 0s 2ms/step - loss: 130293328.0000 - val_loss: 91324112.0000\n",
      "Epoch 401/600\n",
      "226/226 [==============================] - 0s 2ms/step - loss: 130497936.0000 - val_loss: 87580352.0000\n",
      "Epoch 402/600\n",
      "226/226 [==============================] - 0s 2ms/step - loss: 127783544.0000 - val_loss: 88960800.0000\n",
      "Epoch 403/600\n",
      "226/226 [==============================] - 0s 2ms/step - loss: 129628800.0000 - val_loss: 89128224.0000\n",
      "Epoch 404/600\n",
      "226/226 [==============================] - 0s 2ms/step - loss: 128478064.0000 - val_loss: 88408616.0000\n",
      "Epoch 405/600\n",
      "226/226 [==============================] - 0s 2ms/step - loss: 128275592.0000 - val_loss: 89819720.0000\n",
      "Epoch 406/600\n",
      "226/226 [==============================] - 0s 2ms/step - loss: 127586608.0000 - val_loss: 89948720.0000\n",
      "Epoch 407/600\n",
      "226/226 [==============================] - 1s 2ms/step - loss: 128452408.0000 - val_loss: 88419816.0000\n",
      "Epoch 408/600\n",
      "226/226 [==============================] - 1s 2ms/step - loss: 129080240.0000 - val_loss: 90418216.0000\n",
      "Epoch 409/600\n",
      "226/226 [==============================] - 0s 2ms/step - loss: 128495448.0000 - val_loss: 88782224.0000\n",
      "Epoch 410/600\n",
      "226/226 [==============================] - 1s 2ms/step - loss: 127830696.0000 - val_loss: 88920216.0000\n",
      "Epoch 411/600\n",
      "226/226 [==============================] - 1s 2ms/step - loss: 128520008.0000 - val_loss: 89445104.0000\n",
      "Epoch 412/600\n",
      "226/226 [==============================] - 1s 2ms/step - loss: 131603704.0000 - val_loss: 87918168.0000\n",
      "Epoch 413/600\n",
      "226/226 [==============================] - 0s 2ms/step - loss: 129431224.0000 - val_loss: 87951848.0000\n",
      "Epoch 414/600\n",
      "226/226 [==============================] - 0s 2ms/step - loss: 124647128.0000 - val_loss: 87148480.0000\n",
      "Epoch 415/600\n"
     ]
    },
    {
     "name": "stdout",
     "output_type": "stream",
     "text": [
      "226/226 [==============================] - 0s 2ms/step - loss: 127280760.0000 - val_loss: 88258128.0000\n",
      "Epoch 416/600\n",
      "226/226 [==============================] - 0s 2ms/step - loss: 129240376.0000 - val_loss: 89061248.0000\n",
      "Epoch 417/600\n",
      "226/226 [==============================] - 1s 2ms/step - loss: 128646648.0000 - val_loss: 85795592.0000\n",
      "Epoch 418/600\n",
      "226/226 [==============================] - 0s 2ms/step - loss: 128489424.0000 - val_loss: 87820272.0000\n",
      "Epoch 419/600\n",
      "226/226 [==============================] - 0s 2ms/step - loss: 128862944.0000 - val_loss: 87090808.0000\n",
      "Epoch 420/600\n",
      "226/226 [==============================] - 1s 2ms/step - loss: 127384264.0000 - val_loss: 86619280.0000\n",
      "Epoch 421/600\n",
      "226/226 [==============================] - 1s 2ms/step - loss: 127578616.0000 - val_loss: 90662616.0000\n",
      "Epoch 422/600\n",
      "226/226 [==============================] - 1s 2ms/step - loss: 127601776.0000 - val_loss: 88547952.0000\n",
      "Epoch 423/600\n",
      "226/226 [==============================] - 1s 2ms/step - loss: 124170208.0000 - val_loss: 85575584.0000\n",
      "Epoch 424/600\n",
      "226/226 [==============================] - 1s 2ms/step - loss: 126847640.0000 - val_loss: 88220480.0000\n",
      "Epoch 425/600\n",
      "226/226 [==============================] - 1s 2ms/step - loss: 128867704.0000 - val_loss: 88307984.0000\n",
      "Epoch 426/600\n",
      "226/226 [==============================] - 1s 2ms/step - loss: 127130848.0000 - val_loss: 87585288.0000\n",
      "Epoch 427/600\n",
      "226/226 [==============================] - 1s 2ms/step - loss: 125722016.0000 - val_loss: 86841528.0000\n",
      "Epoch 428/600\n",
      "226/226 [==============================] - 1s 2ms/step - loss: 129111760.0000 - val_loss: 88230808.0000\n",
      "Epoch 429/600\n",
      "226/226 [==============================] - 1s 2ms/step - loss: 127387112.0000 - val_loss: 88257880.0000\n",
      "Epoch 430/600\n",
      "226/226 [==============================] - 1s 2ms/step - loss: 124579472.0000 - val_loss: 85513136.0000\n",
      "Epoch 431/600\n",
      "226/226 [==============================] - 0s 2ms/step - loss: 128621616.0000 - val_loss: 86818928.0000\n",
      "Epoch 432/600\n",
      "226/226 [==============================] - 0s 2ms/step - loss: 127346312.0000 - val_loss: 86981744.0000\n",
      "Epoch 433/600\n",
      "226/226 [==============================] - 1s 2ms/step - loss: 123553736.0000 - val_loss: 85219664.0000\n",
      "Epoch 434/600\n",
      "226/226 [==============================] - 1s 2ms/step - loss: 126993592.0000 - val_loss: 85402136.0000\n",
      "Epoch 435/600\n",
      "226/226 [==============================] - 1s 2ms/step - loss: 128863056.0000 - val_loss: 84702120.0000\n",
      "Epoch 436/600\n",
      "226/226 [==============================] - 1s 2ms/step - loss: 128292328.0000 - val_loss: 88123760.0000\n",
      "Epoch 437/600\n",
      "226/226 [==============================] - 1s 2ms/step - loss: 127039112.0000 - val_loss: 87712088.0000\n",
      "Epoch 438/600\n",
      "226/226 [==============================] - 1s 2ms/step - loss: 128883992.0000 - val_loss: 87423024.0000\n",
      "Epoch 439/600\n",
      "226/226 [==============================] - 1s 2ms/step - loss: 126462984.0000 - val_loss: 84057640.0000\n",
      "Epoch 440/600\n",
      "226/226 [==============================] - 1s 2ms/step - loss: 124685864.0000 - val_loss: 85699344.0000\n",
      "Epoch 441/600\n",
      "226/226 [==============================] - 1s 2ms/step - loss: 127608272.0000 - val_loss: 86539208.0000\n",
      "Epoch 442/600\n",
      "226/226 [==============================] - 0s 2ms/step - loss: 125291728.0000 - val_loss: 84484104.0000\n",
      "Epoch 443/600\n",
      "226/226 [==============================] - 0s 2ms/step - loss: 127793424.0000 - val_loss: 86810656.0000\n",
      "Epoch 444/600\n",
      "226/226 [==============================] - 0s 2ms/step - loss: 126438104.0000 - val_loss: 87273144.0000\n",
      "Epoch 445/600\n",
      "226/226 [==============================] - 0s 2ms/step - loss: 128477296.0000 - val_loss: 85762976.0000\n",
      "Epoch 446/600\n",
      "226/226 [==============================] - 0s 2ms/step - loss: 124677768.0000 - val_loss: 85918480.0000\n",
      "Epoch 447/600\n",
      "226/226 [==============================] - 0s 2ms/step - loss: 125296856.0000 - val_loss: 87825776.0000\n",
      "Epoch 448/600\n",
      "226/226 [==============================] - 0s 2ms/step - loss: 123350560.0000 - val_loss: 85320728.0000\n",
      "Epoch 449/600\n",
      "226/226 [==============================] - 0s 2ms/step - loss: 128097040.0000 - val_loss: 85249064.0000\n",
      "Epoch 450/600\n",
      "226/226 [==============================] - 0s 2ms/step - loss: 127571336.0000 - val_loss: 85552280.0000\n",
      "Epoch 451/600\n",
      "226/226 [==============================] - 1s 2ms/step - loss: 127330488.0000 - val_loss: 84344520.0000\n",
      "Epoch 452/600\n",
      "226/226 [==============================] - 1s 2ms/step - loss: 125524312.0000 - val_loss: 84976936.0000\n",
      "Epoch 453/600\n",
      "226/226 [==============================] - 0s 2ms/step - loss: 127736512.0000 - val_loss: 85965440.0000\n",
      "Epoch 454/600\n",
      "226/226 [==============================] - 0s 2ms/step - loss: 124449152.0000 - val_loss: 84611064.0000\n",
      "Epoch 455/600\n",
      "226/226 [==============================] - 0s 2ms/step - loss: 126562144.0000 - val_loss: 85686432.0000\n",
      "Epoch 456/600\n",
      "226/226 [==============================] - 0s 2ms/step - loss: 127750136.0000 - val_loss: 84198800.0000\n",
      "Epoch 457/600\n",
      "226/226 [==============================] - 0s 2ms/step - loss: 123159816.0000 - val_loss: 86221344.0000\n",
      "Epoch 458/600\n",
      "226/226 [==============================] - 0s 2ms/step - loss: 124053240.0000 - val_loss: 84012584.0000\n",
      "Epoch 459/600\n",
      "226/226 [==============================] - 0s 2ms/step - loss: 125926736.0000 - val_loss: 86814568.0000\n",
      "Epoch 460/600\n",
      "226/226 [==============================] - 0s 2ms/step - loss: 127854536.0000 - val_loss: 86191088.0000\n",
      "Epoch 461/600\n",
      "226/226 [==============================] - 0s 2ms/step - loss: 125207920.0000 - val_loss: 84246824.0000\n",
      "Epoch 462/600\n",
      "226/226 [==============================] - 0s 2ms/step - loss: 124584408.0000 - val_loss: 83526928.0000\n",
      "Epoch 463/600\n",
      "226/226 [==============================] - 0s 2ms/step - loss: 123235472.0000 - val_loss: 86798904.0000\n",
      "Epoch 464/600\n",
      "226/226 [==============================] - 0s 2ms/step - loss: 124995672.0000 - val_loss: 84674392.0000\n",
      "Epoch 465/600\n",
      "226/226 [==============================] - 0s 2ms/step - loss: 127237080.0000 - val_loss: 86620392.0000\n",
      "Epoch 466/600\n",
      "226/226 [==============================] - 0s 2ms/step - loss: 128145624.0000 - val_loss: 84203656.0000\n",
      "Epoch 467/600\n",
      "226/226 [==============================] - 0s 2ms/step - loss: 126923680.0000 - val_loss: 84267968.0000\n",
      "Epoch 468/600\n",
      "226/226 [==============================] - 0s 2ms/step - loss: 126198488.0000 - val_loss: 83285208.0000\n",
      "Epoch 469/600\n",
      "226/226 [==============================] - 0s 2ms/step - loss: 130259376.0000 - val_loss: 85336536.0000\n",
      "Epoch 470/600\n",
      "226/226 [==============================] - 0s 2ms/step - loss: 124562288.0000 - val_loss: 84057608.0000\n",
      "Epoch 471/600\n",
      "226/226 [==============================] - 0s 2ms/step - loss: 123224144.0000 - val_loss: 84761920.0000\n",
      "Epoch 472/600\n",
      "226/226 [==============================] - 1s 2ms/step - loss: 124609032.0000 - val_loss: 83771880.0000\n",
      "Epoch 473/600\n",
      "226/226 [==============================] - 0s 2ms/step - loss: 127254744.0000 - val_loss: 84626808.0000\n",
      "Epoch 474/600\n",
      "226/226 [==============================] - 0s 2ms/step - loss: 122901704.0000 - val_loss: 84740504.0000\n",
      "Epoch 475/600\n",
      "226/226 [==============================] - 0s 2ms/step - loss: 124509064.0000 - val_loss: 85620392.0000\n",
      "Epoch 476/600\n",
      "226/226 [==============================] - 0s 2ms/step - loss: 126758256.0000 - val_loss: 84937232.0000\n",
      "Epoch 477/600\n",
      "226/226 [==============================] - 0s 2ms/step - loss: 124870792.0000 - val_loss: 83316304.0000\n",
      "Epoch 478/600\n",
      "226/226 [==============================] - 0s 2ms/step - loss: 125471112.0000 - val_loss: 84104208.0000\n",
      "Epoch 479/600\n",
      "226/226 [==============================] - 1s 2ms/step - loss: 122597368.0000 - val_loss: 84999088.0000\n",
      "Epoch 480/600\n",
      "226/226 [==============================] - 0s 2ms/step - loss: 125758848.0000 - val_loss: 84107648.0000\n",
      "Epoch 481/600\n",
      "226/226 [==============================] - 0s 2ms/step - loss: 124950496.0000 - val_loss: 82829448.0000\n",
      "Epoch 482/600\n",
      "226/226 [==============================] - 0s 2ms/step - loss: 126916432.0000 - val_loss: 86490760.0000\n",
      "Epoch 483/600\n",
      "226/226 [==============================] - 1s 2ms/step - loss: 124179760.0000 - val_loss: 84611552.0000\n",
      "Epoch 484/600\n"
     ]
    },
    {
     "name": "stdout",
     "output_type": "stream",
     "text": [
      "226/226 [==============================] - 1s 2ms/step - loss: 121798192.0000 - val_loss: 82492936.0000\n",
      "Epoch 485/600\n",
      "226/226 [==============================] - 1s 2ms/step - loss: 123456552.0000 - val_loss: 85903784.0000\n",
      "Epoch 486/600\n",
      "226/226 [==============================] - 1s 2ms/step - loss: 122648576.0000 - val_loss: 82089248.0000\n",
      "Epoch 487/600\n",
      "226/226 [==============================] - 1s 2ms/step - loss: 123324088.0000 - val_loss: 86720560.0000\n",
      "Epoch 488/600\n",
      "226/226 [==============================] - 1s 2ms/step - loss: 124672720.0000 - val_loss: 84137064.0000\n",
      "Epoch 489/600\n",
      "226/226 [==============================] - 1s 2ms/step - loss: 125336072.0000 - val_loss: 84356584.0000\n",
      "Epoch 490/600\n",
      "226/226 [==============================] - 1s 2ms/step - loss: 123041488.0000 - val_loss: 82185680.0000\n",
      "Epoch 491/600\n",
      "226/226 [==============================] - 1s 2ms/step - loss: 125183360.0000 - val_loss: 81378192.0000\n",
      "Epoch 492/600\n",
      "226/226 [==============================] - 1s 2ms/step - loss: 123606200.0000 - val_loss: 83025448.0000\n",
      "Epoch 493/600\n",
      "226/226 [==============================] - 0s 2ms/step - loss: 124896696.0000 - val_loss: 83513696.0000\n",
      "Epoch 494/600\n",
      "226/226 [==============================] - 0s 2ms/step - loss: 123616776.0000 - val_loss: 82917800.0000\n",
      "Epoch 495/600\n",
      "226/226 [==============================] - 0s 2ms/step - loss: 122364624.0000 - val_loss: 84044784.0000\n",
      "Epoch 496/600\n",
      "226/226 [==============================] - 0s 2ms/step - loss: 128283344.0000 - val_loss: 83196232.0000\n",
      "Epoch 497/600\n",
      "226/226 [==============================] - 0s 2ms/step - loss: 125369504.0000 - val_loss: 82849200.0000\n",
      "Epoch 498/600\n",
      "226/226 [==============================] - 0s 2ms/step - loss: 121447040.0000 - val_loss: 83974528.0000\n",
      "Epoch 499/600\n",
      "226/226 [==============================] - 1s 2ms/step - loss: 121905880.0000 - val_loss: 85071688.0000\n",
      "Epoch 500/600\n",
      "226/226 [==============================] - 1s 2ms/step - loss: 123591928.0000 - val_loss: 82727512.0000\n",
      "Epoch 501/600\n",
      "226/226 [==============================] - 1s 2ms/step - loss: 120440696.0000 - val_loss: 82488976.0000\n",
      "Epoch 502/600\n",
      "226/226 [==============================] - 1s 2ms/step - loss: 124357432.0000 - val_loss: 83506760.0000\n",
      "Epoch 503/600\n",
      "226/226 [==============================] - 1s 2ms/step - loss: 122811240.0000 - val_loss: 82220416.0000\n",
      "Epoch 504/600\n",
      "226/226 [==============================] - 1s 2ms/step - loss: 126394504.0000 - val_loss: 85130432.0000\n",
      "Epoch 505/600\n",
      "226/226 [==============================] - 1s 2ms/step - loss: 121243080.0000 - val_loss: 81971152.0000\n",
      "Epoch 506/600\n",
      "226/226 [==============================] - 1s 2ms/step - loss: 127681104.0000 - val_loss: 82749136.0000\n",
      "Epoch 507/600\n",
      "226/226 [==============================] - 1s 2ms/step - loss: 121110456.0000 - val_loss: 82853416.0000\n",
      "Epoch 508/600\n",
      "226/226 [==============================] - 0s 2ms/step - loss: 122782384.0000 - val_loss: 84396616.0000\n",
      "Epoch 509/600\n",
      "226/226 [==============================] - 0s 2ms/step - loss: 123396048.0000 - val_loss: 82764976.0000\n",
      "Epoch 510/600\n",
      "226/226 [==============================] - 0s 2ms/step - loss: 125680168.0000 - val_loss: 83941784.0000\n",
      "Epoch 511/600\n",
      "226/226 [==============================] - 0s 2ms/step - loss: 126433712.0000 - val_loss: 83015600.0000\n",
      "Epoch 512/600\n",
      "226/226 [==============================] - 0s 2ms/step - loss: 125744864.0000 - val_loss: 81671720.0000\n",
      "Epoch 513/600\n",
      "226/226 [==============================] - 0s 2ms/step - loss: 124947328.0000 - val_loss: 82274784.0000\n",
      "Epoch 514/600\n",
      "226/226 [==============================] - 0s 2ms/step - loss: 124326824.0000 - val_loss: 85565608.0000\n",
      "Epoch 515/600\n",
      "226/226 [==============================] - 0s 2ms/step - loss: 121035408.0000 - val_loss: 83131696.0000\n",
      "Epoch 516/600\n",
      "226/226 [==============================] - 1s 2ms/step - loss: 122362720.0000 - val_loss: 84636512.0000\n",
      "Epoch 00516: early stopping\n"
     ]
    },
    {
     "data": {
      "text/plain": [
       "<tensorflow.python.keras.callbacks.History at 0x26254181b88>"
      ]
     },
     "execution_count": 37,
     "metadata": {},
     "output_type": "execute_result"
    }
   ],
   "source": [
    "model_4.fit(x=train_dataset, y=train_label, epochs=600, validation_data=(test_dataset, test_label), callbacks=[early_stop])"
   ]
  },
  {
   "cell_type": "code",
   "execution_count": 38,
   "id": "b3b2dece",
   "metadata": {},
   "outputs": [
    {
     "data": {
      "text/plain": [
       "<AxesSubplot:>"
      ]
     },
     "execution_count": 38,
     "metadata": {},
     "output_type": "execute_result"
    },
    {
     "data": {
      "image/png": "[encoded data removed]",
      "text/plain": [
       "<Figure size 432x288 with 1 Axes>"
      ]
     },
     "metadata": {
      "needs_background": "light"
     },
     "output_type": "display_data"
    }
   ],
   "source": [
    "losses = pd.DataFrame(model_4.history.history)\n",
    "losses.plot()"
   ]
  },
  {
   "cell_type": "code",
   "execution_count": 39,
   "id": "96c3d77f",
   "metadata": {},
   "outputs": [
    {
     "data": {
      "text/plain": [
       "9199.809846634344"
      ]
     },
     "execution_count": 39,
     "metadata": {},
     "output_type": "execute_result"
    }
   ],
   "source": [
    "prediction = model_4.predict(test_dataset)\n",
    "np.sqrt(MSE(test_label, prediction))"
   ]
  },
  {
   "cell_type": "code",
   "execution_count": null,
   "id": "41764333",
   "metadata": {},
   "outputs": [],
   "source": []
  }
 ],
 "metadata": {
  "kernelspec": {
   "display_name": "Python (IA)",
   "language": "python",
   "name": "ia"
  },
  "language_info": {
   "codemirror_mode": {
    "name": "ipython",
    "version": 3
   },
   "file_extension": ".py",
   "mimetype": "text/x-python",
   "name": "python",
   "nbconvert_exporter": "python",
   "pygments_lexer": "ipython3",
   "version": "3.7.11"
  }
 },
 "nbformat": 4,
 "nbformat_minor": 5
}
