{
 "cells": [
  {
   "cell_type": "markdown",
   "metadata": {},
   "source": [
    "# Preprocesamiento y union de dataset"
   ]
  },
  {
   "cell_type": "markdown",
   "metadata": {},
   "source": [
    "En este notebook, se realizará el procesamiento y la unión del conjunto de dataset para posteriormente evaluar el modelo."
   ]
  },
  {
   "cell_type": "code",
   "execution_count": 1,
   "metadata": {},
   "outputs": [],
   "source": [
    "import numpy as np \n",
    "import pandas as pd\n",
    "import matplotlib.pyplot as plt\n",
    "%matplotlib inline"
   ]
  },
  {
   "cell_type": "markdown",
   "metadata": {},
   "source": [
    "## Lectura de los Archivos .csv"
   ]
  },
  {
   "cell_type": "markdown",
   "metadata": {},
   "source": [
    "Este conjunto de datos ha sido obtenido de [kaggle](https://www.kaggle.com/adityadesai13/used-car-dataset-ford-and-mercedes) y muestra un conjunto de datos de 100,000 autos usados."
   ]
  },
  {
   "cell_type": "code",
   "execution_count": 2,
   "metadata": {},
   "outputs": [],
   "source": [
    "DatasetAudi = pd.read_csv(\"../data/audi.csv\")\n",
    "DatasetBmw = pd.read_csv(\"../data/bmw.csv\")\n",
    "DatasetHyundi = pd.read_csv(\"../data/hyundi.csv\")\n",
    "DatasetMerc = pd.read_csv(\"../data/merc.csv\")\n",
    "DatasetToyota = pd.read_csv(\"../data/toyota.csv\")"
   ]
  },
  {
   "cell_type": "markdown",
   "metadata": {},
   "source": [
    "## Preparación de los datasets"
   ]
  },
  {
   "cell_type": "markdown",
   "metadata": {},
   "source": [
    "Definir la marca para cada dataset."
   ]
  },
  {
   "cell_type": "code",
   "execution_count": 3,
   "metadata": {},
   "outputs": [],
   "source": [
    "DatasetAudi = DatasetAudi.assign(Brand=\"Audi\")\n",
    "DatasetBmw = DatasetBmw.assign(Brand=\"Bmw\")\n",
    "DatasetHyundi = DatasetHyundi.assign(Brand=\"Hyundi\")\n",
    "DatasetMerc = DatasetMerc.assign(Brand=\"Mercedes\")\n",
    "DatasetToyota = DatasetToyota.assign(Brand=\"Toyota\")"
   ]
  },
  {
   "cell_type": "markdown",
   "metadata": {},
   "source": [
    "Definimos una función que obtenga los 5 primeros modelos de un dataset."
   ]
  },
  {
   "cell_type": "code",
   "execution_count": 4,
   "metadata": {},
   "outputs": [],
   "source": [
    "def Obtener5Modelos(data):\n",
    "    \n",
    "    # eliminar los espacios del string model (por ejemplo: ' A1')\n",
    "    data['model'] = data['model'].str.strip()\n",
    "    \n",
    "    # verificar los modelos\n",
    "    modelos = list(pd.unique(data['model']))\n",
    "    \n",
    "    # print(\"Modelos: \", list(modelos))\n",
    "    # print(\"\")\n",
    "    \n",
    "    # Escoger 5 primeros modelos\n",
    "    modelos = modelos[:5]\n",
    "    data = data[ data['model'].isin(modelos) ]\n",
    "   \n",
    "    return data    "
   ]
  },
  {
   "cell_type": "code",
   "execution_count": 5,
   "metadata": {},
   "outputs": [],
   "source": [
    "DatasetAudi = Obtener5Modelos(DatasetAudi)\n",
    "DatasetBmw = Obtener5Modelos(DatasetBmw)\n",
    "DatasetHyundi = Obtener5Modelos(DatasetHyundi)\n",
    "DatasetMerc = Obtener5Modelos(DatasetMerc)\n",
    "DatasetToyota = Obtener5Modelos(DatasetToyota)"
   ]
  },
  {
   "cell_type": "markdown",
   "metadata": {},
   "source": [
    "## Unión de los dataset"
   ]
  },
  {
   "cell_type": "markdown",
   "metadata": {},
   "source": [
    "Primero guardo todos los dataframe en una variable \"archivos\" y se muestra"
   ]
  },
  {
   "cell_type": "code",
   "execution_count": 6,
   "metadata": {},
   "outputs": [
    {
     "data": {
      "text/plain": [
       "[      model  year  price transmission  mileage fuelType  tax   mpg  \\\n",
       " 0        A1  2017  12500       Manual    15735   Petrol  150  55.4   \n",
       " 1        A6  2016  16500    Automatic    36203   Diesel   20  64.2   \n",
       " 2        A1  2016  11000       Manual    29946   Petrol   30  55.4   \n",
       " 3        A4  2017  16800    Automatic    25952   Diesel  145  67.3   \n",
       " 4        A3  2019  17300       Manual     1998   Petrol  145  49.6   \n",
       " ...     ...   ...    ...          ...      ...      ...  ...   ...   \n",
       " 10663    A3  2020  16999       Manual     4018   Petrol  145  49.6   \n",
       " 10664    A3  2020  16999       Manual     1978   Petrol  150  49.6   \n",
       " 10665    A3  2020  17199       Manual      609   Petrol  150  49.6   \n",
       " 10666    Q3  2017  19499    Automatic     8646   Petrol  150  47.9   \n",
       " 10667    Q3  2016  15999       Manual    11855   Petrol  150  47.9   \n",
       " \n",
       "        engineSize Brand  \n",
       " 0             1.4  Audi  \n",
       " 1             2.0  Audi  \n",
       " 2             1.4  Audi  \n",
       " 3             2.0  Audi  \n",
       " 4             1.0  Audi  \n",
       " ...           ...   ...  \n",
       " 10663         1.0  Audi  \n",
       " 10664         1.0  Audi  \n",
       " 10665         1.0  Audi  \n",
       " 10666         1.4  Audi  \n",
       " 10667         1.4  Audi  \n",
       " \n",
       " [6822 rows x 10 columns],\n",
       "           model  year  price transmission  mileage fuelType  tax   mpg  \\\n",
       " 0      5 Series  2014  11200    Automatic    67068   Diesel  125  57.6   \n",
       " 1      6 Series  2018  27000    Automatic    14827   Petrol  145  42.8   \n",
       " 2      5 Series  2016  16000    Automatic    62794   Diesel  160  51.4   \n",
       " 3      1 Series  2017  12750    Automatic    26676   Diesel  145  72.4   \n",
       " 4      7 Series  2014  14500    Automatic    39554   Diesel  160  50.4   \n",
       " ...         ...   ...    ...          ...      ...      ...  ...   ...   \n",
       " 10771  5 Series  2015  11700    Automatic   106000   Diesel  160  51.4   \n",
       " 10772  1 Series  2017  10200       Manual    41435   Diesel    0  83.1   \n",
       " 10774  5 Series  2016  14300    Automatic    67530   Diesel   30  62.8   \n",
       " 10777  5 Series  2016  14600    Automatic    42947   Diesel  125  60.1   \n",
       " 10779  1 Series  2014   9930    Automatic    45000   Diesel   30  64.2   \n",
       " \n",
       "        engineSize Brand  \n",
       " 0             2.0   Bmw  \n",
       " 1             2.0   Bmw  \n",
       " 2             3.0   Bmw  \n",
       " 3             1.5   Bmw  \n",
       " 4             3.0   Bmw  \n",
       " ...           ...   ...  \n",
       " 10771         2.0   Bmw  \n",
       " 10772         1.5   Bmw  \n",
       " 10774         2.0   Bmw  \n",
       " 10777         2.0   Bmw  \n",
       " 10779         2.0   Bmw  \n",
       " \n",
       " [4468 rows x 10 columns],\n",
       "        model  year  price transmission  mileage fuelType  tax   mpg  \\\n",
       " 0        I20  2017   7999       Manual    17307   Petrol  145  58.9   \n",
       " 1     Tucson  2016  14499    Automatic    25233   Diesel  235  43.5   \n",
       " 2     Tucson  2016  11399       Manual    37877   Diesel   30  61.7   \n",
       " 3        I10  2016   6499       Manual    23789   Petrol   20  60.1   \n",
       " 4       IX35  2015  10199       Manual    33177   Diesel  160  51.4   \n",
       " ...      ...   ...    ...          ...      ...      ...  ...   ...   \n",
       " 4853  Tucson  2016  12495       Manual    35000   Diesel   30  61.7   \n",
       " 4855     I30  2016   8680       Manual    25906   Diesel    0  78.4   \n",
       " 4857     I10  2017   6830       Manual    13810   Petrol   20  60.1   \n",
       " 4858  Tucson  2018  13994       Manual    23313   Petrol  145  44.8   \n",
       " 4859  Tucson  2016  15999    Automatic    11472   Diesel  125  57.6   \n",
       " \n",
       "       engineSize   Brand  \n",
       " 0            1.2  Hyundi  \n",
       " 1            2.0  Hyundi  \n",
       " 2            1.7  Hyundi  \n",
       " 3            1.0  Hyundi  \n",
       " 4            2.0  Hyundi  \n",
       " ...          ...     ...  \n",
       " 4853         1.7  Hyundi  \n",
       " 4855         1.6  Hyundi  \n",
       " 4857         1.0  Hyundi  \n",
       " 4858         1.6  Hyundi  \n",
       " 4859         1.7  Hyundi  \n",
       " \n",
       " [3542 rows x 10 columns],\n",
       "            model  year  price transmission  mileage fuelType  tax   mpg  \\\n",
       " 0            SLK  2005   5200    Automatic    63000   Petrol  325  32.1   \n",
       " 1        S Class  2017  34948    Automatic    27000   Hybrid   20  61.4   \n",
       " 2       SL CLASS  2016  49948    Automatic     6200   Petrol  555  28.0   \n",
       " 3        G Class  2016  61948    Automatic    16000   Petrol  325  30.4   \n",
       " 4        G Class  2016  73948    Automatic     4000   Petrol  325  30.1   \n",
       " ...          ...   ...    ...          ...      ...      ...  ...   ...   \n",
       " 13089   SL CLASS  2017  20659    Automatic     6573   Diesel  150  70.6   \n",
       " 13092  GLE Class  2016  30045    Automatic    18524   Diesel  240  42.8   \n",
       " 13096  GLE Class  2016  27999    Automatic    27804   Diesel  260  42.8   \n",
       " 13108        SLK  2016  17499    Automatic    30128   Diesel   30  70.6   \n",
       " 13118    S Class  2019  54999    Automatic     2075   Diesel  145  52.3   \n",
       " \n",
       "        engineSize     Brand  \n",
       " 0             1.8  Mercedes  \n",
       " 1             2.1  Mercedes  \n",
       " 2             5.5  Mercedes  \n",
       " 3             4.0  Mercedes  \n",
       " 4             4.0  Mercedes  \n",
       " ...           ...       ...  \n",
       " 13089         2.1  Mercedes  \n",
       " 13092         3.0  Mercedes  \n",
       " 13096         3.0  Mercedes  \n",
       " 13108         2.1  Mercedes  \n",
       " 13118         2.9  Mercedes  \n",
       " \n",
       " [1028 rows x 10 columns],\n",
       "       model  year  price transmission  mileage fuelType  tax   mpg  \\\n",
       " 0      GT86  2016  16000       Manual    24089   Petrol  265  36.2   \n",
       " 1      GT86  2017  15995       Manual    18615   Petrol  145  36.2   \n",
       " 2      GT86  2015  13998       Manual    27469   Petrol  265  36.2   \n",
       " 3      GT86  2017  18998       Manual    14736   Petrol  150  36.2   \n",
       " 4      GT86  2017  17498       Manual    36284   Petrol  145  36.2   \n",
       " ...     ...   ...    ...          ...      ...      ...  ...   ...   \n",
       " 3642  Auris  2015  12799    Automatic    26622   Hybrid    0  72.4   \n",
       " 3643  Auris  2017  15694    Automatic     8613   Hybrid  135  78.5   \n",
       " 3644  Auris  2017  14695    Automatic    53707   Hybrid    0  78.5   \n",
       " 3645  Auris  2017  15595    Automatic    41904   Hybrid    0  78.5   \n",
       " 3646  Auris  2017  15895    Automatic    33278   Hybrid    0  78.5   \n",
       " \n",
       "       engineSize   Brand  \n",
       " 0            2.0  Toyota  \n",
       " 1            2.0  Toyota  \n",
       " 2            2.0  Toyota  \n",
       " 3            2.0  Toyota  \n",
       " 4            2.0  Toyota  \n",
       " ...          ...     ...  \n",
       " 3642         1.8  Toyota  \n",
       " 3643         1.8  Toyota  \n",
       " 3644         1.8  Toyota  \n",
       " 3645         1.8  Toyota  \n",
       " 3646         1.8  Toyota  \n",
       " \n",
       " [3647 rows x 10 columns]]"
      ]
     },
     "execution_count": 6,
     "metadata": {},
     "output_type": "execute_result"
    }
   ],
   "source": [
    "Archivos = [DatasetAudi, DatasetBmw, DatasetHyundi, DatasetMerc, DatasetToyota]\n",
    "Archivos"
   ]
  },
  {
   "cell_type": "markdown",
   "metadata": {},
   "source": [
    "Se unen todos los archivos en \"DfAutos\" ."
   ]
  },
  {
   "cell_type": "code",
   "execution_count": 7,
   "metadata": {},
   "outputs": [],
   "source": [
    "DfAutos= pd.DataFrame()\n",
    "DfAutos= DfAutos.append(Archivos[0:], ignore_index='true')"
   ]
  },
  {
   "cell_type": "markdown",
   "metadata": {},
   "source": [
    "Finalmente se guardan los datos en un archivo .csv llamado \"autos\"."
   ]
  },
  {
   "cell_type": "code",
   "execution_count": 8,
   "metadata": {},
   "outputs": [],
   "source": [
    "DfAutos.to_csv(\"../data/autos.csv\", index=False)"
   ]
  }
 ],
 "metadata": {
  "interpreter": {
   "hash": "b893e444e619e70b2cf399b639be411f8879b6bd72449a06e4d1173d8380f2c2"
  },
  "kernelspec": {
   "display_name": "Python 3 (ipykernel)",
   "language": "python",
   "name": "python3"
  },
  "language_info": {
   "codemirror_mode": {
    "name": "ipython",
    "version": 3
   },
   "file_extension": ".py",
   "mimetype": "text/x-python",
   "name": "python",
   "nbconvert_exporter": "python",
   "pygments_lexer": "ipython3",
   "version": "3.7.11"
  }
 },
 "nbformat": 4,
 "nbformat_minor": 2
}
