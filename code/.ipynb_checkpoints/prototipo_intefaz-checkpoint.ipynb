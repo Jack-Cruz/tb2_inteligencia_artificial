{
 "cells": [
  {
   "cell_type": "markdown",
   "metadata": {},
   "source": [
    "# TB2"
   ]
  },
  {
   "cell_type": "markdown",
   "metadata": {},
   "source": [
    "## Imports\n"
   ]
  },
  {
   "cell_type": "code",
   "execution_count": 1,
   "metadata": {},
   "outputs": [],
   "source": [
    "import ipywidgets as widgets"
   ]
  },
  {
   "cell_type": "markdown",
   "metadata": {},
   "source": [
    "## 100,000 UK Used Car Data Set\n",
    "Data set obtained from [Kaggle](https://www.kaggle.com/adityadesai13/used-car-dataset-ford-and-mercedes)\n",
    "\n"
   ]
  },
  {
   "cell_type": "code",
   "execution_count": null,
   "metadata": {},
   "outputs": [],
   "source": []
  },
  {
   "cell_type": "markdown",
   "metadata": {},
   "source": [
    "Limpieza de datos"
   ]
  },
  {
   "cell_type": "markdown",
   "metadata": {},
   "source": [
    "## Modelo"
   ]
  },
  {
   "cell_type": "markdown",
   "metadata": {},
   "source": [
    "## Intefaz de Usuario\n"
   ]
  },
  {
   "cell_type": "markdown",
   "metadata": {},
   "source": [
    "Ingrese la marca de carro de la que desea buscar informacion\n",
    "\n",
    "Marcas disponibles:\n",
    "\n",
    "- Audi\n",
    "- BMW\n",
    "- Ford\n",
    "- Hyundi\n",
    "- Mercedes\n",
    "- Toyota"
   ]
  },
  {
   "cell_type": "code",
   "execution_count": 3,
   "metadata": {},
   "outputs": [
    {
     "ename": "NameError",
     "evalue": "name 'widgets' is not defined",
     "output_type": "error",
     "traceback": [
      "\u001b[1;31m---------------------------------------------------------------------------\u001b[0m",
      "\u001b[1;31mNameError\u001b[0m                                 Traceback (most recent call last)",
      "\u001b[1;32m~\\AppData\\Local\\Temp/ipykernel_7200/2593655864.py\u001b[0m in \u001b[0;36m<module>\u001b[1;34m\u001b[0m\n\u001b[1;32m----> 1\u001b[1;33m marcaWidget = widgets.Dropdown(\n\u001b[0m\u001b[0;32m      2\u001b[0m     \u001b[0moptions\u001b[0m \u001b[1;33m=\u001b[0m \u001b[1;33m[\u001b[0m\u001b[1;34m'Audi'\u001b[0m\u001b[1;33m,\u001b[0m\u001b[1;34m'BMW'\u001b[0m\u001b[1;33m,\u001b[0m\u001b[1;34m'Ford'\u001b[0m\u001b[1;33m,\u001b[0m\u001b[1;34m'Hyundi'\u001b[0m\u001b[1;33m,\u001b[0m\u001b[1;34m'Mercedes'\u001b[0m\u001b[1;33m,\u001b[0m\u001b[1;34m'Toyota'\u001b[0m\u001b[1;33m]\u001b[0m\u001b[1;33m,\u001b[0m\u001b[1;33m\u001b[0m\u001b[1;33m\u001b[0m\u001b[0m\n\u001b[0;32m      3\u001b[0m     \u001b[0mvalue\u001b[0m \u001b[1;33m=\u001b[0m \u001b[1;34m'Audi'\u001b[0m\u001b[1;33m,\u001b[0m\u001b[1;33m\u001b[0m\u001b[1;33m\u001b[0m\u001b[0m\n\u001b[0;32m      4\u001b[0m     \u001b[0mdescription\u001b[0m\u001b[1;33m=\u001b[0m\u001b[1;34m'Marca:'\u001b[0m\u001b[1;33m\u001b[0m\u001b[1;33m\u001b[0m\u001b[0m\n\u001b[0;32m      5\u001b[0m )\n",
      "\u001b[1;31mNameError\u001b[0m: name 'widgets' is not defined"
     ]
    }
   ],
   "source": [
    "marcaWidget = widgets.Dropdown(\n",
    "    options = ['Audi','BMW','Ford','Hyundi','Mercedes','Toyota'],\n",
    "    value = 'Audi',\n",
    "    description='Marca:'\n",
    ")\n",
    "marcaButton = widgets.VBox([marcaWidget])\n",
    "marcaButton"
   ]
  },
  {
   "cell_type": "code",
   "execution_count": 2,
   "metadata": {},
   "outputs": [
    {
     "ename": "NameError",
     "evalue": "name 'marcaWidget' is not defined",
     "output_type": "error",
     "traceback": [
      "\u001b[1;31m---------------------------------------------------------------------------\u001b[0m",
      "\u001b[1;31mNameError\u001b[0m                                 Traceback (most recent call last)",
      "\u001b[1;32m~\\AppData\\Local\\Temp/ipykernel_7200/3833901658.py\u001b[0m in \u001b[0;36m<module>\u001b[1;34m\u001b[0m\n\u001b[1;32m----> 1\u001b[1;33m \u001b[0mmarca\u001b[0m \u001b[1;33m=\u001b[0m \u001b[0mmarcaWidget\u001b[0m\u001b[1;33m.\u001b[0m\u001b[0mvalue\u001b[0m\u001b[1;33m\u001b[0m\u001b[1;33m\u001b[0m\u001b[0m\n\u001b[0m\u001b[0;32m      2\u001b[0m \u001b[0mmodelos\u001b[0m \u001b[1;33m=\u001b[0m \u001b[0mlist\u001b[0m\u001b[1;33m(\u001b[0m\u001b[1;33m)\u001b[0m\u001b[1;33m\u001b[0m\u001b[1;33m\u001b[0m\u001b[0m\n\u001b[0;32m      3\u001b[0m \u001b[1;32mif\u001b[0m \u001b[0mmarca\u001b[0m \u001b[1;33m==\u001b[0m \u001b[1;34m'Audi'\u001b[0m\u001b[1;33m:\u001b[0m\u001b[1;33m\u001b[0m\u001b[1;33m\u001b[0m\u001b[0m\n\u001b[0;32m      4\u001b[0m     \u001b[0mmodelos\u001b[0m \u001b[1;33m=\u001b[0m \u001b[1;33m(\u001b[0m\u001b[1;34m'A3'\u001b[0m\u001b[1;33m,\u001b[0m\u001b[1;34m'Q3'\u001b[0m\u001b[1;33m,\u001b[0m\u001b[1;34m'A4'\u001b[0m\u001b[1;33m,\u001b[0m\u001b[1;34m'A1'\u001b[0m\u001b[1;33m,\u001b[0m\u001b[1;34m'A5'\u001b[0m\u001b[1;33m)\u001b[0m\u001b[1;33m\u001b[0m\u001b[1;33m\u001b[0m\u001b[0m\n\u001b[0;32m      5\u001b[0m \u001b[1;32melif\u001b[0m \u001b[0mmarca\u001b[0m \u001b[1;33m==\u001b[0m \u001b[1;34m'BMW'\u001b[0m\u001b[1;33m:\u001b[0m\u001b[1;33m\u001b[0m\u001b[1;33m\u001b[0m\u001b[0m\n",
      "\u001b[1;31mNameError\u001b[0m: name 'marcaWidget' is not defined"
     ]
    }
   ],
   "source": [
    "marca = marcaWidget.value\n",
    "modelos = list()\n",
    "if marca == 'Audi':\n",
    "    modelos = ('A3','Q3','A4','A1','A5')\n",
    "elif marca == 'BMW':\n",
    "    modelos = ('1 Series','2 Series','3 Series','4 Series','5 Series')\n",
    "elif marca == 'Ford':\n",
    "    modelos = ('Fiesta','Focus','Kuga','EcoSport','C-MAX')\n",
    "elif marca == 'Hyundi':\n",
    "    modelos = ('Tucson','I10','I20','I30','Kona')\n",
    "elif marca == 'Mercedes':\n",
    "    modelos = ('A Class','B Class','C Class','D Class','E Class','GLA Class','GLC Class')\n",
    "else: #Toyota\n",
    "    modelos = ('GT86','Yaris','Aygo','Auris','C-HR','R4V4')\n"
   ]
  },
  {
   "cell_type": "code",
   "execution_count": 4,
   "metadata": {},
   "outputs": [
    {
     "data": {
      "application/vnd.jupyter.widget-view+json": {
       "model_id": "bd0bb2cd4c8948f987cbbf4bd82b3fe8",
       "version_major": 2,
       "version_minor": 0
      },
      "text/plain": [
       "VBox(children=(Dropdown(description='Modelo:', options=('A3', 'Q3', 'A4', 'A1', 'A5'), value='A3'), Dropdown(d…"
      ]
     },
     "metadata": {},
     "output_type": "display_data"
    }
   ],
   "source": [
    "val = modelos[0]\n",
    "modelosWidget = widgets.Dropdown(\n",
    "    options = modelos,\n",
    "    values = val,\n",
    "    description='Modelo:'\n",
    ")\n",
    "\n",
    "motorWidget = widgets.Dropdown(\n",
    "    options = ['Automatico','Semi-Automatico','Manual'],\n",
    "    values = 'Automatico',\n",
    "    description='Tipo de Motor:'\n",
    ")\n",
    "\n",
    "\n",
    "anioWidget = widgets.IntSlider(\n",
    "    value = 2015,\n",
    "    min=2010,\n",
    "    max=2020,\n",
    "    step=1,\n",
    ")\n",
    "box = widgets.VBox([modelosWidget,motorWidget,anioWidget])\n",
    "box"
   ]
  },
  {
   "cell_type": "code",
   "execution_count": 5,
   "metadata": {},
   "outputs": [
    {
     "name": "stdout",
     "output_type": "stream",
     "text": [
      "A3 Automatico 2015\n"
     ]
    }
   ],
   "source": [
    "modelo = modelosWidget.value\n",
    "motor = motorWidget.value\n",
    "anio = anioWidget.value\n",
    "print(modelo,motor,anio)"
   ]
  }
 ],
 "metadata": {
  "interpreter": {
   "hash": "cf6663ca35ebd57d6121109460e534e72c1e1f8ff142ad985cdcb4b7e585eb79"
  },
  "kernelspec": {
   "display_name": "Python 3 (ipykernel)",
   "language": "python",
   "name": "python3"
  },
  "language_info": {
   "codemirror_mode": {
    "name": "ipython",
    "version": 3
   },
   "file_extension": ".py",
   "mimetype": "text/x-python",
   "name": "python",
   "nbconvert_exporter": "python",
   "pygments_lexer": "ipython3",
   "version": "3.7.11"
  }
 },
 "nbformat": 4,
 "nbformat_minor": 2
}
