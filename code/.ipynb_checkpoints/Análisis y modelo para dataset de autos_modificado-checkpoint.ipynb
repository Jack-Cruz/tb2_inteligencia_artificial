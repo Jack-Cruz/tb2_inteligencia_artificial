{
 "cells": [
  {
   "cell_type": "markdown",
   "id": "2a68eae8",
   "metadata": {},
   "source": [
    "# Análisis de dataset de autos"
   ]
  },
  {
   "cell_type": "markdown",
   "id": "5ad88a8b",
   "metadata": {},
   "source": [
    "El siguiente dataset es la unión de los autos de la marca Audi, Bmw, Hyundi, Merc y Toyota. Este proceso de unión se encuentra en el notebook `Union de datasets.ipynb`. Además, se seguirá las etapas propuestas en el notebook de titanic del laboratorio de la clase de Inteligencia Artificial.\n",
    "\n",
    "1. Definición de pregunta o problema\n",
    "2. Adquirir datos\n",
    "3. Discutir, preparar, limpiar los datos\n",
    "4. Analizar, identificar patrones y explorar los datos\n",
    "5. Separar los datos para entrenamiento y prueba \n",
    "6. Modelizar, predecir y resolver el problema\n",
    "7. Visualizar, informar y presentar los pasos de resolución del problema y la solución final.\n",
    "\n",
    "#### Objetivo de solución:\n",
    "\n",
    "Crear un sistema de consulta, donde el usuario de acuerdo a las características de un auto pueda predecir el costo de este, se prepará los datos para posteriormente ingresarlos en un modelo en base a redes neuronales.  "
   ]
  },
  {
   "cell_type": "markdown",
   "id": "6b40e13f",
   "metadata": {},
   "source": [
    "## 1. Definición de pregunta"
   ]
  },
  {
   "cell_type": "markdown",
   "id": "253b2f91",
   "metadata": {},
   "source": [
    "Se ha recolectado una lista de carros usados, los cuáles han sido recopilados en archivos diferentes dependiendo de cada proveedor, el objetivo es brindar una herramienta que permita predecir a cuánto se puede vender un auto comparando con otros en el mercado."
   ]
  },
  {
   "cell_type": "markdown",
   "id": "839d19af",
   "metadata": {},
   "source": [
    "![Image of a car](../img/used_car.jpg)"
   ]
  },
  {
   "cell_type": "markdown",
   "id": "6c2de285",
   "metadata": {},
   "source": [
    "## 2. Adquirir los datos"
   ]
  },
  {
   "cell_type": "markdown",
   "id": "915db662",
   "metadata": {},
   "source": [
    "Importamos las librerías necesarias para el análisis, como numpy para el uso de arreglos, matplotlib para las gráficos, pandas para el uso de dataframes y seaborn también para gráficos. "
   ]
  },
  {
   "cell_type": "code",
   "execution_count": 1,
   "id": "71cc6b2f",
   "metadata": {},
   "outputs": [],
   "source": [
    "import numpy as np\n",
    "import matplotlib.pyplot as plt\n",
    "import pandas as pd \n",
    "import seaborn as sns"
   ]
  },
  {
   "cell_type": "code",
   "execution_count": 2,
   "id": "de8a0ee0",
   "metadata": {},
   "outputs": [],
   "source": [
    "dataframe = pd.read_csv('../data/autos.csv')"
   ]
  },
  {
   "cell_type": "markdown",
   "id": "e40d455c",
   "metadata": {},
   "source": [
    "## 3. Discutir, preparar y limpiar los datos"
   ]
  },
  {
   "cell_type": "markdown",
   "id": "5f1dc926",
   "metadata": {},
   "source": [
    "Veamos las características del dataset."
   ]
  },
  {
   "cell_type": "code",
   "execution_count": 3,
   "id": "8c3426a9",
   "metadata": {},
   "outputs": [
    {
     "name": "stdout",
     "output_type": "stream",
     "text": [
      "['model' 'year' 'price' 'transmission' 'mileage' 'fuelType' 'tax' 'mpg'\n",
      " 'engineSize' 'Brand']\n"
     ]
    }
   ],
   "source": [
    "print(dataframe.columns.values)"
   ]
  },
  {
   "cell_type": "markdown",
   "id": "45462cd0",
   "metadata": {},
   "source": [
    "Notamos que cuenta en total con 10 variables, 6 numéricas o flotantes y 4 categóricas (objeto). Además, este dataset presenta 19,507 entradas o filas."
   ]
  },
  {
   "cell_type": "code",
   "execution_count": 4,
   "id": "f3422420",
   "metadata": {},
   "outputs": [
    {
     "name": "stdout",
     "output_type": "stream",
     "text": [
      "<class 'pandas.core.frame.DataFrame'>\n",
      "RangeIndex: 19507 entries, 0 to 19506\n",
      "Data columns (total 10 columns):\n",
      " #   Column        Non-Null Count  Dtype  \n",
      "---  ------        --------------  -----  \n",
      " 0   model         19507 non-null  object \n",
      " 1   year          19507 non-null  int64  \n",
      " 2   price         19507 non-null  int64  \n",
      " 3   transmission  19507 non-null  object \n",
      " 4   mileage       19507 non-null  int64  \n",
      " 5   fuelType      19507 non-null  object \n",
      " 6   tax           19507 non-null  int64  \n",
      " 7   mpg           19507 non-null  float64\n",
      " 8   engineSize    19507 non-null  float64\n",
      " 9   Brand         19507 non-null  object \n",
      "dtypes: float64(2), int64(4), object(4)\n",
      "memory usage: 1.5+ MB\n"
     ]
    }
   ],
   "source": [
    "dataframe.info()"
   ]
  },
  {
   "cell_type": "markdown",
   "id": "d765e27c",
   "metadata": {},
   "source": [
    "En todos los dataset se cumple:\n",
    "\n",
    "* El `year` indica la fecha registrada del vehículo.\n",
    "* La variable `price` indica el precio del vehículo en euros.\n",
    "* El `mileage` indica la cantidad de millas en promedio que el vehículo puede recorrer.\n",
    "* El `tax` indica la cantidad de impuesto que paga el vehículo\n",
    "* El `mpg` indica las millas que puede recorrer el vehículo con un solo galón\n",
    "* El `engineSize` indica la cantidad en litros del motor que puede usar"
   ]
  },
  {
   "cell_type": "code",
   "execution_count": 5,
   "id": "6a952d38",
   "metadata": {},
   "outputs": [
    {
     "data": {
      "text/html": [
       "<div>\n",
       "<style scoped>\n",
       "    .dataframe tbody tr th:only-of-type {\n",
       "        vertical-align: middle;\n",
       "    }\n",
       "\n",
       "    .dataframe tbody tr th {\n",
       "        vertical-align: top;\n",
       "    }\n",
       "\n",
       "    .dataframe thead th {\n",
       "        text-align: right;\n",
       "    }\n",
       "</style>\n",
       "<table border=\"1\" class=\"dataframe\">\n",
       "  <thead>\n",
       "    <tr style=\"text-align: right;\">\n",
       "      <th></th>\n",
       "      <th>model</th>\n",
       "      <th>year</th>\n",
       "      <th>price</th>\n",
       "      <th>transmission</th>\n",
       "      <th>mileage</th>\n",
       "      <th>fuelType</th>\n",
       "      <th>tax</th>\n",
       "      <th>mpg</th>\n",
       "      <th>engineSize</th>\n",
       "      <th>Brand</th>\n",
       "    </tr>\n",
       "  </thead>\n",
       "  <tbody>\n",
       "    <tr>\n",
       "      <th>0</th>\n",
       "      <td>A1</td>\n",
       "      <td>2017</td>\n",
       "      <td>12500</td>\n",
       "      <td>Manual</td>\n",
       "      <td>15735</td>\n",
       "      <td>Petrol</td>\n",
       "      <td>150</td>\n",
       "      <td>55.4</td>\n",
       "      <td>1.4</td>\n",
       "      <td>Audi</td>\n",
       "    </tr>\n",
       "    <tr>\n",
       "      <th>1</th>\n",
       "      <td>A6</td>\n",
       "      <td>2016</td>\n",
       "      <td>16500</td>\n",
       "      <td>Automatic</td>\n",
       "      <td>36203</td>\n",
       "      <td>Diesel</td>\n",
       "      <td>20</td>\n",
       "      <td>64.2</td>\n",
       "      <td>2.0</td>\n",
       "      <td>Audi</td>\n",
       "    </tr>\n",
       "    <tr>\n",
       "      <th>2</th>\n",
       "      <td>A1</td>\n",
       "      <td>2016</td>\n",
       "      <td>11000</td>\n",
       "      <td>Manual</td>\n",
       "      <td>29946</td>\n",
       "      <td>Petrol</td>\n",
       "      <td>30</td>\n",
       "      <td>55.4</td>\n",
       "      <td>1.4</td>\n",
       "      <td>Audi</td>\n",
       "    </tr>\n",
       "    <tr>\n",
       "      <th>3</th>\n",
       "      <td>A4</td>\n",
       "      <td>2017</td>\n",
       "      <td>16800</td>\n",
       "      <td>Automatic</td>\n",
       "      <td>25952</td>\n",
       "      <td>Diesel</td>\n",
       "      <td>145</td>\n",
       "      <td>67.3</td>\n",
       "      <td>2.0</td>\n",
       "      <td>Audi</td>\n",
       "    </tr>\n",
       "    <tr>\n",
       "      <th>4</th>\n",
       "      <td>A3</td>\n",
       "      <td>2019</td>\n",
       "      <td>17300</td>\n",
       "      <td>Manual</td>\n",
       "      <td>1998</td>\n",
       "      <td>Petrol</td>\n",
       "      <td>145</td>\n",
       "      <td>49.6</td>\n",
       "      <td>1.0</td>\n",
       "      <td>Audi</td>\n",
       "    </tr>\n",
       "  </tbody>\n",
       "</table>\n",
       "</div>"
      ],
      "text/plain": [
       "  model  year  price transmission  mileage fuelType  tax   mpg  engineSize  \\\n",
       "0    A1  2017  12500       Manual    15735   Petrol  150  55.4         1.4   \n",
       "1    A6  2016  16500    Automatic    36203   Diesel   20  64.2         2.0   \n",
       "2    A1  2016  11000       Manual    29946   Petrol   30  55.4         1.4   \n",
       "3    A4  2017  16800    Automatic    25952   Diesel  145  67.3         2.0   \n",
       "4    A3  2019  17300       Manual     1998   Petrol  145  49.6         1.0   \n",
       "\n",
       "  Brand  \n",
       "0  Audi  \n",
       "1  Audi  \n",
       "2  Audi  \n",
       "3  Audi  \n",
       "4  Audi  "
      ]
     },
     "execution_count": 5,
     "metadata": {},
     "output_type": "execute_result"
    }
   ],
   "source": [
    "dataframe.head()"
   ]
  },
  {
   "cell_type": "markdown",
   "id": "10f050be",
   "metadata": {},
   "source": [
    "Ahora veamos las descripciones por marca de automovil. Observamos que la marca `Audi` presenta 6822 entradas, `Bmw` 4468, `Toyota` 3647, `Hyundi` 3542 y `Mercedes` 1028."
   ]
  },
  {
   "cell_type": "code",
   "execution_count": 6,
   "id": "840f53d6",
   "metadata": {},
   "outputs": [
    {
     "data": {
      "text/plain": [
       "Brand   \n",
       "Audi        6822\n",
       "Bmw         4468\n",
       "Toyota      3647\n",
       "Hyundi      3542\n",
       "Mercedes    1028\n",
       "dtype: int64"
      ]
     },
     "execution_count": 6,
     "metadata": {},
     "output_type": "execute_result"
    }
   ],
   "source": [
    "dataframe[['Brand']].value_counts()"
   ]
  },
  {
   "cell_type": "markdown",
   "id": "6f93dd76",
   "metadata": {},
   "source": [
    "El dataset completo presenta 25 modelos de vehículos, los cuáles pertenecen a 5 marcas específicas."
   ]
  },
  {
   "cell_type": "code",
   "execution_count": 7,
   "id": "64a36791",
   "metadata": {},
   "outputs": [
    {
     "data": {
      "text/html": [
       "<div>\n",
       "<style scoped>\n",
       "    .dataframe tbody tr th:only-of-type {\n",
       "        vertical-align: middle;\n",
       "    }\n",
       "\n",
       "    .dataframe tbody tr th {\n",
       "        vertical-align: top;\n",
       "    }\n",
       "\n",
       "    .dataframe thead th {\n",
       "        text-align: right;\n",
       "    }\n",
       "</style>\n",
       "<table border=\"1\" class=\"dataframe\">\n",
       "  <thead>\n",
       "    <tr style=\"text-align: right;\">\n",
       "      <th></th>\n",
       "      <th>model</th>\n",
       "      <th>transmission</th>\n",
       "      <th>fuelType</th>\n",
       "      <th>Brand</th>\n",
       "    </tr>\n",
       "  </thead>\n",
       "  <tbody>\n",
       "    <tr>\n",
       "      <th>count</th>\n",
       "      <td>19507</td>\n",
       "      <td>19507</td>\n",
       "      <td>19507</td>\n",
       "      <td>19507</td>\n",
       "    </tr>\n",
       "    <tr>\n",
       "      <th>unique</th>\n",
       "      <td>25</td>\n",
       "      <td>4</td>\n",
       "      <td>4</td>\n",
       "      <td>5</td>\n",
       "    </tr>\n",
       "    <tr>\n",
       "      <th>top</th>\n",
       "      <td>Yaris</td>\n",
       "      <td>Manual</td>\n",
       "      <td>Petrol</td>\n",
       "      <td>Audi</td>\n",
       "    </tr>\n",
       "    <tr>\n",
       "      <th>freq</th>\n",
       "      <td>2122</td>\n",
       "      <td>9815</td>\n",
       "      <td>9844</td>\n",
       "      <td>6822</td>\n",
       "    </tr>\n",
       "  </tbody>\n",
       "</table>\n",
       "</div>"
      ],
      "text/plain": [
       "        model transmission fuelType  Brand\n",
       "count   19507        19507    19507  19507\n",
       "unique     25            4        4      5\n",
       "top     Yaris       Manual   Petrol   Audi\n",
       "freq     2122         9815     9844   6822"
      ]
     },
     "execution_count": 7,
     "metadata": {},
     "output_type": "execute_result"
    }
   ],
   "source": [
    "dataframe.describe(include=['O'])"
   ]
  },
  {
   "cell_type": "markdown",
   "id": "8b8ee344",
   "metadata": {},
   "source": [
    "Existen 4 tipos de transmissión: 'Manual', 'Automatic', 'Semi-Auto' y 'Other'."
   ]
  },
  {
   "cell_type": "code",
   "execution_count": 8,
   "id": "2418e335",
   "metadata": {},
   "outputs": [
    {
     "name": "stdout",
     "output_type": "stream",
     "text": [
      "(4,)\n"
     ]
    },
    {
     "data": {
      "text/plain": [
       "array(['Manual', 'Automatic', 'Semi-Auto', 'Other'], dtype=object)"
      ]
     },
     "execution_count": 8,
     "metadata": {},
     "output_type": "execute_result"
    }
   ],
   "source": [
    "modelunique = pd.unique(dataframe['transmission'])\n",
    "print(modelunique.shape)\n",
    "modelunique"
   ]
  },
  {
   "cell_type": "markdown",
   "id": "41f8364e",
   "metadata": {},
   "source": [
    "Existen 4 tipos de combustible, 'Petrol', 'Diesel', 'Hybrid' y 'Other."
   ]
  },
  {
   "cell_type": "code",
   "execution_count": 9,
   "id": "f2cf12d1",
   "metadata": {},
   "outputs": [
    {
     "name": "stdout",
     "output_type": "stream",
     "text": [
      "(4,)\n"
     ]
    },
    {
     "data": {
      "text/plain": [
       "array(['Petrol', 'Diesel', 'Hybrid', 'Other'], dtype=object)"
      ]
     },
     "execution_count": 9,
     "metadata": {},
     "output_type": "execute_result"
    }
   ],
   "source": [
    "modelunique = pd.unique(dataframe['fuelType'])\n",
    "print(modelunique.shape)\n",
    "modelunique"
   ]
  },
  {
   "cell_type": "markdown",
   "id": "f33b6d8a",
   "metadata": {},
   "source": [
    "Temporalmente vamos a separar el dataset, dependiendo de la marca para el análisis de sus variables."
   ]
  },
  {
   "cell_type": "code",
   "execution_count": 10,
   "id": "9a69f962",
   "metadata": {},
   "outputs": [],
   "source": [
    "DatasetAudi = dataframe[dataframe['Brand'] == 'Audi']\n",
    "DatasetBmw = dataframe[dataframe['Brand'] == 'Bmw']\n",
    "DatasetHyundi = dataframe[dataframe['Brand'] == 'Hyundi']\n",
    "DatasetMerc = dataframe[dataframe['Brand'] == 'Mercedes']\n",
    "DatasetToyota = dataframe[dataframe['Brand'] == 'Toyota']"
   ]
  },
  {
   "cell_type": "markdown",
   "id": "70942495",
   "metadata": {},
   "source": [
    "### Marca de vehículo `Audi`"
   ]
  },
  {
   "cell_type": "markdown",
   "id": "95e6eaac",
   "metadata": {},
   "source": [
    "Dentro de las características de la marca `Audi` podemos encontrar:\n",
    "* El año oscila entre 1998 a 2020, y solo el 6% son del año 2020.\n",
    "* El precio del vehiculo esta entre 1,490 a 60,000 euros, el 1% tiene su precio mayor a 42,000 euros.\n",
    "* Las millas oscilan entre 5 a 323,000 y la media en esta marca es de 27,257 millas.\n",
    "* El impuesto que paga el vehículo circula entre 0 a 570 euros, solo el 1% paga más de 235 euros.\n",
    "* En promedio un vehículo puede recorrer 54 millas por un galón, siendo el mínimo 19.3 y el máximo 188.3.\n",
    "* El motor puede usar hasta 5.2 litros, siendo el promedio 1.75 litros."
   ]
  },
  {
   "cell_type": "code",
   "execution_count": 11,
   "id": "be14f961",
   "metadata": {},
   "outputs": [
    {
     "data": {
      "text/html": [
       "<div>\n",
       "<style scoped>\n",
       "    .dataframe tbody tr th:only-of-type {\n",
       "        vertical-align: middle;\n",
       "    }\n",
       "\n",
       "    .dataframe tbody tr th {\n",
       "        vertical-align: top;\n",
       "    }\n",
       "\n",
       "    .dataframe thead th {\n",
       "        text-align: right;\n",
       "    }\n",
       "</style>\n",
       "<table border=\"1\" class=\"dataframe\">\n",
       "  <thead>\n",
       "    <tr style=\"text-align: right;\">\n",
       "      <th></th>\n",
       "      <th>year</th>\n",
       "      <th>price</th>\n",
       "      <th>mileage</th>\n",
       "      <th>tax</th>\n",
       "      <th>mpg</th>\n",
       "      <th>engineSize</th>\n",
       "    </tr>\n",
       "  </thead>\n",
       "  <tbody>\n",
       "    <tr>\n",
       "      <th>count</th>\n",
       "      <td>6822.000000</td>\n",
       "      <td>6822.000000</td>\n",
       "      <td>6822.000000</td>\n",
       "      <td>6822.000000</td>\n",
       "      <td>6822.000000</td>\n",
       "      <td>6822.000000</td>\n",
       "    </tr>\n",
       "    <tr>\n",
       "      <th>mean</th>\n",
       "      <td>2016.878628</td>\n",
       "      <td>19117.472589</td>\n",
       "      <td>27257.501026</td>\n",
       "      <td>107.269862</td>\n",
       "      <td>54.228305</td>\n",
       "      <td>1.754354</td>\n",
       "    </tr>\n",
       "    <tr>\n",
       "      <th>std</th>\n",
       "      <td>2.123220</td>\n",
       "      <td>7690.111698</td>\n",
       "      <td>24201.455062</td>\n",
       "      <td>63.877972</td>\n",
       "      <td>12.665225</td>\n",
       "      <td>0.438000</td>\n",
       "    </tr>\n",
       "    <tr>\n",
       "      <th>min</th>\n",
       "      <td>1998.000000</td>\n",
       "      <td>1490.000000</td>\n",
       "      <td>5.000000</td>\n",
       "      <td>0.000000</td>\n",
       "      <td>19.300000</td>\n",
       "      <td>0.000000</td>\n",
       "    </tr>\n",
       "    <tr>\n",
       "      <th>25%</th>\n",
       "      <td>2016.000000</td>\n",
       "      <td>13486.250000</td>\n",
       "      <td>7040.250000</td>\n",
       "      <td>30.000000</td>\n",
       "      <td>45.600000</td>\n",
       "      <td>1.400000</td>\n",
       "    </tr>\n",
       "    <tr>\n",
       "      <th>50%</th>\n",
       "      <td>2017.000000</td>\n",
       "      <td>17947.500000</td>\n",
       "      <td>22228.500000</td>\n",
       "      <td>145.000000</td>\n",
       "      <td>53.300000</td>\n",
       "      <td>2.000000</td>\n",
       "    </tr>\n",
       "    <tr>\n",
       "      <th>75%</th>\n",
       "      <td>2019.000000</td>\n",
       "      <td>23495.000000</td>\n",
       "      <td>38685.000000</td>\n",
       "      <td>145.000000</td>\n",
       "      <td>61.400000</td>\n",
       "      <td>2.000000</td>\n",
       "    </tr>\n",
       "    <tr>\n",
       "      <th>max</th>\n",
       "      <td>2020.000000</td>\n",
       "      <td>60000.000000</td>\n",
       "      <td>323000.000000</td>\n",
       "      <td>570.000000</td>\n",
       "      <td>188.300000</td>\n",
       "      <td>5.200000</td>\n",
       "    </tr>\n",
       "  </tbody>\n",
       "</table>\n",
       "</div>"
      ],
      "text/plain": [
       "              year         price        mileage          tax          mpg  \\\n",
       "count  6822.000000   6822.000000    6822.000000  6822.000000  6822.000000   \n",
       "mean   2016.878628  19117.472589   27257.501026   107.269862    54.228305   \n",
       "std       2.123220   7690.111698   24201.455062    63.877972    12.665225   \n",
       "min    1998.000000   1490.000000       5.000000     0.000000    19.300000   \n",
       "25%    2016.000000  13486.250000    7040.250000    30.000000    45.600000   \n",
       "50%    2017.000000  17947.500000   22228.500000   145.000000    53.300000   \n",
       "75%    2019.000000  23495.000000   38685.000000   145.000000    61.400000   \n",
       "max    2020.000000  60000.000000  323000.000000   570.000000   188.300000   \n",
       "\n",
       "        engineSize  \n",
       "count  6822.000000  \n",
       "mean      1.754354  \n",
       "std       0.438000  \n",
       "min       0.000000  \n",
       "25%       1.400000  \n",
       "50%       2.000000  \n",
       "75%       2.000000  \n",
       "max       5.200000  "
      ]
     },
     "execution_count": 11,
     "metadata": {},
     "output_type": "execute_result"
    }
   ],
   "source": [
    "DatasetAudi.describe()\n",
    "# DatasetAudi.describe([.94])\n",
    "# DatasetAudi.describe([.99])"
   ]
  },
  {
   "cell_type": "markdown",
   "id": "c1a83c9a",
   "metadata": {},
   "source": [
    "El dataset presenta solo cinco modelos de vehículos 'A1', 'A6', 'A4', 'A3' y 'Q3'."
   ]
  },
  {
   "cell_type": "code",
   "execution_count": 12,
   "id": "137eacfe",
   "metadata": {},
   "outputs": [
    {
     "name": "stdout",
     "output_type": "stream",
     "text": [
      "(5,)\n"
     ]
    },
    {
     "data": {
      "text/plain": [
       "array(['A1', 'A6', 'A4', 'A3', 'Q3'], dtype=object)"
      ]
     },
     "execution_count": 12,
     "metadata": {},
     "output_type": "execute_result"
    }
   ],
   "source": [
    "modelunique = pd.unique(DatasetAudi['model'])\n",
    "print(modelunique.shape)\n",
    "modelunique"
   ]
  },
  {
   "cell_type": "markdown",
   "id": "fa6316a3",
   "metadata": {},
   "source": [
    "### Marca de vehículo `Bmw`"
   ]
  },
  {
   "cell_type": "markdown",
   "id": "442dff8a",
   "metadata": {},
   "source": [
    "Dentro de las características de la marca `Bmw`, podemos encontrar:\n",
    "* El año oscila entre 1996 a 2020, y solo el 6% son del año 2020.\n",
    "* El precio del vehiculo esta entre 1,500 a 123,456 euros, el 1% tiene su precio mayor a 46,631 euros.\n",
    "* Las millas oscilan entre 5 a 178,987 y la media en esta marca es de 25,588 millas.\n",
    "* El impuesto que paga el vehículo circula entre 0 a 565 euros, solo el 1% paga más de 300 euros.\n",
    "* En promedio un vehículo puede recorrer 57 millas por un galón, siendo el mínimo 22 y el máximo 565.\n",
    "* El motor puede usar hasta 6.6 litros, siendo el promedio 2.017 litros."
   ]
  },
  {
   "cell_type": "code",
   "execution_count": 13,
   "id": "b25691a2",
   "metadata": {},
   "outputs": [
    {
     "data": {
      "text/html": [
       "<div>\n",
       "<style scoped>\n",
       "    .dataframe tbody tr th:only-of-type {\n",
       "        vertical-align: middle;\n",
       "    }\n",
       "\n",
       "    .dataframe tbody tr th {\n",
       "        vertical-align: top;\n",
       "    }\n",
       "\n",
       "    .dataframe thead th {\n",
       "        text-align: right;\n",
       "    }\n",
       "</style>\n",
       "<table border=\"1\" class=\"dataframe\">\n",
       "  <thead>\n",
       "    <tr style=\"text-align: right;\">\n",
       "      <th></th>\n",
       "      <th>year</th>\n",
       "      <th>price</th>\n",
       "      <th>mileage</th>\n",
       "      <th>tax</th>\n",
       "      <th>mpg</th>\n",
       "      <th>engineSize</th>\n",
       "    </tr>\n",
       "  </thead>\n",
       "  <tbody>\n",
       "    <tr>\n",
       "      <th>count</th>\n",
       "      <td>4468.000000</td>\n",
       "      <td>4468.000000</td>\n",
       "      <td>4468.000000</td>\n",
       "      <td>4468.000000</td>\n",
       "      <td>4468.000000</td>\n",
       "      <td>4468.000000</td>\n",
       "    </tr>\n",
       "    <tr>\n",
       "      <th>mean</th>\n",
       "      <td>2016.997986</td>\n",
       "      <td>19138.673008</td>\n",
       "      <td>25588.464637</td>\n",
       "      <td>121.223142</td>\n",
       "      <td>57.675582</td>\n",
       "      <td>2.017413</td>\n",
       "    </tr>\n",
       "    <tr>\n",
       "      <th>std</th>\n",
       "      <td>2.228244</td>\n",
       "      <td>8142.553873</td>\n",
       "      <td>24372.575930</td>\n",
       "      <td>62.860406</td>\n",
       "      <td>17.440428</td>\n",
       "      <td>0.529253</td>\n",
       "    </tr>\n",
       "    <tr>\n",
       "      <th>min</th>\n",
       "      <td>1996.000000</td>\n",
       "      <td>1500.000000</td>\n",
       "      <td>5.000000</td>\n",
       "      <td>0.000000</td>\n",
       "      <td>22.100000</td>\n",
       "      <td>0.000000</td>\n",
       "    </tr>\n",
       "    <tr>\n",
       "      <th>25%</th>\n",
       "      <td>2016.000000</td>\n",
       "      <td>13000.000000</td>\n",
       "      <td>6096.000000</td>\n",
       "      <td>125.000000</td>\n",
       "      <td>48.700000</td>\n",
       "      <td>1.500000</td>\n",
       "    </tr>\n",
       "    <tr>\n",
       "      <th>50%</th>\n",
       "      <td>2017.000000</td>\n",
       "      <td>17854.000000</td>\n",
       "      <td>19584.500000</td>\n",
       "      <td>145.000000</td>\n",
       "      <td>54.300000</td>\n",
       "      <td>2.000000</td>\n",
       "    </tr>\n",
       "    <tr>\n",
       "      <th>75%</th>\n",
       "      <td>2019.000000</td>\n",
       "      <td>23450.000000</td>\n",
       "      <td>37507.250000</td>\n",
       "      <td>145.000000</td>\n",
       "      <td>65.700000</td>\n",
       "      <td>2.000000</td>\n",
       "    </tr>\n",
       "    <tr>\n",
       "      <th>max</th>\n",
       "      <td>2020.000000</td>\n",
       "      <td>123456.000000</td>\n",
       "      <td>178987.000000</td>\n",
       "      <td>565.000000</td>\n",
       "      <td>156.900000</td>\n",
       "      <td>6.600000</td>\n",
       "    </tr>\n",
       "  </tbody>\n",
       "</table>\n",
       "</div>"
      ],
      "text/plain": [
       "              year          price        mileage          tax          mpg  \\\n",
       "count  4468.000000    4468.000000    4468.000000  4468.000000  4468.000000   \n",
       "mean   2016.997986   19138.673008   25588.464637   121.223142    57.675582   \n",
       "std       2.228244    8142.553873   24372.575930    62.860406    17.440428   \n",
       "min    1996.000000    1500.000000       5.000000     0.000000    22.100000   \n",
       "25%    2016.000000   13000.000000    6096.000000   125.000000    48.700000   \n",
       "50%    2017.000000   17854.000000   19584.500000   145.000000    54.300000   \n",
       "75%    2019.000000   23450.000000   37507.250000   145.000000    65.700000   \n",
       "max    2020.000000  123456.000000  178987.000000   565.000000   156.900000   \n",
       "\n",
       "        engineSize  \n",
       "count  4468.000000  \n",
       "mean      2.017413  \n",
       "std       0.529253  \n",
       "min       0.000000  \n",
       "25%       1.500000  \n",
       "50%       2.000000  \n",
       "75%       2.000000  \n",
       "max       6.600000  "
      ]
     },
     "execution_count": 13,
     "metadata": {},
     "output_type": "execute_result"
    }
   ],
   "source": [
    "dataframe[dataframe['Brand'] == 'Bmw'].describe()\n",
    "# dataframe[dataframe['Brand'] == 'Bmw'].describe([.99])"
   ]
  },
  {
   "cell_type": "markdown",
   "id": "2c3139f1",
   "metadata": {},
   "source": [
    "El dataset presenta solo cinco modelos de vehículos '5 Series', '6 Series', '1 Series', '7 Series' y '2 Series'."
   ]
  },
  {
   "cell_type": "code",
   "execution_count": 14,
   "id": "e5065898",
   "metadata": {},
   "outputs": [
    {
     "name": "stdout",
     "output_type": "stream",
     "text": [
      "(5,)\n"
     ]
    },
    {
     "data": {
      "text/plain": [
       "array(['5 Series', '6 Series', '1 Series', '7 Series', '2 Series'],\n",
       "      dtype=object)"
      ]
     },
     "execution_count": 14,
     "metadata": {},
     "output_type": "execute_result"
    }
   ],
   "source": [
    "modelunique = pd.unique(DatasetBmw['model'])\n",
    "print(modelunique.shape)\n",
    "modelunique"
   ]
  },
  {
   "cell_type": "markdown",
   "id": "2e5812ef",
   "metadata": {},
   "source": [
    "### Marca de vehículo `Toyota`"
   ]
  },
  {
   "cell_type": "markdown",
   "id": "d91456de",
   "metadata": {},
   "source": [
    "Dentro de las características de la marca `Toyota`, podemos encontrar:\n",
    "* (Falta completar)\n",
    "* El año oscila entre 1996 a 2020, y solo el 6% son del año 2020.\n",
    "* El precio del vehiculo esta entre 1,500 a 123,456 euros, el 1% tiene su precio mayor a 46,631 euros.\n",
    "* Las millas oscilan entre 5 a 178,987 y la media en esta marca es de 25,588 millas.\n",
    "* El impuesto que paga el vehículo circula entre 0 a 565 euros, solo el 1% paga más de 300 euros.\n",
    "* En promedio un vehículo puede recorrer 57 millas por un galón, siendo el mínimo 22 y el máximo 565.\n",
    "* El motor puede usar hasta 6.6 litros, siendo el promedio 2.017 litros."
   ]
  },
  {
   "cell_type": "code",
   "execution_count": 15,
   "id": "160b135d",
   "metadata": {},
   "outputs": [
    {
     "data": {
      "text/html": [
       "<div>\n",
       "<style scoped>\n",
       "    .dataframe tbody tr th:only-of-type {\n",
       "        vertical-align: middle;\n",
       "    }\n",
       "\n",
       "    .dataframe tbody tr th {\n",
       "        vertical-align: top;\n",
       "    }\n",
       "\n",
       "    .dataframe thead th {\n",
       "        text-align: right;\n",
       "    }\n",
       "</style>\n",
       "<table border=\"1\" class=\"dataframe\">\n",
       "  <thead>\n",
       "    <tr style=\"text-align: right;\">\n",
       "      <th></th>\n",
       "      <th>year</th>\n",
       "      <th>price</th>\n",
       "      <th>mileage</th>\n",
       "      <th>tax</th>\n",
       "      <th>mpg</th>\n",
       "      <th>engineSize</th>\n",
       "    </tr>\n",
       "  </thead>\n",
       "  <tbody>\n",
       "    <tr>\n",
       "      <th>count</th>\n",
       "      <td>3647.000000</td>\n",
       "      <td>3647.000000</td>\n",
       "      <td>3647.000000</td>\n",
       "      <td>3647.000000</td>\n",
       "      <td>3647.000000</td>\n",
       "      <td>3647.000000</td>\n",
       "    </tr>\n",
       "    <tr>\n",
       "      <th>mean</th>\n",
       "      <td>2016.555525</td>\n",
       "      <td>12869.348506</td>\n",
       "      <td>24471.850836</td>\n",
       "      <td>88.209487</td>\n",
       "      <td>61.496381</td>\n",
       "      <td>1.610063</td>\n",
       "    </tr>\n",
       "    <tr>\n",
       "      <th>std</th>\n",
       "      <td>2.334395</td>\n",
       "      <td>5110.881286</td>\n",
       "      <td>19398.308769</td>\n",
       "      <td>70.549539</td>\n",
       "      <td>12.981112</td>\n",
       "      <td>0.340533</td>\n",
       "    </tr>\n",
       "    <tr>\n",
       "      <th>min</th>\n",
       "      <td>1999.000000</td>\n",
       "      <td>899.000000</td>\n",
       "      <td>2.000000</td>\n",
       "      <td>0.000000</td>\n",
       "      <td>30.400000</td>\n",
       "      <td>0.000000</td>\n",
       "    </tr>\n",
       "    <tr>\n",
       "      <th>25%</th>\n",
       "      <td>2016.000000</td>\n",
       "      <td>9795.000000</td>\n",
       "      <td>10000.000000</td>\n",
       "      <td>20.000000</td>\n",
       "      <td>52.300000</td>\n",
       "      <td>1.400000</td>\n",
       "    </tr>\n",
       "    <tr>\n",
       "      <th>50%</th>\n",
       "      <td>2017.000000</td>\n",
       "      <td>11895.000000</td>\n",
       "      <td>20069.000000</td>\n",
       "      <td>135.000000</td>\n",
       "      <td>58.900000</td>\n",
       "      <td>1.500000</td>\n",
       "    </tr>\n",
       "    <tr>\n",
       "      <th>75%</th>\n",
       "      <td>2018.000000</td>\n",
       "      <td>14698.000000</td>\n",
       "      <td>33395.500000</td>\n",
       "      <td>145.000000</td>\n",
       "      <td>72.400000</td>\n",
       "      <td>1.800000</td>\n",
       "    </tr>\n",
       "    <tr>\n",
       "      <th>max</th>\n",
       "      <td>2020.000000</td>\n",
       "      <td>37440.000000</td>\n",
       "      <td>150000.000000</td>\n",
       "      <td>330.000000</td>\n",
       "      <td>86.000000</td>\n",
       "      <td>2.500000</td>\n",
       "    </tr>\n",
       "  </tbody>\n",
       "</table>\n",
       "</div>"
      ],
      "text/plain": [
       "              year         price        mileage          tax          mpg  \\\n",
       "count  3647.000000   3647.000000    3647.000000  3647.000000  3647.000000   \n",
       "mean   2016.555525  12869.348506   24471.850836    88.209487    61.496381   \n",
       "std       2.334395   5110.881286   19398.308769    70.549539    12.981112   \n",
       "min    1999.000000    899.000000       2.000000     0.000000    30.400000   \n",
       "25%    2016.000000   9795.000000   10000.000000    20.000000    52.300000   \n",
       "50%    2017.000000  11895.000000   20069.000000   135.000000    58.900000   \n",
       "75%    2018.000000  14698.000000   33395.500000   145.000000    72.400000   \n",
       "max    2020.000000  37440.000000  150000.000000   330.000000    86.000000   \n",
       "\n",
       "        engineSize  \n",
       "count  3647.000000  \n",
       "mean      1.610063  \n",
       "std       0.340533  \n",
       "min       0.000000  \n",
       "25%       1.400000  \n",
       "50%       1.500000  \n",
       "75%       1.800000  \n",
       "max       2.500000  "
      ]
     },
     "execution_count": 15,
     "metadata": {},
     "output_type": "execute_result"
    }
   ],
   "source": [
    "dataframe[dataframe['Brand'] == 'Toyota'].describe()\n",
    "# dataframe[dataframe['Brand'] == 'Toyota'].describe([.99])"
   ]
  },
  {
   "cell_type": "markdown",
   "id": "62af1f51",
   "metadata": {},
   "source": [
    "El dataset presenta solo cinco modelos de vehículos 'GT86', 'Corolla', 'RAV4', 'Yaris' y 'Auris'."
   ]
  },
  {
   "cell_type": "code",
   "execution_count": 16,
   "id": "b8902a08",
   "metadata": {},
   "outputs": [
    {
     "name": "stdout",
     "output_type": "stream",
     "text": [
      "(5,)\n"
     ]
    },
    {
     "data": {
      "text/plain": [
       "array(['GT86', 'Corolla', 'RAV4', 'Yaris', 'Auris'], dtype=object)"
      ]
     },
     "execution_count": 16,
     "metadata": {},
     "output_type": "execute_result"
    }
   ],
   "source": [
    "modelunique = pd.unique(DatasetToyota['model'])\n",
    "print(modelunique.shape)\n",
    "modelunique"
   ]
  },
  {
   "cell_type": "markdown",
   "id": "92fd3a24",
   "metadata": {},
   "source": [
    "### Marca de vehículo `Hyundi`"
   ]
  },
  {
   "cell_type": "markdown",
   "id": "27a22180",
   "metadata": {},
   "source": [
    "Dentro de las características de la marca `Hyundi`, podemos encontrar:\n",
    "* (Falta completar)\n",
    "* El año oscila entre 1996 a 2020, y solo el 6% son del año 2020.\n",
    "* El precio del vehiculo esta entre 1,500 a 123,456 euros, el 1% tiene su precio mayor a 46,631 euros.\n",
    "* Las millas oscilan entre 5 a 178,987 y la media en esta marca es de 25,588 millas.\n",
    "* El impuesto que paga el vehículo circula entre 0 a 565 euros, solo el 1% paga más de 300 euros.\n",
    "* En promedio un vehículo puede recorrer 57 millas por un galón, siendo el mínimo 22 y el máximo 565.\n",
    "* El motor puede usar hasta 6.6 litros, siendo el promedio 2.017 litros."
   ]
  },
  {
   "cell_type": "code",
   "execution_count": 17,
   "id": "9f773b61",
   "metadata": {},
   "outputs": [
    {
     "data": {
      "text/html": [
       "<div>\n",
       "<style scoped>\n",
       "    .dataframe tbody tr th:only-of-type {\n",
       "        vertical-align: middle;\n",
       "    }\n",
       "\n",
       "    .dataframe tbody tr th {\n",
       "        vertical-align: top;\n",
       "    }\n",
       "\n",
       "    .dataframe thead th {\n",
       "        text-align: right;\n",
       "    }\n",
       "</style>\n",
       "<table border=\"1\" class=\"dataframe\">\n",
       "  <thead>\n",
       "    <tr style=\"text-align: right;\">\n",
       "      <th></th>\n",
       "      <th>year</th>\n",
       "      <th>price</th>\n",
       "      <th>mileage</th>\n",
       "      <th>tax</th>\n",
       "      <th>mpg</th>\n",
       "      <th>engineSize</th>\n",
       "    </tr>\n",
       "  </thead>\n",
       "  <tbody>\n",
       "    <tr>\n",
       "      <th>count</th>\n",
       "      <td>3542.000000</td>\n",
       "      <td>3542.000000</td>\n",
       "      <td>3542.000000</td>\n",
       "      <td>3542.000000</td>\n",
       "      <td>3542.000000</td>\n",
       "      <td>3542.000000</td>\n",
       "    </tr>\n",
       "    <tr>\n",
       "      <th>mean</th>\n",
       "      <td>2016.970356</td>\n",
       "      <td>11460.088368</td>\n",
       "      <td>22178.209204</td>\n",
       "      <td>112.656691</td>\n",
       "      <td>54.205703</td>\n",
       "      <td>1.386618</td>\n",
       "    </tr>\n",
       "    <tr>\n",
       "      <th>std</th>\n",
       "      <td>1.848993</td>\n",
       "      <td>5102.150041</td>\n",
       "      <td>17641.624728</td>\n",
       "      <td>58.565166</td>\n",
       "      <td>9.951838</td>\n",
       "      <td>0.342238</td>\n",
       "    </tr>\n",
       "    <tr>\n",
       "      <th>min</th>\n",
       "      <td>2007.000000</td>\n",
       "      <td>1395.000000</td>\n",
       "      <td>1.000000</td>\n",
       "      <td>0.000000</td>\n",
       "      <td>34.000000</td>\n",
       "      <td>0.000000</td>\n",
       "    </tr>\n",
       "    <tr>\n",
       "      <th>25%</th>\n",
       "      <td>2016.000000</td>\n",
       "      <td>7665.500000</td>\n",
       "      <td>9207.500000</td>\n",
       "      <td>30.000000</td>\n",
       "      <td>47.100000</td>\n",
       "      <td>1.200000</td>\n",
       "    </tr>\n",
       "    <tr>\n",
       "      <th>50%</th>\n",
       "      <td>2017.000000</td>\n",
       "      <td>10280.000000</td>\n",
       "      <td>18275.000000</td>\n",
       "      <td>145.000000</td>\n",
       "      <td>57.600000</td>\n",
       "      <td>1.400000</td>\n",
       "    </tr>\n",
       "    <tr>\n",
       "      <th>75%</th>\n",
       "      <td>2018.000000</td>\n",
       "      <td>14488.750000</td>\n",
       "      <td>31347.500000</td>\n",
       "      <td>145.000000</td>\n",
       "      <td>60.100000</td>\n",
       "      <td>1.600000</td>\n",
       "    </tr>\n",
       "    <tr>\n",
       "      <th>max</th>\n",
       "      <td>2020.000000</td>\n",
       "      <td>92000.000000</td>\n",
       "      <td>138000.000000</td>\n",
       "      <td>305.000000</td>\n",
       "      <td>78.400000</td>\n",
       "      <td>2.200000</td>\n",
       "    </tr>\n",
       "  </tbody>\n",
       "</table>\n",
       "</div>"
      ],
      "text/plain": [
       "              year         price        mileage          tax          mpg  \\\n",
       "count  3542.000000   3542.000000    3542.000000  3542.000000  3542.000000   \n",
       "mean   2016.970356  11460.088368   22178.209204   112.656691    54.205703   \n",
       "std       1.848993   5102.150041   17641.624728    58.565166     9.951838   \n",
       "min    2007.000000   1395.000000       1.000000     0.000000    34.000000   \n",
       "25%    2016.000000   7665.500000    9207.500000    30.000000    47.100000   \n",
       "50%    2017.000000  10280.000000   18275.000000   145.000000    57.600000   \n",
       "75%    2018.000000  14488.750000   31347.500000   145.000000    60.100000   \n",
       "max    2020.000000  92000.000000  138000.000000   305.000000    78.400000   \n",
       "\n",
       "        engineSize  \n",
       "count  3542.000000  \n",
       "mean      1.386618  \n",
       "std       0.342238  \n",
       "min       0.000000  \n",
       "25%       1.200000  \n",
       "50%       1.400000  \n",
       "75%       1.600000  \n",
       "max       2.200000  "
      ]
     },
     "execution_count": 17,
     "metadata": {},
     "output_type": "execute_result"
    }
   ],
   "source": [
    "dataframe[dataframe['Brand'] == 'Hyundi'].describe()\n",
    "# dataframe[dataframe['Brand'] == 'Hyundi'].describe([.99])"
   ]
  },
  {
   "cell_type": "markdown",
   "id": "605f0d70",
   "metadata": {},
   "source": [
    "El dataset presenta solo cinco modelos de vehículos 'I20', 'Tucson', 'I10', 'IX35' y 'I30'."
   ]
  },
  {
   "cell_type": "code",
   "execution_count": 18,
   "id": "fe931205",
   "metadata": {},
   "outputs": [
    {
     "name": "stdout",
     "output_type": "stream",
     "text": [
      "(5,)\n"
     ]
    },
    {
     "data": {
      "text/plain": [
       "array(['I20', 'Tucson', 'I10', 'IX35', 'I30'], dtype=object)"
      ]
     },
     "execution_count": 18,
     "metadata": {},
     "output_type": "execute_result"
    }
   ],
   "source": [
    "modelunique = pd.unique(DatasetHyundi['model'])\n",
    "print(modelunique.shape)\n",
    "modelunique"
   ]
  },
  {
   "cell_type": "markdown",
   "id": "323f4a73",
   "metadata": {},
   "source": [
    "### Marca de vehículo `Mercedes`"
   ]
  },
  {
   "cell_type": "markdown",
   "id": "1f373b43",
   "metadata": {},
   "source": [
    "Dentro de las características de la marca `Mercedes`, podemos encontrar:\n",
    "* (Falta completar)\n",
    "* El año oscila entre 1996 a 2020, y solo el 6% son del año 2020.\n",
    "* El precio del vehiculo esta entre 1,500 a 123,456 euros, el 1% tiene su precio mayor a 46,631 euros.\n",
    "* Las millas oscilan entre 5 a 178,987 y la media en esta marca es de 25,588 millas.\n",
    "* El impuesto que paga el vehículo circula entre 0 a 565 euros, solo el 1% paga más de 300 euros.\n",
    "* En promedio un vehículo puede recorrer 57 millas por un galón, siendo el mínimo 22 y el máximo 565.\n",
    "* El motor puede usar hasta 6.6 litros, siendo el promedio 2.017 litros."
   ]
  },
  {
   "cell_type": "code",
   "execution_count": 19,
   "id": "66af75eb",
   "metadata": {},
   "outputs": [
    {
     "data": {
      "text/html": [
       "<div>\n",
       "<style scoped>\n",
       "    .dataframe tbody tr th:only-of-type {\n",
       "        vertical-align: middle;\n",
       "    }\n",
       "\n",
       "    .dataframe tbody tr th {\n",
       "        vertical-align: top;\n",
       "    }\n",
       "\n",
       "    .dataframe thead th {\n",
       "        text-align: right;\n",
       "    }\n",
       "</style>\n",
       "<table border=\"1\" class=\"dataframe\">\n",
       "  <thead>\n",
       "    <tr style=\"text-align: right;\">\n",
       "      <th></th>\n",
       "      <th>year</th>\n",
       "      <th>price</th>\n",
       "      <th>mileage</th>\n",
       "      <th>tax</th>\n",
       "      <th>mpg</th>\n",
       "      <th>engineSize</th>\n",
       "    </tr>\n",
       "  </thead>\n",
       "  <tbody>\n",
       "    <tr>\n",
       "      <th>count</th>\n",
       "      <td>1028.000000</td>\n",
       "      <td>1028.000000</td>\n",
       "      <td>1028.000000</td>\n",
       "      <td>1028.000000</td>\n",
       "      <td>1028.000000</td>\n",
       "      <td>1028.000000</td>\n",
       "    </tr>\n",
       "    <tr>\n",
       "      <th>mean</th>\n",
       "      <td>2016.653696</td>\n",
       "      <td>36994.132296</td>\n",
       "      <td>20432.758755</td>\n",
       "      <td>175.544747</td>\n",
       "      <td>43.707685</td>\n",
       "      <td>2.777626</td>\n",
       "    </tr>\n",
       "    <tr>\n",
       "      <th>std</th>\n",
       "      <td>3.576772</td>\n",
       "      <td>19979.836258</td>\n",
       "      <td>19784.435673</td>\n",
       "      <td>91.615890</td>\n",
       "      <td>12.737181</td>\n",
       "      <td>0.835230</td>\n",
       "    </tr>\n",
       "    <tr>\n",
       "      <th>min</th>\n",
       "      <td>1997.000000</td>\n",
       "      <td>1490.000000</td>\n",
       "      <td>9.000000</td>\n",
       "      <td>0.000000</td>\n",
       "      <td>11.000000</td>\n",
       "      <td>0.000000</td>\n",
       "    </tr>\n",
       "    <tr>\n",
       "      <th>25%</th>\n",
       "      <td>2016.000000</td>\n",
       "      <td>24987.750000</td>\n",
       "      <td>4988.500000</td>\n",
       "      <td>145.000000</td>\n",
       "      <td>34.000000</td>\n",
       "      <td>2.100000</td>\n",
       "    </tr>\n",
       "    <tr>\n",
       "      <th>50%</th>\n",
       "      <td>2017.000000</td>\n",
       "      <td>31990.000000</td>\n",
       "      <td>15094.000000</td>\n",
       "      <td>145.000000</td>\n",
       "      <td>42.800000</td>\n",
       "      <td>3.000000</td>\n",
       "    </tr>\n",
       "    <tr>\n",
       "      <th>75%</th>\n",
       "      <td>2019.000000</td>\n",
       "      <td>49484.750000</td>\n",
       "      <td>30135.750000</td>\n",
       "      <td>200.000000</td>\n",
       "      <td>47.900000</td>\n",
       "      <td>3.000000</td>\n",
       "    </tr>\n",
       "    <tr>\n",
       "      <th>max</th>\n",
       "      <td>2020.000000</td>\n",
       "      <td>159999.000000</td>\n",
       "      <td>122000.000000</td>\n",
       "      <td>580.000000</td>\n",
       "      <td>122.900000</td>\n",
       "      <td>6.200000</td>\n",
       "    </tr>\n",
       "  </tbody>\n",
       "</table>\n",
       "</div>"
      ],
      "text/plain": [
       "              year          price        mileage          tax          mpg  \\\n",
       "count  1028.000000    1028.000000    1028.000000  1028.000000  1028.000000   \n",
       "mean   2016.653696   36994.132296   20432.758755   175.544747    43.707685   \n",
       "std       3.576772   19979.836258   19784.435673    91.615890    12.737181   \n",
       "min    1997.000000    1490.000000       9.000000     0.000000    11.000000   \n",
       "25%    2016.000000   24987.750000    4988.500000   145.000000    34.000000   \n",
       "50%    2017.000000   31990.000000   15094.000000   145.000000    42.800000   \n",
       "75%    2019.000000   49484.750000   30135.750000   200.000000    47.900000   \n",
       "max    2020.000000  159999.000000  122000.000000   580.000000   122.900000   \n",
       "\n",
       "        engineSize  \n",
       "count  1028.000000  \n",
       "mean      2.777626  \n",
       "std       0.835230  \n",
       "min       0.000000  \n",
       "25%       2.100000  \n",
       "50%       3.000000  \n",
       "75%       3.000000  \n",
       "max       6.200000  "
      ]
     },
     "execution_count": 19,
     "metadata": {},
     "output_type": "execute_result"
    }
   ],
   "source": [
    "DatasetMerc.describe()\n",
    "# dataframe[dataframe['Brand'] == 'Mercedes'].describe([.99])"
   ]
  },
  {
   "cell_type": "markdown",
   "id": "1ad61294",
   "metadata": {},
   "source": [
    "El dataset presenta solo cinco modelos de vehículos 'SLK', 'S Class', 'SL CLASS', 'G Class' y 'GLE Class'."
   ]
  },
  {
   "cell_type": "code",
   "execution_count": 20,
   "id": "6b924025",
   "metadata": {},
   "outputs": [
    {
     "name": "stdout",
     "output_type": "stream",
     "text": [
      "(5,)\n"
     ]
    },
    {
     "data": {
      "text/plain": [
       "array(['SLK', 'S Class', 'SL CLASS', 'G Class', 'GLE Class'], dtype=object)"
      ]
     },
     "execution_count": 20,
     "metadata": {},
     "output_type": "execute_result"
    }
   ],
   "source": [
    "modelunique = pd.unique(DatasetMerc['model'])\n",
    "print(modelunique.shape)\n",
    "modelunique"
   ]
  },
  {
   "cell_type": "markdown",
   "id": "8adfc5b3",
   "metadata": {},
   "source": [
    "### Preparación de los datos"
   ]
  },
  {
   "cell_type": "markdown",
   "id": "a39001eb",
   "metadata": {},
   "source": [
    "#### Variables categóricas"
   ]
  },
  {
   "cell_type": "markdown",
   "id": "aeed56f1",
   "metadata": {},
   "source": [
    "Hasta ahora no hemos modificado el dataframe, entonces, en esta sección vamos a setear de categóricos a números. Empezaremos con la marca de vehículo."
   ]
  },
  {
   "cell_type": "code",
   "execution_count": 21,
   "id": "456efa20",
   "metadata": {},
   "outputs": [],
   "source": [
    "marcas = {'Audi':0, 'Bmw':1, 'Hyundi':2, 'Mercedes':3, 'Toyota':4}\n",
    "marcasI = { value:key for key, value in marcas.items()}\n",
    "\n",
    "dataframe['Brand'] = dataframe['Brand'].map(marcas).astype(int)"
   ]
  },
  {
   "cell_type": "code",
   "execution_count": 22,
   "id": "4ec2a172",
   "metadata": {},
   "outputs": [
    {
     "name": "stdout",
     "output_type": "stream",
     "text": [
      "(5,)\n"
     ]
    },
    {
     "data": {
      "text/plain": [
       "array([0, 1, 2, 3, 4])"
      ]
     },
     "execution_count": 22,
     "metadata": {},
     "output_type": "execute_result"
    }
   ],
   "source": [
    "# comprobamos\n",
    "modelunique = pd.unique(dataframe['Brand'])\n",
    "print(modelunique.shape)\n",
    "modelunique"
   ]
  },
  {
   "cell_type": "markdown",
   "id": "e88f5fb1",
   "metadata": {},
   "source": [
    "Ahora, vamos a transformar la variable `transmission` a numéro."
   ]
  },
  {
   "cell_type": "code",
   "execution_count": 23,
   "id": "949d937f",
   "metadata": {},
   "outputs": [],
   "source": [
    "transmission = {'Manual':0, 'Automatic':1, 'Semi-Auto':2, 'Other':3}\n",
    "transmissionI = { value:key for key, value in transmission.items()}\n",
    "\n",
    "dataframe['transmission'] = dataframe['transmission'].map(transmission).astype(int) "
   ]
  },
  {
   "cell_type": "code",
   "execution_count": 24,
   "id": "cab8948f",
   "metadata": {},
   "outputs": [
    {
     "name": "stdout",
     "output_type": "stream",
     "text": [
      "(4,)\n"
     ]
    },
    {
     "data": {
      "text/plain": [
       "array([0, 1, 2, 3])"
      ]
     },
     "execution_count": 24,
     "metadata": {},
     "output_type": "execute_result"
    }
   ],
   "source": [
    "# comprobamos\n",
    "modelunique = pd.unique(dataframe['transmission'])\n",
    "print(modelunique.shape)\n",
    "modelunique"
   ]
  },
  {
   "cell_type": "markdown",
   "id": "2fe336e9",
   "metadata": {},
   "source": [
    "Hacemos lo mismo para la variable `fuelType`."
   ]
  },
  {
   "cell_type": "code",
   "execution_count": 25,
   "id": "a470665f",
   "metadata": {},
   "outputs": [],
   "source": [
    "fuelType = {'Petrol':0, 'Diesel':1, 'Hybrid':2, 'Other':3}\n",
    "\n",
    "dataframe['fuelType'] = dataframe['fuelType'].map(fuelType).astype(int) "
   ]
  },
  {
   "cell_type": "code",
   "execution_count": 26,
   "id": "cd768edc",
   "metadata": {},
   "outputs": [
    {
     "name": "stdout",
     "output_type": "stream",
     "text": [
      "(4,)\n"
     ]
    },
    {
     "data": {
      "text/plain": [
       "array([0, 1, 2, 3])"
      ]
     },
     "execution_count": 26,
     "metadata": {},
     "output_type": "execute_result"
    }
   ],
   "source": [
    "# comprobamos\n",
    "modelunique = pd.unique(dataframe['fuelType'])\n",
    "print(modelunique.shape)\n",
    "modelunique"
   ]
  },
  {
   "cell_type": "markdown",
   "id": "b79f47d9",
   "metadata": {},
   "source": [
    "también vamos a transformar la variable `model` a numérico, esto se realizará con las 25 marcas disponibles. \n",
    "* marca Audi: 'A1', 'A6', 'A4', 'A3' y 'Q3'.\n",
    "* marca Bmw: '5 Series', '6 Series', '1 Series', '7 Series' y '2 Series'.\n",
    "* marca Toyota: 'GT86', 'Corolla', 'RAV4', 'Yaris' y 'Auris'.\n",
    "* marca Hyundi: 'I20', 'Tucson', 'I10', 'IX35' y 'I30'.\n",
    "* marca Mercedes: 'SLK', 'S Class', 'SL CLASS', 'G Class' y 'GLE Class'."
   ]
  },
  {
   "cell_type": "code",
   "execution_count": 27,
   "id": "04cc5a95",
   "metadata": {},
   "outputs": [],
   "source": [
    "model = {'A1':0, 'A6':1, 'A4':2, 'A3':3, 'Q3':4,\\\n",
    "         '5 Series':5, '6 Series':6, '1 Series':7, '7 Series':8, '2 Series':9, \\\n",
    "         'GT86':10, 'Corolla':11, 'RAV4':12, 'Yaris':13, 'Auris':14, \\\n",
    "         'I20':15, 'Tucson':16, 'I10':17, 'IX35':18, 'I30':19, \\\n",
    "         'SLK':20, 'S Class':21, 'SL CLASS':22, 'G Class':23, 'GLE Class':24}    \n",
    "\n",
    "dataframe['model'] = dataframe['model'].map(model).astype(int)"
   ]
  },
  {
   "cell_type": "code",
   "execution_count": 28,
   "id": "eaf88d59",
   "metadata": {},
   "outputs": [
    {
     "name": "stdout",
     "output_type": "stream",
     "text": [
      "(25,)\n"
     ]
    },
    {
     "data": {
      "text/plain": [
       "array([ 0,  1,  2,  3,  4,  5,  6,  7,  8,  9, 15, 16, 17, 18, 19, 20, 21,\n",
       "       22, 23, 24, 10, 11, 12, 13, 14])"
      ]
     },
     "execution_count": 28,
     "metadata": {},
     "output_type": "execute_result"
    }
   ],
   "source": [
    "# comprobamos\n",
    "modelunique = pd.unique(dataframe['model'])\n",
    "print(modelunique.shape)\n",
    "modelunique"
   ]
  },
  {
   "cell_type": "markdown",
   "id": "811329f3",
   "metadata": {},
   "source": [
    "#### Variables enteras con rango"
   ]
  },
  {
   "cell_type": "markdown",
   "id": "e2a86114",
   "metadata": {},
   "source": [
    "Ahora, vamos a crear rangos para las variables numéricas como por ejemplo `mileage`, ya que creemos que pude influir en el modelo, además posee 13963 valores únicos."
   ]
  },
  {
   "cell_type": "code",
   "execution_count": 29,
   "id": "c089d060",
   "metadata": {},
   "outputs": [
    {
     "name": "stdout",
     "output_type": "stream",
     "text": [
      "(13963,)\n"
     ]
    }
   ],
   "source": [
    "#verificar los valores únicos\n",
    "modelunique = pd.unique(dataframe['mileage'])\n",
    "print(modelunique.shape)"
   ]
  },
  {
   "cell_type": "code",
   "execution_count": 30,
   "id": "6eabc454",
   "metadata": {},
   "outputs": [],
   "source": [
    "#dividir en 10 grupos \n",
    "dataframe['mileageRango'] = pd.qcut(dataframe['mileage'], 10)\n",
    "\n",
    "#mostrar los grupos\n",
    "#pd.DataFrame(dataframe[['mileageRango']].value_counts()).sort_values(by='mileageRango', ascending=True)"
   ]
  },
  {
   "cell_type": "code",
   "execution_count": 31,
   "id": "b1f9caab",
   "metadata": {},
   "outputs": [],
   "source": [
    "#setear los valores según el rango\n",
    "dataframe.loc[ dataframe['mileage'] <= 2928.0, 'mileage'] = 0\n",
    "dataframe.loc[ (dataframe['mileage'] > 2928.0) & (dataframe['mileage'] <= 6000.0), 'mileage'] = 1\n",
    "dataframe.loc[ (dataframe['mileage'] > 6000.0) & (dataframe['mileage'] <= 9857.0), 'mileage'] = 2\n",
    "dataframe.loc[ (dataframe['mileage'] > 9857.0) & (dataframe['mileage'] <= 14772.0), 'mileage'] = 3\n",
    "dataframe.loc[ (dataframe['mileage'] > 14772.0) & (dataframe['mileage'] <= 20022.0), 'mileage'] = 4\n",
    "dataframe.loc[ (dataframe['mileage'] > 20022.0) & (dataframe['mileage'] <= 25635.8), 'mileage'] = 5\n",
    "dataframe.loc[ (dataframe['mileage'] > 25635.8) & (dataframe['mileage'] <= 31544.4), 'mileage'] = 6\n",
    "dataframe.loc[ (dataframe['mileage'] > 31544.4) & (dataframe['mileage'] <= 40000.0), 'mileage'] = 7\n",
    "dataframe.loc[ (dataframe['mileage'] > 40000.0) & (dataframe['mileage'] <= 54591.8), 'mileage'] = 8\n",
    "dataframe.loc[ dataframe['mileage'] > 54591.8, 'mileage'] = 9\n",
    "\n",
    "#Eliminamos la variable de 'mileageRango' del dataframe\n",
    "dataframe = dataframe.drop(['mileageRango'], axis=1)"
   ]
  },
  {
   "cell_type": "markdown",
   "id": "fcd2a39a",
   "metadata": {},
   "source": [
    "Realizamos el mismo procedimiento para la variable `tax`."
   ]
  },
  {
   "cell_type": "code",
   "execution_count": 32,
   "id": "472ee37f",
   "metadata": {},
   "outputs": [
    {
     "name": "stdout",
     "output_type": "stream",
     "text": [
      "(38,)\n"
     ]
    }
   ],
   "source": [
    "#verificar los valores únicos\n",
    "modelunique = pd.unique(dataframe['tax'])\n",
    "print(modelunique.shape)"
   ]
  },
  {
   "cell_type": "code",
   "execution_count": 33,
   "id": "57b34d66",
   "metadata": {},
   "outputs": [
    {
     "data": {
      "text/html": [
       "<div>\n",
       "<style scoped>\n",
       "    .dataframe tbody tr th:only-of-type {\n",
       "        vertical-align: middle;\n",
       "    }\n",
       "\n",
       "    .dataframe tbody tr th {\n",
       "        vertical-align: top;\n",
       "    }\n",
       "\n",
       "    .dataframe thead th {\n",
       "        text-align: right;\n",
       "    }\n",
       "</style>\n",
       "<table border=\"1\" class=\"dataframe\">\n",
       "  <thead>\n",
       "    <tr style=\"text-align: right;\">\n",
       "      <th></th>\n",
       "      <th>0</th>\n",
       "    </tr>\n",
       "    <tr>\n",
       "      <th>taxRange</th>\n",
       "      <th></th>\n",
       "    </tr>\n",
       "  </thead>\n",
       "  <tbody>\n",
       "    <tr>\n",
       "      <th>(-0.001, 125.0]</th>\n",
       "      <td>7081</td>\n",
       "    </tr>\n",
       "    <tr>\n",
       "      <th>(125.0, 145.0]</th>\n",
       "      <td>8907</td>\n",
       "    </tr>\n",
       "    <tr>\n",
       "      <th>(145.0, 580.0]</th>\n",
       "      <td>3519</td>\n",
       "    </tr>\n",
       "  </tbody>\n",
       "</table>\n",
       "</div>"
      ],
      "text/plain": [
       "                    0\n",
       "taxRange             \n",
       "(-0.001, 125.0]  7081\n",
       "(125.0, 145.0]   8907\n",
       "(145.0, 580.0]   3519"
      ]
     },
     "execution_count": 33,
     "metadata": {},
     "output_type": "execute_result"
    }
   ],
   "source": [
    "#dividir en 3 grupos \n",
    "dataframe['taxRange'] = pd.qcut(dataframe['tax'], 3)\n",
    "\n",
    "#mostrar los grupos\n",
    "pd.DataFrame(dataframe[['taxRange']].value_counts()).sort_values(by='taxRange', ascending=True)"
   ]
  },
  {
   "cell_type": "code",
   "execution_count": 34,
   "id": "b6cdfb09",
   "metadata": {},
   "outputs": [],
   "source": [
    "#setear los valores según el rango\n",
    "dataframe.loc[ dataframe['tax'] <= 30.0, 'tax'] = 0\n",
    "dataframe.loc[ (dataframe['tax'] > 30.0) & (dataframe['tax'] <= 145.0), 'tax'] = 1\n",
    "dataframe.loc[ dataframe['tax'] > 145.0, 'tax'] = 2\n",
    "\n",
    "#Eliminamos la variable de 'mileageRango' del dataframe\n",
    "dataframe = dataframe.drop(['taxRange'], axis=1)"
   ]
  },
  {
   "cell_type": "markdown",
   "id": "4c28cee6",
   "metadata": {},
   "source": [
    "Realizamos lo mismo para la variable `mpg`, el cuál posee 125 valores únicos."
   ]
  },
  {
   "cell_type": "code",
   "execution_count": 35,
   "id": "f7d1966b",
   "metadata": {},
   "outputs": [
    {
     "name": "stdout",
     "output_type": "stream",
     "text": [
      "(125,)\n"
     ]
    }
   ],
   "source": [
    "#verificar los valores únicos\n",
    "modelunique = pd.unique(dataframe['mpg'])\n",
    "print(modelunique.shape)"
   ]
  },
  {
   "cell_type": "code",
   "execution_count": 36,
   "id": "f8e70200",
   "metadata": {},
   "outputs": [
    {
     "data": {
      "text/html": [
       "<div>\n",
       "<style scoped>\n",
       "    .dataframe tbody tr th:only-of-type {\n",
       "        vertical-align: middle;\n",
       "    }\n",
       "\n",
       "    .dataframe tbody tr th {\n",
       "        vertical-align: top;\n",
       "    }\n",
       "\n",
       "    .dataframe thead th {\n",
       "        text-align: right;\n",
       "    }\n",
       "</style>\n",
       "<table border=\"1\" class=\"dataframe\">\n",
       "  <thead>\n",
       "    <tr style=\"text-align: right;\">\n",
       "      <th></th>\n",
       "      <th>0</th>\n",
       "    </tr>\n",
       "    <tr>\n",
       "      <th>mpgRange</th>\n",
       "      <th></th>\n",
       "    </tr>\n",
       "  </thead>\n",
       "  <tbody>\n",
       "    <tr>\n",
       "      <th>(10.999, 39.2]</th>\n",
       "      <td>2000</td>\n",
       "    </tr>\n",
       "    <tr>\n",
       "      <th>(39.2, 44.8]</th>\n",
       "      <td>2060</td>\n",
       "    </tr>\n",
       "    <tr>\n",
       "      <th>(44.8, 47.9]</th>\n",
       "      <td>1804</td>\n",
       "    </tr>\n",
       "    <tr>\n",
       "      <th>(47.9, 51.4]</th>\n",
       "      <td>2054</td>\n",
       "    </tr>\n",
       "    <tr>\n",
       "      <th>(51.4, 55.4]</th>\n",
       "      <td>2081</td>\n",
       "    </tr>\n",
       "    <tr>\n",
       "      <th>(55.4, 58.0]</th>\n",
       "      <td>1870</td>\n",
       "    </tr>\n",
       "    <tr>\n",
       "      <th>(58.0, 60.1]</th>\n",
       "      <td>1848</td>\n",
       "    </tr>\n",
       "    <tr>\n",
       "      <th>(60.1, 65.7]</th>\n",
       "      <td>2088</td>\n",
       "    </tr>\n",
       "    <tr>\n",
       "      <th>(65.7, 72.4]</th>\n",
       "      <td>1946</td>\n",
       "    </tr>\n",
       "    <tr>\n",
       "      <th>(72.4, 188.3]</th>\n",
       "      <td>1756</td>\n",
       "    </tr>\n",
       "  </tbody>\n",
       "</table>\n",
       "</div>"
      ],
      "text/plain": [
       "                   0\n",
       "mpgRange            \n",
       "(10.999, 39.2]  2000\n",
       "(39.2, 44.8]    2060\n",
       "(44.8, 47.9]    1804\n",
       "(47.9, 51.4]    2054\n",
       "(51.4, 55.4]    2081\n",
       "(55.4, 58.0]    1870\n",
       "(58.0, 60.1]    1848\n",
       "(60.1, 65.7]    2088\n",
       "(65.7, 72.4]    1946\n",
       "(72.4, 188.3]   1756"
      ]
     },
     "execution_count": 36,
     "metadata": {},
     "output_type": "execute_result"
    }
   ],
   "source": [
    "#dividir en 3 grupos \n",
    "dataframe['mpgRange'] = pd.qcut(dataframe['mpg'], 10)\n",
    "\n",
    "#mostrar los grupos\n",
    "pd.DataFrame(dataframe[['mpgRange']].value_counts()).sort_values(by='mpgRange', ascending=True)"
   ]
  },
  {
   "cell_type": "code",
   "execution_count": 37,
   "id": "030a3aff",
   "metadata": {},
   "outputs": [],
   "source": [
    "#setear los valores según el rango\n",
    "dataframe.loc[ dataframe['mpg'] <= 39.2, 'mpg'] = 0\n",
    "dataframe.loc[ (dataframe['mpg'] > 39.2) & (dataframe['mpg'] <= 44.8), 'mpg'] = 1\n",
    "dataframe.loc[ (dataframe['mpg'] > 44.8) & (dataframe['mpg'] <= 47.9), 'mpg'] = 2\n",
    "dataframe.loc[ (dataframe['mpg'] > 47.9) & (dataframe['mpg'] <= 51.4), 'mpg'] = 3\n",
    "dataframe.loc[ (dataframe['mpg'] > 51.4) & (dataframe['mpg'] <= 55.4), 'mpg'] = 4\n",
    "dataframe.loc[ (dataframe['mpg'] > 55.4) & (dataframe['mpg'] <= 58.0), 'mpg'] = 5\n",
    "dataframe.loc[ (dataframe['mpg'] > 58.0) & (dataframe['mpg'] <= 60.1), 'mpg'] = 6\n",
    "dataframe.loc[ (dataframe['mpg'] > 60.1) & (dataframe['mpg'] <= 65.7), 'mpg'] = 7\n",
    "dataframe.loc[ (dataframe['mpg'] > 65.7) & (dataframe['mpg'] <= 72.4), 'mpg'] = 8\n",
    "dataframe.loc[ dataframe['mpg'] > 72.4, 'mpg'] = 9\n",
    "\n",
    "#Eliminamos la variable de 'mileageRango' del dataframe\n",
    "dataframe = dataframe.drop(['mpgRange'], axis=1)"
   ]
  },
  {
   "cell_type": "markdown",
   "id": "ff7478ba",
   "metadata": {},
   "source": [
    "Realizamos lo mismo para la variable `engineSize`, el cuál posee 33 valores únicos."
   ]
  },
  {
   "cell_type": "code",
   "execution_count": 38,
   "id": "b5525f9f",
   "metadata": {},
   "outputs": [
    {
     "name": "stdout",
     "output_type": "stream",
     "text": [
      "(33,)\n"
     ]
    }
   ],
   "source": [
    "#verificar los valores únicos\n",
    "modelunique = pd.unique(dataframe['engineSize'])\n",
    "print(modelunique.shape)"
   ]
  },
  {
   "cell_type": "code",
   "execution_count": 39,
   "id": "dfab0e0e",
   "metadata": {},
   "outputs": [
    {
     "data": {
      "text/html": [
       "<div>\n",
       "<style scoped>\n",
       "    .dataframe tbody tr th:only-of-type {\n",
       "        vertical-align: middle;\n",
       "    }\n",
       "\n",
       "    .dataframe tbody tr th {\n",
       "        vertical-align: top;\n",
       "    }\n",
       "\n",
       "    .dataframe thead th {\n",
       "        text-align: right;\n",
       "    }\n",
       "</style>\n",
       "<table border=\"1\" class=\"dataframe\">\n",
       "  <thead>\n",
       "    <tr style=\"text-align: right;\">\n",
       "      <th></th>\n",
       "      <th>0</th>\n",
       "    </tr>\n",
       "    <tr>\n",
       "      <th>engineSizeRange</th>\n",
       "      <th></th>\n",
       "    </tr>\n",
       "  </thead>\n",
       "  <tbody>\n",
       "    <tr>\n",
       "      <th>(-0.001, 1.5]</th>\n",
       "      <td>7995</td>\n",
       "    </tr>\n",
       "    <tr>\n",
       "      <th>(1.5, 1.7]</th>\n",
       "      <td>2341</td>\n",
       "    </tr>\n",
       "    <tr>\n",
       "      <th>(1.7, 2.0]</th>\n",
       "      <td>7007</td>\n",
       "    </tr>\n",
       "    <tr>\n",
       "      <th>(2.0, 6.6]</th>\n",
       "      <td>2164</td>\n",
       "    </tr>\n",
       "  </tbody>\n",
       "</table>\n",
       "</div>"
      ],
      "text/plain": [
       "                    0\n",
       "engineSizeRange      \n",
       "(-0.001, 1.5]    7995\n",
       "(1.5, 1.7]       2341\n",
       "(1.7, 2.0]       7007\n",
       "(2.0, 6.6]       2164"
      ]
     },
     "execution_count": 39,
     "metadata": {},
     "output_type": "execute_result"
    }
   ],
   "source": [
    "#dividir en 3 grupos \n",
    "dataframe['engineSizeRange'] = pd.qcut(dataframe['engineSize'], 4)\n",
    "\n",
    "#mostrar los grupos\n",
    "pd.DataFrame(dataframe[['engineSizeRange']].value_counts()).sort_values(by='engineSizeRange', ascending=True)"
   ]
  },
  {
   "cell_type": "code",
   "execution_count": 40,
   "id": "f3d518f0",
   "metadata": {},
   "outputs": [],
   "source": [
    "#setear los valores según el rango\n",
    "dataframe.loc[ dataframe['engineSize'] <= 1.5, 'engineSize'] = 0\n",
    "dataframe.loc[ (dataframe['engineSize'] > 1.5) & (dataframe['engineSize'] <= 1.7), 'engineSize'] = 1\n",
    "dataframe.loc[ (dataframe['engineSize'] > 1.7) & (dataframe['engineSize'] <= 2.0), 'engineSize'] = 2\n",
    "dataframe.loc[ dataframe['engineSize'] > 2.0, 'engineSize'] = 3\n",
    "\n",
    "#Eliminamos la variable de 'mileageRango' del dataframe\n",
    "dataframe = dataframe.drop(['engineSizeRange'], axis=1)"
   ]
  },
  {
   "cell_type": "code",
   "execution_count": 41,
   "id": "7c42f280",
   "metadata": {},
   "outputs": [
    {
     "data": {
      "text/html": [
       "<div>\n",
       "<style scoped>\n",
       "    .dataframe tbody tr th:only-of-type {\n",
       "        vertical-align: middle;\n",
       "    }\n",
       "\n",
       "    .dataframe tbody tr th {\n",
       "        vertical-align: top;\n",
       "    }\n",
       "\n",
       "    .dataframe thead th {\n",
       "        text-align: right;\n",
       "    }\n",
       "</style>\n",
       "<table border=\"1\" class=\"dataframe\">\n",
       "  <thead>\n",
       "    <tr style=\"text-align: right;\">\n",
       "      <th></th>\n",
       "      <th>model</th>\n",
       "      <th>year</th>\n",
       "      <th>price</th>\n",
       "      <th>transmission</th>\n",
       "      <th>mileage</th>\n",
       "      <th>fuelType</th>\n",
       "      <th>tax</th>\n",
       "      <th>mpg</th>\n",
       "      <th>engineSize</th>\n",
       "      <th>Brand</th>\n",
       "    </tr>\n",
       "  </thead>\n",
       "  <tbody>\n",
       "    <tr>\n",
       "      <th>0</th>\n",
       "      <td>0</td>\n",
       "      <td>2017</td>\n",
       "      <td>12500</td>\n",
       "      <td>0</td>\n",
       "      <td>4</td>\n",
       "      <td>0</td>\n",
       "      <td>2</td>\n",
       "      <td>4.0</td>\n",
       "      <td>0.0</td>\n",
       "      <td>0</td>\n",
       "    </tr>\n",
       "    <tr>\n",
       "      <th>1</th>\n",
       "      <td>1</td>\n",
       "      <td>2016</td>\n",
       "      <td>16500</td>\n",
       "      <td>1</td>\n",
       "      <td>7</td>\n",
       "      <td>1</td>\n",
       "      <td>0</td>\n",
       "      <td>7.0</td>\n",
       "      <td>2.0</td>\n",
       "      <td>0</td>\n",
       "    </tr>\n",
       "    <tr>\n",
       "      <th>2</th>\n",
       "      <td>0</td>\n",
       "      <td>2016</td>\n",
       "      <td>11000</td>\n",
       "      <td>0</td>\n",
       "      <td>6</td>\n",
       "      <td>0</td>\n",
       "      <td>0</td>\n",
       "      <td>4.0</td>\n",
       "      <td>0.0</td>\n",
       "      <td>0</td>\n",
       "    </tr>\n",
       "    <tr>\n",
       "      <th>3</th>\n",
       "      <td>2</td>\n",
       "      <td>2017</td>\n",
       "      <td>16800</td>\n",
       "      <td>1</td>\n",
       "      <td>6</td>\n",
       "      <td>1</td>\n",
       "      <td>1</td>\n",
       "      <td>8.0</td>\n",
       "      <td>2.0</td>\n",
       "      <td>0</td>\n",
       "    </tr>\n",
       "    <tr>\n",
       "      <th>4</th>\n",
       "      <td>3</td>\n",
       "      <td>2019</td>\n",
       "      <td>17300</td>\n",
       "      <td>0</td>\n",
       "      <td>0</td>\n",
       "      <td>0</td>\n",
       "      <td>1</td>\n",
       "      <td>3.0</td>\n",
       "      <td>0.0</td>\n",
       "      <td>0</td>\n",
       "    </tr>\n",
       "  </tbody>\n",
       "</table>\n",
       "</div>"
      ],
      "text/plain": [
       "   model  year  price  transmission  mileage  fuelType  tax  mpg  engineSize  \\\n",
       "0      0  2017  12500             0        4         0    2  4.0         0.0   \n",
       "1      1  2016  16500             1        7         1    0  7.0         2.0   \n",
       "2      0  2016  11000             0        6         0    0  4.0         0.0   \n",
       "3      2  2017  16800             1        6         1    1  8.0         2.0   \n",
       "4      3  2019  17300             0        0         0    1  3.0         0.0   \n",
       "\n",
       "   Brand  \n",
       "0      0  \n",
       "1      0  \n",
       "2      0  \n",
       "3      0  \n",
       "4      0  "
      ]
     },
     "execution_count": 41,
     "metadata": {},
     "output_type": "execute_result"
    }
   ],
   "source": [
    "dataframe.head()"
   ]
  },
  {
   "cell_type": "code",
   "execution_count": 42,
   "id": "bf07c9d3",
   "metadata": {},
   "outputs": [
    {
     "name": "stdout",
     "output_type": "stream",
     "text": [
      "(4916,)\n"
     ]
    }
   ],
   "source": [
    "#verificar los valores únicos\n",
    "modelunique = pd.unique(dataframe['price'])\n",
    "print(modelunique.shape)"
   ]
  },
  {
   "cell_type": "markdown",
   "id": "7bfd26ab",
   "metadata": {},
   "source": [
    "## 4. Analizar, identificar patrones y explorar los datos"
   ]
  },
  {
   "cell_type": "markdown",
   "id": "6ace77b6",
   "metadata": {},
   "source": [
    "A continuación vamos a realizar unos cuadros comparativos y unas visualizaciones para identificar patrones. En la tabla sobre el `price` y `Brand` podemos observar que la marca influye en el precio, 'Mercedes', 'Bmw', 'Audi', 'Toyota' y 'Hyundi' se encuentran en orden descendiente."
   ]
  },
  {
   "cell_type": "code",
   "execution_count": 43,
   "id": "7db6627a",
   "metadata": {},
   "outputs": [
    {
     "data": {
      "text/html": [
       "<div>\n",
       "<style scoped>\n",
       "    .dataframe tbody tr th:only-of-type {\n",
       "        vertical-align: middle;\n",
       "    }\n",
       "\n",
       "    .dataframe tbody tr th {\n",
       "        vertical-align: top;\n",
       "    }\n",
       "\n",
       "    .dataframe thead th {\n",
       "        text-align: right;\n",
       "    }\n",
       "</style>\n",
       "<table border=\"1\" class=\"dataframe\">\n",
       "  <thead>\n",
       "    <tr style=\"text-align: right;\">\n",
       "      <th></th>\n",
       "      <th>Brand</th>\n",
       "      <th>price</th>\n",
       "    </tr>\n",
       "  </thead>\n",
       "  <tbody>\n",
       "    <tr>\n",
       "      <th>3</th>\n",
       "      <td>Mercedes</td>\n",
       "      <td>36994.132296</td>\n",
       "    </tr>\n",
       "    <tr>\n",
       "      <th>1</th>\n",
       "      <td>Bmw</td>\n",
       "      <td>19138.673008</td>\n",
       "    </tr>\n",
       "    <tr>\n",
       "      <th>0</th>\n",
       "      <td>Audi</td>\n",
       "      <td>19117.472589</td>\n",
       "    </tr>\n",
       "    <tr>\n",
       "      <th>4</th>\n",
       "      <td>Toyota</td>\n",
       "      <td>12869.348506</td>\n",
       "    </tr>\n",
       "    <tr>\n",
       "      <th>2</th>\n",
       "      <td>Hyundi</td>\n",
       "      <td>11460.088368</td>\n",
       "    </tr>\n",
       "  </tbody>\n",
       "</table>\n",
       "</div>"
      ],
      "text/plain": [
       "      Brand         price\n",
       "3  Mercedes  36994.132296\n",
       "1       Bmw  19138.673008\n",
       "0      Audi  19117.472589\n",
       "4    Toyota  12869.348506\n",
       "2    Hyundi  11460.088368"
      ]
     },
     "execution_count": 43,
     "metadata": {},
     "output_type": "execute_result"
    }
   ],
   "source": [
    "aux = dataframe[['Brand', 'price']].groupby('Brand', as_index=False).mean().sort_values(by='price', ascending=False)\n",
    "aux['Brand'] = aux['Brand'].map(marcasI)\n",
    "aux"
   ]
  },
  {
   "cell_type": "markdown",
   "id": "e1c9e14e",
   "metadata": {},
   "source": [
    "En la variable `year` notamos que antes del año 2014 no guarda una relación de más actual, más precio, sino que varía, suponemos que esto se debe a las características del vehículo."
   ]
  },
  {
   "cell_type": "code",
   "execution_count": 44,
   "id": "e027b5ae",
   "metadata": {},
   "outputs": [
    {
     "data": {
      "text/html": [
       "<div>\n",
       "<style scoped>\n",
       "    .dataframe tbody tr th:only-of-type {\n",
       "        vertical-align: middle;\n",
       "    }\n",
       "\n",
       "    .dataframe tbody tr th {\n",
       "        vertical-align: top;\n",
       "    }\n",
       "\n",
       "    .dataframe thead th {\n",
       "        text-align: right;\n",
       "    }\n",
       "</style>\n",
       "<table border=\"1\" class=\"dataframe\">\n",
       "  <thead>\n",
       "    <tr style=\"text-align: right;\">\n",
       "      <th></th>\n",
       "      <th>year</th>\n",
       "      <th>price</th>\n",
       "    </tr>\n",
       "  </thead>\n",
       "  <tbody>\n",
       "    <tr>\n",
       "      <th>24</th>\n",
       "      <td>2020</td>\n",
       "      <td>29540.166474</td>\n",
       "    </tr>\n",
       "    <tr>\n",
       "      <th>23</th>\n",
       "      <td>2019</td>\n",
       "      <td>25184.299873</td>\n",
       "    </tr>\n",
       "    <tr>\n",
       "      <th>22</th>\n",
       "      <td>2018</td>\n",
       "      <td>17131.820821</td>\n",
       "    </tr>\n",
       "    <tr>\n",
       "      <th>21</th>\n",
       "      <td>2017</td>\n",
       "      <td>15642.521294</td>\n",
       "    </tr>\n",
       "    <tr>\n",
       "      <th>20</th>\n",
       "      <td>2016</td>\n",
       "      <td>14422.670680</td>\n",
       "    </tr>\n",
       "    <tr>\n",
       "      <th>19</th>\n",
       "      <td>2015</td>\n",
       "      <td>12555.978723</td>\n",
       "    </tr>\n",
       "    <tr>\n",
       "      <th>18</th>\n",
       "      <td>2014</td>\n",
       "      <td>10652.368870</td>\n",
       "    </tr>\n",
       "    <tr>\n",
       "      <th>1</th>\n",
       "      <td>1997</td>\n",
       "      <td>9995.000000</td>\n",
       "    </tr>\n",
       "    <tr>\n",
       "      <th>15</th>\n",
       "      <td>2011</td>\n",
       "      <td>9258.223881</td>\n",
       "    </tr>\n",
       "    <tr>\n",
       "      <th>17</th>\n",
       "      <td>2013</td>\n",
       "      <td>9153.621795</td>\n",
       "    </tr>\n",
       "    <tr>\n",
       "      <th>16</th>\n",
       "      <td>2012</td>\n",
       "      <td>8579.187879</td>\n",
       "    </tr>\n",
       "    <tr>\n",
       "      <th>2</th>\n",
       "      <td>1998</td>\n",
       "      <td>7883.800000</td>\n",
       "    </tr>\n",
       "    <tr>\n",
       "      <th>14</th>\n",
       "      <td>2010</td>\n",
       "      <td>6440.162162</td>\n",
       "    </tr>\n",
       "    <tr>\n",
       "      <th>0</th>\n",
       "      <td>1996</td>\n",
       "      <td>5995.000000</td>\n",
       "    </tr>\n",
       "    <tr>\n",
       "      <th>5</th>\n",
       "      <td>2001</td>\n",
       "      <td>5408.000000</td>\n",
       "    </tr>\n",
       "    <tr>\n",
       "      <th>7</th>\n",
       "      <td>2003</td>\n",
       "      <td>4726.250000</td>\n",
       "    </tr>\n",
       "    <tr>\n",
       "      <th>6</th>\n",
       "      <td>2002</td>\n",
       "      <td>4708.454545</td>\n",
       "    </tr>\n",
       "    <tr>\n",
       "      <th>12</th>\n",
       "      <td>2008</td>\n",
       "      <td>4584.531915</td>\n",
       "    </tr>\n",
       "    <tr>\n",
       "      <th>4</th>\n",
       "      <td>2000</td>\n",
       "      <td>4324.800000</td>\n",
       "    </tr>\n",
       "    <tr>\n",
       "      <th>10</th>\n",
       "      <td>2006</td>\n",
       "      <td>4162.000000</td>\n",
       "    </tr>\n",
       "    <tr>\n",
       "      <th>13</th>\n",
       "      <td>2009</td>\n",
       "      <td>4057.340909</td>\n",
       "    </tr>\n",
       "    <tr>\n",
       "      <th>8</th>\n",
       "      <td>2004</td>\n",
       "      <td>4054.200000</td>\n",
       "    </tr>\n",
       "    <tr>\n",
       "      <th>3</th>\n",
       "      <td>1999</td>\n",
       "      <td>3995.000000</td>\n",
       "    </tr>\n",
       "    <tr>\n",
       "      <th>11</th>\n",
       "      <td>2007</td>\n",
       "      <td>3863.857143</td>\n",
       "    </tr>\n",
       "    <tr>\n",
       "      <th>9</th>\n",
       "      <td>2005</td>\n",
       "      <td>3684.428571</td>\n",
       "    </tr>\n",
       "  </tbody>\n",
       "</table>\n",
       "</div>"
      ],
      "text/plain": [
       "    year         price\n",
       "24  2020  29540.166474\n",
       "23  2019  25184.299873\n",
       "22  2018  17131.820821\n",
       "21  2017  15642.521294\n",
       "20  2016  14422.670680\n",
       "19  2015  12555.978723\n",
       "18  2014  10652.368870\n",
       "1   1997   9995.000000\n",
       "15  2011   9258.223881\n",
       "17  2013   9153.621795\n",
       "16  2012   8579.187879\n",
       "2   1998   7883.800000\n",
       "14  2010   6440.162162\n",
       "0   1996   5995.000000\n",
       "5   2001   5408.000000\n",
       "7   2003   4726.250000\n",
       "6   2002   4708.454545\n",
       "12  2008   4584.531915\n",
       "4   2000   4324.800000\n",
       "10  2006   4162.000000\n",
       "13  2009   4057.340909\n",
       "8   2004   4054.200000\n",
       "3   1999   3995.000000\n",
       "11  2007   3863.857143\n",
       "9   2005   3684.428571"
      ]
     },
     "execution_count": 44,
     "metadata": {},
     "output_type": "execute_result"
    }
   ],
   "source": [
    "aux = dataframe[['year', 'price']].groupby('year', as_index=False).mean().sort_values(by='price', ascending=False)\n",
    "aux"
   ]
  },
  {
   "cell_type": "markdown",
   "id": "f6694e0e",
   "metadata": {},
   "source": [
    "Luego, en el tipo de transmissión, 'Semi-Auto' es el de mayor precio, luego sigue el 'Automatic', 'Other' y por último 'Manual'."
   ]
  },
  {
   "cell_type": "code",
   "execution_count": 45,
   "id": "f525f3b9",
   "metadata": {},
   "outputs": [
    {
     "data": {
      "text/html": [
       "<div>\n",
       "<style scoped>\n",
       "    .dataframe tbody tr th:only-of-type {\n",
       "        vertical-align: middle;\n",
       "    }\n",
       "\n",
       "    .dataframe tbody tr th {\n",
       "        vertical-align: top;\n",
       "    }\n",
       "\n",
       "    .dataframe thead th {\n",
       "        text-align: right;\n",
       "    }\n",
       "</style>\n",
       "<table border=\"1\" class=\"dataframe\">\n",
       "  <thead>\n",
       "    <tr style=\"text-align: right;\">\n",
       "      <th></th>\n",
       "      <th>transmission</th>\n",
       "      <th>price</th>\n",
       "    </tr>\n",
       "  </thead>\n",
       "  <tbody>\n",
       "    <tr>\n",
       "      <th>2</th>\n",
       "      <td>Semi-Auto</td>\n",
       "      <td>24602.883485</td>\n",
       "    </tr>\n",
       "    <tr>\n",
       "      <th>1</th>\n",
       "      <td>Automatic</td>\n",
       "      <td>19948.744420</td>\n",
       "    </tr>\n",
       "    <tr>\n",
       "      <th>3</th>\n",
       "      <td>Other</td>\n",
       "      <td>14261.666667</td>\n",
       "    </tr>\n",
       "    <tr>\n",
       "      <th>0</th>\n",
       "      <td>Manual</td>\n",
       "      <td>12901.771472</td>\n",
       "    </tr>\n",
       "  </tbody>\n",
       "</table>\n",
       "</div>"
      ],
      "text/plain": [
       "  transmission         price\n",
       "2    Semi-Auto  24602.883485\n",
       "1    Automatic  19948.744420\n",
       "3        Other  14261.666667\n",
       "0       Manual  12901.771472"
      ]
     },
     "execution_count": 45,
     "metadata": {},
     "output_type": "execute_result"
    }
   ],
   "source": [
    "aux = dataframe[['transmission', 'price']].groupby('transmission', as_index=False).mean().sort_values(by='price', ascending=False)\n",
    "aux['transmission'] = aux['transmission'].map(transmissionI)\n",
    "aux"
   ]
  },
  {
   "cell_type": "code",
   "execution_count": 46,
   "id": "7cc0e16b",
   "metadata": {},
   "outputs": [],
   "source": [
    "# aux = dataframe[['mileage', 'price']].groupby('mileage', as_index=False).mean().sort_values(by='price', ascending=False)\n",
    "# aux['mileage'] = aux['mileage'].map(mileageI)\n",
    "# aux"
   ]
  },
  {
   "cell_type": "markdown",
   "id": "d1d9f367",
   "metadata": {},
   "source": [
    "Además, podemos ver la correlación entre las variables, para ello vamor a crear un mapa de correlación."
   ]
  },
  {
   "cell_type": "code",
   "execution_count": 47,
   "id": "5add431d",
   "metadata": {},
   "outputs": [
    {
     "data": {
      "image/png": "[encoded data removed]",
      "text/plain": [
       "<Figure size 864x720 with 2 Axes>"
      ]
     },
     "metadata": {
      "needs_background": "light"
     },
     "output_type": "display_data"
    }
   ],
   "source": [
    "plt.figure(figsize=(12, 10))\n",
    "ax = sns.heatmap(dataframe.corr())"
   ]
  },
  {
   "cell_type": "markdown",
   "id": "2b7ec1b8",
   "metadata": {},
   "source": [
    "## 5. Separar los datos para entrenamiento y prueba"
   ]
  },
  {
   "cell_type": "code",
   "execution_count": 48,
   "id": "fcb02fe6",
   "metadata": {},
   "outputs": [],
   "source": [
    "label = dataframe['price']\n",
    "data = dataframe.drop('price', axis=1)"
   ]
  },
  {
   "cell_type": "code",
   "execution_count": 49,
   "id": "4ce02cf7",
   "metadata": {},
   "outputs": [],
   "source": [
    "from sklearn.model_selection import train_test_split\n",
    "\n",
    "X_train, X_test, Y_train, Y_test = train_test_split(data, label, test_size=0.33)"
   ]
  },
  {
   "cell_type": "markdown",
   "id": "950bf2fc",
   "metadata": {},
   "source": [
    "## 6. Modelizar, predecir y resolver el problema"
   ]
  },
  {
   "cell_type": "code",
   "execution_count": 50,
   "id": "05f207df",
   "metadata": {},
   "outputs": [],
   "source": [
    "# Para machine learning\n",
    "from sklearn.linear_model import LogisticRegression\n",
    "from sklearn.svm import SVC, LinearSVC\n",
    "from sklearn.ensemble import RandomForestClassifier\n",
    "from sklearn.neighbors import KNeighborsClassifier\n",
    "from sklearn.naive_bayes import GaussianNB\n",
    "from sklearn.linear_model import Perceptron\n",
    "from sklearn.linear_model import SGDClassifier\n",
    "from sklearn.tree import DecisionTreeClassifier\n",
    "\n",
    "\n",
    "from tensorflow.keras.models import Sequential\n",
    "from tensorflow.keras.layers import Dense, Dropout\n",
    "from tensorflow.keras.callbacks import EarlyStopping\n",
    "\n",
    "from sklearn.metrics import mean_squared_error as MSE"
   ]
  },
  {
   "cell_type": "markdown",
   "id": "4782adba",
   "metadata": {},
   "source": [
    "#### Algoritmo de Redes Neuronales Artificiales (RNA)"
   ]
  },
  {
   "cell_type": "code",
   "execution_count": 51,
   "id": "9f9832f2",
   "metadata": {},
   "outputs": [],
   "source": [
    "early_stop = EarlyStopping(monitor='val_loss', mode='min', verbose=1, patience=25)"
   ]
  },
  {
   "cell_type": "markdown",
   "id": "0a1aebac",
   "metadata": {},
   "source": [
    "En la primera evaluación, `year`, `model`, `transmission` y `Brand`."
   ]
  },
  {
   "cell_type": "code",
   "execution_count": 63,
   "id": "f5c5d157",
   "metadata": {},
   "outputs": [],
   "source": [
    "data_1 = dataframe[['year', 'model', 'transmission', 'Brand']]\n",
    "\n",
    "X_train, X_test_1, Y_train, Y_test = train_test_split(data_1, label, test_size=0.33)"
   ]
  },
  {
   "cell_type": "code",
   "execution_count": 53,
   "id": "5338a860",
   "metadata": {},
   "outputs": [],
   "source": [
    "model_1 = Sequential()\n",
    "\n",
    "model_1.add(Dense(9, activation='relu'))\n",
    "model_1.add(Dense(255))\n",
    "model_1.add(Dense(255))\n",
    "model_1.add(Dense(1))\n",
    "\n",
    "model_1.compile(optimizer='adam', loss='mse')"
   ]
  },
  {
   "cell_type": "code",
   "execution_count": 54,
   "id": "864ba220",
   "metadata": {},
   "outputs": [
    {
     "name": "stdout",
     "output_type": "stream",
     "text": [
      "Epoch 1/300\n",
      "409/409 [==============================] - 2s 5ms/step - loss: 103974568.0000 - val_loss: 101580424.0000\n",
      "Epoch 2/300\n",
      "409/409 [==============================] - 1s 4ms/step - loss: 98404576.0000 - val_loss: 101002040.0000\n",
      "Epoch 3/300\n",
      "409/409 [==============================] - 1s 4ms/step - loss: 97997184.0000 - val_loss: 102166240.0000\n",
      "Epoch 4/300\n",
      "409/409 [==============================] - 1s 4ms/step - loss: 98314880.0000 - val_loss: 100203416.0000\n",
      "Epoch 5/300\n",
      "409/409 [==============================] - 1s 3ms/step - loss: 97526376.0000 - val_loss: 101193528.0000\n",
      "Epoch 6/300\n",
      "409/409 [==============================] - 2s 4ms/step - loss: 97116296.0000 - val_loss: 99101128.0000\n",
      "Epoch 7/300\n",
      "409/409 [==============================] - 1s 3ms/step - loss: 96215784.0000 - val_loss: 97915904.0000\n",
      "Epoch 8/300\n",
      "409/409 [==============================] - 1s 4ms/step - loss: 94511896.0000 - val_loss: 95218400.0000\n",
      "Epoch 9/300\n",
      "409/409 [==============================] - 1s 3ms/step - loss: 90944752.0000 - val_loss: 89571840.0000\n",
      "Epoch 10/300\n",
      "409/409 [==============================] - 1s 3ms/step - loss: 85718368.0000 - val_loss: 82918232.0000\n",
      "Epoch 11/300\n",
      "409/409 [==============================] - 1s 4ms/step - loss: 80330088.0000 - val_loss: 82201304.0000\n",
      "Epoch 12/300\n",
      "409/409 [==============================] - 1s 3ms/step - loss: 75195352.0000 - val_loss: 75278608.0000\n",
      "Epoch 13/300\n",
      "409/409 [==============================] - 1s 3ms/step - loss: 74905760.0000 - val_loss: 75557904.0000\n",
      "Epoch 14/300\n",
      "409/409 [==============================] - 1s 3ms/step - loss: 74410016.0000 - val_loss: 74077984.0000\n",
      "Epoch 15/300\n",
      "409/409 [==============================] - 1s 4ms/step - loss: 73933264.0000 - val_loss: 73792528.0000\n",
      "Epoch 16/300\n",
      "409/409 [==============================] - 1s 4ms/step - loss: 73273088.0000 - val_loss: 74593296.0000\n",
      "Epoch 17/300\n",
      "409/409 [==============================] - 1s 3ms/step - loss: 73286680.0000 - val_loss: 73365216.0000\n",
      "Epoch 18/300\n",
      "409/409 [==============================] - 1s 4ms/step - loss: 73083184.0000 - val_loss: 76819368.0000\n",
      "Epoch 19/300\n",
      "409/409 [==============================] - 1s 4ms/step - loss: 73554432.0000 - val_loss: 74313120.0000\n",
      "Epoch 20/300\n",
      "409/409 [==============================] - 1s 3ms/step - loss: 73528640.0000 - val_loss: 73191592.0000\n",
      "Epoch 21/300\n",
      "409/409 [==============================] - 1s 3ms/step - loss: 73621432.0000 - val_loss: 73335152.0000\n",
      "Epoch 22/300\n",
      "409/409 [==============================] - 1s 4ms/step - loss: 73339080.0000 - val_loss: 77701584.0000\n",
      "Epoch 23/300\n",
      "409/409 [==============================] - 1s 4ms/step - loss: 72969744.0000 - val_loss: 75279144.0000\n",
      "Epoch 24/300\n",
      "409/409 [==============================] - 1s 4ms/step - loss: 73947272.0000 - val_loss: 75503768.0000\n",
      "Epoch 25/300\n",
      "409/409 [==============================] - 1s 3ms/step - loss: 72628008.0000 - val_loss: 74831368.0000\n",
      "Epoch 26/300\n",
      "409/409 [==============================] - 1s 3ms/step - loss: 72703488.0000 - val_loss: 74863928.0000\n",
      "Epoch 27/300\n",
      "409/409 [==============================] - 1s 4ms/step - loss: 72925040.0000 - val_loss: 74185112.0000\n",
      "Epoch 28/300\n",
      "409/409 [==============================] - 1s 4ms/step - loss: 72887680.0000 - val_loss: 73857168.0000\n",
      "Epoch 29/300\n",
      "409/409 [==============================] - 1s 3ms/step - loss: 72402640.0000 - val_loss: 73754856.0000\n",
      "Epoch 30/300\n",
      "409/409 [==============================] - 1s 4ms/step - loss: 72888080.0000 - val_loss: 74174600.0000\n",
      "Epoch 31/300\n",
      "409/409 [==============================] - 1s 4ms/step - loss: 72399912.0000 - val_loss: 75195616.0000\n",
      "Epoch 32/300\n",
      "409/409 [==============================] - 1s 3ms/step - loss: 72822784.0000 - val_loss: 74181776.0000\n",
      "Epoch 33/300\n",
      "409/409 [==============================] - 1s 3ms/step - loss: 72539872.0000 - val_loss: 73558080.0000\n",
      "Epoch 34/300\n",
      "409/409 [==============================] - 1s 3ms/step - loss: 72917984.0000 - val_loss: 73178416.0000\n",
      "Epoch 35/300\n",
      "409/409 [==============================] - 1s 4ms/step - loss: 73217592.0000 - val_loss: 73318408.0000\n",
      "Epoch 36/300\n",
      "409/409 [==============================] - 1s 3ms/step - loss: 73126664.0000 - val_loss: 75026024.0000\n",
      "Epoch 37/300\n",
      "409/409 [==============================] - 1s 4ms/step - loss: 73486848.0000 - val_loss: 75182512.0000\n",
      "Epoch 38/300\n",
      "409/409 [==============================] - 1s 3ms/step - loss: 72771936.0000 - val_loss: 73768768.0000\n",
      "Epoch 39/300\n",
      "409/409 [==============================] - 1s 3ms/step - loss: 73216480.0000 - val_loss: 74264568.0000\n",
      "Epoch 40/300\n",
      "409/409 [==============================] - 1s 4ms/step - loss: 72329520.0000 - val_loss: 73645256.0000\n",
      "Epoch 41/300\n",
      "409/409 [==============================] - 1s 3ms/step - loss: 72844880.0000 - val_loss: 73849880.0000\n",
      "Epoch 42/300\n",
      "409/409 [==============================] - 1s 4ms/step - loss: 73058512.0000 - val_loss: 73182072.0000\n",
      "Epoch 43/300\n",
      "409/409 [==============================] - 1s 3ms/step - loss: 73152880.0000 - val_loss: 73250480.0000\n",
      "Epoch 44/300\n",
      "409/409 [==============================] - 1s 4ms/step - loss: 72842000.0000 - val_loss: 88841008.0000\n",
      "Epoch 45/300\n",
      "409/409 [==============================] - 1s 3ms/step - loss: 73159928.0000 - val_loss: 78496632.0000\n",
      "Epoch 46/300\n",
      "409/409 [==============================] - 1s 4ms/step - loss: 72722144.0000 - val_loss: 74234232.0000\n",
      "Epoch 47/300\n",
      "409/409 [==============================] - 1s 3ms/step - loss: 73006920.0000 - val_loss: 73334536.0000\n",
      "Epoch 48/300\n",
      "409/409 [==============================] - 1s 3ms/step - loss: 73539032.0000 - val_loss: 73503128.0000\n",
      "Epoch 49/300\n",
      "409/409 [==============================] - 1s 3ms/step - loss: 72395672.0000 - val_loss: 73167256.0000\n",
      "Epoch 50/300\n",
      "409/409 [==============================] - 1s 3ms/step - loss: 72665912.0000 - val_loss: 73615640.0000\n",
      "Epoch 51/300\n",
      "409/409 [==============================] - 1s 3ms/step - loss: 73047224.0000 - val_loss: 74909992.0000\n",
      "Epoch 52/300\n",
      "409/409 [==============================] - 1s 3ms/step - loss: 72899776.0000 - val_loss: 74450440.0000\n",
      "Epoch 53/300\n",
      "409/409 [==============================] - 1s 3ms/step - loss: 72941912.0000 - val_loss: 73234320.0000\n",
      "Epoch 54/300\n",
      "409/409 [==============================] - 1s 3ms/step - loss: 72323280.0000 - val_loss: 74009408.0000\n",
      "Epoch 55/300\n",
      "409/409 [==============================] - 1s 3ms/step - loss: 72469792.0000 - val_loss: 73355240.0000\n",
      "Epoch 56/300\n",
      "409/409 [==============================] - 1s 4ms/step - loss: 72659824.0000 - val_loss: 74706760.0000\n",
      "Epoch 57/300\n",
      "409/409 [==============================] - 1s 3ms/step - loss: 72831432.0000 - val_loss: 73632360.0000\n",
      "Epoch 58/300\n",
      "409/409 [==============================] - 2s 4ms/step - loss: 72501720.0000 - val_loss: 77442248.0000\n",
      "Epoch 59/300\n",
      "409/409 [==============================] - 1s 3ms/step - loss: 72945952.0000 - val_loss: 74054544.0000\n",
      "Epoch 60/300\n",
      "409/409 [==============================] - 2s 4ms/step - loss: 72536896.0000 - val_loss: 73824112.0000\n",
      "Epoch 61/300\n",
      "409/409 [==============================] - 1s 3ms/step - loss: 72548544.0000 - val_loss: 78429512.0000\n",
      "Epoch 62/300\n",
      "409/409 [==============================] - 1s 4ms/step - loss: 72549296.0000 - val_loss: 73634624.0000\n",
      "Epoch 63/300\n",
      "409/409 [==============================] - 1s 4ms/step - loss: 72564352.0000 - val_loss: 73091520.0000\n",
      "Epoch 64/300\n",
      "409/409 [==============================] - 1s 4ms/step - loss: 72498496.0000 - val_loss: 73928400.0000\n",
      "Epoch 65/300\n",
      "409/409 [==============================] - 1s 3ms/step - loss: 72806904.0000 - val_loss: 76428024.0000\n",
      "Epoch 66/300\n",
      "409/409 [==============================] - 2s 4ms/step - loss: 72424960.0000 - val_loss: 74671184.0000\n",
      "Epoch 67/300\n",
      "409/409 [==============================] - 1s 3ms/step - loss: 72410032.0000 - val_loss: 73327992.0000\n",
      "Epoch 68/300\n",
      "409/409 [==============================] - 1s 3ms/step - loss: 72641992.0000 - val_loss: 73341120.0000\n",
      "Epoch 69/300\n",
      "409/409 [==============================] - 1s 3ms/step - loss: 72428872.0000 - val_loss: 74345952.0000\n",
      "Epoch 70/300\n",
      "409/409 [==============================] - 1s 3ms/step - loss: 72621512.0000 - val_loss: 74005544.0000\n",
      "Epoch 71/300\n"
     ]
    },
    {
     "name": "stdout",
     "output_type": "stream",
     "text": [
      "409/409 [==============================] - 1s 3ms/step - loss: 72029160.0000 - val_loss: 73226976.0000\n",
      "Epoch 72/300\n",
      "409/409 [==============================] - 1s 4ms/step - loss: 72409144.0000 - val_loss: 78866192.0000\n",
      "Epoch 73/300\n",
      "409/409 [==============================] - 1s 4ms/step - loss: 72434656.0000 - val_loss: 73156312.0000\n",
      "Epoch 74/300\n",
      "409/409 [==============================] - 1s 4ms/step - loss: 72965688.0000 - val_loss: 73590656.0000\n",
      "Epoch 75/300\n",
      "409/409 [==============================] - 2s 4ms/step - loss: 73211984.0000 - val_loss: 73281672.0000\n",
      "Epoch 76/300\n",
      "409/409 [==============================] - 1s 4ms/step - loss: 72665488.0000 - val_loss: 73727936.0000\n",
      "Epoch 77/300\n",
      "409/409 [==============================] - 1s 4ms/step - loss: 72445008.0000 - val_loss: 73362384.0000\n",
      "Epoch 78/300\n",
      "409/409 [==============================] - 1s 3ms/step - loss: 72942016.0000 - val_loss: 79265168.0000\n",
      "Epoch 79/300\n",
      "409/409 [==============================] - 1s 4ms/step - loss: 72492960.0000 - val_loss: 74323696.0000\n",
      "Epoch 80/300\n",
      "409/409 [==============================] - 1s 4ms/step - loss: 72551592.0000 - val_loss: 74053000.0000\n",
      "Epoch 81/300\n",
      "409/409 [==============================] - 1s 3ms/step - loss: 72683888.0000 - val_loss: 77053648.0000\n",
      "Epoch 82/300\n",
      "409/409 [==============================] - 1s 3ms/step - loss: 72734712.0000 - val_loss: 73325320.0000\n",
      "Epoch 83/300\n",
      "409/409 [==============================] - 1s 4ms/step - loss: 72139624.0000 - val_loss: 74601856.0000\n",
      "Epoch 84/300\n",
      "409/409 [==============================] - 1s 4ms/step - loss: 72815096.0000 - val_loss: 73471992.0000\n",
      "Epoch 85/300\n",
      "409/409 [==============================] - 1s 3ms/step - loss: 72741296.0000 - val_loss: 76581176.00000s -\n",
      "Epoch 86/300\n",
      "409/409 [==============================] - 1s 3ms/step - loss: 72501768.0000 - val_loss: 73953424.0000\n",
      "Epoch 87/300\n",
      "409/409 [==============================] - 1s 4ms/step - loss: 72607672.0000 - val_loss: 73293864.0000\n",
      "Epoch 88/300\n",
      "409/409 [==============================] - 1s 3ms/step - loss: 72491152.0000 - val_loss: 73496200.0000\n",
      "Epoch 00088: early stopping\n"
     ]
    },
    {
     "data": {
      "text/plain": [
       "<tensorflow.python.keras.callbacks.History at 0x19bac0af148>"
      ]
     },
     "execution_count": 54,
     "metadata": {},
     "output_type": "execute_result"
    }
   ],
   "source": [
    "model_1.fit(x=X_train, y=Y_train, epochs=300, validation_data=(X_test, Y_test), callbacks=[early_stop])"
   ]
  },
  {
   "cell_type": "markdown",
   "id": "a092af00",
   "metadata": {},
   "source": [
    "En la segunda evaluación, `year`, `transmission`, `engineSize`."
   ]
  },
  {
   "cell_type": "code",
   "execution_count": 64,
   "id": "6c319bea",
   "metadata": {},
   "outputs": [],
   "source": [
    "data_2 = dataframe[['year', 'transmission', 'engineSize']]\n",
    "\n",
    "X_train, X_test_2, Y_train, Y_test = train_test_split(data_2, label, test_size=0.33)"
   ]
  },
  {
   "cell_type": "code",
   "execution_count": 56,
   "id": "14d06edf",
   "metadata": {},
   "outputs": [],
   "source": [
    "model_2 = Sequential()\n",
    "\n",
    "model_2.add(Dense(9, activation='relu'))\n",
    "model_2.add(Dense(255))\n",
    "model_2.add(Dense(255))\n",
    "model_2.add(Dense(1))\n",
    "\n",
    "model_2.compile(optimizer='adam', loss='mse')"
   ]
  },
  {
   "cell_type": "code",
   "execution_count": 57,
   "id": "4d3766a5",
   "metadata": {},
   "outputs": [
    {
     "name": "stdout",
     "output_type": "stream",
     "text": [
      "Epoch 1/300\n",
      "WARNING:tensorflow:Layer dense_4 is casting an input tensor from dtype float64 to the layer's dtype of float32, which is new behavior in TensorFlow 2.  The layer has dtype float32 because its dtype defaults to floatx.\n",
      "\n",
      "If you intended to run this layer in float32, you can safely ignore this warning. If in doubt, this warning is likely only an issue if you are porting a TensorFlow 1.X model to TensorFlow 2.\n",
      "\n",
      "To change all layers to have dtype float64 by default, call `tf.keras.backend.set_floatx('float64')`. To change just this layer, pass dtype='float64' to the layer constructor. If you are the author of this layer, you can disable autocasting by passing autocast=False to the base Layer constructor.\n",
      "\n",
      "409/409 [==============================] - 2s 4ms/step - loss: 108100680.0000 - val_loss: 97186064.0000\n",
      "Epoch 2/300\n",
      "409/409 [==============================] - 2s 4ms/step - loss: 99521760.0000 - val_loss: 97059152.0000\n",
      "Epoch 3/300\n",
      "409/409 [==============================] - 2s 4ms/step - loss: 99195632.0000 - val_loss: 96724328.0000\n",
      "Epoch 4/300\n",
      "409/409 [==============================] - 1s 4ms/step - loss: 98683456.0000 - val_loss: 96458576.0000\n",
      "Epoch 5/300\n",
      "409/409 [==============================] - 1s 4ms/step - loss: 97899480.0000 - val_loss: 95704944.0000\n",
      "Epoch 6/300\n",
      "409/409 [==============================] - 1s 3ms/step - loss: 97394960.0000 - val_loss: 94201000.0000\n",
      "Epoch 7/300\n",
      "409/409 [==============================] - 1s 4ms/step - loss: 95433160.0000 - val_loss: 90215920.0000\n",
      "Epoch 8/300\n",
      "409/409 [==============================] - 2s 4ms/step - loss: 84394184.0000 - val_loss: 72757368.0000\n",
      "Epoch 9/300\n",
      "409/409 [==============================] - 1s 3ms/step - loss: 68213912.0000 - val_loss: 66306360.0000\n",
      "Epoch 10/300\n",
      "409/409 [==============================] - 1s 4ms/step - loss: 65615568.0000 - val_loss: 69638656.0000\n",
      "Epoch 11/300\n",
      "409/409 [==============================] - 1s 4ms/step - loss: 65140080.0000 - val_loss: 66092284.0000\n",
      "Epoch 12/300\n",
      "409/409 [==============================] - 1s 4ms/step - loss: 63945052.0000 - val_loss: 67519960.0000\n",
      "Epoch 13/300\n",
      "409/409 [==============================] - 1s 3ms/step - loss: 65319920.0000 - val_loss: 69498864.0000\n",
      "Epoch 14/300\n",
      "409/409 [==============================] - 1s 4ms/step - loss: 64173804.0000 - val_loss: 70218616.0000\n",
      "Epoch 15/300\n",
      "409/409 [==============================] - 1s 4ms/step - loss: 63838132.0000 - val_loss: 67099224.0000\n",
      "Epoch 16/300\n",
      "409/409 [==============================] - 1s 3ms/step - loss: 64695048.0000 - val_loss: 67371440.0000\n",
      "Epoch 17/300\n",
      "409/409 [==============================] - 1s 4ms/step - loss: 64575164.0000 - val_loss: 73620848.0000\n",
      "Epoch 18/300\n",
      "409/409 [==============================] - 2s 4ms/step - loss: 64215788.0000 - val_loss: 70302824.0000\n",
      "Epoch 19/300\n",
      "409/409 [==============================] - 2s 4ms/step - loss: 64471584.0000 - val_loss: 70445480.0000\n",
      "Epoch 20/300\n",
      "409/409 [==============================] - 1s 3ms/step - loss: 63637972.0000 - val_loss: 66645232.0000\n",
      "Epoch 21/300\n",
      "409/409 [==============================] - 1s 4ms/step - loss: 64720724.0000 - val_loss: 68851272.0000\n",
      "Epoch 22/300\n",
      "409/409 [==============================] - 1s 3ms/step - loss: 63925316.0000 - val_loss: 67598104.0000\n",
      "Epoch 23/300\n",
      "409/409 [==============================] - 2s 4ms/step - loss: 64010976.0000 - val_loss: 64868980.0000\n",
      "Epoch 24/300\n",
      "409/409 [==============================] - 2s 4ms/step - loss: 64050720.0000 - val_loss: 65209572.0000\n",
      "Epoch 25/300\n",
      "409/409 [==============================] - 1s 3ms/step - loss: 64598644.0000 - val_loss: 65932404.0000\n",
      "Epoch 26/300\n",
      "409/409 [==============================] - 1s 3ms/step - loss: 64023376.0000 - val_loss: 64770232.0000\n",
      "Epoch 27/300\n",
      "409/409 [==============================] - 1s 4ms/step - loss: 64465920.0000 - val_loss: 65106264.0000\n",
      "Epoch 28/300\n",
      "409/409 [==============================] - 1s 3ms/step - loss: 63873916.0000 - val_loss: 64801336.0000\n",
      "Epoch 29/300\n",
      "409/409 [==============================] - 1s 3ms/step - loss: 63636560.0000 - val_loss: 64755952.0000\n",
      "Epoch 30/300\n",
      "409/409 [==============================] - 1s 3ms/step - loss: 64203004.0000 - val_loss: 65446604.0000\n",
      "Epoch 31/300\n",
      "409/409 [==============================] - 1s 4ms/step - loss: 63495704.0000 - val_loss: 64846976.0000\n",
      "Epoch 32/300\n",
      "409/409 [==============================] - 1s 4ms/step - loss: 63631140.0000 - val_loss: 65184008.0000\n",
      "Epoch 33/300\n",
      "409/409 [==============================] - 1s 3ms/step - loss: 64517520.0000 - val_loss: 64962604.0000\n",
      "Epoch 34/300\n",
      "409/409 [==============================] - 1s 4ms/step - loss: 63475736.0000 - val_loss: 64863516.0000\n",
      "Epoch 35/300\n",
      "409/409 [==============================] - 1s 4ms/step - loss: 63831308.0000 - val_loss: 65100076.0000\n",
      "Epoch 36/300\n",
      "409/409 [==============================] - 1s 3ms/step - loss: 64085308.0000 - val_loss: 64880412.0000\n",
      "Epoch 37/300\n",
      "409/409 [==============================] - 1s 4ms/step - loss: 64284644.0000 - val_loss: 67322088.0000\n",
      "Epoch 38/300\n",
      "409/409 [==============================] - 1s 3ms/step - loss: 63706752.0000 - val_loss: 65823308.0000\n",
      "Epoch 39/300\n",
      "409/409 [==============================] - 1s 3ms/step - loss: 63891468.0000 - val_loss: 70914272.0000\n",
      "Epoch 40/300\n",
      "409/409 [==============================] - 1s 3ms/step - loss: 63340448.0000 - val_loss: 64951444.0000\n",
      "Epoch 41/300\n",
      "409/409 [==============================] - 1s 3ms/step - loss: 64742404.0000 - val_loss: 65173328.0000\n",
      "Epoch 42/300\n",
      "409/409 [==============================] - 1s 3ms/step - loss: 63949756.0000 - val_loss: 67074680.0000\n",
      "Epoch 43/300\n",
      "409/409 [==============================] - 1s 4ms/step - loss: 63738576.0000 - val_loss: 67291480.0000\n",
      "Epoch 44/300\n",
      "409/409 [==============================] - 1s 3ms/step - loss: 64324984.0000 - val_loss: 64850780.0000\n",
      "Epoch 45/300\n",
      "409/409 [==============================] - 1s 3ms/step - loss: 63467684.0000 - val_loss: 65056752.0000\n",
      "Epoch 46/300\n",
      "409/409 [==============================] - 1s 3ms/step - loss: 63982100.0000 - val_loss: 64932788.0000\n",
      "Epoch 47/300\n",
      "409/409 [==============================] - 1s 3ms/step - loss: 63568516.0000 - val_loss: 64642880.0000\n",
      "Epoch 48/300\n",
      "409/409 [==============================] - 1s 3ms/step - loss: 63753180.0000 - val_loss: 66601408.0000\n",
      "Epoch 49/300\n",
      "409/409 [==============================] - 1s 3ms/step - loss: 63570652.0000 - val_loss: 64953744.0000\n",
      "Epoch 50/300\n",
      "409/409 [==============================] - 1s 3ms/step - loss: 63952444.0000 - val_loss: 65480924.0000\n",
      "Epoch 51/300\n",
      "409/409 [==============================] - 1s 3ms/step - loss: 64706424.0000 - val_loss: 64687924.0000\n",
      "Epoch 52/300\n",
      "409/409 [==============================] - 1s 3ms/step - loss: 63825872.0000 - val_loss: 65822620.0000\n",
      "Epoch 53/300\n",
      "409/409 [==============================] - 1s 3ms/step - loss: 63822688.0000 - val_loss: 66605612.0000\n",
      "Epoch 54/300\n",
      "409/409 [==============================] - 2s 4ms/step - loss: 64178748.0000 - val_loss: 67728592.0000\n",
      "Epoch 55/300\n",
      "409/409 [==============================] - 1s 4ms/step - loss: 64190580.0000 - val_loss: 65445120.0000\n",
      "Epoch 56/300\n",
      "409/409 [==============================] - 1s 4ms/step - loss: 63683884.0000 - val_loss: 65525796.0000\n",
      "Epoch 57/300\n",
      "409/409 [==============================] - 1s 3ms/step - loss: 64012912.0000 - val_loss: 65466316.0000\n",
      "Epoch 58/300\n",
      "409/409 [==============================] - 1s 3ms/step - loss: 64271948.0000 - val_loss: 65259972.0000\n",
      "Epoch 59/300\n",
      "409/409 [==============================] - 1s 3ms/step - loss: 63793732.0000 - val_loss: 64721308.0000\n",
      "Epoch 60/300\n",
      "409/409 [==============================] - 2s 4ms/step - loss: 64125076.0000 - val_loss: 67496184.0000\n",
      "Epoch 61/300\n",
      "409/409 [==============================] - 2s 4ms/step - loss: 63509200.0000 - val_loss: 64854068.0000\n",
      "Epoch 62/300\n",
      "409/409 [==============================] - 1s 3ms/step - loss: 63339208.0000 - val_loss: 65445128.0000\n",
      "Epoch 63/300\n",
      "409/409 [==============================] - 1s 4ms/step - loss: 63893552.0000 - val_loss: 64691680.0000\n",
      "Epoch 64/300\n",
      "409/409 [==============================] - 1s 3ms/step - loss: 63961736.0000 - val_loss: 65931348.0000\n",
      "Epoch 65/300\n"
     ]
    },
    {
     "name": "stdout",
     "output_type": "stream",
     "text": [
      "409/409 [==============================] - 1s 3ms/step - loss: 64341148.0000 - val_loss: 64960312.0000\n",
      "Epoch 66/300\n",
      "409/409 [==============================] - 1s 3ms/step - loss: 63676616.0000 - val_loss: 64836236.0000\n",
      "Epoch 67/300\n",
      "409/409 [==============================] - 1s 3ms/step - loss: 63727112.0000 - val_loss: 64909172.0000\n",
      "Epoch 68/300\n",
      "409/409 [==============================] - 1s 3ms/step - loss: 63755444.0000 - val_loss: 66461960.0000\n",
      "Epoch 69/300\n",
      "409/409 [==============================] - 1s 3ms/step - loss: 63555724.0000 - val_loss: 66085848.0000\n",
      "Epoch 70/300\n",
      "409/409 [==============================] - 2s 4ms/step - loss: 63353524.0000 - val_loss: 67360848.0000\n",
      "Epoch 71/300\n",
      "409/409 [==============================] - 1s 3ms/step - loss: 63603984.0000 - val_loss: 64881904.0000\n",
      "Epoch 72/300\n",
      "409/409 [==============================] - 1s 3ms/step - loss: 63807668.0000 - val_loss: 64672676.0000\n",
      "Epoch 00072: early stopping\n"
     ]
    },
    {
     "data": {
      "text/plain": [
       "<tensorflow.python.keras.callbacks.History at 0x19bac12bf88>"
      ]
     },
     "execution_count": 57,
     "metadata": {},
     "output_type": "execute_result"
    }
   ],
   "source": [
    "model_2.fit(x=X_train, y=Y_train, epochs=300, validation_data=(X_test, Y_test), callbacks=[early_stop])"
   ]
  },
  {
   "cell_type": "markdown",
   "id": "3432a517",
   "metadata": {},
   "source": [
    "En la última evaluación, definimos todas las variables."
   ]
  },
  {
   "cell_type": "code",
   "execution_count": 65,
   "id": "369f9586",
   "metadata": {},
   "outputs": [],
   "source": [
    "X_train, X_test_3, Y_train, Y_test = train_test_split(dataframe, label, test_size=0.33)"
   ]
  },
  {
   "cell_type": "code",
   "execution_count": 59,
   "id": "bbd09a4e",
   "metadata": {},
   "outputs": [],
   "source": [
    "model_3 = Sequential()\n",
    "\n",
    "model_3.add(Dense(9, activation='relu'))\n",
    "model_3.add(Dense(255))\n",
    "model_3.add(Dense(255))\n",
    "model_3.add(Dense(1))\n",
    "\n",
    "model_3.compile(optimizer='adam', loss='mse')"
   ]
  },
  {
   "cell_type": "code",
   "execution_count": 60,
   "id": "cf783826",
   "metadata": {},
   "outputs": [
    {
     "name": "stdout",
     "output_type": "stream",
     "text": [
      "Epoch 1/300\n",
      "WARNING:tensorflow:Layer dense_8 is casting an input tensor from dtype float64 to the layer's dtype of float32, which is new behavior in TensorFlow 2.  The layer has dtype float32 because its dtype defaults to floatx.\n",
      "\n",
      "If you intended to run this layer in float32, you can safely ignore this warning. If in doubt, this warning is likely only an issue if you are porting a TensorFlow 1.X model to TensorFlow 2.\n",
      "\n",
      "To change all layers to have dtype float64 by default, call `tf.keras.backend.set_floatx('float64')`. To change just this layer, pass dtype='float64' to the layer constructor. If you are the author of this layer, you can disable autocasting by passing autocast=False to the base Layer constructor.\n",
      "\n",
      "409/409 [==============================] - 2s 4ms/step - loss: 2559718.5000 - val_loss: 19.3393\n",
      "Epoch 2/300\n",
      "409/409 [==============================] - 1s 4ms/step - loss: 19.9091 - val_loss: 21.4501\n",
      "Epoch 3/300\n",
      "409/409 [==============================] - 1s 3ms/step - loss: 15.5942 - val_loss: 11.8224\n",
      "Epoch 4/300\n",
      "409/409 [==============================] - 1s 3ms/step - loss: 12.3236 - val_loss: 9.6432\n",
      "Epoch 5/300\n",
      "409/409 [==============================] - 1s 4ms/step - loss: 12.3613 - val_loss: 8.4846\n",
      "Epoch 6/300\n",
      "409/409 [==============================] - 1s 4ms/step - loss: 11.2786 - val_loss: 14.3163\n",
      "Epoch 7/300\n",
      "409/409 [==============================] - 1s 3ms/step - loss: 93.4228 - val_loss: 348.0191\n",
      "Epoch 8/300\n",
      "409/409 [==============================] - 1s 3ms/step - loss: 2602.5178 - val_loss: 62.0999\n",
      "Epoch 9/300\n",
      "409/409 [==============================] - 1s 4ms/step - loss: 56309.5234 - val_loss: 323709.3438\n",
      "Epoch 10/300\n",
      "409/409 [==============================] - 1s 3ms/step - loss: 32958.7930 - val_loss: 16.3715\n",
      "Epoch 11/300\n",
      "409/409 [==============================] - 1s 4ms/step - loss: 946.0241 - val_loss: 21742.3242\n",
      "Epoch 12/300\n",
      "409/409 [==============================] - 1s 3ms/step - loss: 1133.2261 - val_loss: 36.0563\n",
      "Epoch 13/300\n",
      "409/409 [==============================] - 1s 3ms/step - loss: 5808.4990 - val_loss: 2439.3093\n",
      "Epoch 14/300\n",
      "409/409 [==============================] - 1s 3ms/step - loss: 237313.7031 - val_loss: 15.7553\n",
      "Epoch 15/300\n",
      "409/409 [==============================] - 1s 3ms/step - loss: 20.6333 - val_loss: 14.8431\n",
      "Epoch 16/300\n",
      "409/409 [==============================] - 1s 3ms/step - loss: 19.7579 - val_loss: 14.3760\n",
      "Epoch 17/300\n",
      "409/409 [==============================] - 1s 4ms/step - loss: 23.0778 - val_loss: 21.5313\n",
      "Epoch 18/300\n",
      "409/409 [==============================] - 1s 3ms/step - loss: 52.6316 - val_loss: 14.4804\n",
      "Epoch 19/300\n",
      "409/409 [==============================] - 2s 4ms/step - loss: 46.0483 - val_loss: 229.0287\n",
      "Epoch 20/300\n",
      "409/409 [==============================] - 2s 4ms/step - loss: 139.0607 - val_loss: 4252.7295\n",
      "Epoch 21/300\n",
      "409/409 [==============================] - 2s 4ms/step - loss: 31089.8105 - val_loss: 39.5475\n",
      "Epoch 22/300\n",
      "409/409 [==============================] - 1s 4ms/step - loss: 50.6997 - val_loss: 512.1204\n",
      "Epoch 23/300\n",
      "409/409 [==============================] - 1s 4ms/step - loss: 2983.0801 - val_loss: 57.8405\n",
      "Epoch 24/300\n",
      "409/409 [==============================] - 1s 3ms/step - loss: 81162.3984 - val_loss: 29.4985\n",
      "Epoch 25/300\n",
      "409/409 [==============================] - 1s 3ms/step - loss: 20.3868 - val_loss: 16.4485\n",
      "Epoch 26/300\n",
      "409/409 [==============================] - 1s 3ms/step - loss: 22.9428 - val_loss: 10.8274\n",
      "Epoch 27/300\n",
      "409/409 [==============================] - 1s 3ms/step - loss: 30.1207 - val_loss: 13.7907\n",
      "Epoch 28/300\n",
      "409/409 [==============================] - 2s 4ms/step - loss: 281.7897 - val_loss: 11.1435\n",
      "Epoch 29/300\n",
      "409/409 [==============================] - 2s 4ms/step - loss: 4019.9058 - val_loss: 787419.5000\n",
      "Epoch 30/300\n",
      "409/409 [==============================] - 1s 3ms/step - loss: 38376.1289 - val_loss: 33.6997\n",
      "Epoch 00030: early stopping\n"
     ]
    },
    {
     "data": {
      "text/plain": [
       "<tensorflow.python.keras.callbacks.History at 0x19bad9baf08>"
      ]
     },
     "execution_count": 60,
     "metadata": {},
     "output_type": "execute_result"
    }
   ],
   "source": [
    "model_3.fit(x=X_train, y=Y_train, epochs=300, validation_data=(X_test, Y_test), callbacks=[early_stop])"
   ]
  },
  {
   "cell_type": "code",
   "execution_count": 66,
   "id": "ec8ea108",
   "metadata": {},
   "outputs": [
    {
     "name": "stdout",
     "output_type": "stream",
     "text": [
      "Prediccion variables: 'year', 'model', 'transmission', 'Brand':  10663.668969635091\n",
      "Prediccion variables: 'year', , 'transmission', 'Brand':  11362.125890227957\n",
      "Prediccion con todas las variables:  5.659872842108367\n"
     ]
    }
   ],
   "source": [
    "prediction1 = model_1.predict(X_test_1)\n",
    "print(\"Prediccion variables: 'year', 'model', 'transmission', 'Brand': \", np.sqrt(MSE(Y_test, prediction1)))\n",
    "\n",
    "prediction2 = model_2.predict(X_test_2)\n",
    "print(\"Prediccion variables: 'year', , 'transmission', 'Brand': \", np.sqrt(MSE(Y_test, prediction2)))\n",
    "np.sqrt(MSE(Y_test, prediction2))\n",
    "\n",
    "prediction3 = model_3.predict(X_test_3)\n",
    "print(\"Prediccion con todas las variables: \", np.sqrt(MSE(Y_test, prediction3)))"
   ]
  },
  {
   "cell_type": "markdown",
   "id": "1ba2a239",
   "metadata": {},
   "source": [
    "\n",
    "prediction1 = model_1.predict(X_test)\n",
    "np.sqrt(MSE(Y_test, prediction))\n",
    "## 7. Visualizar, informar y presentar los pasos de resolución del problema y la solución final."
   ]
  },
  {
   "cell_type": "markdown",
   "id": "3b4bcc56",
   "metadata": {},
   "source": [
    "Exportar el modelo en formato h5"
   ]
  },
  {
   "cell_type": "code",
   "execution_count": 68,
   "id": "5d5e5314",
   "metadata": {},
   "outputs": [],
   "source": [
    "model_3.save('autos.h5')"
   ]
  },
  {
   "cell_type": "markdown",
   "id": "e0a1081f",
   "metadata": {},
   "source": [
    "Luego, podemos ver que elementos existen en la presente carpeta"
   ]
  },
  {
   "cell_type": "code",
   "execution_count": 69,
   "id": "f9891269",
   "metadata": {},
   "outputs": [
    {
     "name": "stdout",
     "output_type": "stream",
     "text": [
      "AnÃ¡lisis y modelo para dataset de autos_modificado.ipynb\n",
      "BMW example - car regression.ipynb\n",
      "Modelo del dataset de autos.ipynb\n",
      "Union de datasets_modificado.ipynb\n",
      "autod.h5\n",
      "autos.h5\n",
      "carpeta_out\n",
      "preprocesamiento y union de datasets.ipynb\n",
      "prototipo_intefaz.ipynb\n"
     ]
    }
   ],
   "source": [
    "!ls"
   ]
  },
  {
   "cell_type": "markdown",
   "id": "3cab77da",
   "metadata": {},
   "source": [
    "Luego antes de usar el método `tensorflowjs_converter` es necesario instalar la librería `tensorflow.js`, esto se puede realizar\n",
    "con el siguiente comando."
   ]
  },
  {
   "cell_type": "code",
   "execution_count": 70,
   "id": "3d745543",
   "metadata": {},
   "outputs": [
    {
     "name": "stdout",
     "output_type": "stream",
     "text": [
      "^C\n"
     ]
    }
   ],
   "source": [
    "!pip install tensorflowjs"
   ]
  },
  {
   "cell_type": "markdown",
   "id": "31d23219",
   "metadata": {},
   "source": [
    "Luego, creamos una carpeta donde guardaremos los archivos resultantes."
   ]
  },
  {
   "cell_type": "code",
   "execution_count": 71,
   "id": "ddb9f608",
   "metadata": {},
   "outputs": [
    {
     "name": "stderr",
     "output_type": "stream",
     "text": [
      "A subdirectory or file carpeta_out already exists.\n"
     ]
    }
   ],
   "source": [
    "!mkdir carpeta_out"
   ]
  },
  {
   "cell_type": "markdown",
   "id": "4d393afa",
   "metadata": {},
   "source": [
    "Realizamos la exportación a la carpeta `carpeta_out`"
   ]
  },
  {
   "cell_type": "code",
   "execution_count": 72,
   "id": "d11ac8ae",
   "metadata": {},
   "outputs": [],
   "source": [
    "!tensorflowjs_converter --input_format keras autos.h5 carpeta_out"
   ]
  },
  {
   "cell_type": "markdown",
   "id": "ef97d66b",
   "metadata": {},
   "source": [
    "Ingresamos a la carpeta y luego verificamos los archivos de salida (\"bin\", \"json\", \"h5\")."
   ]
  },
  {
   "cell_type": "code",
   "execution_count": 73,
   "id": "7a48e700",
   "metadata": {},
   "outputs": [
    {
     "name": "stdout",
     "output_type": "stream",
     "text": [
      "autod.h5\n",
      "group1-shard1of1.bin\n",
      "model.json\n",
      "Requirement already satisfied: tensorflowjs in c:\\users\\pc\\.conda\\envs\\ia\\lib\\site-packages (3.11.0)\n",
      "Requirement already satisfied: six<2,>=1.12.0 in c:\\users\\pc\\.conda\\envs\\ia\\lib\\site-packages (from tensorflowjs) (1.16.0)\n",
      "Requirement already satisfied: tensorflow-hub<0.13,>=0.7.0 in c:\\users\\pc\\.conda\\envs\\ia\\lib\\site-packages (from tensorflowjs) (0.12.0)\n",
      "Requirement already satisfied: tensorflow<3,>=2.1.0 in c:\\users\\pc\\.conda\\envs\\ia\\lib\\site-packages (from tensorflowjs) (2.3.0)\n",
      "Requirement already satisfied: opt-einsum>=2.3.2 in c:\\users\\pc\\.conda\\envs\\ia\\lib\\site-packages (from tensorflow<3,>=2.1.0->tensorflowjs) (3.3.0)\n",
      "Requirement already satisfied: grpcio>=1.8.6 in c:\\users\\pc\\.conda\\envs\\ia\\lib\\site-packages (from tensorflow<3,>=2.1.0->tensorflowjs) (1.36.1)\n",
      "Requirement already satisfied: termcolor>=1.1.0 in c:\\users\\pc\\.conda\\envs\\ia\\lib\\site-packages (from tensorflow<3,>=2.1.0->tensorflowjs) (1.1.0)\n",
      "Requirement already satisfied: absl-py>=0.7.0 in c:\\users\\pc\\.conda\\envs\\ia\\lib\\site-packages (from tensorflow<3,>=2.1.0->tensorflowjs) (0.13.0)\n",
      "Requirement already satisfied: wrapt>=1.11.1 in c:\\users\\pc\\.conda\\envs\\ia\\lib\\site-packages (from tensorflow<3,>=2.1.0->tensorflowjs) (1.12.1)\n",
      "Requirement already satisfied: gast==0.3.3 in c:\\users\\pc\\.conda\\envs\\ia\\lib\\site-packages (from tensorflow<3,>=2.1.0->tensorflowjs) (0.3.3)\n",
      "Requirement already satisfied: protobuf>=3.9.2 in c:\\users\\pc\\.conda\\envs\\ia\\lib\\site-packages (from tensorflow<3,>=2.1.0->tensorflowjs) (3.17.2)\n",
      "Requirement already satisfied: numpy<1.19.0,>=1.16.0 in c:\\users\\pc\\.conda\\envs\\ia\\lib\\site-packages (from tensorflow<3,>=2.1.0->tensorflowjs) (1.18.5)\n",
      "Requirement already satisfied: tensorboard<3,>=2.3.0 in c:\\users\\pc\\.conda\\envs\\ia\\lib\\site-packages (from tensorflow<3,>=2.1.0->tensorflowjs) (2.4.0)\n",
      "Requirement already satisfied: tensorflow-estimator<2.4.0,>=2.3.0 in c:\\users\\pc\\.conda\\envs\\ia\\lib\\site-packages (from tensorflow<3,>=2.1.0->tensorflowjs) (2.3.0)\n",
      "Requirement already satisfied: scipy==1.4.1 in c:\\users\\pc\\.conda\\envs\\ia\\lib\\site-packages (from tensorflow<3,>=2.1.0->tensorflowjs) (1.4.1)\n",
      "Requirement already satisfied: keras-preprocessing<1.2,>=1.1.1 in c:\\users\\pc\\.conda\\envs\\ia\\lib\\site-packages (from tensorflow<3,>=2.1.0->tensorflowjs) (1.1.2)\n",
      "Requirement already satisfied: wheel>=0.26 in c:\\users\\pc\\.conda\\envs\\ia\\lib\\site-packages (from tensorflow<3,>=2.1.0->tensorflowjs) (0.37.0)\n",
      "Requirement already satisfied: h5py<2.11.0,>=2.10.0 in c:\\users\\pc\\.conda\\envs\\ia\\lib\\site-packages (from tensorflow<3,>=2.1.0->tensorflowjs) (2.10.0)\n",
      "Requirement already satisfied: astunparse==1.6.3 in c:\\users\\pc\\.conda\\envs\\ia\\lib\\site-packages (from tensorflow<3,>=2.1.0->tensorflowjs) (1.6.3)\n",
      "Requirement already satisfied: google-pasta>=0.1.8 in c:\\users\\pc\\.conda\\envs\\ia\\lib\\site-packages (from tensorflow<3,>=2.1.0->tensorflowjs) (0.2.0)\n",
      "Requirement already satisfied: google-auth<2,>=1.6.3 in c:\\users\\pc\\.conda\\envs\\ia\\lib\\site-packages (from tensorboard<3,>=2.3.0->tensorflow<3,>=2.1.0->tensorflowjs) (1.21.3)\n",
      "Requirement already satisfied: google-auth-oauthlib<0.5,>=0.4.1 in c:\\users\\pc\\.conda\\envs\\ia\\lib\\site-packages (from tensorboard<3,>=2.3.0->tensorflow<3,>=2.1.0->tensorflowjs) (0.4.4)\n",
      "Requirement already satisfied: setuptools>=41.0.0 in c:\\users\\pc\\.conda\\envs\\ia\\lib\\site-packages (from tensorboard<3,>=2.3.0->tensorflow<3,>=2.1.0->tensorflowjs) (52.0.0.post20210125)\n",
      "Requirement already satisfied: werkzeug>=0.11.15 in c:\\users\\pc\\.conda\\envs\\ia\\lib\\site-packages (from tensorboard<3,>=2.3.0->tensorflow<3,>=2.1.0->tensorflowjs) (1.0.1)\n",
      "Requirement already satisfied: requests<3,>=2.21.0 in c:\\users\\pc\\.conda\\envs\\ia\\lib\\site-packages (from tensorboard<3,>=2.3.0->tensorflow<3,>=2.1.0->tensorflowjs) (2.26.0)\n",
      "Requirement already satisfied: markdown>=2.6.8 in c:\\users\\pc\\.conda\\envs\\ia\\lib\\site-packages (from tensorboard<3,>=2.3.0->tensorflow<3,>=2.1.0->tensorflowjs) (3.3.4)\n",
      "Requirement already satisfied: tensorboard-plugin-wit>=1.6.0 in c:\\users\\pc\\.conda\\envs\\ia\\lib\\site-packages (from tensorboard<3,>=2.3.0->tensorflow<3,>=2.1.0->tensorflowjs) (1.6.0)\n",
      "Requirement already satisfied: cachetools<5.0,>=2.0.0 in c:\\users\\pc\\.conda\\envs\\ia\\lib\\site-packages (from google-auth<2,>=1.6.3->tensorboard<3,>=2.3.0->tensorflow<3,>=2.1.0->tensorflowjs) (4.2.2)\n",
      "Requirement already satisfied: pyasn1-modules>=0.2.1 in c:\\users\\pc\\.conda\\envs\\ia\\lib\\site-packages (from google-auth<2,>=1.6.3->tensorboard<3,>=2.3.0->tensorflow<3,>=2.1.0->tensorflowjs) (0.2.8)\n",
      "Requirement already satisfied: rsa<5,>=3.1.4 in c:\\users\\pc\\.conda\\envs\\ia\\lib\\site-packages (from google-auth<2,>=1.6.3->tensorboard<3,>=2.3.0->tensorflow<3,>=2.1.0->tensorflowjs) (4.7.2)\n",
      "Requirement already satisfied: requests-oauthlib>=0.7.0 in c:\\users\\pc\\.conda\\envs\\ia\\lib\\site-packages (from google-auth-oauthlib<0.5,>=0.4.1->tensorboard<3,>=2.3.0->tensorflow<3,>=2.1.0->tensorflowjs) (1.3.0)\n",
      "Requirement already satisfied: importlib-metadata in c:\\users\\pc\\.conda\\envs\\ia\\lib\\site-packages (from markdown>=2.6.8->tensorboard<3,>=2.3.0->tensorflow<3,>=2.1.0->tensorflowjs) (3.10.0)\n",
      "Requirement already satisfied: pyasn1<0.5.0,>=0.4.6 in c:\\users\\pc\\.conda\\envs\\ia\\lib\\site-packages (from pyasn1-modules>=0.2.1->google-auth<2,>=1.6.3->tensorboard<3,>=2.3.0->tensorflow<3,>=2.1.0->tensorflowjs) (0.4.8)\n",
      "Requirement already satisfied: idna<4,>=2.5 in c:\\users\\pc\\.conda\\envs\\ia\\lib\\site-packages (from requests<3,>=2.21.0->tensorboard<3,>=2.3.0->tensorflow<3,>=2.1.0->tensorflowjs) (3.2)\n",
      "Requirement already satisfied: urllib3<1.27,>=1.21.1 in c:\\users\\pc\\.conda\\envs\\ia\\lib\\site-packages (from requests<3,>=2.21.0->tensorboard<3,>=2.3.0->tensorflow<3,>=2.1.0->tensorflowjs) (1.26.6)\n",
      "Requirement already satisfied: certifi>=2017.4.17 in c:\\users\\pc\\.conda\\envs\\ia\\lib\\site-packages (from requests<3,>=2.21.0->tensorboard<3,>=2.3.0->tensorflow<3,>=2.1.0->tensorflowjs) (2021.10.8)\n",
      "Requirement already satisfied: charset-normalizer~=2.0.0 in c:\\users\\pc\\.conda\\envs\\ia\\lib\\site-packages (from requests<3,>=2.21.0->tensorboard<3,>=2.3.0->tensorflow<3,>=2.1.0->tensorflowjs) (2.0.4)\n",
      "Requirement already satisfied: oauthlib>=3.0.0 in c:\\users\\pc\\.conda\\envs\\ia\\lib\\site-packages (from requests-oauthlib>=0.7.0->google-auth-oauthlib<0.5,>=0.4.1->tensorboard<3,>=2.3.0->tensorflow<3,>=2.1.0->tensorflowjs) (3.1.1)\n",
      "Requirement already satisfied: zipp>=0.5 in c:\\users\\pc\\.conda\\envs\\ia\\lib\\site-packages (from importlib-metadata->markdown>=2.6.8->tensorboard<3,>=2.3.0->tensorflow<3,>=2.1.0->tensorflowjs) (3.5.0)\n",
      "Requirement already satisfied: typing-extensions>=3.6.4 in c:\\users\\pc\\.conda\\envs\\ia\\lib\\site-packages (from importlib-metadata->markdown>=2.6.8->tensorboard<3,>=2.3.0->tensorflow<3,>=2.1.0->tensorflowjs) (3.10.0.0)\n"
     ]
    }
   ],
   "source": [
    "!ls carpeta_out"
   ]
  }
 ],
 "metadata": {
  "kernelspec": {
   "display_name": "Python (IA)",
   "language": "python",
   "name": "ia"
  },
  "language_info": {
   "codemirror_mode": {
    "name": "ipython",
    "version": 3
   },
   "file_extension": ".py",
   "mimetype": "text/x-python",
   "name": "python",
   "nbconvert_exporter": "python",
   "pygments_lexer": "ipython3",
   "version": "3.7.11"
  }
 },
 "nbformat": 4,
 "nbformat_minor": 5
}
