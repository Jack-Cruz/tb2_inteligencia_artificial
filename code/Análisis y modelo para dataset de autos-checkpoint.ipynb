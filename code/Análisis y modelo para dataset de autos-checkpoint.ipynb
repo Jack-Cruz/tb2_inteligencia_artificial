{
 "cells": [
  {
   "cell_type": "markdown",
   "id": "2a68eae8",
   "metadata": {},
   "source": [
    "# Análisis de dataset de autos"
   ]
  },
  {
   "cell_type": "markdown",
   "id": "5ad88a8b",
   "metadata": {},
   "source": [
    "El siguiente dataset es la unión de los autos de la marca Audi, Bmw, Hyundi, Merc y Toyota. Este proceso de unión se encuentra en el notebook `Union de datasets.ipynb`. Además, se seguirá las etapas propuestas en el notebook de titanic del laboratorio de la clase de Inteligencia Artificial.\n",
    "\n",
    "1. Definición de pregunta o problema\n",
    "2. Adquirir datos\n",
    "3. Discutir, preparar, limpiar los datos\n",
    "4. Analizar, identificar patrones y explorar los datos\n",
    "5. Separar los datos para entrenamiento y prueba \n",
    "6. Modelizar, predecir y resolver el problema\n",
    "7. Visualizar, informar y presentar los pasos de resolución del problema y la solución final.\n",
    "\n",
    "#### Objetivo de solución:\n",
    "\n",
    "Crear un sistema de consulta, donde el usuario de acuerdo a las características de un auto pueda predecir el costo de este, se prepará los datos para posteriormente ingresarlos en un modelo en base a redes neuronales.  "
   ]
  },
  {
   "cell_type": "markdown",
   "id": "6b40e13f",
   "metadata": {},
   "source": [
    "## 1. Definición de pregunta"
   ]
  },
  {
   "cell_type": "markdown",
   "id": "253b2f91",
   "metadata": {},
   "source": [
    "Se ha recolectado una lista de carros usados, los cuáles han sido recopilados en archivos diferentes dependiendo de cada proveedor, el objetivo es brindar una herramienta que permita predecir a cuánto se puede vender un auto comparando con otros en el mercado."
   ]
  },
  {
   "cell_type": "markdown",
   "id": "839d19af",
   "metadata": {},
   "source": [
    "![Image of a car](../img/used_car.jpg)"
   ]
  },
  {
   "cell_type": "markdown",
   "id": "6c2de285",
   "metadata": {},
   "source": [
    "## 2. Adquirir los datos"
   ]
  },
  {
   "cell_type": "markdown",
   "id": "915db662",
   "metadata": {},
   "source": [
    "Importamos las librerías necesarias para el análisis, como numpy para el uso de arreglos, matplotlib para las gráficos, pandas para el uso de dataframes y seaborn también para gráficos. "
   ]
  },
  {
   "cell_type": "code",
   "execution_count": 1,
   "id": "71cc6b2f",
   "metadata": {},
   "outputs": [],
   "source": [
    "import numpy as np\n",
    "import matplotlib.pyplot as plt\n",
    "import pandas as pd \n",
    "import seaborn as sns"
   ]
  },
  {
   "cell_type": "code",
   "execution_count": 2,
   "id": "de8a0ee0",
   "metadata": {},
   "outputs": [],
   "source": [
    "dataframe = pd.read_csv('../data/autos.csv')"
   ]
  },
  {
   "cell_type": "markdown",
   "id": "e40d455c",
   "metadata": {},
   "source": [
    "## 3. Discutir, preparar y limpiar los datos"
   ]
  },
  {
   "cell_type": "markdown",
   "id": "5f1dc926",
   "metadata": {},
   "source": [
    "Veamos las características del dataset."
   ]
  },
  {
   "cell_type": "code",
   "execution_count": 3,
   "id": "8c3426a9",
   "metadata": {},
   "outputs": [
    {
     "name": "stdout",
     "output_type": "stream",
     "text": [
      "['model' 'year' 'price' 'transmission' 'mileage' 'fuelType' 'tax' 'mpg'\n",
      " 'engineSize' 'Brand']\n"
     ]
    }
   ],
   "source": [
    "print(dataframe.columns.values)"
   ]
  },
  {
   "cell_type": "markdown",
   "id": "45462cd0",
   "metadata": {},
   "source": [
    "Notamos que cuenta en total con 10 variables, 6 numéricas o flotantes y 4 categóricas (objeto). Además, este dataset presenta 19,507 entradas o filas."
   ]
  },
  {
   "cell_type": "code",
   "execution_count": 4,
   "id": "f3422420",
   "metadata": {},
   "outputs": [
    {
     "name": "stdout",
     "output_type": "stream",
     "text": [
      "<class 'pandas.core.frame.DataFrame'>\n",
      "RangeIndex: 19507 entries, 0 to 19506\n",
      "Data columns (total 10 columns):\n",
      " #   Column        Non-Null Count  Dtype  \n",
      "---  ------        --------------  -----  \n",
      " 0   model         19507 non-null  object \n",
      " 1   year          19507 non-null  int64  \n",
      " 2   price         19507 non-null  int64  \n",
      " 3   transmission  19507 non-null  object \n",
      " 4   mileage       19507 non-null  int64  \n",
      " 5   fuelType      19507 non-null  object \n",
      " 6   tax           19507 non-null  int64  \n",
      " 7   mpg           19507 non-null  float64\n",
      " 8   engineSize    19507 non-null  float64\n",
      " 9   Brand         19507 non-null  object \n",
      "dtypes: float64(2), int64(4), object(4)\n",
      "memory usage: 1.5+ MB\n"
     ]
    }
   ],
   "source": [
    "dataframe.info()"
   ]
  },
  {
   "cell_type": "markdown",
   "id": "d765e27c",
   "metadata": {},
   "source": [
    "En todos los dataset se cumple:\n",
    "\n",
    "* El `year` indica la fecha registrada del vehículo.\n",
    "* La variable `price` indica el precio del vehículo en euros.\n",
    "* El `mileage` indica la cantidad de millas en promedio que el vehículo puede recorrer.\n",
    "* El `tax` indica la cantidad de impuesto que paga el vehículo\n",
    "* El `mpg` indica las millas que puede recorrer el vehículo con un solo galón\n",
    "* El `engineSize` indica la cantidad en litros del motor que puede usar"
   ]
  },
  {
   "cell_type": "code",
   "execution_count": 5,
   "id": "6a952d38",
   "metadata": {},
   "outputs": [
    {
     "data": {
      "text/html": [
       "<div>\n",
       "<style scoped>\n",
       "    .dataframe tbody tr th:only-of-type {\n",
       "        vertical-align: middle;\n",
       "    }\n",
       "\n",
       "    .dataframe tbody tr th {\n",
       "        vertical-align: top;\n",
       "    }\n",
       "\n",
       "    .dataframe thead th {\n",
       "        text-align: right;\n",
       "    }\n",
       "</style>\n",
       "<table border=\"1\" class=\"dataframe\">\n",
       "  <thead>\n",
       "    <tr style=\"text-align: right;\">\n",
       "      <th></th>\n",
       "      <th>model</th>\n",
       "      <th>year</th>\n",
       "      <th>price</th>\n",
       "      <th>transmission</th>\n",
       "      <th>mileage</th>\n",
       "      <th>fuelType</th>\n",
       "      <th>tax</th>\n",
       "      <th>mpg</th>\n",
       "      <th>engineSize</th>\n",
       "      <th>Brand</th>\n",
       "    </tr>\n",
       "  </thead>\n",
       "  <tbody>\n",
       "    <tr>\n",
       "      <th>0</th>\n",
       "      <td>A1</td>\n",
       "      <td>2017</td>\n",
       "      <td>12500</td>\n",
       "      <td>Manual</td>\n",
       "      <td>15735</td>\n",
       "      <td>Petrol</td>\n",
       "      <td>150</td>\n",
       "      <td>55.4</td>\n",
       "      <td>1.4</td>\n",
       "      <td>Audi</td>\n",
       "    </tr>\n",
       "    <tr>\n",
       "      <th>1</th>\n",
       "      <td>A6</td>\n",
       "      <td>2016</td>\n",
       "      <td>16500</td>\n",
       "      <td>Automatic</td>\n",
       "      <td>36203</td>\n",
       "      <td>Diesel</td>\n",
       "      <td>20</td>\n",
       "      <td>64.2</td>\n",
       "      <td>2.0</td>\n",
       "      <td>Audi</td>\n",
       "    </tr>\n",
       "    <tr>\n",
       "      <th>2</th>\n",
       "      <td>A1</td>\n",
       "      <td>2016</td>\n",
       "      <td>11000</td>\n",
       "      <td>Manual</td>\n",
       "      <td>29946</td>\n",
       "      <td>Petrol</td>\n",
       "      <td>30</td>\n",
       "      <td>55.4</td>\n",
       "      <td>1.4</td>\n",
       "      <td>Audi</td>\n",
       "    </tr>\n",
       "    <tr>\n",
       "      <th>3</th>\n",
       "      <td>A4</td>\n",
       "      <td>2017</td>\n",
       "      <td>16800</td>\n",
       "      <td>Automatic</td>\n",
       "      <td>25952</td>\n",
       "      <td>Diesel</td>\n",
       "      <td>145</td>\n",
       "      <td>67.3</td>\n",
       "      <td>2.0</td>\n",
       "      <td>Audi</td>\n",
       "    </tr>\n",
       "    <tr>\n",
       "      <th>4</th>\n",
       "      <td>A3</td>\n",
       "      <td>2019</td>\n",
       "      <td>17300</td>\n",
       "      <td>Manual</td>\n",
       "      <td>1998</td>\n",
       "      <td>Petrol</td>\n",
       "      <td>145</td>\n",
       "      <td>49.6</td>\n",
       "      <td>1.0</td>\n",
       "      <td>Audi</td>\n",
       "    </tr>\n",
       "  </tbody>\n",
       "</table>\n",
       "</div>"
      ],
      "text/plain": [
       "  model  year  price transmission  mileage fuelType  tax   mpg  engineSize  \\\n",
       "0    A1  2017  12500       Manual    15735   Petrol  150  55.4         1.4   \n",
       "1    A6  2016  16500    Automatic    36203   Diesel   20  64.2         2.0   \n",
       "2    A1  2016  11000       Manual    29946   Petrol   30  55.4         1.4   \n",
       "3    A4  2017  16800    Automatic    25952   Diesel  145  67.3         2.0   \n",
       "4    A3  2019  17300       Manual     1998   Petrol  145  49.6         1.0   \n",
       "\n",
       "  Brand  \n",
       "0  Audi  \n",
       "1  Audi  \n",
       "2  Audi  \n",
       "3  Audi  \n",
       "4  Audi  "
      ]
     },
     "execution_count": 5,
     "metadata": {},
     "output_type": "execute_result"
    }
   ],
   "source": [
    "dataframe.head()"
   ]
  },
  {
   "cell_type": "markdown",
   "id": "10f050be",
   "metadata": {},
   "source": [
    "Ahora veamos las descripciones por marca de automovil. Observamos que la marca `Audi` presenta 6822 entradas, `Bmw` 4468, `Toyota` 3647, `Hyundi` 3542 y `Mercedes` 1028."
   ]
  },
  {
   "cell_type": "code",
   "execution_count": 6,
   "id": "840f53d6",
   "metadata": {},
   "outputs": [
    {
     "data": {
      "text/plain": [
       "Brand   \n",
       "Audi        6822\n",
       "Bmw         4468\n",
       "Toyota      3647\n",
       "Hyundi      3542\n",
       "Mercedes    1028\n",
       "dtype: int64"
      ]
     },
     "execution_count": 6,
     "metadata": {},
     "output_type": "execute_result"
    }
   ],
   "source": [
    "dataframe[['Brand']].value_counts()"
   ]
  },
  {
   "cell_type": "markdown",
   "id": "6f93dd76",
   "metadata": {},
   "source": [
    "El dataset completo presenta 25 modelos de vehículos, los cuáles pertenecen a 5 marcas específicas."
   ]
  },
  {
   "cell_type": "code",
   "execution_count": 7,
   "id": "64a36791",
   "metadata": {},
   "outputs": [
    {
     "data": {
      "text/html": [
       "<div>\n",
       "<style scoped>\n",
       "    .dataframe tbody tr th:only-of-type {\n",
       "        vertical-align: middle;\n",
       "    }\n",
       "\n",
       "    .dataframe tbody tr th {\n",
       "        vertical-align: top;\n",
       "    }\n",
       "\n",
       "    .dataframe thead th {\n",
       "        text-align: right;\n",
       "    }\n",
       "</style>\n",
       "<table border=\"1\" class=\"dataframe\">\n",
       "  <thead>\n",
       "    <tr style=\"text-align: right;\">\n",
       "      <th></th>\n",
       "      <th>model</th>\n",
       "      <th>transmission</th>\n",
       "      <th>fuelType</th>\n",
       "      <th>Brand</th>\n",
       "    </tr>\n",
       "  </thead>\n",
       "  <tbody>\n",
       "    <tr>\n",
       "      <th>count</th>\n",
       "      <td>19507</td>\n",
       "      <td>19507</td>\n",
       "      <td>19507</td>\n",
       "      <td>19507</td>\n",
       "    </tr>\n",
       "    <tr>\n",
       "      <th>unique</th>\n",
       "      <td>25</td>\n",
       "      <td>4</td>\n",
       "      <td>4</td>\n",
       "      <td>5</td>\n",
       "    </tr>\n",
       "    <tr>\n",
       "      <th>top</th>\n",
       "      <td>Yaris</td>\n",
       "      <td>Manual</td>\n",
       "      <td>Petrol</td>\n",
       "      <td>Audi</td>\n",
       "    </tr>\n",
       "    <tr>\n",
       "      <th>freq</th>\n",
       "      <td>2122</td>\n",
       "      <td>9815</td>\n",
       "      <td>9844</td>\n",
       "      <td>6822</td>\n",
       "    </tr>\n",
       "  </tbody>\n",
       "</table>\n",
       "</div>"
      ],
      "text/plain": [
       "        model transmission fuelType  Brand\n",
       "count   19507        19507    19507  19507\n",
       "unique     25            4        4      5\n",
       "top     Yaris       Manual   Petrol   Audi\n",
       "freq     2122         9815     9844   6822"
      ]
     },
     "execution_count": 7,
     "metadata": {},
     "output_type": "execute_result"
    }
   ],
   "source": [
    "dataframe.describe(include=['O'])"
   ]
  },
  {
   "cell_type": "markdown",
   "id": "8b8ee344",
   "metadata": {},
   "source": [
    "Existen 4 tipos de transmissión: 'Manual', 'Automatic', 'Semi-Auto' y 'Other'."
   ]
  },
  {
   "cell_type": "code",
   "execution_count": 8,
   "id": "2418e335",
   "metadata": {},
   "outputs": [
    {
     "name": "stdout",
     "output_type": "stream",
     "text": [
      "(4,)\n"
     ]
    },
    {
     "data": {
      "text/plain": [
       "array(['Manual', 'Automatic', 'Semi-Auto', 'Other'], dtype=object)"
      ]
     },
     "execution_count": 8,
     "metadata": {},
     "output_type": "execute_result"
    }
   ],
   "source": [
    "modelunique = pd.unique(dataframe['transmission'])\n",
    "print(modelunique.shape)\n",
    "modelunique"
   ]
  },
  {
   "cell_type": "markdown",
   "id": "41f8364e",
   "metadata": {},
   "source": [
    "Existen 4 tipos de combustible, 'Petrol', 'Diesel', 'Hybrid' y 'Other."
   ]
  },
  {
   "cell_type": "code",
   "execution_count": 9,
   "id": "f2cf12d1",
   "metadata": {},
   "outputs": [
    {
     "name": "stdout",
     "output_type": "stream",
     "text": [
      "(4,)\n"
     ]
    },
    {
     "data": {
      "text/plain": [
       "array(['Petrol', 'Diesel', 'Hybrid', 'Other'], dtype=object)"
      ]
     },
     "execution_count": 9,
     "metadata": {},
     "output_type": "execute_result"
    }
   ],
   "source": [
    "modelunique = pd.unique(dataframe['fuelType'])\n",
    "print(modelunique.shape)\n",
    "modelunique"
   ]
  },
  {
   "cell_type": "markdown",
   "id": "f33b6d8a",
   "metadata": {},
   "source": [
    "Temporalmente vamos a separar el dataset, dependiendo de la marca para el análisis de sus variables."
   ]
  },
  {
   "cell_type": "code",
   "execution_count": 10,
   "id": "9a69f962",
   "metadata": {},
   "outputs": [],
   "source": [
    "DatasetAudi = dataframe[dataframe['Brand'] == 'Audi']\n",
    "DatasetBmw = dataframe[dataframe['Brand'] == 'Bmw']\n",
    "DatasetHyundi = dataframe[dataframe['Brand'] == 'Hyundi']\n",
    "DatasetMerc = dataframe[dataframe['Brand'] == 'Mercedes']\n",
    "DatasetToyota = dataframe[dataframe['Brand'] == 'Toyota']"
   ]
  },
  {
   "cell_type": "markdown",
   "id": "70942495",
   "metadata": {},
   "source": [
    "### Marca de vehículo `Audi`"
   ]
  },
  {
   "cell_type": "markdown",
   "id": "95e6eaac",
   "metadata": {},
   "source": [
    "Dentro de las características de la marca `Audi` podemos encontrar:\n",
    "* El año oscila entre 1998 a 2020, y solo el 6% son del año 2020.\n",
    "* El precio del vehiculo esta entre 1,490 a 60,000 euros, el 1% tiene su precio mayor a 42,000 euros.\n",
    "* Las millas oscilan entre 5 a 323,000 y la media en esta marca es de 27,257 millas.\n",
    "* El impuesto que paga el vehículo circula entre 0 a 570 euros, solo el 1% paga más de 235 euros.\n",
    "* En promedio un vehículo puede recorrer 54 millas por un galón, siendo el mínimo 19.3 y el máximo 188.3.\n",
    "* El motor puede usar hasta 5.2 litros, siendo el promedio 1.75 litros."
   ]
  },
  {
   "cell_type": "code",
   "execution_count": 11,
   "id": "be14f961",
   "metadata": {},
   "outputs": [
    {
     "data": {
      "text/html": [
       "<div>\n",
       "<style scoped>\n",
       "    .dataframe tbody tr th:only-of-type {\n",
       "        vertical-align: middle;\n",
       "    }\n",
       "\n",
       "    .dataframe tbody tr th {\n",
       "        vertical-align: top;\n",
       "    }\n",
       "\n",
       "    .dataframe thead th {\n",
       "        text-align: right;\n",
       "    }\n",
       "</style>\n",
       "<table border=\"1\" class=\"dataframe\">\n",
       "  <thead>\n",
       "    <tr style=\"text-align: right;\">\n",
       "      <th></th>\n",
       "      <th>year</th>\n",
       "      <th>price</th>\n",
       "      <th>mileage</th>\n",
       "      <th>tax</th>\n",
       "      <th>mpg</th>\n",
       "      <th>engineSize</th>\n",
       "    </tr>\n",
       "  </thead>\n",
       "  <tbody>\n",
       "    <tr>\n",
       "      <th>count</th>\n",
       "      <td>6822.000000</td>\n",
       "      <td>6822.000000</td>\n",
       "      <td>6822.000000</td>\n",
       "      <td>6822.000000</td>\n",
       "      <td>6822.000000</td>\n",
       "      <td>6822.000000</td>\n",
       "    </tr>\n",
       "    <tr>\n",
       "      <th>mean</th>\n",
       "      <td>2016.878628</td>\n",
       "      <td>19117.472589</td>\n",
       "      <td>27257.501026</td>\n",
       "      <td>107.269862</td>\n",
       "      <td>54.228305</td>\n",
       "      <td>1.754354</td>\n",
       "    </tr>\n",
       "    <tr>\n",
       "      <th>std</th>\n",
       "      <td>2.123220</td>\n",
       "      <td>7690.111698</td>\n",
       "      <td>24201.455062</td>\n",
       "      <td>63.877972</td>\n",
       "      <td>12.665225</td>\n",
       "      <td>0.438000</td>\n",
       "    </tr>\n",
       "    <tr>\n",
       "      <th>min</th>\n",
       "      <td>1998.000000</td>\n",
       "      <td>1490.000000</td>\n",
       "      <td>5.000000</td>\n",
       "      <td>0.000000</td>\n",
       "      <td>19.300000</td>\n",
       "      <td>0.000000</td>\n",
       "    </tr>\n",
       "    <tr>\n",
       "      <th>25%</th>\n",
       "      <td>2016.000000</td>\n",
       "      <td>13486.250000</td>\n",
       "      <td>7040.250000</td>\n",
       "      <td>30.000000</td>\n",
       "      <td>45.600000</td>\n",
       "      <td>1.400000</td>\n",
       "    </tr>\n",
       "    <tr>\n",
       "      <th>50%</th>\n",
       "      <td>2017.000000</td>\n",
       "      <td>17947.500000</td>\n",
       "      <td>22228.500000</td>\n",
       "      <td>145.000000</td>\n",
       "      <td>53.300000</td>\n",
       "      <td>2.000000</td>\n",
       "    </tr>\n",
       "    <tr>\n",
       "      <th>75%</th>\n",
       "      <td>2019.000000</td>\n",
       "      <td>23495.000000</td>\n",
       "      <td>38685.000000</td>\n",
       "      <td>145.000000</td>\n",
       "      <td>61.400000</td>\n",
       "      <td>2.000000</td>\n",
       "    </tr>\n",
       "    <tr>\n",
       "      <th>max</th>\n",
       "      <td>2020.000000</td>\n",
       "      <td>60000.000000</td>\n",
       "      <td>323000.000000</td>\n",
       "      <td>570.000000</td>\n",
       "      <td>188.300000</td>\n",
       "      <td>5.200000</td>\n",
       "    </tr>\n",
       "  </tbody>\n",
       "</table>\n",
       "</div>"
      ],
      "text/plain": [
       "              year         price        mileage          tax          mpg  \\\n",
       "count  6822.000000   6822.000000    6822.000000  6822.000000  6822.000000   \n",
       "mean   2016.878628  19117.472589   27257.501026   107.269862    54.228305   \n",
       "std       2.123220   7690.111698   24201.455062    63.877972    12.665225   \n",
       "min    1998.000000   1490.000000       5.000000     0.000000    19.300000   \n",
       "25%    2016.000000  13486.250000    7040.250000    30.000000    45.600000   \n",
       "50%    2017.000000  17947.500000   22228.500000   145.000000    53.300000   \n",
       "75%    2019.000000  23495.000000   38685.000000   145.000000    61.400000   \n",
       "max    2020.000000  60000.000000  323000.000000   570.000000   188.300000   \n",
       "\n",
       "        engineSize  \n",
       "count  6822.000000  \n",
       "mean      1.754354  \n",
       "std       0.438000  \n",
       "min       0.000000  \n",
       "25%       1.400000  \n",
       "50%       2.000000  \n",
       "75%       2.000000  \n",
       "max       5.200000  "
      ]
     },
     "execution_count": 11,
     "metadata": {},
     "output_type": "execute_result"
    }
   ],
   "source": [
    "DatasetAudi.describe()\n",
    "# DatasetAudi.describe([.94])\n",
    "# DatasetAudi.describe([.99])"
   ]
  },
  {
   "cell_type": "markdown",
   "id": "c1a83c9a",
   "metadata": {},
   "source": [
    "El dataset presenta solo cinco modelos de vehículos 'A1', 'A6', 'A4', 'A3' y 'Q3'."
   ]
  },
  {
   "cell_type": "code",
   "execution_count": 12,
   "id": "137eacfe",
   "metadata": {},
   "outputs": [
    {
     "name": "stdout",
     "output_type": "stream",
     "text": [
      "(5,)\n"
     ]
    },
    {
     "data": {
      "text/plain": [
       "array(['A1', 'A6', 'A4', 'A3', 'Q3'], dtype=object)"
      ]
     },
     "execution_count": 12,
     "metadata": {},
     "output_type": "execute_result"
    }
   ],
   "source": [
    "modelunique = pd.unique(DatasetAudi['model'])\n",
    "print(modelunique.shape)\n",
    "modelunique"
   ]
  },
  {
   "cell_type": "markdown",
   "id": "fa6316a3",
   "metadata": {},
   "source": [
    "### Marca de vehículo `Bmw`"
   ]
  },
  {
   "cell_type": "markdown",
   "id": "442dff8a",
   "metadata": {},
   "source": [
    "Dentro de las características de la marca `Bmw`, podemos encontrar:\n",
    "* El año oscila entre 1996 a 2020, y solo el 6% son del año 2020.\n",
    "* El precio del vehiculo esta entre 1,500 a 123,456 euros, el 1% tiene su precio mayor a 46,631 euros.\n",
    "* Las millas oscilan entre 5 a 178,987 y la media en esta marca es de 25,588 millas.\n",
    "* El impuesto que paga el vehículo circula entre 0 a 565 euros, solo el 1% paga más de 300 euros.\n",
    "* En promedio un vehículo puede recorrer 57 millas por un galón, siendo el mínimo 22 y el máximo 565.\n",
    "* El motor puede usar hasta 6.6 litros, siendo el promedio 2.017 litros."
   ]
  },
  {
   "cell_type": "code",
   "execution_count": 13,
   "id": "b25691a2",
   "metadata": {},
   "outputs": [
    {
     "data": {
      "text/html": [
       "<div>\n",
       "<style scoped>\n",
       "    .dataframe tbody tr th:only-of-type {\n",
       "        vertical-align: middle;\n",
       "    }\n",
       "\n",
       "    .dataframe tbody tr th {\n",
       "        vertical-align: top;\n",
       "    }\n",
       "\n",
       "    .dataframe thead th {\n",
       "        text-align: right;\n",
       "    }\n",
       "</style>\n",
       "<table border=\"1\" class=\"dataframe\">\n",
       "  <thead>\n",
       "    <tr style=\"text-align: right;\">\n",
       "      <th></th>\n",
       "      <th>year</th>\n",
       "      <th>price</th>\n",
       "      <th>mileage</th>\n",
       "      <th>tax</th>\n",
       "      <th>mpg</th>\n",
       "      <th>engineSize</th>\n",
       "    </tr>\n",
       "  </thead>\n",
       "  <tbody>\n",
       "    <tr>\n",
       "      <th>count</th>\n",
       "      <td>4468.000000</td>\n",
       "      <td>4468.000000</td>\n",
       "      <td>4468.000000</td>\n",
       "      <td>4468.000000</td>\n",
       "      <td>4468.000000</td>\n",
       "      <td>4468.000000</td>\n",
       "    </tr>\n",
       "    <tr>\n",
       "      <th>mean</th>\n",
       "      <td>2016.997986</td>\n",
       "      <td>19138.673008</td>\n",
       "      <td>25588.464637</td>\n",
       "      <td>121.223142</td>\n",
       "      <td>57.675582</td>\n",
       "      <td>2.017413</td>\n",
       "    </tr>\n",
       "    <tr>\n",
       "      <th>std</th>\n",
       "      <td>2.228244</td>\n",
       "      <td>8142.553873</td>\n",
       "      <td>24372.575930</td>\n",
       "      <td>62.860406</td>\n",
       "      <td>17.440428</td>\n",
       "      <td>0.529253</td>\n",
       "    </tr>\n",
       "    <tr>\n",
       "      <th>min</th>\n",
       "      <td>1996.000000</td>\n",
       "      <td>1500.000000</td>\n",
       "      <td>5.000000</td>\n",
       "      <td>0.000000</td>\n",
       "      <td>22.100000</td>\n",
       "      <td>0.000000</td>\n",
       "    </tr>\n",
       "    <tr>\n",
       "      <th>25%</th>\n",
       "      <td>2016.000000</td>\n",
       "      <td>13000.000000</td>\n",
       "      <td>6096.000000</td>\n",
       "      <td>125.000000</td>\n",
       "      <td>48.700000</td>\n",
       "      <td>1.500000</td>\n",
       "    </tr>\n",
       "    <tr>\n",
       "      <th>50%</th>\n",
       "      <td>2017.000000</td>\n",
       "      <td>17854.000000</td>\n",
       "      <td>19584.500000</td>\n",
       "      <td>145.000000</td>\n",
       "      <td>54.300000</td>\n",
       "      <td>2.000000</td>\n",
       "    </tr>\n",
       "    <tr>\n",
       "      <th>75%</th>\n",
       "      <td>2019.000000</td>\n",
       "      <td>23450.000000</td>\n",
       "      <td>37507.250000</td>\n",
       "      <td>145.000000</td>\n",
       "      <td>65.700000</td>\n",
       "      <td>2.000000</td>\n",
       "    </tr>\n",
       "    <tr>\n",
       "      <th>max</th>\n",
       "      <td>2020.000000</td>\n",
       "      <td>123456.000000</td>\n",
       "      <td>178987.000000</td>\n",
       "      <td>565.000000</td>\n",
       "      <td>156.900000</td>\n",
       "      <td>6.600000</td>\n",
       "    </tr>\n",
       "  </tbody>\n",
       "</table>\n",
       "</div>"
      ],
      "text/plain": [
       "              year          price        mileage          tax          mpg  \\\n",
       "count  4468.000000    4468.000000    4468.000000  4468.000000  4468.000000   \n",
       "mean   2016.997986   19138.673008   25588.464637   121.223142    57.675582   \n",
       "std       2.228244    8142.553873   24372.575930    62.860406    17.440428   \n",
       "min    1996.000000    1500.000000       5.000000     0.000000    22.100000   \n",
       "25%    2016.000000   13000.000000    6096.000000   125.000000    48.700000   \n",
       "50%    2017.000000   17854.000000   19584.500000   145.000000    54.300000   \n",
       "75%    2019.000000   23450.000000   37507.250000   145.000000    65.700000   \n",
       "max    2020.000000  123456.000000  178987.000000   565.000000   156.900000   \n",
       "\n",
       "        engineSize  \n",
       "count  4468.000000  \n",
       "mean      2.017413  \n",
       "std       0.529253  \n",
       "min       0.000000  \n",
       "25%       1.500000  \n",
       "50%       2.000000  \n",
       "75%       2.000000  \n",
       "max       6.600000  "
      ]
     },
     "execution_count": 13,
     "metadata": {},
     "output_type": "execute_result"
    }
   ],
   "source": [
    "DatasetBmw.describe()\n",
    "# dataframe[dataframe['Brand'] == 'Bmw'].describe([.99])"
   ]
  },
  {
   "cell_type": "markdown",
   "id": "2c3139f1",
   "metadata": {},
   "source": [
    "El dataset presenta solo cinco modelos de vehículos '5 Series', '6 Series', '1 Series', '7 Series' y '2 Series'."
   ]
  },
  {
   "cell_type": "code",
   "execution_count": 14,
   "id": "e5065898",
   "metadata": {},
   "outputs": [
    {
     "name": "stdout",
     "output_type": "stream",
     "text": [
      "(5,)\n"
     ]
    },
    {
     "data": {
      "text/plain": [
       "array(['5 Series', '6 Series', '1 Series', '7 Series', '2 Series'],\n",
       "      dtype=object)"
      ]
     },
     "execution_count": 14,
     "metadata": {},
     "output_type": "execute_result"
    }
   ],
   "source": [
    "modelunique = pd.unique(DatasetBmw['model'])\n",
    "print(modelunique.shape)\n",
    "modelunique"
   ]
  },
  {
   "cell_type": "markdown",
   "id": "2e5812ef",
   "metadata": {},
   "source": [
    "### Marca de vehículo `Toyota`"
   ]
  },
  {
   "cell_type": "markdown",
   "id": "d91456de",
   "metadata": {},
   "source": [
    "Dentro de las características de la marca `Toyota`, podemos encontrar:\n",
    "* El año oscila entre 1999 a 2020, y solo el 2% son del año 2020.\n",
    "* Antes del año 2000 solo hay menos del 0.1% de carros.\n",
    "* El precio del vehiculo esta entre 899 a 37,440 euros, el 1% tiene su precio mayor a 29,901 euros.\n",
    "* Las millas oscilan entre 2 a 150,000 y la media en esta marca es de 24,471 millas.\n",
    "* El impuesto que paga el vehículo circula entre 0 a 330 euros, solo el 1% paga más de 260 euros y es menor al precio maximo de tax de la marca Bmw.\n",
    "* En promedio un vehículo puede recorrer 61 millas por un galón, siendo el mínimo 30 y el máximo 86.\n",
    "* El motor puede usar hasta 2.5 litros, siendo el promedio 1.610 litros."
   ]
  },
  {
   "cell_type": "code",
   "execution_count": 15,
   "id": "160b135d",
   "metadata": {},
   "outputs": [
    {
     "data": {
      "text/html": [
       "<div>\n",
       "<style scoped>\n",
       "    .dataframe tbody tr th:only-of-type {\n",
       "        vertical-align: middle;\n",
       "    }\n",
       "\n",
       "    .dataframe tbody tr th {\n",
       "        vertical-align: top;\n",
       "    }\n",
       "\n",
       "    .dataframe thead th {\n",
       "        text-align: right;\n",
       "    }\n",
       "</style>\n",
       "<table border=\"1\" class=\"dataframe\">\n",
       "  <thead>\n",
       "    <tr style=\"text-align: right;\">\n",
       "      <th></th>\n",
       "      <th>year</th>\n",
       "      <th>price</th>\n",
       "      <th>mileage</th>\n",
       "      <th>tax</th>\n",
       "      <th>mpg</th>\n",
       "      <th>engineSize</th>\n",
       "    </tr>\n",
       "  </thead>\n",
       "  <tbody>\n",
       "    <tr>\n",
       "      <th>count</th>\n",
       "      <td>3647.000000</td>\n",
       "      <td>3647.000000</td>\n",
       "      <td>3647.000000</td>\n",
       "      <td>3647.000000</td>\n",
       "      <td>3647.000000</td>\n",
       "      <td>3647.000000</td>\n",
       "    </tr>\n",
       "    <tr>\n",
       "      <th>mean</th>\n",
       "      <td>2016.555525</td>\n",
       "      <td>12869.348506</td>\n",
       "      <td>24471.850836</td>\n",
       "      <td>88.209487</td>\n",
       "      <td>61.496381</td>\n",
       "      <td>1.610063</td>\n",
       "    </tr>\n",
       "    <tr>\n",
       "      <th>std</th>\n",
       "      <td>2.334395</td>\n",
       "      <td>5110.881286</td>\n",
       "      <td>19398.308769</td>\n",
       "      <td>70.549539</td>\n",
       "      <td>12.981112</td>\n",
       "      <td>0.340533</td>\n",
       "    </tr>\n",
       "    <tr>\n",
       "      <th>min</th>\n",
       "      <td>1999.000000</td>\n",
       "      <td>899.000000</td>\n",
       "      <td>2.000000</td>\n",
       "      <td>0.000000</td>\n",
       "      <td>30.400000</td>\n",
       "      <td>0.000000</td>\n",
       "    </tr>\n",
       "    <tr>\n",
       "      <th>25%</th>\n",
       "      <td>2016.000000</td>\n",
       "      <td>9795.000000</td>\n",
       "      <td>10000.000000</td>\n",
       "      <td>20.000000</td>\n",
       "      <td>52.300000</td>\n",
       "      <td>1.400000</td>\n",
       "    </tr>\n",
       "    <tr>\n",
       "      <th>50%</th>\n",
       "      <td>2017.000000</td>\n",
       "      <td>11895.000000</td>\n",
       "      <td>20069.000000</td>\n",
       "      <td>135.000000</td>\n",
       "      <td>58.900000</td>\n",
       "      <td>1.500000</td>\n",
       "    </tr>\n",
       "    <tr>\n",
       "      <th>75%</th>\n",
       "      <td>2018.000000</td>\n",
       "      <td>14698.000000</td>\n",
       "      <td>33395.500000</td>\n",
       "      <td>145.000000</td>\n",
       "      <td>72.400000</td>\n",
       "      <td>1.800000</td>\n",
       "    </tr>\n",
       "    <tr>\n",
       "      <th>max</th>\n",
       "      <td>2020.000000</td>\n",
       "      <td>37440.000000</td>\n",
       "      <td>150000.000000</td>\n",
       "      <td>330.000000</td>\n",
       "      <td>86.000000</td>\n",
       "      <td>2.500000</td>\n",
       "    </tr>\n",
       "  </tbody>\n",
       "</table>\n",
       "</div>"
      ],
      "text/plain": [
       "              year         price        mileage          tax          mpg  \\\n",
       "count  3647.000000   3647.000000    3647.000000  3647.000000  3647.000000   \n",
       "mean   2016.555525  12869.348506   24471.850836    88.209487    61.496381   \n",
       "std       2.334395   5110.881286   19398.308769    70.549539    12.981112   \n",
       "min    1999.000000    899.000000       2.000000     0.000000    30.400000   \n",
       "25%    2016.000000   9795.000000   10000.000000    20.000000    52.300000   \n",
       "50%    2017.000000  11895.000000   20069.000000   135.000000    58.900000   \n",
       "75%    2018.000000  14698.000000   33395.500000   145.000000    72.400000   \n",
       "max    2020.000000  37440.000000  150000.000000   330.000000    86.000000   \n",
       "\n",
       "        engineSize  \n",
       "count  3647.000000  \n",
       "mean      1.610063  \n",
       "std       0.340533  \n",
       "min       0.000000  \n",
       "25%       1.400000  \n",
       "50%       1.500000  \n",
       "75%       1.800000  \n",
       "max       2.500000  "
      ]
     },
     "execution_count": 15,
     "metadata": {},
     "output_type": "execute_result"
    }
   ],
   "source": [
    "DatasetToyota.describe()\n",
    "#DatasetToyota.describe([.99])\n",
    "#DatasetToyota.describe([.001])"
   ]
  },
  {
   "cell_type": "markdown",
   "id": "62af1f51",
   "metadata": {},
   "source": [
    "El dataset presenta solo cinco modelos de vehículos 'GT86', 'Corolla', 'RAV4', 'Yaris' y 'Auris'."
   ]
  },
  {
   "cell_type": "code",
   "execution_count": 16,
   "id": "b8902a08",
   "metadata": {},
   "outputs": [
    {
     "name": "stdout",
     "output_type": "stream",
     "text": [
      "(5,)\n"
     ]
    },
    {
     "data": {
      "text/plain": [
       "array(['GT86', 'Corolla', 'RAV4', 'Yaris', 'Auris'], dtype=object)"
      ]
     },
     "execution_count": 16,
     "metadata": {},
     "output_type": "execute_result"
    }
   ],
   "source": [
    "modelunique = pd.unique(DatasetToyota['model'])\n",
    "print(modelunique.shape)\n",
    "modelunique"
   ]
  },
  {
   "cell_type": "markdown",
   "id": "92fd3a24",
   "metadata": {},
   "source": [
    "### Marca de vehículo `Hyundi`"
   ]
  },
  {
   "cell_type": "markdown",
   "id": "27a22180",
   "metadata": {},
   "source": [
    "Dentro de las características de la marca `Hyundi`, podemos encontrar:\n",
    "* El año oscila entre 2007 a 2020, y solo el 4% son del año 2020.\n",
    "* El precio del vehiculo esta entre 1,395 a 92,000 euros, el 1% tiene su precio mayor a 80,274 euros.\n",
    "* Las millas oscilan entre 1 a 305 y la media en esta marca es de 22,178 millas.\n",
    "* El impuesto que paga el vehículo circula entre 0 a 305 euros, solo el 1% paga más de 222 euros.\n",
    "* En promedio un vehículo puede recorrer 54 millas por un galón, siendo el mínimo 34 y el máximo 78.\n",
    "* El motor puede usar hasta 2.2 litros, siendo el promedio 1.387 litros."
   ]
  },
  {
   "cell_type": "code",
   "execution_count": 17,
   "id": "9f773b61",
   "metadata": {},
   "outputs": [
    {
     "data": {
      "text/html": [
       "<div>\n",
       "<style scoped>\n",
       "    .dataframe tbody tr th:only-of-type {\n",
       "        vertical-align: middle;\n",
       "    }\n",
       "\n",
       "    .dataframe tbody tr th {\n",
       "        vertical-align: top;\n",
       "    }\n",
       "\n",
       "    .dataframe thead th {\n",
       "        text-align: right;\n",
       "    }\n",
       "</style>\n",
       "<table border=\"1\" class=\"dataframe\">\n",
       "  <thead>\n",
       "    <tr style=\"text-align: right;\">\n",
       "      <th></th>\n",
       "      <th>year</th>\n",
       "      <th>price</th>\n",
       "      <th>mileage</th>\n",
       "      <th>tax</th>\n",
       "      <th>mpg</th>\n",
       "      <th>engineSize</th>\n",
       "    </tr>\n",
       "  </thead>\n",
       "  <tbody>\n",
       "    <tr>\n",
       "      <th>count</th>\n",
       "      <td>3542.000000</td>\n",
       "      <td>3542.000000</td>\n",
       "      <td>3542.000000</td>\n",
       "      <td>3542.000000</td>\n",
       "      <td>3542.000000</td>\n",
       "      <td>3542.000000</td>\n",
       "    </tr>\n",
       "    <tr>\n",
       "      <th>mean</th>\n",
       "      <td>2016.970356</td>\n",
       "      <td>11460.088368</td>\n",
       "      <td>22178.209204</td>\n",
       "      <td>112.656691</td>\n",
       "      <td>54.205703</td>\n",
       "      <td>1.386618</td>\n",
       "    </tr>\n",
       "    <tr>\n",
       "      <th>std</th>\n",
       "      <td>1.848993</td>\n",
       "      <td>5102.150041</td>\n",
       "      <td>17641.624728</td>\n",
       "      <td>58.565166</td>\n",
       "      <td>9.951838</td>\n",
       "      <td>0.342238</td>\n",
       "    </tr>\n",
       "    <tr>\n",
       "      <th>min</th>\n",
       "      <td>2007.000000</td>\n",
       "      <td>1395.000000</td>\n",
       "      <td>1.000000</td>\n",
       "      <td>0.000000</td>\n",
       "      <td>34.000000</td>\n",
       "      <td>0.000000</td>\n",
       "    </tr>\n",
       "    <tr>\n",
       "      <th>25%</th>\n",
       "      <td>2016.000000</td>\n",
       "      <td>7665.500000</td>\n",
       "      <td>9207.500000</td>\n",
       "      <td>30.000000</td>\n",
       "      <td>47.100000</td>\n",
       "      <td>1.200000</td>\n",
       "    </tr>\n",
       "    <tr>\n",
       "      <th>50%</th>\n",
       "      <td>2017.000000</td>\n",
       "      <td>10280.000000</td>\n",
       "      <td>18275.000000</td>\n",
       "      <td>145.000000</td>\n",
       "      <td>57.600000</td>\n",
       "      <td>1.400000</td>\n",
       "    </tr>\n",
       "    <tr>\n",
       "      <th>75%</th>\n",
       "      <td>2018.000000</td>\n",
       "      <td>14488.750000</td>\n",
       "      <td>31347.500000</td>\n",
       "      <td>145.000000</td>\n",
       "      <td>60.100000</td>\n",
       "      <td>1.600000</td>\n",
       "    </tr>\n",
       "    <tr>\n",
       "      <th>max</th>\n",
       "      <td>2020.000000</td>\n",
       "      <td>92000.000000</td>\n",
       "      <td>138000.000000</td>\n",
       "      <td>305.000000</td>\n",
       "      <td>78.400000</td>\n",
       "      <td>2.200000</td>\n",
       "    </tr>\n",
       "  </tbody>\n",
       "</table>\n",
       "</div>"
      ],
      "text/plain": [
       "              year         price        mileage          tax          mpg  \\\n",
       "count  3542.000000   3542.000000    3542.000000  3542.000000  3542.000000   \n",
       "mean   2016.970356  11460.088368   22178.209204   112.656691    54.205703   \n",
       "std       1.848993   5102.150041   17641.624728    58.565166     9.951838   \n",
       "min    2007.000000   1395.000000       1.000000     0.000000    34.000000   \n",
       "25%    2016.000000   7665.500000    9207.500000    30.000000    47.100000   \n",
       "50%    2017.000000  10280.000000   18275.000000   145.000000    57.600000   \n",
       "75%    2018.000000  14488.750000   31347.500000   145.000000    60.100000   \n",
       "max    2020.000000  92000.000000  138000.000000   305.000000    78.400000   \n",
       "\n",
       "        engineSize  \n",
       "count  3542.000000  \n",
       "mean      1.386618  \n",
       "std       0.342238  \n",
       "min       0.000000  \n",
       "25%       1.200000  \n",
       "50%       1.400000  \n",
       "75%       1.600000  \n",
       "max       2.200000  "
      ]
     },
     "execution_count": 17,
     "metadata": {},
     "output_type": "execute_result"
    }
   ],
   "source": [
    "DatasetHyundi.describe()\n",
    "#DatasetHyundi.describe([.96,.97,.99])"
   ]
  },
  {
   "cell_type": "markdown",
   "id": "605f0d70",
   "metadata": {},
   "source": [
    "El dataset presenta solo cinco modelos de vehículos 'I20', 'Tucson', 'I10', 'IX35' y 'I30'."
   ]
  },
  {
   "cell_type": "code",
   "execution_count": 18,
   "id": "fe931205",
   "metadata": {},
   "outputs": [
    {
     "name": "stdout",
     "output_type": "stream",
     "text": [
      "(5,)\n"
     ]
    },
    {
     "data": {
      "text/plain": [
       "array(['I20', 'Tucson', 'I10', 'IX35', 'I30'], dtype=object)"
      ]
     },
     "execution_count": 18,
     "metadata": {},
     "output_type": "execute_result"
    }
   ],
   "source": [
    "modelunique = pd.unique(DatasetHyundi['model'])\n",
    "print(modelunique.shape)\n",
    "modelunique"
   ]
  },
  {
   "cell_type": "markdown",
   "id": "323f4a73",
   "metadata": {},
   "source": [
    "### Marca de vehículo `Mercedes`"
   ]
  },
  {
   "cell_type": "markdown",
   "id": "1f373b43",
   "metadata": {},
   "source": [
    "Dentro de las características de la marca `Mercedes`, podemos encontrar:\n",
    "* El año oscila entre 1997 a 2020, y solo el 6% son del año 2020.\n",
    "* El precio del vehiculo esta entre 1,490 a 159,999 euros, el 1% tiene su precio mayor a 103,887 euros.\n",
    "* Las millas oscilan entre 9 a 122,000 y la media en esta marca es de 20,432 millas.\n",
    "* El impuesto que paga el vehículo circula entre 0 a 580 euros, solo el 1% paga más de 570 euros.\n",
    "* En promedio un vehículo puede recorrer 43 millas por un galón, siendo el mínimo 11 y el máximo 122.\n",
    "* El motor puede usar hasta 6.2 litros, siendo el promedio 2.778 litros."
   ]
  },
  {
   "cell_type": "code",
   "execution_count": 19,
   "id": "66af75eb",
   "metadata": {},
   "outputs": [
    {
     "data": {
      "text/html": [
       "<div>\n",
       "<style scoped>\n",
       "    .dataframe tbody tr th:only-of-type {\n",
       "        vertical-align: middle;\n",
       "    }\n",
       "\n",
       "    .dataframe tbody tr th {\n",
       "        vertical-align: top;\n",
       "    }\n",
       "\n",
       "    .dataframe thead th {\n",
       "        text-align: right;\n",
       "    }\n",
       "</style>\n",
       "<table border=\"1\" class=\"dataframe\">\n",
       "  <thead>\n",
       "    <tr style=\"text-align: right;\">\n",
       "      <th></th>\n",
       "      <th>year</th>\n",
       "      <th>price</th>\n",
       "      <th>mileage</th>\n",
       "      <th>tax</th>\n",
       "      <th>mpg</th>\n",
       "      <th>engineSize</th>\n",
       "    </tr>\n",
       "  </thead>\n",
       "  <tbody>\n",
       "    <tr>\n",
       "      <th>count</th>\n",
       "      <td>1028.000000</td>\n",
       "      <td>1028.000000</td>\n",
       "      <td>1028.000000</td>\n",
       "      <td>1028.000000</td>\n",
       "      <td>1028.000000</td>\n",
       "      <td>1028.000000</td>\n",
       "    </tr>\n",
       "    <tr>\n",
       "      <th>mean</th>\n",
       "      <td>2016.653696</td>\n",
       "      <td>36994.132296</td>\n",
       "      <td>20432.758755</td>\n",
       "      <td>175.544747</td>\n",
       "      <td>43.707685</td>\n",
       "      <td>2.777626</td>\n",
       "    </tr>\n",
       "    <tr>\n",
       "      <th>std</th>\n",
       "      <td>3.576772</td>\n",
       "      <td>19979.836258</td>\n",
       "      <td>19784.435673</td>\n",
       "      <td>91.615890</td>\n",
       "      <td>12.737181</td>\n",
       "      <td>0.835230</td>\n",
       "    </tr>\n",
       "    <tr>\n",
       "      <th>min</th>\n",
       "      <td>1997.000000</td>\n",
       "      <td>1490.000000</td>\n",
       "      <td>9.000000</td>\n",
       "      <td>0.000000</td>\n",
       "      <td>11.000000</td>\n",
       "      <td>0.000000</td>\n",
       "    </tr>\n",
       "    <tr>\n",
       "      <th>25%</th>\n",
       "      <td>2016.000000</td>\n",
       "      <td>24987.750000</td>\n",
       "      <td>4988.500000</td>\n",
       "      <td>145.000000</td>\n",
       "      <td>34.000000</td>\n",
       "      <td>2.100000</td>\n",
       "    </tr>\n",
       "    <tr>\n",
       "      <th>50%</th>\n",
       "      <td>2017.000000</td>\n",
       "      <td>31990.000000</td>\n",
       "      <td>15094.000000</td>\n",
       "      <td>145.000000</td>\n",
       "      <td>42.800000</td>\n",
       "      <td>3.000000</td>\n",
       "    </tr>\n",
       "    <tr>\n",
       "      <th>75%</th>\n",
       "      <td>2019.000000</td>\n",
       "      <td>49484.750000</td>\n",
       "      <td>30135.750000</td>\n",
       "      <td>200.000000</td>\n",
       "      <td>47.900000</td>\n",
       "      <td>3.000000</td>\n",
       "    </tr>\n",
       "    <tr>\n",
       "      <th>max</th>\n",
       "      <td>2020.000000</td>\n",
       "      <td>159999.000000</td>\n",
       "      <td>122000.000000</td>\n",
       "      <td>580.000000</td>\n",
       "      <td>122.900000</td>\n",
       "      <td>6.200000</td>\n",
       "    </tr>\n",
       "  </tbody>\n",
       "</table>\n",
       "</div>"
      ],
      "text/plain": [
       "              year          price        mileage          tax          mpg  \\\n",
       "count  1028.000000    1028.000000    1028.000000  1028.000000  1028.000000   \n",
       "mean   2016.653696   36994.132296   20432.758755   175.544747    43.707685   \n",
       "std       3.576772   19979.836258   19784.435673    91.615890    12.737181   \n",
       "min    1997.000000    1490.000000       9.000000     0.000000    11.000000   \n",
       "25%    2016.000000   24987.750000    4988.500000   145.000000    34.000000   \n",
       "50%    2017.000000   31990.000000   15094.000000   145.000000    42.800000   \n",
       "75%    2019.000000   49484.750000   30135.750000   200.000000    47.900000   \n",
       "max    2020.000000  159999.000000  122000.000000   580.000000   122.900000   \n",
       "\n",
       "        engineSize  \n",
       "count  1028.000000  \n",
       "mean      2.777626  \n",
       "std       0.835230  \n",
       "min       0.000000  \n",
       "25%       2.100000  \n",
       "50%       3.000000  \n",
       "75%       3.000000  \n",
       "max       6.200000  "
      ]
     },
     "execution_count": 19,
     "metadata": {},
     "output_type": "execute_result"
    }
   ],
   "source": [
    "DatasetMerc.describe()\n",
    "#DatasetMerc.describe([.95,.96,.99])"
   ]
  },
  {
   "cell_type": "markdown",
   "id": "1ad61294",
   "metadata": {},
   "source": [
    "El dataset presenta solo cinco modelos de vehículos 'SLK', 'S Class', 'SL CLASS', 'G Class' y 'GLE Class'."
   ]
  },
  {
   "cell_type": "code",
   "execution_count": 20,
   "id": "6b924025",
   "metadata": {},
   "outputs": [
    {
     "name": "stdout",
     "output_type": "stream",
     "text": [
      "(5,)\n"
     ]
    },
    {
     "data": {
      "text/plain": [
       "array(['SLK', 'S Class', 'SL CLASS', 'G Class', 'GLE Class'], dtype=object)"
      ]
     },
     "execution_count": 20,
     "metadata": {},
     "output_type": "execute_result"
    }
   ],
   "source": [
    "modelunique = pd.unique(DatasetMerc['model'])\n",
    "print(modelunique.shape)\n",
    "modelunique"
   ]
  },
  {
   "cell_type": "markdown",
   "id": "8adfc5b3",
   "metadata": {},
   "source": [
    "### Preparación de los datos"
   ]
  },
  {
   "cell_type": "markdown",
   "id": "a39001eb",
   "metadata": {},
   "source": [
    "#### Variables categóricas"
   ]
  },
  {
   "cell_type": "markdown",
   "id": "aeed56f1",
   "metadata": {},
   "source": [
    "Hasta ahora no hemos modificado el dataframe, entonces, en esta sección vamos a setear de categóricos a números. Empezaremos con la marca de vehículo."
   ]
  },
  {
   "cell_type": "code",
   "execution_count": 21,
   "id": "456efa20",
   "metadata": {},
   "outputs": [],
   "source": [
    "marcas = {'Audi':0, 'Bmw':1, 'Hyundi':2, 'Mercedes':3, 'Toyota':4}\n",
    "marcasI = { value:key for key, value in marcas.items()}\n",
    "\n",
    "dataframe['Brand'] = dataframe['Brand'].map(marcas).astype(int)"
   ]
  },
  {
   "cell_type": "code",
   "execution_count": 22,
   "id": "4ec2a172",
   "metadata": {},
   "outputs": [
    {
     "name": "stdout",
     "output_type": "stream",
     "text": [
      "(5,)\n"
     ]
    },
    {
     "data": {
      "text/plain": [
       "array([0, 1, 2, 3, 4])"
      ]
     },
     "execution_count": 22,
     "metadata": {},
     "output_type": "execute_result"
    }
   ],
   "source": [
    "# comprobamos\n",
    "modelunique = pd.unique(dataframe['Brand'])\n",
    "print(modelunique.shape)\n",
    "modelunique"
   ]
  },
  {
   "cell_type": "markdown",
   "id": "e88f5fb1",
   "metadata": {},
   "source": [
    "Ahora, vamos a transformar la variable `transmission` a numéro."
   ]
  },
  {
   "cell_type": "code",
   "execution_count": 23,
   "id": "949d937f",
   "metadata": {},
   "outputs": [],
   "source": [
    "transmission = {'Manual':0, 'Automatic':1, 'Semi-Auto':2, 'Other':3}\n",
    "transmissionI = { value:key for key, value in transmission.items()}\n",
    "\n",
    "dataframe['transmission'] = dataframe['transmission'].map(transmission).astype(int) "
   ]
  },
  {
   "cell_type": "code",
   "execution_count": 24,
   "id": "cab8948f",
   "metadata": {},
   "outputs": [
    {
     "name": "stdout",
     "output_type": "stream",
     "text": [
      "(4,)\n"
     ]
    },
    {
     "data": {
      "text/plain": [
       "array([0, 1, 2, 3])"
      ]
     },
     "execution_count": 24,
     "metadata": {},
     "output_type": "execute_result"
    }
   ],
   "source": [
    "# comprobamos\n",
    "modelunique = pd.unique(dataframe['transmission'])\n",
    "print(modelunique.shape)\n",
    "modelunique"
   ]
  },
  {
   "cell_type": "markdown",
   "id": "2fe336e9",
   "metadata": {},
   "source": [
    "Hacemos lo mismo para la variable `fuelType`."
   ]
  },
  {
   "cell_type": "code",
   "execution_count": 25,
   "id": "a470665f",
   "metadata": {},
   "outputs": [],
   "source": [
    "fuelType = {'Petrol':0, 'Diesel':1, 'Hybrid':2, 'Other':3}\n",
    "\n",
    "dataframe['fuelType'] = dataframe['fuelType'].map(fuelType).astype(int) "
   ]
  },
  {
   "cell_type": "code",
   "execution_count": 26,
   "id": "cd768edc",
   "metadata": {},
   "outputs": [
    {
     "name": "stdout",
     "output_type": "stream",
     "text": [
      "(4,)\n"
     ]
    },
    {
     "data": {
      "text/plain": [
       "array([0, 1, 2, 3])"
      ]
     },
     "execution_count": 26,
     "metadata": {},
     "output_type": "execute_result"
    }
   ],
   "source": [
    "# comprobamos\n",
    "modelunique = pd.unique(dataframe['fuelType'])\n",
    "print(modelunique.shape)\n",
    "modelunique"
   ]
  },
  {
   "cell_type": "markdown",
   "id": "b79f47d9",
   "metadata": {},
   "source": [
    "también vamos a transformar la variable `model` a numérico, esto se realizará con las 25 marcas disponibles. \n",
    "* marca Audi: 'A1', 'A6', 'A4', 'A3' y 'Q3'.\n",
    "* marca Bmw: '5 Series', '6 Series', '1 Series', '7 Series' y '2 Series'.\n",
    "* marca Toyota: 'GT86', 'Corolla', 'RAV4', 'Yaris' y 'Auris'.\n",
    "* marca Hyundi: 'I20', 'Tucson', 'I10', 'IX35' y 'I30'.\n",
    "* marca Mercedes: 'SLK', 'S Class', 'SL CLASS', 'G Class' y 'GLE Class'."
   ]
  },
  {
   "cell_type": "code",
   "execution_count": 27,
   "id": "04cc5a95",
   "metadata": {},
   "outputs": [],
   "source": [
    "model = {'A1':0, 'A6':1, 'A4':2, 'A3':3, 'Q3':4,\\\n",
    "         '5 Series':5, '6 Series':6, '1 Series':7, '7 Series':8, '2 Series':9, \\\n",
    "         'GT86':10, 'Corolla':11, 'RAV4':12, 'Yaris':13, 'Auris':14, \\\n",
    "         'I20':15, 'Tucson':16, 'I10':17, 'IX35':18, 'I30':19, \\\n",
    "         'SLK':20, 'S Class':21, 'SL CLASS':22, 'G Class':23, 'GLE Class':24}    \n",
    "\n",
    "dataframe['model'] = dataframe['model'].map(model).astype(int)"
   ]
  },
  {
   "cell_type": "code",
   "execution_count": 28,
   "id": "eaf88d59",
   "metadata": {},
   "outputs": [
    {
     "name": "stdout",
     "output_type": "stream",
     "text": [
      "(25,)\n"
     ]
    },
    {
     "data": {
      "text/plain": [
       "array([ 0,  1,  2,  3,  4,  5,  6,  7,  8,  9, 15, 16, 17, 18, 19, 20, 21,\n",
       "       22, 23, 24, 10, 11, 12, 13, 14])"
      ]
     },
     "execution_count": 28,
     "metadata": {},
     "output_type": "execute_result"
    }
   ],
   "source": [
    "# comprobamos\n",
    "modelunique = pd.unique(dataframe['model'])\n",
    "print(modelunique.shape)\n",
    "modelunique"
   ]
  },
  {
   "cell_type": "markdown",
   "id": "811329f3",
   "metadata": {},
   "source": [
    "#### Variables enteras con rango"
   ]
  },
  {
   "cell_type": "markdown",
   "id": "e2a86114",
   "metadata": {},
   "source": [
    "Ahora, vamos a crear rangos para las variables numéricas como por ejemplo `mileage`, ya que creemos que pude influir en el modelo, además posee 13963 valores únicos."
   ]
  },
  {
   "cell_type": "code",
   "execution_count": 29,
   "id": "c089d060",
   "metadata": {},
   "outputs": [
    {
     "name": "stdout",
     "output_type": "stream",
     "text": [
      "(13963,)\n"
     ]
    }
   ],
   "source": [
    "#verificar los valores únicos\n",
    "modelunique = pd.unique(dataframe['mileage'])\n",
    "print(modelunique.shape)"
   ]
  },
  {
   "cell_type": "code",
   "execution_count": 30,
   "id": "6eabc454",
   "metadata": {},
   "outputs": [
    {
     "data": {
      "text/html": [
       "<div>\n",
       "<style scoped>\n",
       "    .dataframe tbody tr th:only-of-type {\n",
       "        vertical-align: middle;\n",
       "    }\n",
       "\n",
       "    .dataframe tbody tr th {\n",
       "        vertical-align: top;\n",
       "    }\n",
       "\n",
       "    .dataframe thead th {\n",
       "        text-align: right;\n",
       "    }\n",
       "</style>\n",
       "<table border=\"1\" class=\"dataframe\">\n",
       "  <thead>\n",
       "    <tr style=\"text-align: right;\">\n",
       "      <th></th>\n",
       "      <th>0</th>\n",
       "    </tr>\n",
       "    <tr>\n",
       "      <th>mileageRango</th>\n",
       "      <th></th>\n",
       "    </tr>\n",
       "  </thead>\n",
       "  <tbody>\n",
       "    <tr>\n",
       "      <th>(0.999, 2928.0]</th>\n",
       "      <td>1953</td>\n",
       "    </tr>\n",
       "    <tr>\n",
       "      <th>(2928.0, 6000.0]</th>\n",
       "      <td>2059</td>\n",
       "    </tr>\n",
       "    <tr>\n",
       "      <th>(6000.0, 9857.0]</th>\n",
       "      <td>1841</td>\n",
       "    </tr>\n",
       "    <tr>\n",
       "      <th>(9857.0, 14772.0]</th>\n",
       "      <td>1950</td>\n",
       "    </tr>\n",
       "    <tr>\n",
       "      <th>(14772.0, 20022.0]</th>\n",
       "      <td>1951</td>\n",
       "    </tr>\n",
       "    <tr>\n",
       "      <th>(20022.0, 25635.8]</th>\n",
       "      <td>1950</td>\n",
       "    </tr>\n",
       "    <tr>\n",
       "      <th>(25635.8, 31544.4]</th>\n",
       "      <td>1951</td>\n",
       "    </tr>\n",
       "    <tr>\n",
       "      <th>(31544.4, 40000.0]</th>\n",
       "      <td>1961</td>\n",
       "    </tr>\n",
       "    <tr>\n",
       "      <th>(40000.0, 54591.8]</th>\n",
       "      <td>1940</td>\n",
       "    </tr>\n",
       "    <tr>\n",
       "      <th>(54591.8, 323000.0]</th>\n",
       "      <td>1951</td>\n",
       "    </tr>\n",
       "  </tbody>\n",
       "</table>\n",
       "</div>"
      ],
      "text/plain": [
       "                        0\n",
       "mileageRango             \n",
       "(0.999, 2928.0]      1953\n",
       "(2928.0, 6000.0]     2059\n",
       "(6000.0, 9857.0]     1841\n",
       "(9857.0, 14772.0]    1950\n",
       "(14772.0, 20022.0]   1951\n",
       "(20022.0, 25635.8]   1950\n",
       "(25635.8, 31544.4]   1951\n",
       "(31544.4, 40000.0]   1961\n",
       "(40000.0, 54591.8]   1940\n",
       "(54591.8, 323000.0]  1951"
      ]
     },
     "execution_count": 30,
     "metadata": {},
     "output_type": "execute_result"
    }
   ],
   "source": [
    "#dividir en 10 grupos \n",
    "dataframe['mileageRango'] = pd.qcut(dataframe['mileage'], 10)\n",
    "\n",
    "#mostrar los grupos\n",
    "pd.DataFrame(dataframe[['mileageRango']].value_counts()).sort_values(by='mileageRango', ascending=True)"
   ]
  },
  {
   "cell_type": "code",
   "execution_count": 31,
   "id": "b1f9caab",
   "metadata": {},
   "outputs": [],
   "source": [
    "#setear los valores según el rango\n",
    "dataframe.loc[ dataframe['mileage'] <= 2928.0, 'mileage'] = 0\n",
    "dataframe.loc[ (dataframe['mileage'] > 2928.0) & (dataframe['mileage'] <= 6000.0), 'mileage'] = 1\n",
    "dataframe.loc[ (dataframe['mileage'] > 6000.0) & (dataframe['mileage'] <= 9857.0), 'mileage'] = 2\n",
    "dataframe.loc[ (dataframe['mileage'] > 9857.0) & (dataframe['mileage'] <= 14772.0), 'mileage'] = 3\n",
    "dataframe.loc[ (dataframe['mileage'] > 14772.0) & (dataframe['mileage'] <= 20022.0), 'mileage'] = 4\n",
    "dataframe.loc[ (dataframe['mileage'] > 20022.0) & (dataframe['mileage'] <= 25635.8), 'mileage'] = 5\n",
    "dataframe.loc[ (dataframe['mileage'] > 25635.8) & (dataframe['mileage'] <= 31544.4), 'mileage'] = 6\n",
    "dataframe.loc[ (dataframe['mileage'] > 31544.4) & (dataframe['mileage'] <= 40000.0), 'mileage'] = 7\n",
    "dataframe.loc[ (dataframe['mileage'] > 40000.0) & (dataframe['mileage'] <= 54591.8), 'mileage'] = 8\n",
    "dataframe.loc[ dataframe['mileage'] > 54591.8, 'mileage'] = 9\n",
    "\n",
    "#Eliminamos la variable de 'mileageRango' del dataframe\n",
    "dataframe = dataframe.drop(['mileageRango'], axis=1)"
   ]
  },
  {
   "cell_type": "markdown",
   "id": "fcd2a39a",
   "metadata": {},
   "source": [
    "Realizamos el mismo procedimiento para la variable `tax`."
   ]
  },
  {
   "cell_type": "code",
   "execution_count": 32,
   "id": "472ee37f",
   "metadata": {},
   "outputs": [
    {
     "name": "stdout",
     "output_type": "stream",
     "text": [
      "(38,)\n"
     ]
    }
   ],
   "source": [
    "#verificar los valores únicos\n",
    "modelunique = pd.unique(dataframe['tax'])\n",
    "print(modelunique.shape)"
   ]
  },
  {
   "cell_type": "code",
   "execution_count": 33,
   "id": "57b34d66",
   "metadata": {},
   "outputs": [
    {
     "data": {
      "text/html": [
       "<div>\n",
       "<style scoped>\n",
       "    .dataframe tbody tr th:only-of-type {\n",
       "        vertical-align: middle;\n",
       "    }\n",
       "\n",
       "    .dataframe tbody tr th {\n",
       "        vertical-align: top;\n",
       "    }\n",
       "\n",
       "    .dataframe thead th {\n",
       "        text-align: right;\n",
       "    }\n",
       "</style>\n",
       "<table border=\"1\" class=\"dataframe\">\n",
       "  <thead>\n",
       "    <tr style=\"text-align: right;\">\n",
       "      <th></th>\n",
       "      <th>0</th>\n",
       "    </tr>\n",
       "    <tr>\n",
       "      <th>taxRange</th>\n",
       "      <th></th>\n",
       "    </tr>\n",
       "  </thead>\n",
       "  <tbody>\n",
       "    <tr>\n",
       "      <th>(-0.001, 125.0]</th>\n",
       "      <td>7081</td>\n",
       "    </tr>\n",
       "    <tr>\n",
       "      <th>(125.0, 145.0]</th>\n",
       "      <td>8907</td>\n",
       "    </tr>\n",
       "    <tr>\n",
       "      <th>(145.0, 580.0]</th>\n",
       "      <td>3519</td>\n",
       "    </tr>\n",
       "  </tbody>\n",
       "</table>\n",
       "</div>"
      ],
      "text/plain": [
       "                    0\n",
       "taxRange             \n",
       "(-0.001, 125.0]  7081\n",
       "(125.0, 145.0]   8907\n",
       "(145.0, 580.0]   3519"
      ]
     },
     "execution_count": 33,
     "metadata": {},
     "output_type": "execute_result"
    }
   ],
   "source": [
    "#dividir en 3 grupos \n",
    "dataframe['taxRange'] = pd.qcut(dataframe['tax'], 3)\n",
    "\n",
    "#mostrar los grupos\n",
    "pd.DataFrame(dataframe[['taxRange']].value_counts()).sort_values(by='taxRange', ascending=True)"
   ]
  },
  {
   "cell_type": "code",
   "execution_count": 34,
   "id": "b6cdfb09",
   "metadata": {},
   "outputs": [],
   "source": [
    "#setear los valores según el rango\n",
    "dataframe.loc[ dataframe['tax'] <= 125.0, 'tax'] = 0\n",
    "dataframe.loc[ (dataframe['tax'] > 125.0) & (dataframe['tax'] <= 145.0), 'tax'] = 1\n",
    "dataframe.loc[ dataframe['tax'] > 145.0, 'tax'] = 2\n",
    "\n",
    "#Eliminamos la variable de 'mileageRango' del dataframe\n",
    "dataframe = dataframe.drop(['taxRange'], axis=1)"
   ]
  },
  {
   "cell_type": "markdown",
   "id": "4c28cee6",
   "metadata": {},
   "source": [
    "Realizamos lo mismo para la variable `mpg`, el cuál posee 125 valores únicos."
   ]
  },
  {
   "cell_type": "code",
   "execution_count": 35,
   "id": "f7d1966b",
   "metadata": {},
   "outputs": [
    {
     "name": "stdout",
     "output_type": "stream",
     "text": [
      "(125,)\n"
     ]
    }
   ],
   "source": [
    "#verificar los valores únicos\n",
    "modelunique = pd.unique(dataframe['mpg'])\n",
    "print(modelunique.shape)"
   ]
  },
  {
   "cell_type": "code",
   "execution_count": 36,
   "id": "f8e70200",
   "metadata": {},
   "outputs": [
    {
     "data": {
      "text/html": [
       "<div>\n",
       "<style scoped>\n",
       "    .dataframe tbody tr th:only-of-type {\n",
       "        vertical-align: middle;\n",
       "    }\n",
       "\n",
       "    .dataframe tbody tr th {\n",
       "        vertical-align: top;\n",
       "    }\n",
       "\n",
       "    .dataframe thead th {\n",
       "        text-align: right;\n",
       "    }\n",
       "</style>\n",
       "<table border=\"1\" class=\"dataframe\">\n",
       "  <thead>\n",
       "    <tr style=\"text-align: right;\">\n",
       "      <th></th>\n",
       "      <th>0</th>\n",
       "    </tr>\n",
       "    <tr>\n",
       "      <th>mpgRange</th>\n",
       "      <th></th>\n",
       "    </tr>\n",
       "  </thead>\n",
       "  <tbody>\n",
       "    <tr>\n",
       "      <th>(10.999, 39.2]</th>\n",
       "      <td>2000</td>\n",
       "    </tr>\n",
       "    <tr>\n",
       "      <th>(39.2, 44.8]</th>\n",
       "      <td>2060</td>\n",
       "    </tr>\n",
       "    <tr>\n",
       "      <th>(44.8, 47.9]</th>\n",
       "      <td>1804</td>\n",
       "    </tr>\n",
       "    <tr>\n",
       "      <th>(47.9, 51.4]</th>\n",
       "      <td>2054</td>\n",
       "    </tr>\n",
       "    <tr>\n",
       "      <th>(51.4, 55.4]</th>\n",
       "      <td>2081</td>\n",
       "    </tr>\n",
       "    <tr>\n",
       "      <th>(55.4, 58.0]</th>\n",
       "      <td>1870</td>\n",
       "    </tr>\n",
       "    <tr>\n",
       "      <th>(58.0, 60.1]</th>\n",
       "      <td>1848</td>\n",
       "    </tr>\n",
       "    <tr>\n",
       "      <th>(60.1, 65.7]</th>\n",
       "      <td>2088</td>\n",
       "    </tr>\n",
       "    <tr>\n",
       "      <th>(65.7, 72.4]</th>\n",
       "      <td>1946</td>\n",
       "    </tr>\n",
       "    <tr>\n",
       "      <th>(72.4, 188.3]</th>\n",
       "      <td>1756</td>\n",
       "    </tr>\n",
       "  </tbody>\n",
       "</table>\n",
       "</div>"
      ],
      "text/plain": [
       "                   0\n",
       "mpgRange            \n",
       "(10.999, 39.2]  2000\n",
       "(39.2, 44.8]    2060\n",
       "(44.8, 47.9]    1804\n",
       "(47.9, 51.4]    2054\n",
       "(51.4, 55.4]    2081\n",
       "(55.4, 58.0]    1870\n",
       "(58.0, 60.1]    1848\n",
       "(60.1, 65.7]    2088\n",
       "(65.7, 72.4]    1946\n",
       "(72.4, 188.3]   1756"
      ]
     },
     "execution_count": 36,
     "metadata": {},
     "output_type": "execute_result"
    }
   ],
   "source": [
    "#dividir en 3 grupos \n",
    "dataframe['mpgRange'] = pd.qcut(dataframe['mpg'], 10)\n",
    "\n",
    "#mostrar los grupos\n",
    "pd.DataFrame(dataframe[['mpgRange']].value_counts()).sort_values(by='mpgRange', ascending=True)"
   ]
  },
  {
   "cell_type": "code",
   "execution_count": 37,
   "id": "030a3aff",
   "metadata": {},
   "outputs": [],
   "source": [
    "#setear los valores según el rango\n",
    "dataframe.loc[ dataframe['mpg'] <= 39.2, 'mpg'] = 0\n",
    "dataframe.loc[ (dataframe['mpg'] > 39.2) & (dataframe['mpg'] <= 44.8), 'mpg'] = 1\n",
    "dataframe.loc[ (dataframe['mpg'] > 44.8) & (dataframe['mpg'] <= 47.9), 'mpg'] = 2\n",
    "dataframe.loc[ (dataframe['mpg'] > 47.9) & (dataframe['mpg'] <= 51.4), 'mpg'] = 3\n",
    "dataframe.loc[ (dataframe['mpg'] > 51.4) & (dataframe['mpg'] <= 55.4), 'mpg'] = 4\n",
    "dataframe.loc[ (dataframe['mpg'] > 55.4) & (dataframe['mpg'] <= 58.0), 'mpg'] = 5\n",
    "dataframe.loc[ (dataframe['mpg'] > 58.0) & (dataframe['mpg'] <= 60.1), 'mpg'] = 6\n",
    "dataframe.loc[ (dataframe['mpg'] > 60.1) & (dataframe['mpg'] <= 65.7), 'mpg'] = 7\n",
    "dataframe.loc[ (dataframe['mpg'] > 65.7) & (dataframe['mpg'] <= 72.4), 'mpg'] = 8\n",
    "dataframe.loc[ dataframe['mpg'] > 72.4, 'mpg'] = 9\n",
    "\n",
    "#Eliminamos la variable de 'mileageRango' del dataframe\n",
    "dataframe = dataframe.drop(['mpgRange'], axis=1)"
   ]
  },
  {
   "cell_type": "markdown",
   "id": "ff7478ba",
   "metadata": {},
   "source": [
    "Realizamos lo mismo para la variable `engineSize`, el cuál posee 33 valores únicos."
   ]
  },
  {
   "cell_type": "code",
   "execution_count": 38,
   "id": "b5525f9f",
   "metadata": {},
   "outputs": [
    {
     "name": "stdout",
     "output_type": "stream",
     "text": [
      "(33,)\n"
     ]
    }
   ],
   "source": [
    "#verificar los valores únicos\n",
    "modelunique = pd.unique(dataframe['engineSize'])\n",
    "print(modelunique.shape)"
   ]
  },
  {
   "cell_type": "code",
   "execution_count": 39,
   "id": "dfab0e0e",
   "metadata": {},
   "outputs": [
    {
     "data": {
      "text/html": [
       "<div>\n",
       "<style scoped>\n",
       "    .dataframe tbody tr th:only-of-type {\n",
       "        vertical-align: middle;\n",
       "    }\n",
       "\n",
       "    .dataframe tbody tr th {\n",
       "        vertical-align: top;\n",
       "    }\n",
       "\n",
       "    .dataframe thead th {\n",
       "        text-align: right;\n",
       "    }\n",
       "</style>\n",
       "<table border=\"1\" class=\"dataframe\">\n",
       "  <thead>\n",
       "    <tr style=\"text-align: right;\">\n",
       "      <th></th>\n",
       "      <th>0</th>\n",
       "    </tr>\n",
       "    <tr>\n",
       "      <th>engineSizeRange</th>\n",
       "      <th></th>\n",
       "    </tr>\n",
       "  </thead>\n",
       "  <tbody>\n",
       "    <tr>\n",
       "      <th>(-0.001, 1.5]</th>\n",
       "      <td>7995</td>\n",
       "    </tr>\n",
       "    <tr>\n",
       "      <th>(1.5, 1.7]</th>\n",
       "      <td>2341</td>\n",
       "    </tr>\n",
       "    <tr>\n",
       "      <th>(1.7, 2.0]</th>\n",
       "      <td>7007</td>\n",
       "    </tr>\n",
       "    <tr>\n",
       "      <th>(2.0, 6.6]</th>\n",
       "      <td>2164</td>\n",
       "    </tr>\n",
       "  </tbody>\n",
       "</table>\n",
       "</div>"
      ],
      "text/plain": [
       "                    0\n",
       "engineSizeRange      \n",
       "(-0.001, 1.5]    7995\n",
       "(1.5, 1.7]       2341\n",
       "(1.7, 2.0]       7007\n",
       "(2.0, 6.6]       2164"
      ]
     },
     "execution_count": 39,
     "metadata": {},
     "output_type": "execute_result"
    }
   ],
   "source": [
    "#dividir en 3 grupos \n",
    "dataframe['engineSizeRange'] = pd.qcut(dataframe['engineSize'], 4)\n",
    "\n",
    "#mostrar los grupos\n",
    "pd.DataFrame(dataframe[['engineSizeRange']].value_counts()).sort_values(by='engineSizeRange', ascending=True)"
   ]
  },
  {
   "cell_type": "code",
   "execution_count": 40,
   "id": "f3d518f0",
   "metadata": {},
   "outputs": [],
   "source": [
    "#setear los valores según el rango\n",
    "dataframe.loc[ dataframe['engineSize'] <= 1.5, 'engineSize'] = 0\n",
    "dataframe.loc[ (dataframe['engineSize'] > 1.5) & (dataframe['engineSize'] <= 1.7), 'engineSize'] = 1\n",
    "dataframe.loc[ (dataframe['engineSize'] > 1.7) & (dataframe['engineSize'] <= 2.0), 'engineSize'] = 2\n",
    "dataframe.loc[ dataframe['engineSize'] > 2.0, 'engineSize'] = 3\n",
    "\n",
    "#Eliminamos la variable de 'mileageRango' del dataframe\n",
    "dataframe = dataframe.drop(['engineSizeRange'], axis=1)"
   ]
  },
  {
   "cell_type": "code",
   "execution_count": 41,
   "id": "7c42f280",
   "metadata": {},
   "outputs": [
    {
     "data": {
      "text/html": [
       "<div>\n",
       "<style scoped>\n",
       "    .dataframe tbody tr th:only-of-type {\n",
       "        vertical-align: middle;\n",
       "    }\n",
       "\n",
       "    .dataframe tbody tr th {\n",
       "        vertical-align: top;\n",
       "    }\n",
       "\n",
       "    .dataframe thead th {\n",
       "        text-align: right;\n",
       "    }\n",
       "</style>\n",
       "<table border=\"1\" class=\"dataframe\">\n",
       "  <thead>\n",
       "    <tr style=\"text-align: right;\">\n",
       "      <th></th>\n",
       "      <th>model</th>\n",
       "      <th>year</th>\n",
       "      <th>price</th>\n",
       "      <th>transmission</th>\n",
       "      <th>mileage</th>\n",
       "      <th>fuelType</th>\n",
       "      <th>tax</th>\n",
       "      <th>mpg</th>\n",
       "      <th>engineSize</th>\n",
       "      <th>Brand</th>\n",
       "    </tr>\n",
       "  </thead>\n",
       "  <tbody>\n",
       "    <tr>\n",
       "      <th>0</th>\n",
       "      <td>0</td>\n",
       "      <td>2017</td>\n",
       "      <td>12500</td>\n",
       "      <td>0</td>\n",
       "      <td>4</td>\n",
       "      <td>0</td>\n",
       "      <td>2</td>\n",
       "      <td>4.0</td>\n",
       "      <td>0.0</td>\n",
       "      <td>0</td>\n",
       "    </tr>\n",
       "    <tr>\n",
       "      <th>1</th>\n",
       "      <td>1</td>\n",
       "      <td>2016</td>\n",
       "      <td>16500</td>\n",
       "      <td>1</td>\n",
       "      <td>7</td>\n",
       "      <td>1</td>\n",
       "      <td>0</td>\n",
       "      <td>7.0</td>\n",
       "      <td>2.0</td>\n",
       "      <td>0</td>\n",
       "    </tr>\n",
       "    <tr>\n",
       "      <th>2</th>\n",
       "      <td>0</td>\n",
       "      <td>2016</td>\n",
       "      <td>11000</td>\n",
       "      <td>0</td>\n",
       "      <td>6</td>\n",
       "      <td>0</td>\n",
       "      <td>0</td>\n",
       "      <td>4.0</td>\n",
       "      <td>0.0</td>\n",
       "      <td>0</td>\n",
       "    </tr>\n",
       "    <tr>\n",
       "      <th>3</th>\n",
       "      <td>2</td>\n",
       "      <td>2017</td>\n",
       "      <td>16800</td>\n",
       "      <td>1</td>\n",
       "      <td>6</td>\n",
       "      <td>1</td>\n",
       "      <td>1</td>\n",
       "      <td>8.0</td>\n",
       "      <td>2.0</td>\n",
       "      <td>0</td>\n",
       "    </tr>\n",
       "    <tr>\n",
       "      <th>4</th>\n",
       "      <td>3</td>\n",
       "      <td>2019</td>\n",
       "      <td>17300</td>\n",
       "      <td>0</td>\n",
       "      <td>0</td>\n",
       "      <td>0</td>\n",
       "      <td>1</td>\n",
       "      <td>3.0</td>\n",
       "      <td>0.0</td>\n",
       "      <td>0</td>\n",
       "    </tr>\n",
       "  </tbody>\n",
       "</table>\n",
       "</div>"
      ],
      "text/plain": [
       "   model  year  price  transmission  mileage  fuelType  tax  mpg  engineSize  \\\n",
       "0      0  2017  12500             0        4         0    2  4.0         0.0   \n",
       "1      1  2016  16500             1        7         1    0  7.0         2.0   \n",
       "2      0  2016  11000             0        6         0    0  4.0         0.0   \n",
       "3      2  2017  16800             1        6         1    1  8.0         2.0   \n",
       "4      3  2019  17300             0        0         0    1  3.0         0.0   \n",
       "\n",
       "   Brand  \n",
       "0      0  \n",
       "1      0  \n",
       "2      0  \n",
       "3      0  \n",
       "4      0  "
      ]
     },
     "execution_count": 41,
     "metadata": {},
     "output_type": "execute_result"
    }
   ],
   "source": [
    "dataframe.head()"
   ]
  },
  {
   "cell_type": "code",
   "execution_count": 42,
   "id": "bf07c9d3",
   "metadata": {},
   "outputs": [
    {
     "name": "stdout",
     "output_type": "stream",
     "text": [
      "(4916,)\n"
     ]
    }
   ],
   "source": [
    "#verificar los valores únicos\n",
    "modelunique = pd.unique(dataframe['price'])\n",
    "print(modelunique.shape)"
   ]
  },
  {
   "cell_type": "markdown",
   "id": "7bfd26ab",
   "metadata": {},
   "source": [
    "## 4. Analizar, identificar patrones y explorar los datos"
   ]
  },
  {
   "cell_type": "markdown",
   "id": "6ace77b6",
   "metadata": {},
   "source": [
    "A continuación vamos a realizar unos cuadros comparativos y unas visualizaciones para identificar patrones. En la tabla sobre el `price` y `Brand` podemos observar que la marca influye en el precio, 'Mercedes', 'Bmw', 'Audi', 'Toyota' y 'Hyundi' se encuentran en orden descendiente."
   ]
  },
  {
   "cell_type": "code",
   "execution_count": 43,
   "id": "7db6627a",
   "metadata": {},
   "outputs": [
    {
     "data": {
      "text/html": [
       "<div>\n",
       "<style scoped>\n",
       "    .dataframe tbody tr th:only-of-type {\n",
       "        vertical-align: middle;\n",
       "    }\n",
       "\n",
       "    .dataframe tbody tr th {\n",
       "        vertical-align: top;\n",
       "    }\n",
       "\n",
       "    .dataframe thead th {\n",
       "        text-align: right;\n",
       "    }\n",
       "</style>\n",
       "<table border=\"1\" class=\"dataframe\">\n",
       "  <thead>\n",
       "    <tr style=\"text-align: right;\">\n",
       "      <th></th>\n",
       "      <th>Brand</th>\n",
       "      <th>price</th>\n",
       "    </tr>\n",
       "  </thead>\n",
       "  <tbody>\n",
       "    <tr>\n",
       "      <th>3</th>\n",
       "      <td>Mercedes</td>\n",
       "      <td>36994.132296</td>\n",
       "    </tr>\n",
       "    <tr>\n",
       "      <th>1</th>\n",
       "      <td>Bmw</td>\n",
       "      <td>19138.673008</td>\n",
       "    </tr>\n",
       "    <tr>\n",
       "      <th>0</th>\n",
       "      <td>Audi</td>\n",
       "      <td>19117.472589</td>\n",
       "    </tr>\n",
       "    <tr>\n",
       "      <th>4</th>\n",
       "      <td>Toyota</td>\n",
       "      <td>12869.348506</td>\n",
       "    </tr>\n",
       "    <tr>\n",
       "      <th>2</th>\n",
       "      <td>Hyundi</td>\n",
       "      <td>11460.088368</td>\n",
       "    </tr>\n",
       "  </tbody>\n",
       "</table>\n",
       "</div>"
      ],
      "text/plain": [
       "      Brand         price\n",
       "3  Mercedes  36994.132296\n",
       "1       Bmw  19138.673008\n",
       "0      Audi  19117.472589\n",
       "4    Toyota  12869.348506\n",
       "2    Hyundi  11460.088368"
      ]
     },
     "execution_count": 43,
     "metadata": {},
     "output_type": "execute_result"
    },
    {
     "data": {
      "image/png": "[encoded data removed]",
      "text/plain": [
       "<Figure size 432x288 with 1 Axes>"
      ]
     },
     "metadata": {
      "needs_background": "light"
     },
     "output_type": "display_data"
    }
   ],
   "source": [
    "aux = dataframe[['Brand', 'price']].groupby('Brand', as_index=False).mean().sort_values(by='price', ascending=False)\n",
    "aux['Brand'] = aux['Brand'].map(marcasI)\n",
    "aux.plot.bar(x='Brand', y='price', rot=0)\n",
    "aux"
   ]
  },
  {
   "cell_type": "markdown",
   "id": "e1c9e14e",
   "metadata": {},
   "source": [
    "En la variable `year` notamos que aproximadamente en el año 2010 para adelante guarda una relación de más actual sea el vehiculo, más es su precio, y antes del 2010 no guarda una relación sino que varía, suponemos que esto se debe a las características del vehículo."
   ]
  },
  {
   "cell_type": "code",
   "execution_count": 44,
   "id": "e027b5ae",
   "metadata": {},
   "outputs": [
    {
     "data": {
      "text/html": [
       "<div>\n",
       "<style scoped>\n",
       "    .dataframe tbody tr th:only-of-type {\n",
       "        vertical-align: middle;\n",
       "    }\n",
       "\n",
       "    .dataframe tbody tr th {\n",
       "        vertical-align: top;\n",
       "    }\n",
       "\n",
       "    .dataframe thead th {\n",
       "        text-align: right;\n",
       "    }\n",
       "</style>\n",
       "<table border=\"1\" class=\"dataframe\">\n",
       "  <thead>\n",
       "    <tr style=\"text-align: right;\">\n",
       "      <th></th>\n",
       "      <th>year</th>\n",
       "      <th>price</th>\n",
       "    </tr>\n",
       "  </thead>\n",
       "  <tbody>\n",
       "    <tr>\n",
       "      <th>24</th>\n",
       "      <td>2020</td>\n",
       "      <td>29540.166474</td>\n",
       "    </tr>\n",
       "    <tr>\n",
       "      <th>23</th>\n",
       "      <td>2019</td>\n",
       "      <td>25184.299873</td>\n",
       "    </tr>\n",
       "    <tr>\n",
       "      <th>22</th>\n",
       "      <td>2018</td>\n",
       "      <td>17131.820821</td>\n",
       "    </tr>\n",
       "    <tr>\n",
       "      <th>21</th>\n",
       "      <td>2017</td>\n",
       "      <td>15642.521294</td>\n",
       "    </tr>\n",
       "    <tr>\n",
       "      <th>20</th>\n",
       "      <td>2016</td>\n",
       "      <td>14422.670680</td>\n",
       "    </tr>\n",
       "    <tr>\n",
       "      <th>19</th>\n",
       "      <td>2015</td>\n",
       "      <td>12555.978723</td>\n",
       "    </tr>\n",
       "    <tr>\n",
       "      <th>18</th>\n",
       "      <td>2014</td>\n",
       "      <td>10652.368870</td>\n",
       "    </tr>\n",
       "    <tr>\n",
       "      <th>17</th>\n",
       "      <td>2013</td>\n",
       "      <td>9153.621795</td>\n",
       "    </tr>\n",
       "    <tr>\n",
       "      <th>16</th>\n",
       "      <td>2012</td>\n",
       "      <td>8579.187879</td>\n",
       "    </tr>\n",
       "    <tr>\n",
       "      <th>15</th>\n",
       "      <td>2011</td>\n",
       "      <td>9258.223881</td>\n",
       "    </tr>\n",
       "    <tr>\n",
       "      <th>14</th>\n",
       "      <td>2010</td>\n",
       "      <td>6440.162162</td>\n",
       "    </tr>\n",
       "    <tr>\n",
       "      <th>13</th>\n",
       "      <td>2009</td>\n",
       "      <td>4057.340909</td>\n",
       "    </tr>\n",
       "    <tr>\n",
       "      <th>12</th>\n",
       "      <td>2008</td>\n",
       "      <td>4584.531915</td>\n",
       "    </tr>\n",
       "    <tr>\n",
       "      <th>11</th>\n",
       "      <td>2007</td>\n",
       "      <td>3863.857143</td>\n",
       "    </tr>\n",
       "    <tr>\n",
       "      <th>10</th>\n",
       "      <td>2006</td>\n",
       "      <td>4162.000000</td>\n",
       "    </tr>\n",
       "    <tr>\n",
       "      <th>9</th>\n",
       "      <td>2005</td>\n",
       "      <td>3684.428571</td>\n",
       "    </tr>\n",
       "    <tr>\n",
       "      <th>8</th>\n",
       "      <td>2004</td>\n",
       "      <td>4054.200000</td>\n",
       "    </tr>\n",
       "    <tr>\n",
       "      <th>7</th>\n",
       "      <td>2003</td>\n",
       "      <td>4726.250000</td>\n",
       "    </tr>\n",
       "    <tr>\n",
       "      <th>6</th>\n",
       "      <td>2002</td>\n",
       "      <td>4708.454545</td>\n",
       "    </tr>\n",
       "    <tr>\n",
       "      <th>5</th>\n",
       "      <td>2001</td>\n",
       "      <td>5408.000000</td>\n",
       "    </tr>\n",
       "    <tr>\n",
       "      <th>4</th>\n",
       "      <td>2000</td>\n",
       "      <td>4324.800000</td>\n",
       "    </tr>\n",
       "    <tr>\n",
       "      <th>3</th>\n",
       "      <td>1999</td>\n",
       "      <td>3995.000000</td>\n",
       "    </tr>\n",
       "    <tr>\n",
       "      <th>2</th>\n",
       "      <td>1998</td>\n",
       "      <td>7883.800000</td>\n",
       "    </tr>\n",
       "    <tr>\n",
       "      <th>1</th>\n",
       "      <td>1997</td>\n",
       "      <td>9995.000000</td>\n",
       "    </tr>\n",
       "    <tr>\n",
       "      <th>0</th>\n",
       "      <td>1996</td>\n",
       "      <td>5995.000000</td>\n",
       "    </tr>\n",
       "  </tbody>\n",
       "</table>\n",
       "</div>"
      ],
      "text/plain": [
       "    year         price\n",
       "24  2020  29540.166474\n",
       "23  2019  25184.299873\n",
       "22  2018  17131.820821\n",
       "21  2017  15642.521294\n",
       "20  2016  14422.670680\n",
       "19  2015  12555.978723\n",
       "18  2014  10652.368870\n",
       "17  2013   9153.621795\n",
       "16  2012   8579.187879\n",
       "15  2011   9258.223881\n",
       "14  2010   6440.162162\n",
       "13  2009   4057.340909\n",
       "12  2008   4584.531915\n",
       "11  2007   3863.857143\n",
       "10  2006   4162.000000\n",
       "9   2005   3684.428571\n",
       "8   2004   4054.200000\n",
       "7   2003   4726.250000\n",
       "6   2002   4708.454545\n",
       "5   2001   5408.000000\n",
       "4   2000   4324.800000\n",
       "3   1999   3995.000000\n",
       "2   1998   7883.800000\n",
       "1   1997   9995.000000\n",
       "0   1996   5995.000000"
      ]
     },
     "execution_count": 44,
     "metadata": {},
     "output_type": "execute_result"
    },
    {
     "data": {
      "image/png": "[encoded data removed]",
      "text/plain": [
       "<Figure size 432x288 with 1 Axes>"
      ]
     },
     "metadata": {
      "needs_background": "light"
     },
     "output_type": "display_data"
    }
   ],
   "source": [
    "aux = dataframe[['year', 'price']].groupby('year', as_index=False).mean().sort_values(by='year', ascending=False)\n",
    "aux.plot.line(x='year', y='price')\n",
    "aux"
   ]
  },
  {
   "cell_type": "markdown",
   "id": "f6694e0e",
   "metadata": {},
   "source": [
    "Luego, en el tipo de transmissión, 'Semi-Auto' es el de mayor precio, luego sigue el 'Automatic', 'Other' y por último 'Manual'."
   ]
  },
  {
   "cell_type": "code",
   "execution_count": 45,
   "id": "f525f3b9",
   "metadata": {},
   "outputs": [
    {
     "data": {
      "text/plain": [
       "<AxesSubplot:xlabel='transmission'>"
      ]
     },
     "execution_count": 45,
     "metadata": {},
     "output_type": "execute_result"
    },
    {
     "data": {
      "image/png": "[encoded data removed]",
      "text/plain": [
       "<Figure size 432x288 with 1 Axes>"
      ]
     },
     "metadata": {
      "needs_background": "light"
     },
     "output_type": "display_data"
    }
   ],
   "source": [
    "aux = dataframe[['transmission', 'price']].groupby('transmission', as_index=False).mean().sort_values(by='price', ascending=False)\n",
    "aux['transmission'] = aux['transmission'].map(transmissionI)\n",
    "aux.plot.bar(x='transmission',y='price', rot='0')"
   ]
  },
  {
   "cell_type": "markdown",
   "id": "57966997",
   "metadata": {},
   "source": [
    "De los autos que tienen `mileage` bajo guardan un relacion con su precio de que es mayor, por otro lado cuando van aumentando su `mileage` su precio va disminuyendo."
   ]
  },
  {
   "cell_type": "code",
   "execution_count": 46,
   "id": "7cc0e16b",
   "metadata": {},
   "outputs": [
    {
     "data": {
      "text/html": [
       "<div>\n",
       "<style scoped>\n",
       "    .dataframe tbody tr th:only-of-type {\n",
       "        vertical-align: middle;\n",
       "    }\n",
       "\n",
       "    .dataframe tbody tr th {\n",
       "        vertical-align: top;\n",
       "    }\n",
       "\n",
       "    .dataframe thead th {\n",
       "        text-align: right;\n",
       "    }\n",
       "</style>\n",
       "<table border=\"1\" class=\"dataframe\">\n",
       "  <thead>\n",
       "    <tr style=\"text-align: right;\">\n",
       "      <th></th>\n",
       "      <th>mileage</th>\n",
       "      <th>price</th>\n",
       "    </tr>\n",
       "  </thead>\n",
       "  <tbody>\n",
       "    <tr>\n",
       "      <th>0</th>\n",
       "      <td>(0.999,2928]</td>\n",
       "      <td>27084.253968</td>\n",
       "    </tr>\n",
       "    <tr>\n",
       "      <th>1</th>\n",
       "      <td>(2928,6000]</td>\n",
       "      <td>25169.824672</td>\n",
       "    </tr>\n",
       "    <tr>\n",
       "      <th>2</th>\n",
       "      <td>(6000,9857]</td>\n",
       "      <td>21803.537208</td>\n",
       "    </tr>\n",
       "    <tr>\n",
       "      <th>3</th>\n",
       "      <td>(9857,14772]</td>\n",
       "      <td>17667.230769</td>\n",
       "    </tr>\n",
       "    <tr>\n",
       "      <th>4</th>\n",
       "      <td>(14772,20022]</td>\n",
       "      <td>16111.247565</td>\n",
       "    </tr>\n",
       "    <tr>\n",
       "      <th>5</th>\n",
       "      <td>(20022,25635]</td>\n",
       "      <td>15416.192308</td>\n",
       "    </tr>\n",
       "    <tr>\n",
       "      <th>6</th>\n",
       "      <td>(25635,31544]</td>\n",
       "      <td>14588.169657</td>\n",
       "    </tr>\n",
       "    <tr>\n",
       "      <th>7</th>\n",
       "      <td>(31544,40000]</td>\n",
       "      <td>14170.449261</td>\n",
       "    </tr>\n",
       "    <tr>\n",
       "      <th>8</th>\n",
       "      <td>(40000,54591]</td>\n",
       "      <td>12747.852062</td>\n",
       "    </tr>\n",
       "    <tr>\n",
       "      <th>9</th>\n",
       "      <td>(54591,323000]</td>\n",
       "      <td>10097.515633</td>\n",
       "    </tr>\n",
       "  </tbody>\n",
       "</table>\n",
       "</div>"
      ],
      "text/plain": [
       "          mileage         price\n",
       "0    (0.999,2928]  27084.253968\n",
       "1     (2928,6000]  25169.824672\n",
       "2     (6000,9857]  21803.537208\n",
       "3    (9857,14772]  17667.230769\n",
       "4   (14772,20022]  16111.247565\n",
       "5   (20022,25635]  15416.192308\n",
       "6   (25635,31544]  14588.169657\n",
       "7   (31544,40000]  14170.449261\n",
       "8   (40000,54591]  12747.852062\n",
       "9  (54591,323000]  10097.515633"
      ]
     },
     "execution_count": 46,
     "metadata": {},
     "output_type": "execute_result"
    },
    {
     "data": {
      "image/png": "[encoded data removed]",
      "text/plain": [
       "<Figure size 432x288 with 1 Axes>"
      ]
     },
     "metadata": {
      "needs_background": "light"
     },
     "output_type": "display_data"
    }
   ],
   "source": [
    "aux = dataframe[['mileage', 'price']].groupby('mileage', as_index=False).mean().sort_values(by='price', ascending=False)\n",
    "diccionario={0: \"(0.999,2928]\",1:\"(2928,6000]\",2:\"(6000,9857]\", 3:\"(9857,14772]\", 4:\"(14772,20022]\"\n",
    "             ,5:\"(20022,25635]\",6:\"(25635,31544]\",7:\"(31544,40000]\",8:\"(40000,54591]\",9:\"(54591,323000]\"}\n",
    "aux['mileage'] = aux['mileage'].map(diccionario)\n",
    "aux.plot.bar(x='mileage',y='price',rot='37')\n",
    "aux"
   ]
  },
  {
   "cell_type": "markdown",
   "id": "1944716c",
   "metadata": {},
   "source": [
    "En promedio el mayor precio de `fueltype` es Diesel siguiendoles Hybrid, otros, Petrol."
   ]
  },
  {
   "cell_type": "code",
   "execution_count": 47,
   "id": "1f2ee543",
   "metadata": {},
   "outputs": [
    {
     "data": {
      "text/html": [
       "<div>\n",
       "<style scoped>\n",
       "    .dataframe tbody tr th:only-of-type {\n",
       "        vertical-align: middle;\n",
       "    }\n",
       "\n",
       "    .dataframe tbody tr th {\n",
       "        vertical-align: top;\n",
       "    }\n",
       "\n",
       "    .dataframe thead th {\n",
       "        text-align: right;\n",
       "    }\n",
       "</style>\n",
       "<table border=\"1\" class=\"dataframe\">\n",
       "  <thead>\n",
       "    <tr style=\"text-align: right;\">\n",
       "      <th></th>\n",
       "      <th>fuelType</th>\n",
       "      <th>price</th>\n",
       "    </tr>\n",
       "  </thead>\n",
       "  <tbody>\n",
       "    <tr>\n",
       "      <th>1</th>\n",
       "      <td>Diesel</td>\n",
       "      <td>18779.157882</td>\n",
       "    </tr>\n",
       "    <tr>\n",
       "      <th>2</th>\n",
       "      <td>Hybrid</td>\n",
       "      <td>17173.319976</td>\n",
       "    </tr>\n",
       "    <tr>\n",
       "      <th>3</th>\n",
       "      <td>Other</td>\n",
       "      <td>16596.260870</td>\n",
       "    </tr>\n",
       "    <tr>\n",
       "      <th>0</th>\n",
       "      <td>Petrol</td>\n",
       "      <td>16533.855039</td>\n",
       "    </tr>\n",
       "  </tbody>\n",
       "</table>\n",
       "</div>"
      ],
      "text/plain": [
       "  fuelType         price\n",
       "1   Diesel  18779.157882\n",
       "2   Hybrid  17173.319976\n",
       "3    Other  16596.260870\n",
       "0   Petrol  16533.855039"
      ]
     },
     "execution_count": 47,
     "metadata": {},
     "output_type": "execute_result"
    },
    {
     "data": {
      "image/png": "[encoded data removed]",
      "text/plain": [
       "<Figure size 432x288 with 1 Axes>"
      ]
     },
     "metadata": {
      "needs_background": "light"
     },
     "output_type": "display_data"
    }
   ],
   "source": [
    "aux = dataframe[['fuelType', 'price']].groupby('fuelType', as_index=False).mean().sort_values(by='price', ascending=False)\n",
    "fuelTypeI = { value:key for key, value in fuelType.items()}\n",
    "aux['fuelType'] = aux['fuelType'].map(fuelTypeI)\n",
    "aux.plot.bar(x='fuelType',y='price', rot='0')\n",
    "aux"
   ]
  },
  {
   "cell_type": "markdown",
   "id": "004549c6",
   "metadata": {},
   "source": [
    "En promedio los vehiculos que pagan `tax` entre 0 hasta 125 euros tienen un precio de 12,037 euros, luegos los vehiculos de 125 hasta 145 tienen un precio de 21,589 euros y finalmente los vehiculos de 145 hasta 580 tienen un precio de 18,172 euros."
   ]
  },
  {
   "cell_type": "code",
   "execution_count": 48,
   "id": "361b185e",
   "metadata": {},
   "outputs": [
    {
     "data": {
      "text/html": [
       "<div>\n",
       "<style scoped>\n",
       "    .dataframe tbody tr th:only-of-type {\n",
       "        vertical-align: middle;\n",
       "    }\n",
       "\n",
       "    .dataframe tbody tr th {\n",
       "        vertical-align: top;\n",
       "    }\n",
       "\n",
       "    .dataframe thead th {\n",
       "        text-align: right;\n",
       "    }\n",
       "</style>\n",
       "<table border=\"1\" class=\"dataframe\">\n",
       "  <thead>\n",
       "    <tr style=\"text-align: right;\">\n",
       "      <th></th>\n",
       "      <th>tax</th>\n",
       "      <th>price</th>\n",
       "    </tr>\n",
       "  </thead>\n",
       "  <tbody>\n",
       "    <tr>\n",
       "      <th>0</th>\n",
       "      <td>(0,125]</td>\n",
       "      <td>12037.440192</td>\n",
       "    </tr>\n",
       "    <tr>\n",
       "      <th>1</th>\n",
       "      <td>(125,145]</td>\n",
       "      <td>21589.874593</td>\n",
       "    </tr>\n",
       "    <tr>\n",
       "      <th>2</th>\n",
       "      <td>(145,580]</td>\n",
       "      <td>18172.485649</td>\n",
       "    </tr>\n",
       "  </tbody>\n",
       "</table>\n",
       "</div>"
      ],
      "text/plain": [
       "         tax         price\n",
       "0    (0,125]  12037.440192\n",
       "1  (125,145]  21589.874593\n",
       "2  (145,580]  18172.485649"
      ]
     },
     "execution_count": 48,
     "metadata": {},
     "output_type": "execute_result"
    },
    {
     "data": {
      "image/png": "[encoded data removed]",
      "text/plain": [
       "<Figure size 432x288 with 1 Axes>"
      ]
     },
     "metadata": {
      "needs_background": "light"
     },
     "output_type": "display_data"
    }
   ],
   "source": [
    "aux = dataframe[['tax', 'price']].groupby('tax', as_index=False).mean().sort_values(by='tax', ascending=True)\n",
    "diccionario={0:\"(0,125]\",1:\"(125,145]\",2:\"(145,580]\"}\n",
    "aux['tax'] = aux['tax'].map(diccionario)\n",
    "aux.plot.bar(x='tax',y='price', rot='0')\n",
    "aux"
   ]
  },
  {
   "cell_type": "markdown",
   "id": "c1516174",
   "metadata": {},
   "source": [
    "El `mpg`presenta una correlacion donde va aumentando su precio de acuerdo a las millas por galon."
   ]
  },
  {
   "cell_type": "code",
   "execution_count": 49,
   "id": "fb134da5",
   "metadata": {},
   "outputs": [
    {
     "data": {
      "text/html": [
       "<div>\n",
       "<style scoped>\n",
       "    .dataframe tbody tr th:only-of-type {\n",
       "        vertical-align: middle;\n",
       "    }\n",
       "\n",
       "    .dataframe tbody tr th {\n",
       "        vertical-align: top;\n",
       "    }\n",
       "\n",
       "    .dataframe thead th {\n",
       "        text-align: right;\n",
       "    }\n",
       "</style>\n",
       "<table border=\"1\" class=\"dataframe\">\n",
       "  <thead>\n",
       "    <tr style=\"text-align: right;\">\n",
       "      <th></th>\n",
       "      <th>mpg</th>\n",
       "      <th>price</th>\n",
       "    </tr>\n",
       "  </thead>\n",
       "  <tbody>\n",
       "    <tr>\n",
       "      <th>9</th>\n",
       "      <td>(72,188]</td>\n",
       "      <td>12989.110478</td>\n",
       "    </tr>\n",
       "    <tr>\n",
       "      <th>8</th>\n",
       "      <td>(65,72]</td>\n",
       "      <td>14012.498458</td>\n",
       "    </tr>\n",
       "    <tr>\n",
       "      <th>7</th>\n",
       "      <td>(60,65]</td>\n",
       "      <td>15020.652778</td>\n",
       "    </tr>\n",
       "    <tr>\n",
       "      <th>6</th>\n",
       "      <td>(58,60]</td>\n",
       "      <td>12269.459416</td>\n",
       "    </tr>\n",
       "    <tr>\n",
       "      <th>5</th>\n",
       "      <td>(55,58]</td>\n",
       "      <td>12525.249733</td>\n",
       "    </tr>\n",
       "    <tr>\n",
       "      <th>4</th>\n",
       "      <td>(51,55]</td>\n",
       "      <td>16020.000000</td>\n",
       "    </tr>\n",
       "    <tr>\n",
       "      <th>3</th>\n",
       "      <td>(47,51]</td>\n",
       "      <td>19988.066212</td>\n",
       "    </tr>\n",
       "    <tr>\n",
       "      <th>2</th>\n",
       "      <td>(44,47]</td>\n",
       "      <td>18434.675721</td>\n",
       "    </tr>\n",
       "    <tr>\n",
       "      <th>1</th>\n",
       "      <td>(39,44]</td>\n",
       "      <td>22833.200971</td>\n",
       "    </tr>\n",
       "    <tr>\n",
       "      <th>0</th>\n",
       "      <td>(10,39]</td>\n",
       "      <td>29632.473000</td>\n",
       "    </tr>\n",
       "  </tbody>\n",
       "</table>\n",
       "</div>"
      ],
      "text/plain": [
       "        mpg         price\n",
       "9  (72,188]  12989.110478\n",
       "8   (65,72]  14012.498458\n",
       "7   (60,65]  15020.652778\n",
       "6   (58,60]  12269.459416\n",
       "5   (55,58]  12525.249733\n",
       "4   (51,55]  16020.000000\n",
       "3   (47,51]  19988.066212\n",
       "2   (44,47]  18434.675721\n",
       "1   (39,44]  22833.200971\n",
       "0   (10,39]  29632.473000"
      ]
     },
     "execution_count": 49,
     "metadata": {},
     "output_type": "execute_result"
    },
    {
     "data": {
      "image/png": "[encoded data removed]",
      "text/plain": [
       "<Figure size 432x288 with 1 Axes>"
      ]
     },
     "metadata": {
      "needs_background": "light"
     },
     "output_type": "display_data"
    }
   ],
   "source": [
    "aux = dataframe[['mpg', 'price']].groupby('mpg', as_index=False).mean().sort_values(by='mpg', ascending=False)\n",
    "diccionario={0:\"(10,39]\",1:\"(39,44]\",2:\"(44,47]\",3:\"(47,51]\",4:\"(51,55]\",5:\"(55,58]\",6:\"(58,60]\",7:\"(60,65]\"\n",
    "             ,8:\"(65,72]\",9:\"(72,188]\"}\n",
    "aux['mpg'] = aux['mpg'].map(diccionario)\n",
    "aux.plot.bar(x='mpg',y='price', rot='40')\n",
    "aux"
   ]
  },
  {
   "cell_type": "markdown",
   "id": "fb78a084",
   "metadata": {},
   "source": [
    "Podemos inferir que si la medida del `engineSize` aumenta, entonces su precio tambien."
   ]
  },
  {
   "cell_type": "code",
   "execution_count": 50,
   "id": "b43bbe15",
   "metadata": {},
   "outputs": [
    {
     "data": {
      "text/html": [
       "<div>\n",
       "<style scoped>\n",
       "    .dataframe tbody tr th:only-of-type {\n",
       "        vertical-align: middle;\n",
       "    }\n",
       "\n",
       "    .dataframe tbody tr th {\n",
       "        vertical-align: top;\n",
       "    }\n",
       "\n",
       "    .dataframe thead th {\n",
       "        text-align: right;\n",
       "    }\n",
       "</style>\n",
       "<table border=\"1\" class=\"dataframe\">\n",
       "  <thead>\n",
       "    <tr style=\"text-align: right;\">\n",
       "      <th></th>\n",
       "      <th>engineSize</th>\n",
       "      <th>price</th>\n",
       "    </tr>\n",
       "  </thead>\n",
       "  <tbody>\n",
       "    <tr>\n",
       "      <th>0</th>\n",
       "      <td>(0,1.5]</td>\n",
       "      <td>13249.567980</td>\n",
       "    </tr>\n",
       "    <tr>\n",
       "      <th>1</th>\n",
       "      <td>(1.5,1.7]</td>\n",
       "      <td>13832.362238</td>\n",
       "    </tr>\n",
       "    <tr>\n",
       "      <th>2</th>\n",
       "      <td>(1.7,2]</td>\n",
       "      <td>19701.678893</td>\n",
       "    </tr>\n",
       "    <tr>\n",
       "      <th>3</th>\n",
       "      <td>(2,6.6]</td>\n",
       "      <td>30095.001848</td>\n",
       "    </tr>\n",
       "  </tbody>\n",
       "</table>\n",
       "</div>"
      ],
      "text/plain": [
       "  engineSize         price\n",
       "0    (0,1.5]  13249.567980\n",
       "1  (1.5,1.7]  13832.362238\n",
       "2    (1.7,2]  19701.678893\n",
       "3    (2,6.6]  30095.001848"
      ]
     },
     "execution_count": 50,
     "metadata": {},
     "output_type": "execute_result"
    },
    {
     "data": {
      "image/png": "[encoded data removed]",
      "text/plain": [
       "<Figure size 432x288 with 1 Axes>"
      ]
     },
     "metadata": {
      "needs_background": "light"
     },
     "output_type": "display_data"
    }
   ],
   "source": [
    "aux = dataframe[['engineSize', 'price']].groupby('engineSize', as_index=False).mean().sort_values(by='engineSize', ascending=True)\n",
    "diccionario={0:\"(0,1.5]\",1:\"(1.5,1.7]\",2:\"(1.7,2]\",3:\"(2,6.6]\"}\n",
    "aux['engineSize'] = aux['engineSize'].map(diccionario)\n",
    "aux.plot.bar(x='engineSize',y='price', rot='0')\n",
    "aux"
   ]
  },
  {
   "cell_type": "markdown",
   "id": "d1d9f367",
   "metadata": {},
   "source": [
    "Vamor a crear un mapa de correlación. Luego analizaremos el puntaje de todas las variables contra la variable price."
   ]
  },
  {
   "cell_type": "code",
   "execution_count": 51,
   "id": "5add431d",
   "metadata": {},
   "outputs": [
    {
     "data": {
      "image/png": "[encoded data removed]",
      "text/plain": [
       "<Figure size 864x720 with 2 Axes>"
      ]
     },
     "metadata": {
      "needs_background": "light"
     },
     "output_type": "display_data"
    }
   ],
   "source": [
    "plt.figure(figsize=(12, 10))\n",
    "ax = sns.heatmap(dataframe.corr())"
   ]
  },
  {
   "cell_type": "markdown",
   "id": "2b7ec1b8",
   "metadata": {},
   "source": [
    "## 5. Separar los datos para entrenamiento y prueba"
   ]
  },
  {
   "cell_type": "code",
   "execution_count": 52,
   "id": "fcb02fe6",
   "metadata": {},
   "outputs": [],
   "source": [
    "label = dataframe['price']\n",
    "data = dataframe.drop('price', axis=1)"
   ]
  },
  {
   "cell_type": "code",
   "execution_count": 53,
   "id": "4ce02cf7",
   "metadata": {},
   "outputs": [],
   "source": [
    "from sklearn.model_selection import train_test_split\n",
    "\n",
    "X_train, X_test, Y_train, Y_test = train_test_split(data, label, test_size=0.33)"
   ]
  },
  {
   "cell_type": "markdown",
   "id": "950bf2fc",
   "metadata": {},
   "source": [
    "## 6. Modelizar, predecir y resolver el problema"
   ]
  },
  {
   "cell_type": "code",
   "execution_count": 54,
   "id": "05f207df",
   "metadata": {},
   "outputs": [],
   "source": [
    "# Para machine learning\n",
    "from sklearn.linear_model import LogisticRegression\n",
    "from sklearn.svm import SVC, LinearSVC\n",
    "from sklearn.ensemble import RandomForestClassifier\n",
    "from sklearn.neighbors import KNeighborsClassifier\n",
    "from sklearn.naive_bayes import GaussianNB\n",
    "from sklearn.linear_model import Perceptron\n",
    "from sklearn.linear_model import SGDClassifier\n",
    "from sklearn.tree import DecisionTreeClassifier\n",
    "\n",
    "#import tensorflow as tf\n",
    "from tensorflow.keras.models import Sequential\n",
    "from tensorflow.keras.layers import Dense, Dropout\n",
    "from tensorflow.keras.callbacks import EarlyStopping\n",
    "\n",
    "from sklearn.metrics import mean_squared_error as MSE"
   ]
  },
  {
   "cell_type": "markdown",
   "id": "4782adba",
   "metadata": {},
   "source": [
    "#### Algoritmo de Redes Neuronales Artificiales (RNA)"
   ]
  },
  {
   "cell_type": "code",
   "execution_count": 55,
   "id": "9f9832f2",
   "metadata": {},
   "outputs": [],
   "source": [
    "early_stop = EarlyStopping(monitor='val_loss', mode='min', verbose=1, patience=25)"
   ]
  },
  {
   "cell_type": "markdown",
   "id": "0a1aebac",
   "metadata": {},
   "source": [
    "En la primera evaluación, `year`, `model`, `transmission` y `Brand`."
   ]
  },
  {
   "cell_type": "code",
   "execution_count": 56,
   "id": "f5c5d157",
   "metadata": {},
   "outputs": [],
   "source": [
    "data_1 = dataframe[['year', 'model', 'transmission', 'Brand']]\n",
    "\n",
    "X_train, X_test_1, Y_train, Y_test = train_test_split(data_1, label, test_size=0.33)"
   ]
  },
  {
   "cell_type": "code",
   "execution_count": 57,
   "id": "5338a860",
   "metadata": {},
   "outputs": [],
   "source": [
    "model_1 = Sequential()\n",
    "\n",
    "model_1.add(Dense(4, activation='relu'))\n",
    "model_1.add(Dense(255))\n",
    "model_1.add(Dense(255))\n",
    "model_1.add(Dense(1))\n",
    "\n",
    "model_1.compile(optimizer='adam', loss='mse')"
   ]
  },
  {
   "cell_type": "code",
   "execution_count": 58,
   "id": "864ba220",
   "metadata": {},
   "outputs": [
    {
     "name": "stdout",
     "output_type": "stream",
     "text": [
      "Epoch 1/300\n",
      "409/409 [==============================] - 1s 1ms/step - loss: 111210592.0000 - val_loss: 97844664.0000\n",
      "Epoch 2/300\n",
      "409/409 [==============================] - 0s 1ms/step - loss: 99384256.0000 - val_loss: 98311720.0000\n",
      "Epoch 3/300\n",
      "409/409 [==============================] - 0s 1ms/step - loss: 99345496.0000 - val_loss: 98618464.0000\n",
      "Epoch 4/300\n",
      "409/409 [==============================] - 0s 1ms/step - loss: 99433544.0000 - val_loss: 97733728.0000\n",
      "Epoch 5/300\n",
      "409/409 [==============================] - 0s 1ms/step - loss: 99502976.0000 - val_loss: 97277808.0000\n",
      "Epoch 6/300\n",
      "409/409 [==============================] - 0s 1ms/step - loss: 99117368.0000 - val_loss: 97187712.0000\n",
      "Epoch 7/300\n",
      "409/409 [==============================] - 0s 1ms/step - loss: 99024928.0000 - val_loss: 98011032.0000\n",
      "Epoch 8/300\n",
      "409/409 [==============================] - 0s 1ms/step - loss: 99082320.0000 - val_loss: 96983952.0000\n",
      "Epoch 9/300\n",
      "409/409 [==============================] - 0s 1ms/step - loss: 98798472.0000 - val_loss: 100065632.0000\n",
      "Epoch 10/300\n",
      "409/409 [==============================] - 0s 1ms/step - loss: 98698400.0000 - val_loss: 96696768.0000\n",
      "Epoch 11/300\n",
      "409/409 [==============================] - 0s 1ms/step - loss: 98895144.0000 - val_loss: 96574984.0000\n",
      "Epoch 12/300\n",
      "409/409 [==============================] - 0s 1ms/step - loss: 98354656.0000 - val_loss: 97533664.0000\n",
      "Epoch 13/300\n",
      "409/409 [==============================] - 0s 1ms/step - loss: 98361344.0000 - val_loss: 96457176.0000\n",
      "Epoch 14/300\n",
      "409/409 [==============================] - 0s 987us/step - loss: 98286520.0000 - val_loss: 98300488.0000\n",
      "Epoch 15/300\n",
      "409/409 [==============================] - 0s 1ms/step - loss: 98113648.0000 - val_loss: 96195552.0000\n",
      "Epoch 16/300\n",
      "409/409 [==============================] - 0s 1ms/step - loss: 97741096.0000 - val_loss: 95836048.0000\n",
      "Epoch 17/300\n",
      "409/409 [==============================] - 0s 1ms/step - loss: 97716256.0000 - val_loss: 96090008.0000\n",
      "Epoch 18/300\n",
      "409/409 [==============================] - 0s 1ms/step - loss: 97463568.0000 - val_loss: 95454912.0000\n",
      "Epoch 19/300\n",
      "409/409 [==============================] - 0s 1ms/step - loss: 97006456.0000 - val_loss: 95638992.0000\n",
      "Epoch 20/300\n",
      "409/409 [==============================] - 0s 1ms/step - loss: 97116912.0000 - val_loss: 94893152.0000\n",
      "Epoch 21/300\n",
      "409/409 [==============================] - 0s 1ms/step - loss: 96448168.0000 - val_loss: 96999528.0000\n",
      "Epoch 22/300\n",
      "409/409 [==============================] - 0s 1ms/step - loss: 96345904.0000 - val_loss: 94356064.0000\n",
      "Epoch 23/300\n",
      "409/409 [==============================] - 0s 1ms/step - loss: 95659560.0000 - val_loss: 94618488.0000\n",
      "Epoch 24/300\n",
      "409/409 [==============================] - 0s 1ms/step - loss: 94915256.0000 - val_loss: 92655200.0000\n",
      "Epoch 25/300\n",
      "409/409 [==============================] - 0s 1ms/step - loss: 94037824.0000 - val_loss: 91505952.0000\n",
      "Epoch 26/300\n",
      "409/409 [==============================] - 0s 1ms/step - loss: 92329616.0000 - val_loss: 90531160.0000\n",
      "Epoch 27/300\n",
      "409/409 [==============================] - 0s 996us/step - loss: 89888072.0000 - val_loss: 86114192.0000\n",
      "Epoch 28/300\n",
      "409/409 [==============================] - 0s 1ms/step - loss: 85853856.0000 - val_loss: 81813632.0000\n",
      "Epoch 29/300\n",
      "409/409 [==============================] - 0s 1ms/step - loss: 81877456.0000 - val_loss: 77337832.0000\n",
      "Epoch 30/300\n",
      "409/409 [==============================] - 0s 1ms/step - loss: 78518120.0000 - val_loss: 74335920.0000\n",
      "Epoch 31/300\n",
      "409/409 [==============================] - 0s 1ms/step - loss: 76305952.0000 - val_loss: 72858752.0000\n",
      "Epoch 32/300\n",
      "409/409 [==============================] - 0s 1ms/step - loss: 74701064.0000 - val_loss: 72815008.0000\n",
      "Epoch 33/300\n",
      "409/409 [==============================] - 0s 1ms/step - loss: 74099288.0000 - val_loss: 71575040.0000\n",
      "Epoch 34/300\n",
      "409/409 [==============================] - 1s 1ms/step - loss: 73845576.0000 - val_loss: 72918584.0000\n",
      "Epoch 35/300\n",
      "409/409 [==============================] - 0s 1ms/step - loss: 73638632.0000 - val_loss: 70918664.0000\n",
      "Epoch 36/300\n",
      "409/409 [==============================] - 0s 1ms/step - loss: 73869696.0000 - val_loss: 71559264.0000\n",
      "Epoch 37/300\n",
      "409/409 [==============================] - 0s 1ms/step - loss: 73556296.0000 - val_loss: 71822408.0000\n",
      "Epoch 38/300\n",
      "409/409 [==============================] - 0s 998us/step - loss: 73446136.0000 - val_loss: 71475000.0000\n",
      "Epoch 39/300\n",
      "409/409 [==============================] - 0s 1ms/step - loss: 73447632.0000 - val_loss: 74484712.0000\n",
      "Epoch 40/300\n",
      "409/409 [==============================] - 0s 1ms/step - loss: 73763944.0000 - val_loss: 72875408.0000\n",
      "Epoch 41/300\n",
      "409/409 [==============================] - 0s 1ms/step - loss: 73604328.0000 - val_loss: 71580776.0000\n",
      "Epoch 42/300\n",
      "409/409 [==============================] - 0s 1ms/step - loss: 73696384.0000 - val_loss: 71448776.0000\n",
      "Epoch 43/300\n",
      "409/409 [==============================] - 0s 1ms/step - loss: 73904496.0000 - val_loss: 70889752.0000\n",
      "Epoch 44/300\n",
      "409/409 [==============================] - 0s 1ms/step - loss: 73660520.0000 - val_loss: 70862896.0000\n",
      "Epoch 45/300\n",
      "409/409 [==============================] - 0s 1ms/step - loss: 73331176.0000 - val_loss: 71120288.0000\n",
      "Epoch 46/300\n",
      "409/409 [==============================] - 0s 1ms/step - loss: 73491176.0000 - val_loss: 73322888.0000\n",
      "Epoch 47/300\n",
      "409/409 [==============================] - 0s 1ms/step - loss: 73515136.0000 - val_loss: 71345832.0000\n",
      "Epoch 48/300\n",
      "409/409 [==============================] - 0s 1ms/step - loss: 73477224.0000 - val_loss: 71570400.0000\n",
      "Epoch 49/300\n",
      "409/409 [==============================] - 0s 1ms/step - loss: 73597632.0000 - val_loss: 71007088.0000\n",
      "Epoch 50/300\n",
      "409/409 [==============================] - 0s 1ms/step - loss: 73782944.0000 - val_loss: 70789056.0000\n",
      "Epoch 51/300\n",
      "409/409 [==============================] - 0s 1ms/step - loss: 73549144.0000 - val_loss: 71391736.0000\n",
      "Epoch 52/300\n",
      "409/409 [==============================] - 0s 1ms/step - loss: 73402984.0000 - val_loss: 70917752.0000\n",
      "Epoch 53/300\n",
      "409/409 [==============================] - 0s 1ms/step - loss: 73967280.0000 - val_loss: 72562296.0000\n",
      "Epoch 54/300\n",
      "409/409 [==============================] - 0s 1ms/step - loss: 74081272.0000 - val_loss: 70884960.0000\n",
      "Epoch 55/300\n",
      "409/409 [==============================] - 0s 1ms/step - loss: 73651856.0000 - val_loss: 71356032.0000\n",
      "Epoch 56/300\n",
      "409/409 [==============================] - 0s 1ms/step - loss: 73574336.0000 - val_loss: 71171176.0000\n",
      "Epoch 57/300\n",
      "409/409 [==============================] - 0s 1ms/step - loss: 73624472.0000 - val_loss: 70958648.0000\n",
      "Epoch 58/300\n",
      "409/409 [==============================] - 0s 1ms/step - loss: 73474736.0000 - val_loss: 70799848.0000\n",
      "Epoch 59/300\n",
      "409/409 [==============================] - 0s 1ms/step - loss: 73611960.0000 - val_loss: 70935256.0000\n",
      "Epoch 60/300\n",
      "409/409 [==============================] - 0s 1ms/step - loss: 73665736.0000 - val_loss: 75850088.0000\n",
      "Epoch 61/300\n",
      "409/409 [==============================] - 0s 1ms/step - loss: 73558184.0000 - val_loss: 71044080.0000\n",
      "Epoch 62/300\n",
      "409/409 [==============================] - 0s 1ms/step - loss: 73668696.0000 - val_loss: 71641200.0000\n",
      "Epoch 63/300\n",
      "409/409 [==============================] - 0s 1ms/step - loss: 73668608.0000 - val_loss: 70955016.0000\n",
      "Epoch 64/300\n",
      "409/409 [==============================] - 0s 1ms/step - loss: 73671664.0000 - val_loss: 70861168.0000\n",
      "Epoch 65/300\n",
      "409/409 [==============================] - 0s 1ms/step - loss: 73490872.0000 - val_loss: 71455656.0000\n",
      "Epoch 66/300\n",
      "409/409 [==============================] - 0s 1ms/step - loss: 73570680.0000 - val_loss: 71018408.0000\n",
      "Epoch 67/300\n",
      "409/409 [==============================] - 0s 1ms/step - loss: 73654248.0000 - val_loss: 71539264.0000\n",
      "Epoch 68/300\n",
      "409/409 [==============================] - 0s 1ms/step - loss: 73570704.0000 - val_loss: 71159792.0000\n",
      "Epoch 69/300\n",
      "409/409 [==============================] - 0s 1ms/step - loss: 73636560.0000 - val_loss: 71581816.0000\n",
      "Epoch 70/300\n",
      "409/409 [==============================] - 0s 1ms/step - loss: 73372240.0000 - val_loss: 70812160.0000\n",
      "Epoch 71/300\n",
      "409/409 [==============================] - 0s 1ms/step - loss: 73917536.0000 - val_loss: 74065688.0000\n",
      "Epoch 72/300\n",
      "409/409 [==============================] - 0s 1ms/step - loss: 73567960.0000 - val_loss: 71887776.0000\n",
      "Epoch 73/300\n",
      "409/409 [==============================] - 0s 1ms/step - loss: 73592320.0000 - val_loss: 72137344.0000\n",
      "Epoch 74/300\n",
      "409/409 [==============================] - 0s 1ms/step - loss: 73197672.0000 - val_loss: 70766912.0000\n",
      "Epoch 75/300\n",
      "409/409 [==============================] - 0s 1ms/step - loss: 73688568.0000 - val_loss: 72220176.0000\n",
      "Epoch 76/300\n",
      "409/409 [==============================] - 0s 1ms/step - loss: 73854000.0000 - val_loss: 71219744.0000\n",
      "Epoch 77/300\n",
      "409/409 [==============================] - 0s 1ms/step - loss: 73452120.0000 - val_loss: 71072664.0000\n",
      "Epoch 78/300\n",
      "409/409 [==============================] - 0s 1ms/step - loss: 73564064.0000 - val_loss: 70975320.0000\n",
      "Epoch 79/300\n",
      "409/409 [==============================] - 0s 1ms/step - loss: 73624992.0000 - val_loss: 71634968.0000\n",
      "Epoch 80/300\n",
      "409/409 [==============================] - 0s 1ms/step - loss: 73787272.0000 - val_loss: 73513544.0000\n",
      "Epoch 81/300\n",
      "409/409 [==============================] - 0s 1ms/step - loss: 73368104.0000 - val_loss: 73612600.0000\n",
      "Epoch 82/300\n",
      "409/409 [==============================] - 0s 1ms/step - loss: 73696448.0000 - val_loss: 70856184.0000\n",
      "Epoch 83/300\n",
      "409/409 [==============================] - 0s 1ms/step - loss: 73476616.0000 - val_loss: 71002752.0000\n",
      "Epoch 84/300\n",
      "409/409 [==============================] - 0s 1ms/step - loss: 73428976.0000 - val_loss: 70897352.0000\n",
      "Epoch 85/300\n",
      "409/409 [==============================] - 0s 1ms/step - loss: 73688440.0000 - val_loss: 70829352.0000\n",
      "Epoch 86/300\n",
      "409/409 [==============================] - 0s 1ms/step - loss: 73403368.0000 - val_loss: 70935104.0000\n",
      "Epoch 87/300\n",
      "409/409 [==============================] - 0s 1ms/step - loss: 73517736.0000 - val_loss: 74127856.0000\n",
      "Epoch 88/300\n",
      "409/409 [==============================] - 0s 1ms/step - loss: 73472720.0000 - val_loss: 71101024.0000\n",
      "Epoch 89/300\n",
      "409/409 [==============================] - 0s 1ms/step - loss: 73952888.0000 - val_loss: 71755896.0000\n",
      "Epoch 90/300\n",
      "409/409 [==============================] - 0s 1ms/step - loss: 73634344.0000 - val_loss: 70889064.0000\n",
      "Epoch 91/300\n",
      "409/409 [==============================] - 0s 1ms/step - loss: 73549784.0000 - val_loss: 73125088.0000\n",
      "Epoch 92/300\n",
      "409/409 [==============================] - 0s 1ms/step - loss: 73826024.0000 - val_loss: 71184528.0000\n",
      "Epoch 93/300\n",
      "409/409 [==============================] - 0s 1ms/step - loss: 73621056.0000 - val_loss: 70773432.0000\n",
      "Epoch 94/300\n",
      "409/409 [==============================] - 0s 1ms/step - loss: 73302392.0000 - val_loss: 70829224.0000\n",
      "Epoch 95/300\n",
      "409/409 [==============================] - 0s 1ms/step - loss: 73555624.0000 - val_loss: 70892136.0000\n",
      "Epoch 96/300\n",
      "409/409 [==============================] - 0s 1ms/step - loss: 73529304.0000 - val_loss: 72539624.0000\n",
      "Epoch 97/300\n",
      "409/409 [==============================] - 0s 1ms/step - loss: 73591528.0000 - val_loss: 73424320.0000\n",
      "Epoch 98/300\n",
      "409/409 [==============================] - 0s 1ms/step - loss: 73568568.0000 - val_loss: 71300968.0000\n",
      "Epoch 99/300\n",
      "409/409 [==============================] - 0s 1ms/step - loss: 73404360.0000 - val_loss: 71952880.0000\n",
      "Epoch 00099: early stopping\n"
     ]
    },
    {
     "data": {
      "text/plain": [
       "<keras.callbacks.History at 0x2b8e54687c0>"
      ]
     },
     "execution_count": 58,
     "metadata": {},
     "output_type": "execute_result"
    }
   ],
   "source": [
    "model_1.fit(x=X_train, y=Y_train, epochs=300, validation_data=(X_test_1, Y_test), callbacks=[early_stop])"
   ]
  },
  {
   "cell_type": "markdown",
   "id": "a092af00",
   "metadata": {},
   "source": [
    "En la segunda evaluación, `year`, `transmission`, `engineSize`."
   ]
  },
  {
   "cell_type": "code",
   "execution_count": 59,
   "id": "6c319bea",
   "metadata": {},
   "outputs": [],
   "source": [
    "data_2 = dataframe[['year', 'transmission', 'engineSize']]\n",
    "\n",
    "X_train, X_test_2, Y_train, Y_test = train_test_split(data_2, label, test_size=0.33)"
   ]
  },
  {
   "cell_type": "code",
   "execution_count": 60,
   "id": "14d06edf",
   "metadata": {},
   "outputs": [],
   "source": [
    "model_2 = Sequential()\n",
    "\n",
    "model_2.add(Dense(3, activation='relu'))\n",
    "model_2.add(Dense(255))\n",
    "model_2.add(Dense(255))\n",
    "model_2.add(Dense(1))\n",
    "\n",
    "model_2.compile(optimizer='adam', loss='mse')"
   ]
  },
  {
   "cell_type": "code",
   "execution_count": 61,
   "id": "4d3766a5",
   "metadata": {},
   "outputs": [
    {
     "name": "stdout",
     "output_type": "stream",
     "text": [
      "Epoch 1/300\n",
      "409/409 [==============================] - 1s 1ms/step - loss: 111037896.0000 - val_loss: 89804824.0000\n",
      "Epoch 2/300\n",
      "409/409 [==============================] - 0s 1ms/step - loss: 103936536.0000 - val_loss: 88545384.0000\n",
      "Epoch 3/300\n",
      "409/409 [==============================] - 0s 1ms/step - loss: 104010912.0000 - val_loss: 88651008.0000\n",
      "Epoch 4/300\n",
      "409/409 [==============================] - 0s 1ms/step - loss: 103718592.0000 - val_loss: 88398024.0000\n",
      "Epoch 5/300\n",
      "409/409 [==============================] - 0s 1ms/step - loss: 103862800.0000 - val_loss: 88246168.0000\n",
      "Epoch 6/300\n",
      "409/409 [==============================] - 0s 1ms/step - loss: 103525384.0000 - val_loss: 90693312.0000\n",
      "Epoch 7/300\n",
      "409/409 [==============================] - 0s 1ms/step - loss: 103716224.0000 - val_loss: 88093000.0000\n",
      "Epoch 8/300\n",
      "409/409 [==============================] - 0s 1ms/step - loss: 103062736.0000 - val_loss: 88263528.0000\n",
      "Epoch 9/300\n",
      "409/409 [==============================] - 0s 1ms/step - loss: 103727384.0000 - val_loss: 88059472.0000\n",
      "Epoch 10/300\n",
      "409/409 [==============================] - 0s 1ms/step - loss: 103037104.0000 - val_loss: 88834096.0000\n",
      "Epoch 11/300\n",
      "409/409 [==============================] - 0s 1ms/step - loss: 102824488.0000 - val_loss: 87311176.0000\n",
      "Epoch 12/300\n",
      "409/409 [==============================] - 0s 1ms/step - loss: 102495680.0000 - val_loss: 87588600.0000\n",
      "Epoch 13/300\n",
      "409/409 [==============================] - 0s 1ms/step - loss: 101520544.0000 - val_loss: 91291872.0000\n",
      "Epoch 14/300\n",
      "409/409 [==============================] - 0s 1ms/step - loss: 99361600.0000 - val_loss: 80391792.0000\n",
      "Epoch 15/300\n",
      "409/409 [==============================] - 0s 1ms/step - loss: 89314192.0000 - val_loss: 68745000.0000\n",
      "Epoch 16/300\n",
      "409/409 [==============================] - 0s 1ms/step - loss: 75524688.0000 - val_loss: 57774892.0000\n",
      "Epoch 17/300\n",
      "409/409 [==============================] - 0s 1ms/step - loss: 72488920.0000 - val_loss: 66295720.0000\n",
      "Epoch 18/300\n",
      "409/409 [==============================] - 0s 1ms/step - loss: 72531920.0000 - val_loss: 58156552.0000\n",
      "Epoch 19/300\n",
      "409/409 [==============================] - 0s 1ms/step - loss: 72555560.0000 - val_loss: 56934364.0000\n",
      "Epoch 20/300\n",
      "409/409 [==============================] - 0s 1ms/step - loss: 72591872.0000 - val_loss: 81418080.0000\n",
      "Epoch 21/300\n",
      "409/409 [==============================] - 0s 1ms/step - loss: 73232384.0000 - val_loss: 59260724.0000\n",
      "Epoch 22/300\n",
      "409/409 [==============================] - 0s 1ms/step - loss: 71895448.0000 - val_loss: 57447380.0000\n",
      "Epoch 23/300\n",
      "409/409 [==============================] - 0s 1ms/step - loss: 71943608.0000 - val_loss: 58668308.0000\n",
      "Epoch 24/300\n",
      "409/409 [==============================] - 0s 1ms/step - loss: 71739984.0000 - val_loss: 58579364.0000\n",
      "Epoch 25/300\n",
      "409/409 [==============================] - 0s 1ms/step - loss: 71494504.0000 - val_loss: 56880608.0000\n",
      "Epoch 26/300\n",
      "409/409 [==============================] - 0s 1ms/step - loss: 72023192.0000 - val_loss: 58412112.0000\n",
      "Epoch 27/300\n",
      "409/409 [==============================] - 0s 1ms/step - loss: 73068920.0000 - val_loss: 61237508.0000\n",
      "Epoch 28/300\n",
      "409/409 [==============================] - 0s 1ms/step - loss: 71884304.0000 - val_loss: 60223808.0000\n",
      "Epoch 29/300\n",
      "409/409 [==============================] - 0s 1000us/step - loss: 72013720.0000 - val_loss: 56938728.0000\n",
      "Epoch 30/300\n",
      "409/409 [==============================] - 0s 1ms/step - loss: 72197256.0000 - val_loss: 56444876.0000\n",
      "Epoch 31/300\n",
      "409/409 [==============================] - 0s 1ms/step - loss: 71824672.0000 - val_loss: 58532540.0000\n",
      "Epoch 32/300\n",
      "409/409 [==============================] - 0s 1ms/step - loss: 71411992.0000 - val_loss: 56366988.0000\n",
      "Epoch 33/300\n",
      "409/409 [==============================] - 0s 1ms/step - loss: 71550688.0000 - val_loss: 56456628.0000\n",
      "Epoch 34/300\n",
      "409/409 [==============================] - 0s 1ms/step - loss: 71431896.0000 - val_loss: 60655960.0000\n",
      "Epoch 35/300\n",
      "409/409 [==============================] - 0s 1ms/step - loss: 71968680.0000 - val_loss: 63560740.0000\n",
      "Epoch 36/300\n",
      "409/409 [==============================] - 0s 1ms/step - loss: 71394200.0000 - val_loss: 56369092.0000\n",
      "Epoch 37/300\n",
      "409/409 [==============================] - 0s 1ms/step - loss: 71130968.0000 - val_loss: 56674424.0000\n",
      "Epoch 38/300\n",
      "409/409 [==============================] - 0s 1ms/step - loss: 71262944.0000 - val_loss: 57584200.0000\n",
      "Epoch 39/300\n",
      "409/409 [==============================] - 0s 1ms/step - loss: 71385120.0000 - val_loss: 60518360.0000\n",
      "Epoch 40/300\n",
      "409/409 [==============================] - 0s 1ms/step - loss: 71142904.0000 - val_loss: 57283244.0000\n",
      "Epoch 41/300\n",
      "409/409 [==============================] - 0s 1ms/step - loss: 71323688.0000 - val_loss: 59604432.0000\n",
      "Epoch 42/300\n",
      "409/409 [==============================] - 0s 1ms/step - loss: 70924224.0000 - val_loss: 56752864.0000\n",
      "Epoch 43/300\n",
      "409/409 [==============================] - 0s 1ms/step - loss: 71291056.0000 - val_loss: 57850636.0000\n",
      "Epoch 44/300\n",
      "409/409 [==============================] - 0s 1ms/step - loss: 71007016.0000 - val_loss: 56373252.0000\n",
      "Epoch 45/300\n",
      "409/409 [==============================] - 0s 1ms/step - loss: 71617136.0000 - val_loss: 56485608.0000\n",
      "Epoch 46/300\n",
      "409/409 [==============================] - 0s 1ms/step - loss: 71371688.0000 - val_loss: 59426596.0000\n",
      "Epoch 47/300\n",
      "409/409 [==============================] - 0s 1ms/step - loss: 71705736.0000 - val_loss: 57103188.0000\n",
      "Epoch 48/300\n",
      "409/409 [==============================] - 0s 1ms/step - loss: 70687720.0000 - val_loss: 56933048.0000\n",
      "Epoch 49/300\n",
      "409/409 [==============================] - 0s 1ms/step - loss: 71311752.0000 - val_loss: 56415084.0000\n",
      "Epoch 50/300\n",
      "409/409 [==============================] - 0s 1ms/step - loss: 70731960.0000 - val_loss: 56955804.0000\n",
      "Epoch 51/300\n",
      "409/409 [==============================] - 0s 1ms/step - loss: 71657424.0000 - val_loss: 59870952.0000\n",
      "Epoch 52/300\n",
      "409/409 [==============================] - 0s 1ms/step - loss: 71667552.0000 - val_loss: 56442372.0000\n",
      "Epoch 53/300\n",
      "409/409 [==============================] - 0s 1ms/step - loss: 70866776.0000 - val_loss: 56447928.0000\n",
      "Epoch 54/300\n",
      "409/409 [==============================] - 0s 1ms/step - loss: 71227240.0000 - val_loss: 57588548.0000\n",
      "Epoch 55/300\n",
      "409/409 [==============================] - 0s 1ms/step - loss: 70752688.0000 - val_loss: 56871688.0000\n",
      "Epoch 56/300\n",
      "409/409 [==============================] - 0s 1ms/step - loss: 71532256.0000 - val_loss: 56412040.0000\n",
      "Epoch 57/300\n",
      "409/409 [==============================] - 0s 1ms/step - loss: 71578504.0000 - val_loss: 56675976.0000\n",
      "Epoch 00057: early stopping\n"
     ]
    },
    {
     "data": {
      "text/plain": [
       "<keras.callbacks.History at 0x2b8ec6b9280>"
      ]
     },
     "execution_count": 61,
     "metadata": {},
     "output_type": "execute_result"
    }
   ],
   "source": [
    "model_2.fit(x=X_train, y=Y_train, epochs=300, validation_data=(X_test_2, Y_test), callbacks=[early_stop])"
   ]
  },
  {
   "cell_type": "markdown",
   "id": "3432a517",
   "metadata": {},
   "source": [
    "En la última evaluación, definimos todas las variables."
   ]
  },
  {
   "cell_type": "code",
   "execution_count": 62,
   "id": "369f9586",
   "metadata": {},
   "outputs": [],
   "source": [
    "X_train, X_test_3, Y_train, Y_test = train_test_split(data, label, test_size=0.33)"
   ]
  },
  {
   "cell_type": "code",
   "execution_count": 63,
   "id": "bbd09a4e",
   "metadata": {},
   "outputs": [],
   "source": [
    "model_3 = Sequential()\n",
    "\n",
    "model_3.add(Dense(9, activation='relu'))\n",
    "model_3.add(Dense(255))\n",
    "model_3.add(Dense(255))\n",
    "model_3.add(Dense(1))\n",
    "\n",
    "model_3.compile(optimizer='adam', loss='mse')"
   ]
  },
  {
   "cell_type": "code",
   "execution_count": 64,
   "id": "cf783826",
   "metadata": {},
   "outputs": [
    {
     "name": "stdout",
     "output_type": "stream",
     "text": [
      "Epoch 1/300\n",
      "409/409 [==============================] - 1s 1ms/step - loss: 109192520.0000 - val_loss: 90765072.0000\n",
      "Epoch 2/300\n",
      "409/409 [==============================] - 0s 1ms/step - loss: 102706048.0000 - val_loss: 90189928.0000\n",
      "Epoch 3/300\n",
      "409/409 [==============================] - 0s 1ms/step - loss: 101293936.0000 - val_loss: 89107368.0000\n",
      "Epoch 4/300\n",
      "409/409 [==============================] - 0s 1ms/step - loss: 99612200.0000 - val_loss: 86558440.0000\n",
      "Epoch 5/300\n",
      "409/409 [==============================] - 0s 1ms/step - loss: 79568824.0000 - val_loss: 51586732.0000\n",
      "Epoch 6/300\n",
      "409/409 [==============================] - 0s 1ms/step - loss: 48111268.0000 - val_loss: 50000356.0000\n",
      "Epoch 7/300\n",
      "409/409 [==============================] - 0s 1ms/step - loss: 43174364.0000 - val_loss: 34415224.0000\n",
      "Epoch 8/300\n",
      "409/409 [==============================] - 0s 1ms/step - loss: 39239252.0000 - val_loss: 32393300.0000\n",
      "Epoch 9/300\n",
      "409/409 [==============================] - 0s 1ms/step - loss: 38035832.0000 - val_loss: 31441224.0000\n",
      "Epoch 10/300\n",
      "409/409 [==============================] - 0s 1ms/step - loss: 36362648.0000 - val_loss: 30419874.0000\n",
      "Epoch 11/300\n",
      "409/409 [==============================] - 0s 1ms/step - loss: 35536144.0000 - val_loss: 31077658.0000\n",
      "Epoch 12/300\n",
      "409/409 [==============================] - 0s 1ms/step - loss: 33753012.0000 - val_loss: 37609084.0000\n",
      "Epoch 13/300\n",
      "409/409 [==============================] - 0s 1ms/step - loss: 33343928.0000 - val_loss: 28115346.0000\n",
      "Epoch 14/300\n",
      "409/409 [==============================] - 0s 1ms/step - loss: 32582436.0000 - val_loss: 27190442.0000\n",
      "Epoch 15/300\n",
      "409/409 [==============================] - 0s 1ms/step - loss: 31583984.0000 - val_loss: 25376940.0000\n",
      "Epoch 16/300\n",
      "409/409 [==============================] - 0s 1ms/step - loss: 29916064.0000 - val_loss: 25196350.0000\n",
      "Epoch 17/300\n",
      "409/409 [==============================] - 0s 1ms/step - loss: 29722238.0000 - val_loss: 25122322.0000\n",
      "Epoch 18/300\n",
      "409/409 [==============================] - 0s 1ms/step - loss: 29306994.0000 - val_loss: 26039138.0000\n",
      "Epoch 19/300\n",
      "409/409 [==============================] - 0s 1ms/step - loss: 28969422.0000 - val_loss: 24848634.0000\n",
      "Epoch 20/300\n",
      "409/409 [==============================] - 0s 1ms/step - loss: 28153892.0000 - val_loss: 23015786.0000\n",
      "Epoch 21/300\n",
      "409/409 [==============================] - 0s 1ms/step - loss: 27900042.0000 - val_loss: 22248894.0000\n",
      "Epoch 22/300\n",
      "409/409 [==============================] - 0s 1ms/step - loss: 28662826.0000 - val_loss: 22425726.0000\n",
      "Epoch 23/300\n",
      "409/409 [==============================] - 0s 1ms/step - loss: 28048856.0000 - val_loss: 23265430.0000\n",
      "Epoch 24/300\n",
      "409/409 [==============================] - 0s 1ms/step - loss: 27531872.0000 - val_loss: 26645886.0000\n",
      "Epoch 25/300\n",
      "409/409 [==============================] - 0s 1ms/step - loss: 27299104.0000 - val_loss: 22812414.0000\n",
      "Epoch 26/300\n",
      "409/409 [==============================] - 0s 1ms/step - loss: 28110504.0000 - val_loss: 22375172.0000\n",
      "Epoch 27/300\n",
      "409/409 [==============================] - 0s 1ms/step - loss: 27056882.0000 - val_loss: 31207708.0000\n",
      "Epoch 28/300\n",
      "409/409 [==============================] - 0s 1ms/step - loss: 27099602.0000 - val_loss: 22288248.0000\n",
      "Epoch 29/300\n",
      "409/409 [==============================] - 0s 1ms/step - loss: 27073380.0000 - val_loss: 22006190.0000\n",
      "Epoch 30/300\n",
      "409/409 [==============================] - 0s 1ms/step - loss: 27645672.0000 - val_loss: 22703760.0000\n",
      "Epoch 31/300\n",
      "409/409 [==============================] - 0s 1ms/step - loss: 27383554.0000 - val_loss: 23183520.0000\n",
      "Epoch 32/300\n",
      "409/409 [==============================] - 0s 1ms/step - loss: 26822392.0000 - val_loss: 22163986.0000\n",
      "Epoch 33/300\n",
      "409/409 [==============================] - 0s 997us/step - loss: 27013896.0000 - val_loss: 22650382.0000\n",
      "Epoch 34/300\n",
      "409/409 [==============================] - 0s 1ms/step - loss: 27014612.0000 - val_loss: 21933070.0000\n",
      "Epoch 35/300\n",
      "409/409 [==============================] - 0s 1ms/step - loss: 26956184.0000 - val_loss: 22779394.0000\n",
      "Epoch 36/300\n",
      "409/409 [==============================] - 0s 1ms/step - loss: 26782308.0000 - val_loss: 27561154.0000\n",
      "Epoch 37/300\n",
      "409/409 [==============================] - 0s 1ms/step - loss: 27276996.0000 - val_loss: 21770790.0000\n",
      "Epoch 38/300\n",
      "409/409 [==============================] - 0s 1ms/step - loss: 27410954.0000 - val_loss: 21852704.0000\n",
      "Epoch 39/300\n",
      "409/409 [==============================] - 0s 1ms/step - loss: 26662622.0000 - val_loss: 24740858.0000\n",
      "Epoch 40/300\n",
      "409/409 [==============================] - 0s 1ms/step - loss: 27096550.0000 - val_loss: 25087512.0000\n",
      "Epoch 41/300\n",
      "409/409 [==============================] - 0s 1ms/step - loss: 26775340.0000 - val_loss: 25702182.0000\n",
      "Epoch 42/300\n",
      "409/409 [==============================] - 0s 1ms/step - loss: 26522112.0000 - val_loss: 25740470.0000\n",
      "Epoch 43/300\n",
      "409/409 [==============================] - 0s 1ms/step - loss: 26944548.0000 - val_loss: 21854284.0000\n",
      "Epoch 44/300\n",
      "409/409 [==============================] - 0s 1ms/step - loss: 27083344.0000 - val_loss: 24138472.0000\n",
      "Epoch 45/300\n",
      "409/409 [==============================] - 0s 1ms/step - loss: 26644832.0000 - val_loss: 21929336.0000\n",
      "Epoch 46/300\n",
      "409/409 [==============================] - 0s 1ms/step - loss: 26716060.0000 - val_loss: 23779042.0000\n",
      "Epoch 47/300\n",
      "409/409 [==============================] - 0s 1ms/step - loss: 26525484.0000 - val_loss: 23329782.0000\n",
      "Epoch 48/300\n",
      "409/409 [==============================] - 0s 1ms/step - loss: 26741160.0000 - val_loss: 22158900.0000\n",
      "Epoch 49/300\n",
      "409/409 [==============================] - 0s 1ms/step - loss: 26548804.0000 - val_loss: 25331208.0000\n",
      "Epoch 50/300\n",
      "409/409 [==============================] - 0s 1ms/step - loss: 26543606.0000 - val_loss: 21668980.0000\n",
      "Epoch 51/300\n",
      "409/409 [==============================] - 0s 1ms/step - loss: 26695228.0000 - val_loss: 23316058.0000\n",
      "Epoch 52/300\n",
      "409/409 [==============================] - 0s 1ms/step - loss: 26434466.0000 - val_loss: 24067216.0000\n",
      "Epoch 53/300\n",
      "409/409 [==============================] - 0s 1ms/step - loss: 26147508.0000 - val_loss: 22171548.0000\n",
      "Epoch 54/300\n",
      "409/409 [==============================] - 0s 1ms/step - loss: 26469972.0000 - val_loss: 23307566.0000\n",
      "Epoch 55/300\n",
      "409/409 [==============================] - 0s 1ms/step - loss: 26273030.0000 - val_loss: 21772888.0000\n",
      "Epoch 56/300\n",
      "409/409 [==============================] - 0s 1ms/step - loss: 26694328.0000 - val_loss: 22378788.0000\n",
      "Epoch 57/300\n",
      "409/409 [==============================] - 0s 1ms/step - loss: 26045258.0000 - val_loss: 23026918.0000\n",
      "Epoch 58/300\n",
      "409/409 [==============================] - 0s 1ms/step - loss: 25958356.0000 - val_loss: 23034586.0000\n",
      "Epoch 59/300\n",
      "409/409 [==============================] - 0s 1ms/step - loss: 26623616.0000 - val_loss: 22123232.0000\n",
      "Epoch 60/300\n",
      "409/409 [==============================] - 0s 1ms/step - loss: 26620824.0000 - val_loss: 21580260.0000\n",
      "Epoch 61/300\n",
      "409/409 [==============================] - 0s 1ms/step - loss: 26144686.0000 - val_loss: 22152622.0000\n",
      "Epoch 62/300\n",
      "409/409 [==============================] - 0s 1ms/step - loss: 26017594.0000 - val_loss: 23036678.0000\n",
      "Epoch 63/300\n",
      "409/409 [==============================] - 0s 1ms/step - loss: 26882322.0000 - val_loss: 21987504.0000\n",
      "Epoch 64/300\n",
      "409/409 [==============================] - 0s 1ms/step - loss: 26358856.0000 - val_loss: 24512680.0000\n",
      "Epoch 65/300\n",
      "409/409 [==============================] - 0s 1ms/step - loss: 25504152.0000 - val_loss: 22755328.0000\n",
      "Epoch 66/300\n",
      "409/409 [==============================] - 0s 1ms/step - loss: 26250866.0000 - val_loss: 21978638.0000\n",
      "Epoch 67/300\n",
      "409/409 [==============================] - 0s 1ms/step - loss: 26304432.0000 - val_loss: 22439428.0000\n",
      "Epoch 68/300\n",
      "409/409 [==============================] - 0s 1ms/step - loss: 25874494.0000 - val_loss: 24349286.0000\n",
      "Epoch 69/300\n",
      "409/409 [==============================] - 0s 1ms/step - loss: 26272598.0000 - val_loss: 22386506.0000\n",
      "Epoch 70/300\n",
      "409/409 [==============================] - 0s 1ms/step - loss: 25992596.0000 - val_loss: 24391608.0000\n",
      "Epoch 71/300\n",
      "409/409 [==============================] - 0s 1ms/step - loss: 26066556.0000 - val_loss: 23299910.0000\n",
      "Epoch 72/300\n",
      "409/409 [==============================] - 0s 1ms/step - loss: 26065320.0000 - val_loss: 22514726.0000\n",
      "Epoch 73/300\n",
      "409/409 [==============================] - 0s 1ms/step - loss: 26138802.0000 - val_loss: 22047860.0000\n",
      "Epoch 74/300\n",
      "409/409 [==============================] - 0s 1ms/step - loss: 25955388.0000 - val_loss: 21658164.0000\n",
      "Epoch 75/300\n",
      "409/409 [==============================] - 0s 1ms/step - loss: 26289570.0000 - val_loss: 22587624.0000\n",
      "Epoch 76/300\n",
      "409/409 [==============================] - 0s 1ms/step - loss: 25307838.0000 - val_loss: 21756926.0000\n",
      "Epoch 77/300\n",
      "409/409 [==============================] - 0s 1ms/step - loss: 26012872.0000 - val_loss: 22096418.0000\n",
      "Epoch 78/300\n",
      "409/409 [==============================] - 0s 1ms/step - loss: 25898796.0000 - val_loss: 22261282.0000\n",
      "Epoch 79/300\n",
      "409/409 [==============================] - 0s 1ms/step - loss: 25656722.0000 - val_loss: 22116684.0000\n",
      "Epoch 80/300\n",
      "409/409 [==============================] - 0s 1ms/step - loss: 25777248.0000 - val_loss: 24241454.0000\n",
      "Epoch 81/300\n",
      "409/409 [==============================] - 0s 1ms/step - loss: 25756210.0000 - val_loss: 23352858.0000\n",
      "Epoch 82/300\n",
      "409/409 [==============================] - 0s 1ms/step - loss: 25772898.0000 - val_loss: 21364194.0000\n",
      "Epoch 83/300\n",
      "409/409 [==============================] - 0s 1ms/step - loss: 25706826.0000 - val_loss: 22534568.0000\n",
      "Epoch 84/300\n",
      "409/409 [==============================] - 0s 1ms/step - loss: 25275704.0000 - val_loss: 22653816.0000\n",
      "Epoch 85/300\n",
      "409/409 [==============================] - 0s 1ms/step - loss: 26263864.0000 - val_loss: 21821646.0000\n",
      "Epoch 86/300\n",
      "409/409 [==============================] - 0s 1ms/step - loss: 25650892.0000 - val_loss: 24275812.0000\n",
      "Epoch 87/300\n",
      "409/409 [==============================] - 0s 1ms/step - loss: 25814430.0000 - val_loss: 21740512.0000\n",
      "Epoch 88/300\n",
      "409/409 [==============================] - 0s 1ms/step - loss: 26195024.0000 - val_loss: 29597942.0000\n",
      "Epoch 89/300\n",
      "409/409 [==============================] - 0s 1ms/step - loss: 25738882.0000 - val_loss: 21279392.0000\n",
      "Epoch 90/300\n",
      "409/409 [==============================] - 0s 1ms/step - loss: 25891010.0000 - val_loss: 21470802.0000\n",
      "Epoch 91/300\n",
      "409/409 [==============================] - 0s 1ms/step - loss: 25953336.0000 - val_loss: 21772234.0000\n",
      "Epoch 92/300\n",
      "409/409 [==============================] - 0s 1ms/step - loss: 25889092.0000 - val_loss: 22012464.0000\n",
      "Epoch 93/300\n",
      "409/409 [==============================] - 0s 1ms/step - loss: 26042426.0000 - val_loss: 23559884.0000\n",
      "Epoch 94/300\n",
      "409/409 [==============================] - 0s 1ms/step - loss: 25215316.0000 - val_loss: 21250928.0000\n",
      "Epoch 95/300\n",
      "409/409 [==============================] - 0s 1ms/step - loss: 25491776.0000 - val_loss: 24122956.0000\n",
      "Epoch 96/300\n",
      "409/409 [==============================] - 0s 1ms/step - loss: 26447936.0000 - val_loss: 22331308.0000\n",
      "Epoch 97/300\n",
      "409/409 [==============================] - 0s 1ms/step - loss: 25278798.0000 - val_loss: 22841602.0000\n",
      "Epoch 98/300\n",
      "409/409 [==============================] - 0s 1ms/step - loss: 25777268.0000 - val_loss: 21733594.0000\n",
      "Epoch 99/300\n",
      "409/409 [==============================] - 0s 1ms/step - loss: 25854506.0000 - val_loss: 21839810.0000\n",
      "Epoch 100/300\n",
      "409/409 [==============================] - 0s 1ms/step - loss: 25919194.0000 - val_loss: 21773442.0000\n",
      "Epoch 101/300\n",
      "409/409 [==============================] - 0s 1ms/step - loss: 25552494.0000 - val_loss: 23161010.0000\n",
      "Epoch 102/300\n",
      "409/409 [==============================] - 0s 1ms/step - loss: 25259272.0000 - val_loss: 21536466.0000\n",
      "Epoch 103/300\n",
      "409/409 [==============================] - 0s 1ms/step - loss: 25289558.0000 - val_loss: 22650028.0000\n",
      "Epoch 104/300\n",
      "409/409 [==============================] - 0s 1ms/step - loss: 24949166.0000 - val_loss: 21202674.0000\n",
      "Epoch 105/300\n",
      "409/409 [==============================] - 0s 1ms/step - loss: 25891142.0000 - val_loss: 21405226.0000\n",
      "Epoch 106/300\n",
      "409/409 [==============================] - 0s 1ms/step - loss: 25443056.0000 - val_loss: 21834960.0000\n",
      "Epoch 107/300\n",
      "409/409 [==============================] - 0s 1ms/step - loss: 25852440.0000 - val_loss: 23365600.0000\n",
      "Epoch 108/300\n",
      "409/409 [==============================] - 0s 1ms/step - loss: 25350394.0000 - val_loss: 22425272.0000\n",
      "Epoch 109/300\n",
      "409/409 [==============================] - 0s 1ms/step - loss: 25369976.0000 - val_loss: 22779632.0000\n",
      "Epoch 110/300\n",
      "409/409 [==============================] - 0s 1ms/step - loss: 25642398.0000 - val_loss: 21898964.0000\n",
      "Epoch 111/300\n",
      "409/409 [==============================] - 0s 1ms/step - loss: 25367050.0000 - val_loss: 21483974.0000\n",
      "Epoch 112/300\n",
      "409/409 [==============================] - 0s 1ms/step - loss: 25408092.0000 - val_loss: 22142152.0000\n",
      "Epoch 113/300\n",
      "409/409 [==============================] - 0s 1ms/step - loss: 25297668.0000 - val_loss: 21991710.0000\n",
      "Epoch 114/300\n",
      "409/409 [==============================] - 0s 1ms/step - loss: 25335690.0000 - val_loss: 26086432.0000\n",
      "Epoch 115/300\n",
      "409/409 [==============================] - 0s 1ms/step - loss: 25483494.0000 - val_loss: 21289072.0000\n",
      "Epoch 116/300\n",
      "409/409 [==============================] - 0s 1ms/step - loss: 25498702.0000 - val_loss: 21475902.0000\n",
      "Epoch 117/300\n",
      "409/409 [==============================] - 0s 1ms/step - loss: 25605814.0000 - val_loss: 22501254.0000\n",
      "Epoch 118/300\n",
      "409/409 [==============================] - 0s 1ms/step - loss: 25040228.0000 - val_loss: 21419438.0000\n",
      "Epoch 119/300\n",
      "409/409 [==============================] - 0s 999us/step - loss: 25441676.0000 - val_loss: 24839044.0000\n",
      "Epoch 120/300\n",
      "409/409 [==============================] - 0s 1ms/step - loss: 25424004.0000 - val_loss: 22028772.0000\n",
      "Epoch 121/300\n",
      "409/409 [==============================] - 0s 1ms/step - loss: 25340768.0000 - val_loss: 21164168.0000\n",
      "Epoch 122/300\n",
      "409/409 [==============================] - 0s 1ms/step - loss: 25211850.0000 - val_loss: 22118960.0000\n",
      "Epoch 123/300\n",
      "409/409 [==============================] - 0s 1ms/step - loss: 24928136.0000 - val_loss: 26357342.0000\n",
      "Epoch 124/300\n",
      "409/409 [==============================] - 0s 1ms/step - loss: 25013876.0000 - val_loss: 23232794.0000\n",
      "Epoch 125/300\n",
      "409/409 [==============================] - 0s 1ms/step - loss: 25284646.0000 - val_loss: 21234614.0000\n",
      "Epoch 126/300\n",
      "409/409 [==============================] - 0s 1ms/step - loss: 25476680.0000 - val_loss: 22852418.0000\n",
      "Epoch 127/300\n",
      "409/409 [==============================] - 0s 1ms/step - loss: 25305626.0000 - val_loss: 25849238.0000\n",
      "Epoch 128/300\n",
      "409/409 [==============================] - 0s 1ms/step - loss: 25561988.0000 - val_loss: 21412514.0000\n",
      "Epoch 129/300\n",
      "409/409 [==============================] - 0s 1ms/step - loss: 25525824.0000 - val_loss: 21238524.0000\n",
      "Epoch 130/300\n",
      "409/409 [==============================] - 0s 1ms/step - loss: 24901404.0000 - val_loss: 21259968.0000\n",
      "Epoch 131/300\n",
      "409/409 [==============================] - 0s 1ms/step - loss: 24979292.0000 - val_loss: 21318782.0000\n",
      "Epoch 132/300\n",
      "409/409 [==============================] - 0s 1ms/step - loss: 25261564.0000 - val_loss: 21253152.0000\n",
      "Epoch 133/300\n",
      "409/409 [==============================] - 0s 1ms/step - loss: 25325624.0000 - val_loss: 21920548.0000\n",
      "Epoch 134/300\n",
      "409/409 [==============================] - 0s 1ms/step - loss: 25496506.0000 - val_loss: 22417974.0000\n",
      "Epoch 135/300\n",
      "409/409 [==============================] - 0s 1ms/step - loss: 25197992.0000 - val_loss: 21867558.0000\n",
      "Epoch 136/300\n",
      "409/409 [==============================] - 0s 1ms/step - loss: 25174110.0000 - val_loss: 21122212.0000\n",
      "Epoch 137/300\n",
      "409/409 [==============================] - 0s 1ms/step - loss: 24829672.0000 - val_loss: 23094640.0000\n",
      "Epoch 138/300\n",
      "409/409 [==============================] - 0s 1ms/step - loss: 25081272.0000 - val_loss: 21842648.0000\n",
      "Epoch 139/300\n",
      "409/409 [==============================] - 0s 1ms/step - loss: 25385408.0000 - val_loss: 21440180.0000\n",
      "Epoch 140/300\n",
      "409/409 [==============================] - 0s 1ms/step - loss: 25062114.0000 - val_loss: 21790100.0000\n",
      "Epoch 141/300\n",
      "409/409 [==============================] - 0s 1ms/step - loss: 25242846.0000 - val_loss: 22847018.0000\n",
      "Epoch 142/300\n",
      "409/409 [==============================] - 0s 1ms/step - loss: 24798884.0000 - val_loss: 24085958.0000\n",
      "Epoch 143/300\n",
      "409/409 [==============================] - 0s 1ms/step - loss: 24962864.0000 - val_loss: 21848678.0000\n",
      "Epoch 144/300\n",
      "409/409 [==============================] - 0s 1ms/step - loss: 25509192.0000 - val_loss: 21842158.0000\n",
      "Epoch 145/300\n",
      "409/409 [==============================] - 0s 1ms/step - loss: 25117278.0000 - val_loss: 21473896.0000\n",
      "Epoch 146/300\n",
      "409/409 [==============================] - 0s 1ms/step - loss: 25056458.0000 - val_loss: 25547674.0000\n",
      "Epoch 147/300\n",
      "409/409 [==============================] - 0s 1ms/step - loss: 25189684.0000 - val_loss: 21410806.0000\n",
      "Epoch 148/300\n",
      "409/409 [==============================] - 0s 1ms/step - loss: 25462860.0000 - val_loss: 21114668.0000\n",
      "Epoch 149/300\n",
      "409/409 [==============================] - 0s 1ms/step - loss: 24766888.0000 - val_loss: 23382858.0000\n",
      "Epoch 150/300\n",
      "409/409 [==============================] - 0s 1ms/step - loss: 25193938.0000 - val_loss: 21384352.0000\n",
      "Epoch 151/300\n",
      "409/409 [==============================] - 0s 1ms/step - loss: 24797452.0000 - val_loss: 21932900.0000\n",
      "Epoch 152/300\n",
      "409/409 [==============================] - 0s 1ms/step - loss: 25189032.0000 - val_loss: 23741778.0000\n",
      "Epoch 153/300\n",
      "409/409 [==============================] - 0s 1ms/step - loss: 24927930.0000 - val_loss: 21661554.0000\n",
      "Epoch 154/300\n",
      "409/409 [==============================] - 0s 1000us/step - loss: 25259058.0000 - val_loss: 22444082.0000\n",
      "Epoch 155/300\n",
      "409/409 [==============================] - 0s 1ms/step - loss: 25389130.0000 - val_loss: 26214762.0000\n",
      "Epoch 156/300\n",
      "409/409 [==============================] - 0s 1ms/step - loss: 24843552.0000 - val_loss: 23283928.0000\n",
      "Epoch 157/300\n",
      "409/409 [==============================] - 0s 1ms/step - loss: 24981534.0000 - val_loss: 26002152.0000\n",
      "Epoch 158/300\n",
      "409/409 [==============================] - 0s 1ms/step - loss: 24368934.0000 - val_loss: 21155892.0000\n",
      "Epoch 159/300\n",
      "409/409 [==============================] - 0s 1ms/step - loss: 24916500.0000 - val_loss: 21205990.0000\n",
      "Epoch 160/300\n",
      "409/409 [==============================] - 0s 1ms/step - loss: 25559872.0000 - val_loss: 21269064.0000\n",
      "Epoch 161/300\n",
      "409/409 [==============================] - 0s 1ms/step - loss: 25274870.0000 - val_loss: 21464526.0000\n",
      "Epoch 162/300\n",
      "409/409 [==============================] - 0s 1ms/step - loss: 25093022.0000 - val_loss: 24782578.0000\n",
      "Epoch 163/300\n",
      "409/409 [==============================] - 0s 1ms/step - loss: 25113078.0000 - val_loss: 21398212.0000\n",
      "Epoch 164/300\n",
      "409/409 [==============================] - 0s 1ms/step - loss: 24546722.0000 - val_loss: 22873838.0000\n",
      "Epoch 165/300\n",
      "409/409 [==============================] - 0s 1ms/step - loss: 24635444.0000 - val_loss: 21245910.0000\n",
      "Epoch 166/300\n",
      "409/409 [==============================] - 0s 991us/step - loss: 25155280.0000 - val_loss: 22846118.0000\n",
      "Epoch 167/300\n",
      "409/409 [==============================] - 0s 1ms/step - loss: 24787844.0000 - val_loss: 21054718.0000\n",
      "Epoch 168/300\n",
      "409/409 [==============================] - 0s 1ms/step - loss: 24657542.0000 - val_loss: 29521148.0000\n",
      "Epoch 169/300\n",
      "409/409 [==============================] - 0s 1ms/step - loss: 25311840.0000 - val_loss: 23548572.0000\n",
      "Epoch 170/300\n",
      "409/409 [==============================] - 0s 1ms/step - loss: 24992594.0000 - val_loss: 21104262.0000\n",
      "Epoch 171/300\n",
      "409/409 [==============================] - 0s 1ms/step - loss: 24929230.0000 - val_loss: 23677952.0000\n",
      "Epoch 172/300\n",
      "409/409 [==============================] - 0s 1ms/step - loss: 24657794.0000 - val_loss: 21752734.0000\n",
      "Epoch 173/300\n",
      "409/409 [==============================] - 0s 1ms/step - loss: 24620826.0000 - val_loss: 26003428.0000\n",
      "Epoch 174/300\n",
      "409/409 [==============================] - 0s 1ms/step - loss: 25416068.0000 - val_loss: 21257160.0000\n",
      "Epoch 175/300\n",
      "409/409 [==============================] - 0s 1ms/step - loss: 24838008.0000 - val_loss: 21224206.0000\n",
      "Epoch 176/300\n",
      "409/409 [==============================] - 0s 1ms/step - loss: 24918768.0000 - val_loss: 22523438.0000\n",
      "Epoch 177/300\n",
      "409/409 [==============================] - 0s 1ms/step - loss: 25110054.0000 - val_loss: 25195418.0000\n",
      "Epoch 178/300\n",
      "409/409 [==============================] - 0s 1ms/step - loss: 25085270.0000 - val_loss: 21702162.0000\n",
      "Epoch 179/300\n",
      "409/409 [==============================] - 0s 1ms/step - loss: 24932948.0000 - val_loss: 22694942.0000\n",
      "Epoch 180/300\n",
      "409/409 [==============================] - 0s 1ms/step - loss: 24812154.0000 - val_loss: 27054960.0000\n",
      "Epoch 181/300\n",
      "409/409 [==============================] - 0s 1ms/step - loss: 25064032.0000 - val_loss: 21854982.0000\n",
      "Epoch 182/300\n",
      "409/409 [==============================] - 0s 1ms/step - loss: 24901706.0000 - val_loss: 21479928.0000\n",
      "Epoch 183/300\n",
      "409/409 [==============================] - 0s 1ms/step - loss: 25109226.0000 - val_loss: 22043682.0000\n",
      "Epoch 184/300\n",
      "409/409 [==============================] - 0s 1ms/step - loss: 24667516.0000 - val_loss: 21160186.0000\n",
      "Epoch 185/300\n",
      "409/409 [==============================] - 0s 1ms/step - loss: 24919058.0000 - val_loss: 22187604.0000\n",
      "Epoch 186/300\n",
      "409/409 [==============================] - 0s 1ms/step - loss: 25216572.0000 - val_loss: 21226552.0000\n",
      "Epoch 187/300\n",
      "409/409 [==============================] - 0s 1ms/step - loss: 24768784.0000 - val_loss: 25371156.0000\n",
      "Epoch 188/300\n",
      "409/409 [==============================] - 0s 1ms/step - loss: 25168384.0000 - val_loss: 21651310.0000\n",
      "Epoch 189/300\n",
      "409/409 [==============================] - 0s 1ms/step - loss: 24895074.0000 - val_loss: 21289720.0000\n",
      "Epoch 190/300\n",
      "409/409 [==============================] - 0s 1ms/step - loss: 24672278.0000 - val_loss: 21033986.0000\n",
      "Epoch 191/300\n",
      "409/409 [==============================] - 0s 1ms/step - loss: 24579186.0000 - val_loss: 24308176.0000\n",
      "Epoch 192/300\n",
      "409/409 [==============================] - 0s 1ms/step - loss: 24806464.0000 - val_loss: 23444404.0000\n",
      "Epoch 193/300\n",
      "409/409 [==============================] - 0s 1ms/step - loss: 24779496.0000 - val_loss: 24699854.0000\n",
      "Epoch 194/300\n",
      "409/409 [==============================] - 0s 1ms/step - loss: 24845114.0000 - val_loss: 21625964.0000\n",
      "Epoch 195/300\n",
      "409/409 [==============================] - 0s 1ms/step - loss: 24840098.0000 - val_loss: 22530436.0000\n",
      "Epoch 196/300\n",
      "409/409 [==============================] - 0s 1ms/step - loss: 24584156.0000 - val_loss: 21244372.0000\n",
      "Epoch 197/300\n",
      "409/409 [==============================] - 0s 1ms/step - loss: 25209958.0000 - val_loss: 21209838.0000\n",
      "Epoch 198/300\n",
      "409/409 [==============================] - 0s 1ms/step - loss: 24834608.0000 - val_loss: 22252010.0000\n",
      "Epoch 199/300\n",
      "409/409 [==============================] - 0s 1ms/step - loss: 25099454.0000 - val_loss: 24376504.0000\n",
      "Epoch 200/300\n",
      "409/409 [==============================] - 0s 1ms/step - loss: 25027780.0000 - val_loss: 21470764.0000\n",
      "Epoch 201/300\n",
      "409/409 [==============================] - 0s 1ms/step - loss: 25135170.0000 - val_loss: 21666738.0000\n",
      "Epoch 202/300\n",
      "409/409 [==============================] - 0s 1ms/step - loss: 24820784.0000 - val_loss: 21095120.0000\n",
      "Epoch 203/300\n",
      "409/409 [==============================] - 0s 1ms/step - loss: 24824216.0000 - val_loss: 21098444.0000\n",
      "Epoch 204/300\n",
      "409/409 [==============================] - 0s 1ms/step - loss: 24794536.0000 - val_loss: 21028790.0000\n",
      "Epoch 205/300\n",
      "409/409 [==============================] - 0s 1ms/step - loss: 24706684.0000 - val_loss: 21350288.0000\n",
      "Epoch 206/300\n",
      "409/409 [==============================] - 0s 1ms/step - loss: 24934008.0000 - val_loss: 22813798.0000\n",
      "Epoch 207/300\n",
      "409/409 [==============================] - 0s 1ms/step - loss: 24811952.0000 - val_loss: 21425368.0000\n",
      "Epoch 208/300\n",
      "409/409 [==============================] - 0s 1ms/step - loss: 24703490.0000 - val_loss: 21105326.0000\n",
      "Epoch 209/300\n",
      "409/409 [==============================] - 0s 1ms/step - loss: 24349330.0000 - val_loss: 21579388.0000\n",
      "Epoch 210/300\n",
      "409/409 [==============================] - 0s 1ms/step - loss: 24577106.0000 - val_loss: 21208540.0000\n",
      "Epoch 211/300\n",
      "409/409 [==============================] - 0s 1ms/step - loss: 24598220.0000 - val_loss: 23028028.0000\n",
      "Epoch 212/300\n",
      "409/409 [==============================] - 0s 1ms/step - loss: 24835930.0000 - val_loss: 22009936.0000\n",
      "Epoch 213/300\n",
      "409/409 [==============================] - 0s 1ms/step - loss: 24801612.0000 - val_loss: 21412514.0000\n",
      "Epoch 214/300\n",
      "409/409 [==============================] - 0s 1ms/step - loss: 24592766.0000 - val_loss: 21821832.0000\n",
      "Epoch 215/300\n",
      "409/409 [==============================] - 0s 1ms/step - loss: 24972478.0000 - val_loss: 21284322.0000\n",
      "Epoch 216/300\n",
      "409/409 [==============================] - 0s 1ms/step - loss: 24768812.0000 - val_loss: 21271900.0000\n",
      "Epoch 217/300\n",
      "409/409 [==============================] - 0s 1ms/step - loss: 24865788.0000 - val_loss: 21744258.0000\n",
      "Epoch 218/300\n",
      "409/409 [==============================] - 0s 1ms/step - loss: 24743678.0000 - val_loss: 21077176.0000\n",
      "Epoch 219/300\n",
      "409/409 [==============================] - 0s 1ms/step - loss: 24725556.0000 - val_loss: 21770374.0000\n",
      "Epoch 220/300\n",
      "409/409 [==============================] - 0s 1ms/step - loss: 24625094.0000 - val_loss: 22133174.0000\n",
      "Epoch 221/300\n",
      "409/409 [==============================] - 0s 1ms/step - loss: 24818574.0000 - val_loss: 22198922.0000\n",
      "Epoch 222/300\n",
      "409/409 [==============================] - 0s 1ms/step - loss: 25008090.0000 - val_loss: 21839182.0000\n",
      "Epoch 223/300\n",
      "409/409 [==============================] - 0s 1ms/step - loss: 24860984.0000 - val_loss: 21202192.0000\n",
      "Epoch 224/300\n",
      "409/409 [==============================] - 0s 1ms/step - loss: 24654644.0000 - val_loss: 21391000.0000\n",
      "Epoch 225/300\n",
      "409/409 [==============================] - 0s 1ms/step - loss: 24599216.0000 - val_loss: 21109072.0000\n",
      "Epoch 226/300\n",
      "409/409 [==============================] - 0s 1ms/step - loss: 24681540.0000 - val_loss: 21479014.0000\n",
      "Epoch 227/300\n",
      "409/409 [==============================] - 0s 1ms/step - loss: 24825532.0000 - val_loss: 22342262.0000\n",
      "Epoch 228/300\n",
      "409/409 [==============================] - 0s 1ms/step - loss: 25056644.0000 - val_loss: 21187968.0000\n",
      "Epoch 229/300\n",
      "409/409 [==============================] - 0s 1ms/step - loss: 24867302.0000 - val_loss: 21535206.0000\n",
      "Epoch 00229: early stopping\n"
     ]
    },
    {
     "data": {
      "text/plain": [
       "<keras.callbacks.History at 0x2b8ee7be2b0>"
      ]
     },
     "execution_count": 64,
     "metadata": {},
     "output_type": "execute_result"
    }
   ],
   "source": [
    "model_3.fit(x=X_train, y=Y_train, epochs=300, validation_data=(X_test_3, Y_test), callbacks=[early_stop])"
   ]
  },
  {
   "cell_type": "code",
   "execution_count": 65,
   "id": "ec8ea108",
   "metadata": {},
   "outputs": [
    {
     "name": "stdout",
     "output_type": "stream",
     "text": [
      "Prediccion variables: 'year', 'model', 'transmission', 'Brand':  11040.828367118835\n",
      "Prediccion variables: 'year', , 'transmission', 'Brand':  11031.935747264462\n",
      "Prediccion con todas las variables:  4640.604215785918\n"
     ]
    }
   ],
   "source": [
    "prediction1 = model_1.predict(X_test_1)\n",
    "print(\"Prediccion variables: 'year', 'model', 'transmission', 'Brand': \", np.sqrt(MSE(Y_test, prediction1)))\n",
    "\n",
    "prediction2 = model_2.predict(X_test_2)\n",
    "print(\"Prediccion variables: 'year', , 'transmission', 'Brand': \", np.sqrt(MSE(Y_test, prediction2)))\n",
    "np.sqrt(MSE(Y_test, prediction2))\n",
    "\n",
    "prediction3 = model_3.predict(X_test_3)\n",
    "print(\"Prediccion con todas las variables: \", np.sqrt(MSE(Y_test, prediction3)))"
   ]
  },
  {
   "cell_type": "markdown",
   "id": "66bfd394",
   "metadata": {},
   "source": [
    "Probamos con una entrada"
   ]
  },
  {
   "cell_type": "code",
   "execution_count": 66,
   "id": "cbeda6ff",
   "metadata": {},
   "outputs": [
    {
     "data": {
      "text/html": [
       "<div>\n",
       "<style scoped>\n",
       "    .dataframe tbody tr th:only-of-type {\n",
       "        vertical-align: middle;\n",
       "    }\n",
       "\n",
       "    .dataframe tbody tr th {\n",
       "        vertical-align: top;\n",
       "    }\n",
       "\n",
       "    .dataframe thead th {\n",
       "        text-align: right;\n",
       "    }\n",
       "</style>\n",
       "<table border=\"1\" class=\"dataframe\">\n",
       "  <thead>\n",
       "    <tr style=\"text-align: right;\">\n",
       "      <th></th>\n",
       "      <th>year</th>\n",
       "      <th>model</th>\n",
       "      <th>transmission</th>\n",
       "      <th>Brand</th>\n",
       "    </tr>\n",
       "  </thead>\n",
       "  <tbody>\n",
       "    <tr>\n",
       "      <th>18742</th>\n",
       "      <td>2009</td>\n",
       "      <td>13</td>\n",
       "      <td>0</td>\n",
       "      <td>4</td>\n",
       "    </tr>\n",
       "  </tbody>\n",
       "</table>\n",
       "</div>"
      ],
      "text/plain": [
       "       year  model  transmission  Brand\n",
       "18742  2009     13             0      4"
      ]
     },
     "execution_count": 66,
     "metadata": {},
     "output_type": "execute_result"
    }
   ],
   "source": [
    "X_test_1.head(1)"
   ]
  },
  {
   "cell_type": "code",
   "execution_count": 67,
   "id": "ed81c0c0",
   "metadata": {},
   "outputs": [],
   "source": [
    "import tensorflow as tf"
   ]
  },
  {
   "cell_type": "code",
   "execution_count": 68,
   "id": "1dedf7cb",
   "metadata": {},
   "outputs": [
    {
     "name": "stdout",
     "output_type": "stream",
     "text": [
      "Hagamos una predicción!\n",
      "El resultado es [[26730.986]]\n"
     ]
    }
   ],
   "source": [
    "print(\"Hagamos una predicción!\")\n",
    "val = [[2019, 8, 2, 1]]\n",
    "resultado = model_1.predict(val)\n",
    "print(\"El resultado es \" + str(resultado))"
   ]
  },
  {
   "cell_type": "code",
   "execution_count": 69,
   "id": "e199aa35",
   "metadata": {},
   "outputs": [
    {
     "data": {
      "text/plain": [
       "[[2019, 8, 2, 1]]"
      ]
     },
     "execution_count": 69,
     "metadata": {},
     "output_type": "execute_result"
    }
   ],
   "source": [
    "val"
   ]
  },
  {
   "cell_type": "markdown",
   "id": "1ba2a239",
   "metadata": {},
   "source": [
    "\n",
    "prediction1 = model_1.predict(X_test)\n",
    "np.sqrt(MSE(Y_test, prediction))\n",
    "## 7. Visualizar, informar y presentar los pasos de resolución del problema y la solución final."
   ]
  },
  {
   "cell_type": "markdown",
   "id": "3b4bcc56",
   "metadata": {},
   "source": [
    "Exportar el modelo en formato h5"
   ]
  },
  {
   "cell_type": "code",
   "execution_count": 70,
   "id": "5d5e5314",
   "metadata": {},
   "outputs": [],
   "source": [
    "model_1.save('carpeta_out_model_4/autos.h5')"
   ]
  },
  {
   "cell_type": "markdown",
   "id": "e0a1081f",
   "metadata": {},
   "source": [
    "Luego, podemos ver que elementos existen en la presente carpeta"
   ]
  },
  {
   "cell_type": "code",
   "execution_count": 71,
   "id": "f9891269",
   "metadata": {},
   "outputs": [
    {
     "name": "stderr",
     "output_type": "stream",
     "text": [
      "\"ls\" no se reconoce como un comando interno o externo,\n",
      "programa o archivo por lotes ejecutable.\n"
     ]
    }
   ],
   "source": [
    "!ls"
   ]
  },
  {
   "cell_type": "markdown",
   "id": "3cab77da",
   "metadata": {},
   "source": [
    "Luego antes de usar el método `tensorflowjs_converter` es necesario instalar la librería `tensorflow.js`, esto se puede realizar\n",
    "con el siguiente comando."
   ]
  },
  {
   "cell_type": "code",
   "execution_count": 72,
   "id": "3d745543",
   "metadata": {},
   "outputs": [
    {
     "name": "stderr",
     "output_type": "stream",
     "text": [
      "\"pip\" no se reconoce como un comando interno o externo,\n",
      "programa o archivo por lotes ejecutable.\n"
     ]
    }
   ],
   "source": [
    "!pip install tensorflowjs"
   ]
  },
  {
   "cell_type": "markdown",
   "id": "31d23219",
   "metadata": {},
   "source": [
    "Luego, creamos una carpeta donde guardaremos los archivos resultantes. Solo ejecutar una vez, pues sino saldrá error de `already_exists`."
   ]
  },
  {
   "cell_type": "code",
   "execution_count": 73,
   "id": "ddb9f608",
   "metadata": {},
   "outputs": [
    {
     "name": "stderr",
     "output_type": "stream",
     "text": [
      "Ya existe el subdirectorio o el archivo carpeta_out.\n"
     ]
    }
   ],
   "source": [
    "!mkdir carpeta_out"
   ]
  },
  {
   "cell_type": "markdown",
   "id": "4d393afa",
   "metadata": {},
   "source": [
    "Realizamos la exportación a la carpeta `carpeta_out`"
   ]
  },
  {
   "cell_type": "code",
   "execution_count": 76,
   "id": "dc5ec340",
   "metadata": {},
   "outputs": [],
   "source": [
    "import tensorflowjs as tfjs\n",
    "tfjs.converters.save_keras_model(model_3, 'carpeta_out')"
   ]
  },
  {
   "cell_type": "code",
   "execution_count": 74,
   "id": "d11ac8ae",
   "metadata": {},
   "outputs": [
    {
     "name": "stderr",
     "output_type": "stream",
     "text": [
      "\"tensorflowjs_converter\" no se reconoce como un comando interno o externo,\n",
      "programa o archivo por lotes ejecutable.\n"
     ]
    }
   ],
   "source": [
    "!tensorflowjs_converter --input_format keras carpeta_out_model_4/autos.h5 carpeta_out_model_4"
   ]
  },
  {
   "cell_type": "markdown",
   "id": "ef97d66b",
   "metadata": {},
   "source": [
    "Ingresamos a la carpeta y luego verificamos los archivos de salida (\"bin\", \"json\", \"h5\")."
   ]
  },
  {
   "cell_type": "code",
   "execution_count": 75,
   "id": "7a48e700",
   "metadata": {},
   "outputs": [
    {
     "name": "stderr",
     "output_type": "stream",
     "text": [
      "\"ls\" no se reconoce como un comando interno o externo,\n",
      "programa o archivo por lotes ejecutable.\n"
     ]
    }
   ],
   "source": [
    "!ls carpeta_out"
   ]
  }
 ],
 "metadata": {
  "interpreter": {
   "hash": "cf6663ca35ebd57d6121109460e534e72c1e1f8ff142ad985cdcb4b7e585eb79"
  },
  "kernelspec": {
   "display_name": "Python (IA)",
   "language": "python",
   "name": "python3"
  },
  "language_info": {
   "codemirror_mode": {
    "name": "ipython",
    "version": 3
   },
   "file_extension": ".py",
   "mimetype": "text/x-python",
   "name": "python",
   "nbconvert_exporter": "python",
   "pygments_lexer": "ipython3",
   "version": "3.9.2"
  }
 },
 "nbformat": 4,
 "nbformat_minor": 5
}
