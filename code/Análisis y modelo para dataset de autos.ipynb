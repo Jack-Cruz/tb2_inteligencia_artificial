{
 "cells": [
  {
   "cell_type": "markdown",
   "id": "2a68eae8",
   "metadata": {},
   "source": [
    "# Análisis de dataset de autos"
   ]
  },
  {
   "cell_type": "markdown",
   "id": "5ad88a8b",
   "metadata": {},
   "source": [
    "El siguiente dataset es la unión de los autos de la marca Audi, Bmw, Hyundi, Merc y Toyota. Este proceso de unión se encuentra en el notebook `Union de datasets.ipynb`. Además, se seguirá las etapas propuestas en el notebook de titanic del laboratorio de la clase de Inteligencia Artificial.\n",
    "\n",
    "1. Definición de pregunta o problema\n",
    "2. Adquirir datos\n",
    "3. Discutir, preparar, limpiar los datos\n",
    "4. Analizar, identificar patrones y explorar los datos\n",
    "5. Separar los datos para entrenamiento y prueba \n",
    "6. Modelizar, predecir y resolver el problema\n",
    "7. Visualizar, informar y presentar los pasos de resolución del problema y la solución final.\n",
    "\n",
    "#### Objetivo de solución:\n",
    "\n",
    "Crear un sistema de consulta, donde el usuario de acuerdo a las características de un auto pueda predecir el costo de este, se prepará los datos para posteriormente ingresarlos en un modelo en base a redes neuronales.  "
   ]
  },
  {
   "cell_type": "markdown",
   "id": "6b40e13f",
   "metadata": {},
   "source": [
    "## 1. Definición de pregunta"
   ]
  },
  {
   "cell_type": "markdown",
   "id": "253b2f91",
   "metadata": {},
   "source": [
    "Se ha recolectado una lista de carros usados, los cuáles han sido recopilados en archivos diferentes dependiendo de cada proveedor, el objetivo es brindar una herramienta que permita predecir a cuánto se puede vender un auto comparando con otros en el mercado."
   ]
  },
  {
   "cell_type": "markdown",
   "id": "839d19af",
   "metadata": {},
   "source": [
    "![Image of a car](../img/used_car.jpg)"
   ]
  },
  {
   "cell_type": "markdown",
   "id": "6c2de285",
   "metadata": {},
   "source": [
    "## 2. Adquirir los datos"
   ]
  },
  {
   "cell_type": "markdown",
   "id": "915db662",
   "metadata": {},
   "source": [
    "Importamos las librerías necesarias para el análisis, como numpy para el uso de arreglos, matplotlib para las gráficos, pandas para el uso de dataframes y seaborn también para gráficos. "
   ]
  },
  {
   "cell_type": "code",
   "execution_count": 1,
   "id": "71cc6b2f",
   "metadata": {},
   "outputs": [],
   "source": [
    "import numpy as np\n",
    "import matplotlib.pyplot as plt\n",
    "import pandas as pd \n",
    "import seaborn as sns"
   ]
  },
  {
   "cell_type": "code",
   "execution_count": 2,
   "id": "de8a0ee0",
   "metadata": {},
   "outputs": [],
   "source": [
    "dataframe = pd.read_csv('../data/autos.csv')"
   ]
  },
  {
   "cell_type": "markdown",
   "id": "e40d455c",
   "metadata": {},
   "source": [
    "## 3. Discutir, preparar y limpiar los datos"
   ]
  },
  {
   "cell_type": "markdown",
   "id": "5f1dc926",
   "metadata": {},
   "source": [
    "Veamos las características del dataset."
   ]
  },
  {
   "cell_type": "code",
   "execution_count": 3,
   "id": "8c3426a9",
   "metadata": {},
   "outputs": [
    {
     "name": "stdout",
     "output_type": "stream",
     "text": [
      "['model' 'year' 'price' 'transmission' 'mileage' 'fuelType' 'tax' 'mpg'\n",
      " 'engineSize' 'Brand']\n"
     ]
    }
   ],
   "source": [
    "print(dataframe.columns.values)"
   ]
  },
  {
   "cell_type": "markdown",
   "id": "45462cd0",
   "metadata": {},
   "source": [
    "Notamos que cuenta en total con 10 variables, 6 numéricas o flotantes y 4 categóricas (objeto). Además, este dataset presenta 19,507 entradas o filas."
   ]
  },
  {
   "cell_type": "code",
   "execution_count": 4,
   "id": "f3422420",
   "metadata": {},
   "outputs": [
    {
     "name": "stdout",
     "output_type": "stream",
     "text": [
      "<class 'pandas.core.frame.DataFrame'>\n",
      "RangeIndex: 19507 entries, 0 to 19506\n",
      "Data columns (total 10 columns):\n",
      " #   Column        Non-Null Count  Dtype  \n",
      "---  ------        --------------  -----  \n",
      " 0   model         19507 non-null  object \n",
      " 1   year          19507 non-null  int64  \n",
      " 2   price         19507 non-null  int64  \n",
      " 3   transmission  19507 non-null  object \n",
      " 4   mileage       19507 non-null  int64  \n",
      " 5   fuelType      19507 non-null  object \n",
      " 6   tax           19507 non-null  int64  \n",
      " 7   mpg           19507 non-null  float64\n",
      " 8   engineSize    19507 non-null  float64\n",
      " 9   Brand         19507 non-null  object \n",
      "dtypes: float64(2), int64(4), object(4)\n",
      "memory usage: 1.5+ MB\n"
     ]
    }
   ],
   "source": [
    "dataframe.info()"
   ]
  },
  {
   "cell_type": "markdown",
   "id": "d765e27c",
   "metadata": {},
   "source": [
    "En todos los dataset se cumple:\n",
    "\n",
    "* El `year` indica la fecha registrada del vehículo.\n",
    "* La variable `price` indica el precio del vehículo en euros.\n",
    "* El `mileage` indica la cantidad de millas en promedio que el vehículo puede recorrer.\n",
    "* El `tax` indica la cantidad de impuesto que paga el vehículo\n",
    "* El `mpg` indica las millas que puede recorrer el vehículo con un solo galón\n",
    "* El `engineSize` indica la cantidad en litros del motor que puede usar"
   ]
  },
  {
   "cell_type": "code",
   "execution_count": 5,
   "id": "6a952d38",
   "metadata": {},
   "outputs": [
    {
     "data": {
      "text/html": [
       "<div>\n",
       "<style scoped>\n",
       "    .dataframe tbody tr th:only-of-type {\n",
       "        vertical-align: middle;\n",
       "    }\n",
       "\n",
       "    .dataframe tbody tr th {\n",
       "        vertical-align: top;\n",
       "    }\n",
       "\n",
       "    .dataframe thead th {\n",
       "        text-align: right;\n",
       "    }\n",
       "</style>\n",
       "<table border=\"1\" class=\"dataframe\">\n",
       "  <thead>\n",
       "    <tr style=\"text-align: right;\">\n",
       "      <th></th>\n",
       "      <th>model</th>\n",
       "      <th>year</th>\n",
       "      <th>price</th>\n",
       "      <th>transmission</th>\n",
       "      <th>mileage</th>\n",
       "      <th>fuelType</th>\n",
       "      <th>tax</th>\n",
       "      <th>mpg</th>\n",
       "      <th>engineSize</th>\n",
       "      <th>Brand</th>\n",
       "    </tr>\n",
       "  </thead>\n",
       "  <tbody>\n",
       "    <tr>\n",
       "      <th>0</th>\n",
       "      <td>A1</td>\n",
       "      <td>2017</td>\n",
       "      <td>12500</td>\n",
       "      <td>Manual</td>\n",
       "      <td>15735</td>\n",
       "      <td>Petrol</td>\n",
       "      <td>150</td>\n",
       "      <td>55.4</td>\n",
       "      <td>1.4</td>\n",
       "      <td>Audi</td>\n",
       "    </tr>\n",
       "    <tr>\n",
       "      <th>1</th>\n",
       "      <td>A6</td>\n",
       "      <td>2016</td>\n",
       "      <td>16500</td>\n",
       "      <td>Automatic</td>\n",
       "      <td>36203</td>\n",
       "      <td>Diesel</td>\n",
       "      <td>20</td>\n",
       "      <td>64.2</td>\n",
       "      <td>2.0</td>\n",
       "      <td>Audi</td>\n",
       "    </tr>\n",
       "    <tr>\n",
       "      <th>2</th>\n",
       "      <td>A1</td>\n",
       "      <td>2016</td>\n",
       "      <td>11000</td>\n",
       "      <td>Manual</td>\n",
       "      <td>29946</td>\n",
       "      <td>Petrol</td>\n",
       "      <td>30</td>\n",
       "      <td>55.4</td>\n",
       "      <td>1.4</td>\n",
       "      <td>Audi</td>\n",
       "    </tr>\n",
       "    <tr>\n",
       "      <th>3</th>\n",
       "      <td>A4</td>\n",
       "      <td>2017</td>\n",
       "      <td>16800</td>\n",
       "      <td>Automatic</td>\n",
       "      <td>25952</td>\n",
       "      <td>Diesel</td>\n",
       "      <td>145</td>\n",
       "      <td>67.3</td>\n",
       "      <td>2.0</td>\n",
       "      <td>Audi</td>\n",
       "    </tr>\n",
       "    <tr>\n",
       "      <th>4</th>\n",
       "      <td>A3</td>\n",
       "      <td>2019</td>\n",
       "      <td>17300</td>\n",
       "      <td>Manual</td>\n",
       "      <td>1998</td>\n",
       "      <td>Petrol</td>\n",
       "      <td>145</td>\n",
       "      <td>49.6</td>\n",
       "      <td>1.0</td>\n",
       "      <td>Audi</td>\n",
       "    </tr>\n",
       "  </tbody>\n",
       "</table>\n",
       "</div>"
      ],
      "text/plain": [
       "  model  year  price transmission  mileage fuelType  tax   mpg  engineSize  \\\n",
       "0    A1  2017  12500       Manual    15735   Petrol  150  55.4         1.4   \n",
       "1    A6  2016  16500    Automatic    36203   Diesel   20  64.2         2.0   \n",
       "2    A1  2016  11000       Manual    29946   Petrol   30  55.4         1.4   \n",
       "3    A4  2017  16800    Automatic    25952   Diesel  145  67.3         2.0   \n",
       "4    A3  2019  17300       Manual     1998   Petrol  145  49.6         1.0   \n",
       "\n",
       "  Brand  \n",
       "0  Audi  \n",
       "1  Audi  \n",
       "2  Audi  \n",
       "3  Audi  \n",
       "4  Audi  "
      ]
     },
     "execution_count": 5,
     "metadata": {},
     "output_type": "execute_result"
    }
   ],
   "source": [
    "dataframe.head()"
   ]
  },
  {
   "cell_type": "markdown",
   "id": "10f050be",
   "metadata": {},
   "source": [
    "Ahora veamos las descripciones por marca de automovil. Observamos que la marca `Audi` presenta 6822 entradas, `Bmw` 4468, `Toyota` 3647, `Hyundi` 3542 y `Mercedes` 1028."
   ]
  },
  {
   "cell_type": "code",
   "execution_count": 6,
   "id": "840f53d6",
   "metadata": {},
   "outputs": [
    {
     "data": {
      "text/plain": [
       "Brand   \n",
       "Audi        6822\n",
       "Bmw         4468\n",
       "Toyota      3647\n",
       "Hyundi      3542\n",
       "Mercedes    1028\n",
       "dtype: int64"
      ]
     },
     "execution_count": 6,
     "metadata": {},
     "output_type": "execute_result"
    }
   ],
   "source": [
    "dataframe[['Brand']].value_counts()"
   ]
  },
  {
   "cell_type": "markdown",
   "id": "6f93dd76",
   "metadata": {},
   "source": [
    "El dataset completo presenta 25 modelos de vehículos, los cuáles pertenecen a 5 marcas específicas."
   ]
  },
  {
   "cell_type": "code",
   "execution_count": 7,
   "id": "64a36791",
   "metadata": {},
   "outputs": [
    {
     "data": {
      "text/html": [
       "<div>\n",
       "<style scoped>\n",
       "    .dataframe tbody tr th:only-of-type {\n",
       "        vertical-align: middle;\n",
       "    }\n",
       "\n",
       "    .dataframe tbody tr th {\n",
       "        vertical-align: top;\n",
       "    }\n",
       "\n",
       "    .dataframe thead th {\n",
       "        text-align: right;\n",
       "    }\n",
       "</style>\n",
       "<table border=\"1\" class=\"dataframe\">\n",
       "  <thead>\n",
       "    <tr style=\"text-align: right;\">\n",
       "      <th></th>\n",
       "      <th>model</th>\n",
       "      <th>transmission</th>\n",
       "      <th>fuelType</th>\n",
       "      <th>Brand</th>\n",
       "    </tr>\n",
       "  </thead>\n",
       "  <tbody>\n",
       "    <tr>\n",
       "      <th>count</th>\n",
       "      <td>19507</td>\n",
       "      <td>19507</td>\n",
       "      <td>19507</td>\n",
       "      <td>19507</td>\n",
       "    </tr>\n",
       "    <tr>\n",
       "      <th>unique</th>\n",
       "      <td>25</td>\n",
       "      <td>4</td>\n",
       "      <td>4</td>\n",
       "      <td>5</td>\n",
       "    </tr>\n",
       "    <tr>\n",
       "      <th>top</th>\n",
       "      <td>Yaris</td>\n",
       "      <td>Manual</td>\n",
       "      <td>Petrol</td>\n",
       "      <td>Audi</td>\n",
       "    </tr>\n",
       "    <tr>\n",
       "      <th>freq</th>\n",
       "      <td>2122</td>\n",
       "      <td>9815</td>\n",
       "      <td>9844</td>\n",
       "      <td>6822</td>\n",
       "    </tr>\n",
       "  </tbody>\n",
       "</table>\n",
       "</div>"
      ],
      "text/plain": [
       "        model transmission fuelType  Brand\n",
       "count   19507        19507    19507  19507\n",
       "unique     25            4        4      5\n",
       "top     Yaris       Manual   Petrol   Audi\n",
       "freq     2122         9815     9844   6822"
      ]
     },
     "execution_count": 7,
     "metadata": {},
     "output_type": "execute_result"
    }
   ],
   "source": [
    "dataframe.describe(include=['O'])"
   ]
  },
  {
   "cell_type": "markdown",
   "id": "8b8ee344",
   "metadata": {},
   "source": [
    "Existen 4 tipos de transmissión: 'Manual', 'Automatic', 'Semi-Auto' y 'Other'."
   ]
  },
  {
   "cell_type": "code",
   "execution_count": 8,
   "id": "2418e335",
   "metadata": {},
   "outputs": [
    {
     "name": "stdout",
     "output_type": "stream",
     "text": [
      "(4,)\n"
     ]
    },
    {
     "data": {
      "text/plain": [
       "array(['Manual', 'Automatic', 'Semi-Auto', 'Other'], dtype=object)"
      ]
     },
     "execution_count": 8,
     "metadata": {},
     "output_type": "execute_result"
    }
   ],
   "source": [
    "modelunique = pd.unique(dataframe['transmission'])\n",
    "print(modelunique.shape)\n",
    "modelunique"
   ]
  },
  {
   "cell_type": "markdown",
   "id": "41f8364e",
   "metadata": {},
   "source": [
    "Existen 4 tipos de combustible, 'Petrol', 'Diesel', 'Hybrid' y 'Other."
   ]
  },
  {
   "cell_type": "code",
   "execution_count": 9,
   "id": "f2cf12d1",
   "metadata": {},
   "outputs": [
    {
     "name": "stdout",
     "output_type": "stream",
     "text": [
      "(4,)\n"
     ]
    },
    {
     "data": {
      "text/plain": [
       "array(['Petrol', 'Diesel', 'Hybrid', 'Other'], dtype=object)"
      ]
     },
     "execution_count": 9,
     "metadata": {},
     "output_type": "execute_result"
    }
   ],
   "source": [
    "modelunique = pd.unique(dataframe['fuelType'])\n",
    "print(modelunique.shape)\n",
    "modelunique"
   ]
  },
  {
   "cell_type": "markdown",
   "id": "f33b6d8a",
   "metadata": {},
   "source": [
    "Temporalmente vamos a separar el dataset, dependiendo de la marca para el análisis de sus variables."
   ]
  },
  {
   "cell_type": "code",
   "execution_count": 10,
   "id": "9a69f962",
   "metadata": {},
   "outputs": [],
   "source": [
    "DatasetAudi = dataframe[dataframe['Brand'] == 'Audi']\n",
    "DatasetBmw = dataframe[dataframe['Brand'] == 'Bmw']\n",
    "DatasetHyundi = dataframe[dataframe['Brand'] == 'Hyundi']\n",
    "DatasetMerc = dataframe[dataframe['Brand'] == 'Mercedes']\n",
    "DatasetToyota = dataframe[dataframe['Brand'] == 'Toyota']"
   ]
  },
  {
   "cell_type": "markdown",
   "id": "70942495",
   "metadata": {},
   "source": [
    "### Marca de vehículo `Audi`"
   ]
  },
  {
   "cell_type": "markdown",
   "id": "95e6eaac",
   "metadata": {},
   "source": [
    "Dentro de las características de la marca `Audi` podemos encontrar:\n",
    "* El año oscila entre 1998 a 2020, y solo el 6% son del año 2020.\n",
    "* El precio del vehiculo esta entre 1,490 a 60,000 euros, el 1% tiene su precio mayor a 42,000 euros.\n",
    "* Las millas oscilan entre 5 a 323,000 y la media en esta marca es de 27,257 millas.\n",
    "* El impuesto que paga el vehículo circula entre 0 a 570 euros, solo el 1% paga más de 235 euros.\n",
    "* En promedio un vehículo puede recorrer 54 millas por un galón, siendo el mínimo 19.3 y el máximo 188.3.\n",
    "* El motor puede usar hasta 5.2 litros, siendo el promedio 1.75 litros."
   ]
  },
  {
   "cell_type": "code",
   "execution_count": 11,
   "id": "be14f961",
   "metadata": {},
   "outputs": [
    {
     "data": {
      "text/html": [
       "<div>\n",
       "<style scoped>\n",
       "    .dataframe tbody tr th:only-of-type {\n",
       "        vertical-align: middle;\n",
       "    }\n",
       "\n",
       "    .dataframe tbody tr th {\n",
       "        vertical-align: top;\n",
       "    }\n",
       "\n",
       "    .dataframe thead th {\n",
       "        text-align: right;\n",
       "    }\n",
       "</style>\n",
       "<table border=\"1\" class=\"dataframe\">\n",
       "  <thead>\n",
       "    <tr style=\"text-align: right;\">\n",
       "      <th></th>\n",
       "      <th>year</th>\n",
       "      <th>price</th>\n",
       "      <th>mileage</th>\n",
       "      <th>tax</th>\n",
       "      <th>mpg</th>\n",
       "      <th>engineSize</th>\n",
       "    </tr>\n",
       "  </thead>\n",
       "  <tbody>\n",
       "    <tr>\n",
       "      <th>count</th>\n",
       "      <td>6822.000000</td>\n",
       "      <td>6822.000000</td>\n",
       "      <td>6822.000000</td>\n",
       "      <td>6822.000000</td>\n",
       "      <td>6822.000000</td>\n",
       "      <td>6822.000000</td>\n",
       "    </tr>\n",
       "    <tr>\n",
       "      <th>mean</th>\n",
       "      <td>2016.878628</td>\n",
       "      <td>19117.472589</td>\n",
       "      <td>27257.501026</td>\n",
       "      <td>107.269862</td>\n",
       "      <td>54.228305</td>\n",
       "      <td>1.754354</td>\n",
       "    </tr>\n",
       "    <tr>\n",
       "      <th>std</th>\n",
       "      <td>2.123220</td>\n",
       "      <td>7690.111698</td>\n",
       "      <td>24201.455062</td>\n",
       "      <td>63.877972</td>\n",
       "      <td>12.665225</td>\n",
       "      <td>0.438000</td>\n",
       "    </tr>\n",
       "    <tr>\n",
       "      <th>min</th>\n",
       "      <td>1998.000000</td>\n",
       "      <td>1490.000000</td>\n",
       "      <td>5.000000</td>\n",
       "      <td>0.000000</td>\n",
       "      <td>19.300000</td>\n",
       "      <td>0.000000</td>\n",
       "    </tr>\n",
       "    <tr>\n",
       "      <th>25%</th>\n",
       "      <td>2016.000000</td>\n",
       "      <td>13486.250000</td>\n",
       "      <td>7040.250000</td>\n",
       "      <td>30.000000</td>\n",
       "      <td>45.600000</td>\n",
       "      <td>1.400000</td>\n",
       "    </tr>\n",
       "    <tr>\n",
       "      <th>50%</th>\n",
       "      <td>2017.000000</td>\n",
       "      <td>17947.500000</td>\n",
       "      <td>22228.500000</td>\n",
       "      <td>145.000000</td>\n",
       "      <td>53.300000</td>\n",
       "      <td>2.000000</td>\n",
       "    </tr>\n",
       "    <tr>\n",
       "      <th>75%</th>\n",
       "      <td>2019.000000</td>\n",
       "      <td>23495.000000</td>\n",
       "      <td>38685.000000</td>\n",
       "      <td>145.000000</td>\n",
       "      <td>61.400000</td>\n",
       "      <td>2.000000</td>\n",
       "    </tr>\n",
       "    <tr>\n",
       "      <th>max</th>\n",
       "      <td>2020.000000</td>\n",
       "      <td>60000.000000</td>\n",
       "      <td>323000.000000</td>\n",
       "      <td>570.000000</td>\n",
       "      <td>188.300000</td>\n",
       "      <td>5.200000</td>\n",
       "    </tr>\n",
       "  </tbody>\n",
       "</table>\n",
       "</div>"
      ],
      "text/plain": [
       "              year         price        mileage          tax          mpg  \\\n",
       "count  6822.000000   6822.000000    6822.000000  6822.000000  6822.000000   \n",
       "mean   2016.878628  19117.472589   27257.501026   107.269862    54.228305   \n",
       "std       2.123220   7690.111698   24201.455062    63.877972    12.665225   \n",
       "min    1998.000000   1490.000000       5.000000     0.000000    19.300000   \n",
       "25%    2016.000000  13486.250000    7040.250000    30.000000    45.600000   \n",
       "50%    2017.000000  17947.500000   22228.500000   145.000000    53.300000   \n",
       "75%    2019.000000  23495.000000   38685.000000   145.000000    61.400000   \n",
       "max    2020.000000  60000.000000  323000.000000   570.000000   188.300000   \n",
       "\n",
       "        engineSize  \n",
       "count  6822.000000  \n",
       "mean      1.754354  \n",
       "std       0.438000  \n",
       "min       0.000000  \n",
       "25%       1.400000  \n",
       "50%       2.000000  \n",
       "75%       2.000000  \n",
       "max       5.200000  "
      ]
     },
     "execution_count": 11,
     "metadata": {},
     "output_type": "execute_result"
    }
   ],
   "source": [
    "DatasetAudi.describe()\n",
    "# DatasetAudi.describe([.94])\n",
    "# DatasetAudi.describe([.99])"
   ]
  },
  {
   "cell_type": "markdown",
   "id": "c1a83c9a",
   "metadata": {},
   "source": [
    "El dataset presenta solo cinco modelos de vehículos 'A1', 'A6', 'A4', 'A3' y 'Q3'."
   ]
  },
  {
   "cell_type": "code",
   "execution_count": 12,
   "id": "137eacfe",
   "metadata": {},
   "outputs": [
    {
     "name": "stdout",
     "output_type": "stream",
     "text": [
      "(5,)\n"
     ]
    },
    {
     "data": {
      "text/plain": [
       "array(['A1', 'A6', 'A4', 'A3', 'Q3'], dtype=object)"
      ]
     },
     "execution_count": 12,
     "metadata": {},
     "output_type": "execute_result"
    }
   ],
   "source": [
    "modelunique = pd.unique(DatasetAudi['model'])\n",
    "print(modelunique.shape)\n",
    "modelunique"
   ]
  },
  {
   "cell_type": "markdown",
   "id": "fa6316a3",
   "metadata": {},
   "source": [
    "### Marca de vehículo `Bmw`"
   ]
  },
  {
   "cell_type": "markdown",
   "id": "442dff8a",
   "metadata": {},
   "source": [
    "Dentro de las características de la marca `Bmw`, podemos encontrar:\n",
    "* El año oscila entre 1996 a 2020, y solo el 6% son del año 2020.\n",
    "* El precio del vehiculo esta entre 1,500 a 123,456 euros, el 1% tiene su precio mayor a 46,631 euros.\n",
    "* Las millas oscilan entre 5 a 178,987 y la media en esta marca es de 25,588 millas.\n",
    "* El impuesto que paga el vehículo circula entre 0 a 565 euros, solo el 1% paga más de 300 euros.\n",
    "* En promedio un vehículo puede recorrer 57 millas por un galón, siendo el mínimo 22 y el máximo 565.\n",
    "* El motor puede usar hasta 6.6 litros, siendo el promedio 2.017 litros."
   ]
  },
  {
   "cell_type": "code",
   "execution_count": 13,
   "id": "b25691a2",
   "metadata": {},
   "outputs": [
    {
     "data": {
      "text/html": [
       "<div>\n",
       "<style scoped>\n",
       "    .dataframe tbody tr th:only-of-type {\n",
       "        vertical-align: middle;\n",
       "    }\n",
       "\n",
       "    .dataframe tbody tr th {\n",
       "        vertical-align: top;\n",
       "    }\n",
       "\n",
       "    .dataframe thead th {\n",
       "        text-align: right;\n",
       "    }\n",
       "</style>\n",
       "<table border=\"1\" class=\"dataframe\">\n",
       "  <thead>\n",
       "    <tr style=\"text-align: right;\">\n",
       "      <th></th>\n",
       "      <th>year</th>\n",
       "      <th>price</th>\n",
       "      <th>mileage</th>\n",
       "      <th>tax</th>\n",
       "      <th>mpg</th>\n",
       "      <th>engineSize</th>\n",
       "    </tr>\n",
       "  </thead>\n",
       "  <tbody>\n",
       "    <tr>\n",
       "      <th>count</th>\n",
       "      <td>4468.000000</td>\n",
       "      <td>4468.000000</td>\n",
       "      <td>4468.000000</td>\n",
       "      <td>4468.000000</td>\n",
       "      <td>4468.000000</td>\n",
       "      <td>4468.000000</td>\n",
       "    </tr>\n",
       "    <tr>\n",
       "      <th>mean</th>\n",
       "      <td>2016.997986</td>\n",
       "      <td>19138.673008</td>\n",
       "      <td>25588.464637</td>\n",
       "      <td>121.223142</td>\n",
       "      <td>57.675582</td>\n",
       "      <td>2.017413</td>\n",
       "    </tr>\n",
       "    <tr>\n",
       "      <th>std</th>\n",
       "      <td>2.228244</td>\n",
       "      <td>8142.553873</td>\n",
       "      <td>24372.575930</td>\n",
       "      <td>62.860406</td>\n",
       "      <td>17.440428</td>\n",
       "      <td>0.529253</td>\n",
       "    </tr>\n",
       "    <tr>\n",
       "      <th>min</th>\n",
       "      <td>1996.000000</td>\n",
       "      <td>1500.000000</td>\n",
       "      <td>5.000000</td>\n",
       "      <td>0.000000</td>\n",
       "      <td>22.100000</td>\n",
       "      <td>0.000000</td>\n",
       "    </tr>\n",
       "    <tr>\n",
       "      <th>25%</th>\n",
       "      <td>2016.000000</td>\n",
       "      <td>13000.000000</td>\n",
       "      <td>6096.000000</td>\n",
       "      <td>125.000000</td>\n",
       "      <td>48.700000</td>\n",
       "      <td>1.500000</td>\n",
       "    </tr>\n",
       "    <tr>\n",
       "      <th>50%</th>\n",
       "      <td>2017.000000</td>\n",
       "      <td>17854.000000</td>\n",
       "      <td>19584.500000</td>\n",
       "      <td>145.000000</td>\n",
       "      <td>54.300000</td>\n",
       "      <td>2.000000</td>\n",
       "    </tr>\n",
       "    <tr>\n",
       "      <th>75%</th>\n",
       "      <td>2019.000000</td>\n",
       "      <td>23450.000000</td>\n",
       "      <td>37507.250000</td>\n",
       "      <td>145.000000</td>\n",
       "      <td>65.700000</td>\n",
       "      <td>2.000000</td>\n",
       "    </tr>\n",
       "    <tr>\n",
       "      <th>max</th>\n",
       "      <td>2020.000000</td>\n",
       "      <td>123456.000000</td>\n",
       "      <td>178987.000000</td>\n",
       "      <td>565.000000</td>\n",
       "      <td>156.900000</td>\n",
       "      <td>6.600000</td>\n",
       "    </tr>\n",
       "  </tbody>\n",
       "</table>\n",
       "</div>"
      ],
      "text/plain": [
       "              year          price        mileage          tax          mpg  \\\n",
       "count  4468.000000    4468.000000    4468.000000  4468.000000  4468.000000   \n",
       "mean   2016.997986   19138.673008   25588.464637   121.223142    57.675582   \n",
       "std       2.228244    8142.553873   24372.575930    62.860406    17.440428   \n",
       "min    1996.000000    1500.000000       5.000000     0.000000    22.100000   \n",
       "25%    2016.000000   13000.000000    6096.000000   125.000000    48.700000   \n",
       "50%    2017.000000   17854.000000   19584.500000   145.000000    54.300000   \n",
       "75%    2019.000000   23450.000000   37507.250000   145.000000    65.700000   \n",
       "max    2020.000000  123456.000000  178987.000000   565.000000   156.900000   \n",
       "\n",
       "        engineSize  \n",
       "count  4468.000000  \n",
       "mean      2.017413  \n",
       "std       0.529253  \n",
       "min       0.000000  \n",
       "25%       1.500000  \n",
       "50%       2.000000  \n",
       "75%       2.000000  \n",
       "max       6.600000  "
      ]
     },
     "execution_count": 13,
     "metadata": {},
     "output_type": "execute_result"
    }
   ],
   "source": [
    "DatasetBmw.describe()\n",
    "# dataframe[dataframe['Brand'] == 'Bmw'].describe([.99])"
   ]
  },
  {
   "cell_type": "markdown",
   "id": "2c3139f1",
   "metadata": {},
   "source": [
    "El dataset presenta solo cinco modelos de vehículos '5 Series', '6 Series', '1 Series', '7 Series' y '2 Series'."
   ]
  },
  {
   "cell_type": "code",
   "execution_count": 14,
   "id": "e5065898",
   "metadata": {},
   "outputs": [
    {
     "name": "stdout",
     "output_type": "stream",
     "text": [
      "(5,)\n"
     ]
    },
    {
     "data": {
      "text/plain": [
       "array(['5 Series', '6 Series', '1 Series', '7 Series', '2 Series'],\n",
       "      dtype=object)"
      ]
     },
     "execution_count": 14,
     "metadata": {},
     "output_type": "execute_result"
    }
   ],
   "source": [
    "modelunique = pd.unique(DatasetBmw['model'])\n",
    "print(modelunique.shape)\n",
    "modelunique"
   ]
  },
  {
   "cell_type": "markdown",
   "id": "2e5812ef",
   "metadata": {},
   "source": [
    "### Marca de vehículo `Toyota`"
   ]
  },
  {
   "cell_type": "markdown",
   "id": "d91456de",
   "metadata": {},
   "source": [
    "Dentro de las características de la marca `Toyota`, podemos encontrar:\n",
    "* El año oscila entre 1999 a 2020, y solo el 2% son del año 2020.\n",
    "* Antes del año 2000 solo hay menos del 0.1% de carros.\n",
    "* El precio del vehiculo esta entre 899 a 37,440 euros, el 1% tiene su precio mayor a 29,901 euros.\n",
    "* Las millas oscilan entre 2 a 150,000 y la media en esta marca es de 24,471 millas.\n",
    "* El impuesto que paga el vehículo circula entre 0 a 330 euros, solo el 1% paga más de 260 euros y es menor al precio maximo de tax de la marca Bmw.\n",
    "* En promedio un vehículo puede recorrer 61 millas por un galón, siendo el mínimo 30 y el máximo 86.\n",
    "* El motor puede usar hasta 2.5 litros, siendo el promedio 1.610 litros."
   ]
  },
  {
   "cell_type": "code",
   "execution_count": 15,
   "id": "160b135d",
   "metadata": {},
   "outputs": [
    {
     "data": {
      "text/html": [
       "<div>\n",
       "<style scoped>\n",
       "    .dataframe tbody tr th:only-of-type {\n",
       "        vertical-align: middle;\n",
       "    }\n",
       "\n",
       "    .dataframe tbody tr th {\n",
       "        vertical-align: top;\n",
       "    }\n",
       "\n",
       "    .dataframe thead th {\n",
       "        text-align: right;\n",
       "    }\n",
       "</style>\n",
       "<table border=\"1\" class=\"dataframe\">\n",
       "  <thead>\n",
       "    <tr style=\"text-align: right;\">\n",
       "      <th></th>\n",
       "      <th>year</th>\n",
       "      <th>price</th>\n",
       "      <th>mileage</th>\n",
       "      <th>tax</th>\n",
       "      <th>mpg</th>\n",
       "      <th>engineSize</th>\n",
       "    </tr>\n",
       "  </thead>\n",
       "  <tbody>\n",
       "    <tr>\n",
       "      <th>count</th>\n",
       "      <td>3647.000000</td>\n",
       "      <td>3647.000000</td>\n",
       "      <td>3647.000000</td>\n",
       "      <td>3647.000000</td>\n",
       "      <td>3647.000000</td>\n",
       "      <td>3647.000000</td>\n",
       "    </tr>\n",
       "    <tr>\n",
       "      <th>mean</th>\n",
       "      <td>2016.555525</td>\n",
       "      <td>12869.348506</td>\n",
       "      <td>24471.850836</td>\n",
       "      <td>88.209487</td>\n",
       "      <td>61.496381</td>\n",
       "      <td>1.610063</td>\n",
       "    </tr>\n",
       "    <tr>\n",
       "      <th>std</th>\n",
       "      <td>2.334395</td>\n",
       "      <td>5110.881286</td>\n",
       "      <td>19398.308769</td>\n",
       "      <td>70.549539</td>\n",
       "      <td>12.981112</td>\n",
       "      <td>0.340533</td>\n",
       "    </tr>\n",
       "    <tr>\n",
       "      <th>min</th>\n",
       "      <td>1999.000000</td>\n",
       "      <td>899.000000</td>\n",
       "      <td>2.000000</td>\n",
       "      <td>0.000000</td>\n",
       "      <td>30.400000</td>\n",
       "      <td>0.000000</td>\n",
       "    </tr>\n",
       "    <tr>\n",
       "      <th>25%</th>\n",
       "      <td>2016.000000</td>\n",
       "      <td>9795.000000</td>\n",
       "      <td>10000.000000</td>\n",
       "      <td>20.000000</td>\n",
       "      <td>52.300000</td>\n",
       "      <td>1.400000</td>\n",
       "    </tr>\n",
       "    <tr>\n",
       "      <th>50%</th>\n",
       "      <td>2017.000000</td>\n",
       "      <td>11895.000000</td>\n",
       "      <td>20069.000000</td>\n",
       "      <td>135.000000</td>\n",
       "      <td>58.900000</td>\n",
       "      <td>1.500000</td>\n",
       "    </tr>\n",
       "    <tr>\n",
       "      <th>75%</th>\n",
       "      <td>2018.000000</td>\n",
       "      <td>14698.000000</td>\n",
       "      <td>33395.500000</td>\n",
       "      <td>145.000000</td>\n",
       "      <td>72.400000</td>\n",
       "      <td>1.800000</td>\n",
       "    </tr>\n",
       "    <tr>\n",
       "      <th>max</th>\n",
       "      <td>2020.000000</td>\n",
       "      <td>37440.000000</td>\n",
       "      <td>150000.000000</td>\n",
       "      <td>330.000000</td>\n",
       "      <td>86.000000</td>\n",
       "      <td>2.500000</td>\n",
       "    </tr>\n",
       "  </tbody>\n",
       "</table>\n",
       "</div>"
      ],
      "text/plain": [
       "              year         price        mileage          tax          mpg  \\\n",
       "count  3647.000000   3647.000000    3647.000000  3647.000000  3647.000000   \n",
       "mean   2016.555525  12869.348506   24471.850836    88.209487    61.496381   \n",
       "std       2.334395   5110.881286   19398.308769    70.549539    12.981112   \n",
       "min    1999.000000    899.000000       2.000000     0.000000    30.400000   \n",
       "25%    2016.000000   9795.000000   10000.000000    20.000000    52.300000   \n",
       "50%    2017.000000  11895.000000   20069.000000   135.000000    58.900000   \n",
       "75%    2018.000000  14698.000000   33395.500000   145.000000    72.400000   \n",
       "max    2020.000000  37440.000000  150000.000000   330.000000    86.000000   \n",
       "\n",
       "        engineSize  \n",
       "count  3647.000000  \n",
       "mean      1.610063  \n",
       "std       0.340533  \n",
       "min       0.000000  \n",
       "25%       1.400000  \n",
       "50%       1.500000  \n",
       "75%       1.800000  \n",
       "max       2.500000  "
      ]
     },
     "execution_count": 15,
     "metadata": {},
     "output_type": "execute_result"
    }
   ],
   "source": [
    "DatasetToyota.describe()\n",
    "#DatasetToyota.describe([.99])\n",
    "#DatasetToyota.describe([.001])"
   ]
  },
  {
   "cell_type": "markdown",
   "id": "62af1f51",
   "metadata": {},
   "source": [
    "El dataset presenta solo cinco modelos de vehículos 'GT86', 'Corolla', 'RAV4', 'Yaris' y 'Auris'."
   ]
  },
  {
   "cell_type": "code",
   "execution_count": 16,
   "id": "b8902a08",
   "metadata": {},
   "outputs": [
    {
     "name": "stdout",
     "output_type": "stream",
     "text": [
      "(5,)\n"
     ]
    },
    {
     "data": {
      "text/plain": [
       "array(['GT86', 'Corolla', 'RAV4', 'Yaris', 'Auris'], dtype=object)"
      ]
     },
     "execution_count": 16,
     "metadata": {},
     "output_type": "execute_result"
    }
   ],
   "source": [
    "modelunique = pd.unique(DatasetToyota['model'])\n",
    "print(modelunique.shape)\n",
    "modelunique"
   ]
  },
  {
   "cell_type": "markdown",
   "id": "92fd3a24",
   "metadata": {},
   "source": [
    "### Marca de vehículo `Hyundi`"
   ]
  },
  {
   "cell_type": "markdown",
   "id": "27a22180",
   "metadata": {},
   "source": [
    "Dentro de las características de la marca `Hyundi`, podemos encontrar:\n",
    "* El año oscila entre 2007 a 2020, y solo el 4% son del año 2020.\n",
    "* El precio del vehiculo esta entre 1,395 a 92,000 euros, el 1% tiene su precio mayor a 80,274 euros.\n",
    "* Las millas oscilan entre 1 a 305 y la media en esta marca es de 22,178 millas.\n",
    "* El impuesto que paga el vehículo circula entre 0 a 305 euros, solo el 1% paga más de 222 euros.\n",
    "* En promedio un vehículo puede recorrer 54 millas por un galón, siendo el mínimo 34 y el máximo 78.\n",
    "* El motor puede usar hasta 2.2 litros, siendo el promedio 1.387 litros."
   ]
  },
  {
   "cell_type": "code",
   "execution_count": 17,
   "id": "9f773b61",
   "metadata": {},
   "outputs": [
    {
     "data": {
      "text/html": [
       "<div>\n",
       "<style scoped>\n",
       "    .dataframe tbody tr th:only-of-type {\n",
       "        vertical-align: middle;\n",
       "    }\n",
       "\n",
       "    .dataframe tbody tr th {\n",
       "        vertical-align: top;\n",
       "    }\n",
       "\n",
       "    .dataframe thead th {\n",
       "        text-align: right;\n",
       "    }\n",
       "</style>\n",
       "<table border=\"1\" class=\"dataframe\">\n",
       "  <thead>\n",
       "    <tr style=\"text-align: right;\">\n",
       "      <th></th>\n",
       "      <th>year</th>\n",
       "      <th>price</th>\n",
       "      <th>mileage</th>\n",
       "      <th>tax</th>\n",
       "      <th>mpg</th>\n",
       "      <th>engineSize</th>\n",
       "    </tr>\n",
       "  </thead>\n",
       "  <tbody>\n",
       "    <tr>\n",
       "      <th>count</th>\n",
       "      <td>3542.000000</td>\n",
       "      <td>3542.000000</td>\n",
       "      <td>3542.000000</td>\n",
       "      <td>3542.000000</td>\n",
       "      <td>3542.000000</td>\n",
       "      <td>3542.000000</td>\n",
       "    </tr>\n",
       "    <tr>\n",
       "      <th>mean</th>\n",
       "      <td>2016.970356</td>\n",
       "      <td>11460.088368</td>\n",
       "      <td>22178.209204</td>\n",
       "      <td>112.656691</td>\n",
       "      <td>54.205703</td>\n",
       "      <td>1.386618</td>\n",
       "    </tr>\n",
       "    <tr>\n",
       "      <th>std</th>\n",
       "      <td>1.848993</td>\n",
       "      <td>5102.150041</td>\n",
       "      <td>17641.624728</td>\n",
       "      <td>58.565166</td>\n",
       "      <td>9.951838</td>\n",
       "      <td>0.342238</td>\n",
       "    </tr>\n",
       "    <tr>\n",
       "      <th>min</th>\n",
       "      <td>2007.000000</td>\n",
       "      <td>1395.000000</td>\n",
       "      <td>1.000000</td>\n",
       "      <td>0.000000</td>\n",
       "      <td>34.000000</td>\n",
       "      <td>0.000000</td>\n",
       "    </tr>\n",
       "    <tr>\n",
       "      <th>25%</th>\n",
       "      <td>2016.000000</td>\n",
       "      <td>7665.500000</td>\n",
       "      <td>9207.500000</td>\n",
       "      <td>30.000000</td>\n",
       "      <td>47.100000</td>\n",
       "      <td>1.200000</td>\n",
       "    </tr>\n",
       "    <tr>\n",
       "      <th>50%</th>\n",
       "      <td>2017.000000</td>\n",
       "      <td>10280.000000</td>\n",
       "      <td>18275.000000</td>\n",
       "      <td>145.000000</td>\n",
       "      <td>57.600000</td>\n",
       "      <td>1.400000</td>\n",
       "    </tr>\n",
       "    <tr>\n",
       "      <th>75%</th>\n",
       "      <td>2018.000000</td>\n",
       "      <td>14488.750000</td>\n",
       "      <td>31347.500000</td>\n",
       "      <td>145.000000</td>\n",
       "      <td>60.100000</td>\n",
       "      <td>1.600000</td>\n",
       "    </tr>\n",
       "    <tr>\n",
       "      <th>max</th>\n",
       "      <td>2020.000000</td>\n",
       "      <td>92000.000000</td>\n",
       "      <td>138000.000000</td>\n",
       "      <td>305.000000</td>\n",
       "      <td>78.400000</td>\n",
       "      <td>2.200000</td>\n",
       "    </tr>\n",
       "  </tbody>\n",
       "</table>\n",
       "</div>"
      ],
      "text/plain": [
       "              year         price        mileage          tax          mpg  \\\n",
       "count  3542.000000   3542.000000    3542.000000  3542.000000  3542.000000   \n",
       "mean   2016.970356  11460.088368   22178.209204   112.656691    54.205703   \n",
       "std       1.848993   5102.150041   17641.624728    58.565166     9.951838   \n",
       "min    2007.000000   1395.000000       1.000000     0.000000    34.000000   \n",
       "25%    2016.000000   7665.500000    9207.500000    30.000000    47.100000   \n",
       "50%    2017.000000  10280.000000   18275.000000   145.000000    57.600000   \n",
       "75%    2018.000000  14488.750000   31347.500000   145.000000    60.100000   \n",
       "max    2020.000000  92000.000000  138000.000000   305.000000    78.400000   \n",
       "\n",
       "        engineSize  \n",
       "count  3542.000000  \n",
       "mean      1.386618  \n",
       "std       0.342238  \n",
       "min       0.000000  \n",
       "25%       1.200000  \n",
       "50%       1.400000  \n",
       "75%       1.600000  \n",
       "max       2.200000  "
      ]
     },
     "execution_count": 17,
     "metadata": {},
     "output_type": "execute_result"
    }
   ],
   "source": [
    "DatasetHyundi.describe()\n",
    "#DatasetHyundi.describe([.96,.97,.99])"
   ]
  },
  {
   "cell_type": "markdown",
   "id": "605f0d70",
   "metadata": {},
   "source": [
    "El dataset presenta solo cinco modelos de vehículos 'I20', 'Tucson', 'I10', 'IX35' y 'I30'."
   ]
  },
  {
   "cell_type": "code",
   "execution_count": 18,
   "id": "fe931205",
   "metadata": {},
   "outputs": [
    {
     "name": "stdout",
     "output_type": "stream",
     "text": [
      "(5,)\n"
     ]
    },
    {
     "data": {
      "text/plain": [
       "array(['I20', 'Tucson', 'I10', 'IX35', 'I30'], dtype=object)"
      ]
     },
     "execution_count": 18,
     "metadata": {},
     "output_type": "execute_result"
    }
   ],
   "source": [
    "modelunique = pd.unique(DatasetHyundi['model'])\n",
    "print(modelunique.shape)\n",
    "modelunique"
   ]
  },
  {
   "cell_type": "markdown",
   "id": "323f4a73",
   "metadata": {},
   "source": [
    "### Marca de vehículo `Mercedes`"
   ]
  },
  {
   "cell_type": "markdown",
   "id": "1f373b43",
   "metadata": {},
   "source": [
    "Dentro de las características de la marca `Mercedes`, podemos encontrar:\n",
    "* El año oscila entre 1997 a 2020, y solo el 6% son del año 2020.\n",
    "* El precio del vehiculo esta entre 1,490 a 159,999 euros, el 1% tiene su precio mayor a 103,887 euros.\n",
    "* Las millas oscilan entre 9 a 122,000 y la media en esta marca es de 20,432 millas.\n",
    "* El impuesto que paga el vehículo circula entre 0 a 580 euros, solo el 1% paga más de 570 euros.\n",
    "* En promedio un vehículo puede recorrer 43 millas por un galón, siendo el mínimo 11 y el máximo 122.\n",
    "* El motor puede usar hasta 6.2 litros, siendo el promedio 2.778 litros."
   ]
  },
  {
   "cell_type": "code",
   "execution_count": 19,
   "id": "66af75eb",
   "metadata": {},
   "outputs": [
    {
     "data": {
      "text/html": [
       "<div>\n",
       "<style scoped>\n",
       "    .dataframe tbody tr th:only-of-type {\n",
       "        vertical-align: middle;\n",
       "    }\n",
       "\n",
       "    .dataframe tbody tr th {\n",
       "        vertical-align: top;\n",
       "    }\n",
       "\n",
       "    .dataframe thead th {\n",
       "        text-align: right;\n",
       "    }\n",
       "</style>\n",
       "<table border=\"1\" class=\"dataframe\">\n",
       "  <thead>\n",
       "    <tr style=\"text-align: right;\">\n",
       "      <th></th>\n",
       "      <th>year</th>\n",
       "      <th>price</th>\n",
       "      <th>mileage</th>\n",
       "      <th>tax</th>\n",
       "      <th>mpg</th>\n",
       "      <th>engineSize</th>\n",
       "    </tr>\n",
       "  </thead>\n",
       "  <tbody>\n",
       "    <tr>\n",
       "      <th>count</th>\n",
       "      <td>1028.000000</td>\n",
       "      <td>1028.000000</td>\n",
       "      <td>1028.000000</td>\n",
       "      <td>1028.000000</td>\n",
       "      <td>1028.000000</td>\n",
       "      <td>1028.000000</td>\n",
       "    </tr>\n",
       "    <tr>\n",
       "      <th>mean</th>\n",
       "      <td>2016.653696</td>\n",
       "      <td>36994.132296</td>\n",
       "      <td>20432.758755</td>\n",
       "      <td>175.544747</td>\n",
       "      <td>43.707685</td>\n",
       "      <td>2.777626</td>\n",
       "    </tr>\n",
       "    <tr>\n",
       "      <th>std</th>\n",
       "      <td>3.576772</td>\n",
       "      <td>19979.836258</td>\n",
       "      <td>19784.435673</td>\n",
       "      <td>91.615890</td>\n",
       "      <td>12.737181</td>\n",
       "      <td>0.835230</td>\n",
       "    </tr>\n",
       "    <tr>\n",
       "      <th>min</th>\n",
       "      <td>1997.000000</td>\n",
       "      <td>1490.000000</td>\n",
       "      <td>9.000000</td>\n",
       "      <td>0.000000</td>\n",
       "      <td>11.000000</td>\n",
       "      <td>0.000000</td>\n",
       "    </tr>\n",
       "    <tr>\n",
       "      <th>25%</th>\n",
       "      <td>2016.000000</td>\n",
       "      <td>24987.750000</td>\n",
       "      <td>4988.500000</td>\n",
       "      <td>145.000000</td>\n",
       "      <td>34.000000</td>\n",
       "      <td>2.100000</td>\n",
       "    </tr>\n",
       "    <tr>\n",
       "      <th>50%</th>\n",
       "      <td>2017.000000</td>\n",
       "      <td>31990.000000</td>\n",
       "      <td>15094.000000</td>\n",
       "      <td>145.000000</td>\n",
       "      <td>42.800000</td>\n",
       "      <td>3.000000</td>\n",
       "    </tr>\n",
       "    <tr>\n",
       "      <th>75%</th>\n",
       "      <td>2019.000000</td>\n",
       "      <td>49484.750000</td>\n",
       "      <td>30135.750000</td>\n",
       "      <td>200.000000</td>\n",
       "      <td>47.900000</td>\n",
       "      <td>3.000000</td>\n",
       "    </tr>\n",
       "    <tr>\n",
       "      <th>max</th>\n",
       "      <td>2020.000000</td>\n",
       "      <td>159999.000000</td>\n",
       "      <td>122000.000000</td>\n",
       "      <td>580.000000</td>\n",
       "      <td>122.900000</td>\n",
       "      <td>6.200000</td>\n",
       "    </tr>\n",
       "  </tbody>\n",
       "</table>\n",
       "</div>"
      ],
      "text/plain": [
       "              year          price        mileage          tax          mpg  \\\n",
       "count  1028.000000    1028.000000    1028.000000  1028.000000  1028.000000   \n",
       "mean   2016.653696   36994.132296   20432.758755   175.544747    43.707685   \n",
       "std       3.576772   19979.836258   19784.435673    91.615890    12.737181   \n",
       "min    1997.000000    1490.000000       9.000000     0.000000    11.000000   \n",
       "25%    2016.000000   24987.750000    4988.500000   145.000000    34.000000   \n",
       "50%    2017.000000   31990.000000   15094.000000   145.000000    42.800000   \n",
       "75%    2019.000000   49484.750000   30135.750000   200.000000    47.900000   \n",
       "max    2020.000000  159999.000000  122000.000000   580.000000   122.900000   \n",
       "\n",
       "        engineSize  \n",
       "count  1028.000000  \n",
       "mean      2.777626  \n",
       "std       0.835230  \n",
       "min       0.000000  \n",
       "25%       2.100000  \n",
       "50%       3.000000  \n",
       "75%       3.000000  \n",
       "max       6.200000  "
      ]
     },
     "execution_count": 19,
     "metadata": {},
     "output_type": "execute_result"
    }
   ],
   "source": [
    "DatasetMerc.describe()\n",
    "#DatasetMerc.describe([.95,.96,.99])"
   ]
  },
  {
   "cell_type": "markdown",
   "id": "1ad61294",
   "metadata": {},
   "source": [
    "El dataset presenta solo cinco modelos de vehículos 'SLK', 'S Class', 'SL CLASS', 'G Class' y 'GLE Class'."
   ]
  },
  {
   "cell_type": "code",
   "execution_count": 20,
   "id": "6b924025",
   "metadata": {},
   "outputs": [
    {
     "name": "stdout",
     "output_type": "stream",
     "text": [
      "(5,)\n"
     ]
    },
    {
     "data": {
      "text/plain": [
       "array(['SLK', 'S Class', 'SL CLASS', 'G Class', 'GLE Class'], dtype=object)"
      ]
     },
     "execution_count": 20,
     "metadata": {},
     "output_type": "execute_result"
    }
   ],
   "source": [
    "modelunique = pd.unique(DatasetMerc['model'])\n",
    "print(modelunique.shape)\n",
    "modelunique"
   ]
  },
  {
   "cell_type": "markdown",
   "id": "8adfc5b3",
   "metadata": {},
   "source": [
    "### Preparación de los datos"
   ]
  },
  {
   "cell_type": "markdown",
   "id": "a39001eb",
   "metadata": {},
   "source": [
    "#### Variables categóricas"
   ]
  },
  {
   "cell_type": "markdown",
   "id": "aeed56f1",
   "metadata": {},
   "source": [
    "Hasta ahora no hemos modificado el dataframe, entonces, en esta sección vamos a setear de categóricos a números. Empezaremos con la marca de vehículo."
   ]
  },
  {
   "cell_type": "code",
   "execution_count": 21,
   "id": "456efa20",
   "metadata": {},
   "outputs": [],
   "source": [
    "marcas = {'Audi':0, 'Bmw':1, 'Hyundi':2, 'Mercedes':3, 'Toyota':4}\n",
    "marcasI = { value:key for key, value in marcas.items()}\n",
    "\n",
    "dataframe['Brand'] = dataframe['Brand'].map(marcas).astype(int)"
   ]
  },
  {
   "cell_type": "code",
   "execution_count": 22,
   "id": "4ec2a172",
   "metadata": {},
   "outputs": [
    {
     "name": "stdout",
     "output_type": "stream",
     "text": [
      "(5,)\n"
     ]
    },
    {
     "data": {
      "text/plain": [
       "array([0, 1, 2, 3, 4])"
      ]
     },
     "execution_count": 22,
     "metadata": {},
     "output_type": "execute_result"
    }
   ],
   "source": [
    "# comprobamos\n",
    "modelunique = pd.unique(dataframe['Brand'])\n",
    "print(modelunique.shape)\n",
    "modelunique"
   ]
  },
  {
   "cell_type": "markdown",
   "id": "e88f5fb1",
   "metadata": {},
   "source": [
    "Ahora, vamos a transformar la variable `transmission` a numéro."
   ]
  },
  {
   "cell_type": "code",
   "execution_count": 23,
   "id": "949d937f",
   "metadata": {},
   "outputs": [],
   "source": [
    "transmission = {'Manual':0, 'Automatic':1, 'Semi-Auto':2, 'Other':3}\n",
    "transmissionI = { value:key for key, value in transmission.items()}\n",
    "\n",
    "dataframe['transmission'] = dataframe['transmission'].map(transmission).astype(int) "
   ]
  },
  {
   "cell_type": "code",
   "execution_count": 24,
   "id": "cab8948f",
   "metadata": {},
   "outputs": [
    {
     "name": "stdout",
     "output_type": "stream",
     "text": [
      "(4,)\n"
     ]
    },
    {
     "data": {
      "text/plain": [
       "array([0, 1, 2, 3])"
      ]
     },
     "execution_count": 24,
     "metadata": {},
     "output_type": "execute_result"
    }
   ],
   "source": [
    "# comprobamos\n",
    "modelunique = pd.unique(dataframe['transmission'])\n",
    "print(modelunique.shape)\n",
    "modelunique"
   ]
  },
  {
   "cell_type": "markdown",
   "id": "2fe336e9",
   "metadata": {},
   "source": [
    "Hacemos lo mismo para la variable `fuelType`."
   ]
  },
  {
   "cell_type": "code",
   "execution_count": 25,
   "id": "a470665f",
   "metadata": {},
   "outputs": [],
   "source": [
    "fuelType = {'Petrol':0, 'Diesel':1, 'Hybrid':2, 'Other':3}\n",
    "\n",
    "dataframe['fuelType'] = dataframe['fuelType'].map(fuelType).astype(int) "
   ]
  },
  {
   "cell_type": "code",
   "execution_count": 26,
   "id": "cd768edc",
   "metadata": {},
   "outputs": [
    {
     "name": "stdout",
     "output_type": "stream",
     "text": [
      "(4,)\n"
     ]
    },
    {
     "data": {
      "text/plain": [
       "array([0, 1, 2, 3])"
      ]
     },
     "execution_count": 26,
     "metadata": {},
     "output_type": "execute_result"
    }
   ],
   "source": [
    "# comprobamos\n",
    "modelunique = pd.unique(dataframe['fuelType'])\n",
    "print(modelunique.shape)\n",
    "modelunique"
   ]
  },
  {
   "cell_type": "markdown",
   "id": "b79f47d9",
   "metadata": {},
   "source": [
    "también vamos a transformar la variable `model` a numérico, esto se realizará con las 25 marcas disponibles. \n",
    "* marca Audi: 'A1', 'A6', 'A4', 'A3' y 'Q3'.\n",
    "* marca Bmw: '5 Series', '6 Series', '1 Series', '7 Series' y '2 Series'.\n",
    "* marca Toyota: 'GT86', 'Corolla', 'RAV4', 'Yaris' y 'Auris'.\n",
    "* marca Hyundi: 'I20', 'Tucson', 'I10', 'IX35' y 'I30'.\n",
    "* marca Mercedes: 'SLK', 'S Class', 'SL CLASS', 'G Class' y 'GLE Class'."
   ]
  },
  {
   "cell_type": "code",
   "execution_count": 27,
   "id": "04cc5a95",
   "metadata": {},
   "outputs": [],
   "source": [
    "model = {'A1':0, 'A6':1, 'A4':2, 'A3':3, 'Q3':4,\\\n",
    "         '5 Series':5, '6 Series':6, '1 Series':7, '7 Series':8, '2 Series':9, \\\n",
    "         'GT86':10, 'Corolla':11, 'RAV4':12, 'Yaris':13, 'Auris':14, \\\n",
    "         'I20':15, 'Tucson':16, 'I10':17, 'IX35':18, 'I30':19, \\\n",
    "         'SLK':20, 'S Class':21, 'SL CLASS':22, 'G Class':23, 'GLE Class':24}    \n",
    "\n",
    "dataframe['model'] = dataframe['model'].map(model).astype(int)"
   ]
  },
  {
   "cell_type": "code",
   "execution_count": 28,
   "id": "eaf88d59",
   "metadata": {},
   "outputs": [
    {
     "name": "stdout",
     "output_type": "stream",
     "text": [
      "(25,)\n"
     ]
    },
    {
     "data": {
      "text/plain": [
       "array([ 0,  1,  2,  3,  4,  5,  6,  7,  8,  9, 15, 16, 17, 18, 19, 20, 21,\n",
       "       22, 23, 24, 10, 11, 12, 13, 14])"
      ]
     },
     "execution_count": 28,
     "metadata": {},
     "output_type": "execute_result"
    }
   ],
   "source": [
    "# comprobamos\n",
    "modelunique = pd.unique(dataframe['model'])\n",
    "print(modelunique.shape)\n",
    "modelunique"
   ]
  },
  {
   "cell_type": "markdown",
   "id": "811329f3",
   "metadata": {},
   "source": [
    "#### Variables enteras con rango"
   ]
  },
  {
   "cell_type": "markdown",
   "id": "e2a86114",
   "metadata": {},
   "source": [
    "Ahora, vamos a crear rangos para las variables numéricas como por ejemplo `mileage`, ya que creemos que pude influir en el modelo, además posee 13963 valores únicos."
   ]
  },
  {
   "cell_type": "code",
   "execution_count": 29,
   "id": "c089d060",
   "metadata": {},
   "outputs": [
    {
     "name": "stdout",
     "output_type": "stream",
     "text": [
      "(13963,)\n"
     ]
    }
   ],
   "source": [
    "#verificar los valores únicos\n",
    "modelunique = pd.unique(dataframe['mileage'])\n",
    "print(modelunique.shape)"
   ]
  },
  {
   "cell_type": "code",
   "execution_count": 30,
   "id": "6eabc454",
   "metadata": {},
   "outputs": [
    {
     "data": {
      "text/html": [
       "<div>\n",
       "<style scoped>\n",
       "    .dataframe tbody tr th:only-of-type {\n",
       "        vertical-align: middle;\n",
       "    }\n",
       "\n",
       "    .dataframe tbody tr th {\n",
       "        vertical-align: top;\n",
       "    }\n",
       "\n",
       "    .dataframe thead th {\n",
       "        text-align: right;\n",
       "    }\n",
       "</style>\n",
       "<table border=\"1\" class=\"dataframe\">\n",
       "  <thead>\n",
       "    <tr style=\"text-align: right;\">\n",
       "      <th></th>\n",
       "      <th>0</th>\n",
       "    </tr>\n",
       "    <tr>\n",
       "      <th>mileageRango</th>\n",
       "      <th></th>\n",
       "    </tr>\n",
       "  </thead>\n",
       "  <tbody>\n",
       "    <tr>\n",
       "      <th>(0.999, 2928.0]</th>\n",
       "      <td>1953</td>\n",
       "    </tr>\n",
       "    <tr>\n",
       "      <th>(2928.0, 6000.0]</th>\n",
       "      <td>2059</td>\n",
       "    </tr>\n",
       "    <tr>\n",
       "      <th>(6000.0, 9857.0]</th>\n",
       "      <td>1841</td>\n",
       "    </tr>\n",
       "    <tr>\n",
       "      <th>(9857.0, 14772.0]</th>\n",
       "      <td>1950</td>\n",
       "    </tr>\n",
       "    <tr>\n",
       "      <th>(14772.0, 20022.0]</th>\n",
       "      <td>1951</td>\n",
       "    </tr>\n",
       "    <tr>\n",
       "      <th>(20022.0, 25635.8]</th>\n",
       "      <td>1950</td>\n",
       "    </tr>\n",
       "    <tr>\n",
       "      <th>(25635.8, 31544.4]</th>\n",
       "      <td>1951</td>\n",
       "    </tr>\n",
       "    <tr>\n",
       "      <th>(31544.4, 40000.0]</th>\n",
       "      <td>1961</td>\n",
       "    </tr>\n",
       "    <tr>\n",
       "      <th>(40000.0, 54591.8]</th>\n",
       "      <td>1940</td>\n",
       "    </tr>\n",
       "    <tr>\n",
       "      <th>(54591.8, 323000.0]</th>\n",
       "      <td>1951</td>\n",
       "    </tr>\n",
       "  </tbody>\n",
       "</table>\n",
       "</div>"
      ],
      "text/plain": [
       "                        0\n",
       "mileageRango             \n",
       "(0.999, 2928.0]      1953\n",
       "(2928.0, 6000.0]     2059\n",
       "(6000.0, 9857.0]     1841\n",
       "(9857.0, 14772.0]    1950\n",
       "(14772.0, 20022.0]   1951\n",
       "(20022.0, 25635.8]   1950\n",
       "(25635.8, 31544.4]   1951\n",
       "(31544.4, 40000.0]   1961\n",
       "(40000.0, 54591.8]   1940\n",
       "(54591.8, 323000.0]  1951"
      ]
     },
     "execution_count": 30,
     "metadata": {},
     "output_type": "execute_result"
    }
   ],
   "source": [
    "#dividir en 10 grupos \n",
    "dataframe['mileageRango'] = pd.qcut(dataframe['mileage'], 10)\n",
    "\n",
    "#mostrar los grupos\n",
    "pd.DataFrame(dataframe[['mileageRango']].value_counts()).sort_values(by='mileageRango', ascending=True)"
   ]
  },
  {
   "cell_type": "code",
   "execution_count": 31,
   "id": "b1f9caab",
   "metadata": {},
   "outputs": [],
   "source": [
    "#setear los valores según el rango\n",
    "dataframe.loc[ dataframe['mileage'] <= 2928.0, 'mileage'] = 0\n",
    "dataframe.loc[ (dataframe['mileage'] > 2928.0) & (dataframe['mileage'] <= 6000.0), 'mileage'] = 1\n",
    "dataframe.loc[ (dataframe['mileage'] > 6000.0) & (dataframe['mileage'] <= 9857.0), 'mileage'] = 2\n",
    "dataframe.loc[ (dataframe['mileage'] > 9857.0) & (dataframe['mileage'] <= 14772.0), 'mileage'] = 3\n",
    "dataframe.loc[ (dataframe['mileage'] > 14772.0) & (dataframe['mileage'] <= 20022.0), 'mileage'] = 4\n",
    "dataframe.loc[ (dataframe['mileage'] > 20022.0) & (dataframe['mileage'] <= 25635.8), 'mileage'] = 5\n",
    "dataframe.loc[ (dataframe['mileage'] > 25635.8) & (dataframe['mileage'] <= 31544.4), 'mileage'] = 6\n",
    "dataframe.loc[ (dataframe['mileage'] > 31544.4) & (dataframe['mileage'] <= 40000.0), 'mileage'] = 7\n",
    "dataframe.loc[ (dataframe['mileage'] > 40000.0) & (dataframe['mileage'] <= 54591.8), 'mileage'] = 8\n",
    "dataframe.loc[ dataframe['mileage'] > 54591.8, 'mileage'] = 9\n",
    "\n",
    "#Eliminamos la variable de 'mileageRango' del dataframe\n",
    "dataframe = dataframe.drop(['mileageRango'], axis=1)"
   ]
  },
  {
   "cell_type": "markdown",
   "id": "fcd2a39a",
   "metadata": {},
   "source": [
    "Realizamos el mismo procedimiento para la variable `tax`."
   ]
  },
  {
   "cell_type": "code",
   "execution_count": 32,
   "id": "472ee37f",
   "metadata": {},
   "outputs": [
    {
     "name": "stdout",
     "output_type": "stream",
     "text": [
      "(38,)\n"
     ]
    }
   ],
   "source": [
    "#verificar los valores únicos\n",
    "modelunique = pd.unique(dataframe['tax'])\n",
    "print(modelunique.shape)"
   ]
  },
  {
   "cell_type": "code",
   "execution_count": 33,
   "id": "57b34d66",
   "metadata": {},
   "outputs": [
    {
     "data": {
      "text/html": [
       "<div>\n",
       "<style scoped>\n",
       "    .dataframe tbody tr th:only-of-type {\n",
       "        vertical-align: middle;\n",
       "    }\n",
       "\n",
       "    .dataframe tbody tr th {\n",
       "        vertical-align: top;\n",
       "    }\n",
       "\n",
       "    .dataframe thead th {\n",
       "        text-align: right;\n",
       "    }\n",
       "</style>\n",
       "<table border=\"1\" class=\"dataframe\">\n",
       "  <thead>\n",
       "    <tr style=\"text-align: right;\">\n",
       "      <th></th>\n",
       "      <th>0</th>\n",
       "    </tr>\n",
       "    <tr>\n",
       "      <th>taxRange</th>\n",
       "      <th></th>\n",
       "    </tr>\n",
       "  </thead>\n",
       "  <tbody>\n",
       "    <tr>\n",
       "      <th>(-0.001, 125.0]</th>\n",
       "      <td>7081</td>\n",
       "    </tr>\n",
       "    <tr>\n",
       "      <th>(125.0, 145.0]</th>\n",
       "      <td>8907</td>\n",
       "    </tr>\n",
       "    <tr>\n",
       "      <th>(145.0, 580.0]</th>\n",
       "      <td>3519</td>\n",
       "    </tr>\n",
       "  </tbody>\n",
       "</table>\n",
       "</div>"
      ],
      "text/plain": [
       "                    0\n",
       "taxRange             \n",
       "(-0.001, 125.0]  7081\n",
       "(125.0, 145.0]   8907\n",
       "(145.0, 580.0]   3519"
      ]
     },
     "execution_count": 33,
     "metadata": {},
     "output_type": "execute_result"
    }
   ],
   "source": [
    "#dividir en 3 grupos \n",
    "dataframe['taxRange'] = pd.qcut(dataframe['tax'], 3)\n",
    "\n",
    "#mostrar los grupos\n",
    "pd.DataFrame(dataframe[['taxRange']].value_counts()).sort_values(by='taxRange', ascending=True)"
   ]
  },
  {
   "cell_type": "code",
   "execution_count": 34,
   "id": "b6cdfb09",
   "metadata": {},
   "outputs": [],
   "source": [
    "#setear los valores según el rango\n",
    "dataframe.loc[ dataframe['tax'] <= 125.0, 'tax'] = 0\n",
    "dataframe.loc[ (dataframe['tax'] > 125.0) & (dataframe['tax'] <= 145.0), 'tax'] = 1\n",
    "dataframe.loc[ dataframe['tax'] > 145.0, 'tax'] = 2\n",
    "\n",
    "#Eliminamos la variable de 'mileageRango' del dataframe\n",
    "dataframe = dataframe.drop(['taxRange'], axis=1)"
   ]
  },
  {
   "cell_type": "markdown",
   "id": "4c28cee6",
   "metadata": {},
   "source": [
    "Realizamos lo mismo para la variable `mpg`, el cuál posee 125 valores únicos."
   ]
  },
  {
   "cell_type": "code",
   "execution_count": 35,
   "id": "f7d1966b",
   "metadata": {},
   "outputs": [
    {
     "name": "stdout",
     "output_type": "stream",
     "text": [
      "(125,)\n"
     ]
    }
   ],
   "source": [
    "#verificar los valores únicos\n",
    "modelunique = pd.unique(dataframe['mpg'])\n",
    "print(modelunique.shape)"
   ]
  },
  {
   "cell_type": "code",
   "execution_count": 36,
   "id": "f8e70200",
   "metadata": {},
   "outputs": [
    {
     "data": {
      "text/html": [
       "<div>\n",
       "<style scoped>\n",
       "    .dataframe tbody tr th:only-of-type {\n",
       "        vertical-align: middle;\n",
       "    }\n",
       "\n",
       "    .dataframe tbody tr th {\n",
       "        vertical-align: top;\n",
       "    }\n",
       "\n",
       "    .dataframe thead th {\n",
       "        text-align: right;\n",
       "    }\n",
       "</style>\n",
       "<table border=\"1\" class=\"dataframe\">\n",
       "  <thead>\n",
       "    <tr style=\"text-align: right;\">\n",
       "      <th></th>\n",
       "      <th>0</th>\n",
       "    </tr>\n",
       "    <tr>\n",
       "      <th>mpgRange</th>\n",
       "      <th></th>\n",
       "    </tr>\n",
       "  </thead>\n",
       "  <tbody>\n",
       "    <tr>\n",
       "      <th>(10.999, 39.2]</th>\n",
       "      <td>2000</td>\n",
       "    </tr>\n",
       "    <tr>\n",
       "      <th>(39.2, 44.8]</th>\n",
       "      <td>2060</td>\n",
       "    </tr>\n",
       "    <tr>\n",
       "      <th>(44.8, 47.9]</th>\n",
       "      <td>1804</td>\n",
       "    </tr>\n",
       "    <tr>\n",
       "      <th>(47.9, 51.4]</th>\n",
       "      <td>2054</td>\n",
       "    </tr>\n",
       "    <tr>\n",
       "      <th>(51.4, 55.4]</th>\n",
       "      <td>2081</td>\n",
       "    </tr>\n",
       "    <tr>\n",
       "      <th>(55.4, 58.0]</th>\n",
       "      <td>1870</td>\n",
       "    </tr>\n",
       "    <tr>\n",
       "      <th>(58.0, 60.1]</th>\n",
       "      <td>1848</td>\n",
       "    </tr>\n",
       "    <tr>\n",
       "      <th>(60.1, 65.7]</th>\n",
       "      <td>2088</td>\n",
       "    </tr>\n",
       "    <tr>\n",
       "      <th>(65.7, 72.4]</th>\n",
       "      <td>1946</td>\n",
       "    </tr>\n",
       "    <tr>\n",
       "      <th>(72.4, 188.3]</th>\n",
       "      <td>1756</td>\n",
       "    </tr>\n",
       "  </tbody>\n",
       "</table>\n",
       "</div>"
      ],
      "text/plain": [
       "                   0\n",
       "mpgRange            \n",
       "(10.999, 39.2]  2000\n",
       "(39.2, 44.8]    2060\n",
       "(44.8, 47.9]    1804\n",
       "(47.9, 51.4]    2054\n",
       "(51.4, 55.4]    2081\n",
       "(55.4, 58.0]    1870\n",
       "(58.0, 60.1]    1848\n",
       "(60.1, 65.7]    2088\n",
       "(65.7, 72.4]    1946\n",
       "(72.4, 188.3]   1756"
      ]
     },
     "execution_count": 36,
     "metadata": {},
     "output_type": "execute_result"
    }
   ],
   "source": [
    "#dividir en 3 grupos \n",
    "dataframe['mpgRange'] = pd.qcut(dataframe['mpg'], 10)\n",
    "\n",
    "#mostrar los grupos\n",
    "pd.DataFrame(dataframe[['mpgRange']].value_counts()).sort_values(by='mpgRange', ascending=True)"
   ]
  },
  {
   "cell_type": "code",
   "execution_count": 37,
   "id": "030a3aff",
   "metadata": {},
   "outputs": [],
   "source": [
    "#setear los valores según el rango\n",
    "dataframe.loc[ dataframe['mpg'] <= 39.2, 'mpg'] = 0\n",
    "dataframe.loc[ (dataframe['mpg'] > 39.2) & (dataframe['mpg'] <= 44.8), 'mpg'] = 1\n",
    "dataframe.loc[ (dataframe['mpg'] > 44.8) & (dataframe['mpg'] <= 47.9), 'mpg'] = 2\n",
    "dataframe.loc[ (dataframe['mpg'] > 47.9) & (dataframe['mpg'] <= 51.4), 'mpg'] = 3\n",
    "dataframe.loc[ (dataframe['mpg'] > 51.4) & (dataframe['mpg'] <= 55.4), 'mpg'] = 4\n",
    "dataframe.loc[ (dataframe['mpg'] > 55.4) & (dataframe['mpg'] <= 58.0), 'mpg'] = 5\n",
    "dataframe.loc[ (dataframe['mpg'] > 58.0) & (dataframe['mpg'] <= 60.1), 'mpg'] = 6\n",
    "dataframe.loc[ (dataframe['mpg'] > 60.1) & (dataframe['mpg'] <= 65.7), 'mpg'] = 7\n",
    "dataframe.loc[ (dataframe['mpg'] > 65.7) & (dataframe['mpg'] <= 72.4), 'mpg'] = 8\n",
    "dataframe.loc[ dataframe['mpg'] > 72.4, 'mpg'] = 9\n",
    "\n",
    "#Eliminamos la variable de 'mileageRango' del dataframe\n",
    "dataframe = dataframe.drop(['mpgRange'], axis=1)"
   ]
  },
  {
   "cell_type": "markdown",
   "id": "ff7478ba",
   "metadata": {},
   "source": [
    "Realizamos lo mismo para la variable `engineSize`, el cuál posee 33 valores únicos."
   ]
  },
  {
   "cell_type": "code",
   "execution_count": 38,
   "id": "b5525f9f",
   "metadata": {},
   "outputs": [
    {
     "name": "stdout",
     "output_type": "stream",
     "text": [
      "(33,)\n"
     ]
    }
   ],
   "source": [
    "#verificar los valores únicos\n",
    "modelunique = pd.unique(dataframe['engineSize'])\n",
    "print(modelunique.shape)"
   ]
  },
  {
   "cell_type": "code",
   "execution_count": 39,
   "id": "dfab0e0e",
   "metadata": {},
   "outputs": [
    {
     "data": {
      "text/html": [
       "<div>\n",
       "<style scoped>\n",
       "    .dataframe tbody tr th:only-of-type {\n",
       "        vertical-align: middle;\n",
       "    }\n",
       "\n",
       "    .dataframe tbody tr th {\n",
       "        vertical-align: top;\n",
       "    }\n",
       "\n",
       "    .dataframe thead th {\n",
       "        text-align: right;\n",
       "    }\n",
       "</style>\n",
       "<table border=\"1\" class=\"dataframe\">\n",
       "  <thead>\n",
       "    <tr style=\"text-align: right;\">\n",
       "      <th></th>\n",
       "      <th>0</th>\n",
       "    </tr>\n",
       "    <tr>\n",
       "      <th>engineSizeRange</th>\n",
       "      <th></th>\n",
       "    </tr>\n",
       "  </thead>\n",
       "  <tbody>\n",
       "    <tr>\n",
       "      <th>(-0.001, 1.5]</th>\n",
       "      <td>7995</td>\n",
       "    </tr>\n",
       "    <tr>\n",
       "      <th>(1.5, 1.7]</th>\n",
       "      <td>2341</td>\n",
       "    </tr>\n",
       "    <tr>\n",
       "      <th>(1.7, 2.0]</th>\n",
       "      <td>7007</td>\n",
       "    </tr>\n",
       "    <tr>\n",
       "      <th>(2.0, 6.6]</th>\n",
       "      <td>2164</td>\n",
       "    </tr>\n",
       "  </tbody>\n",
       "</table>\n",
       "</div>"
      ],
      "text/plain": [
       "                    0\n",
       "engineSizeRange      \n",
       "(-0.001, 1.5]    7995\n",
       "(1.5, 1.7]       2341\n",
       "(1.7, 2.0]       7007\n",
       "(2.0, 6.6]       2164"
      ]
     },
     "execution_count": 39,
     "metadata": {},
     "output_type": "execute_result"
    }
   ],
   "source": [
    "#dividir en 3 grupos \n",
    "dataframe['engineSizeRange'] = pd.qcut(dataframe['engineSize'], 4)\n",
    "\n",
    "#mostrar los grupos\n",
    "pd.DataFrame(dataframe[['engineSizeRange']].value_counts()).sort_values(by='engineSizeRange', ascending=True)"
   ]
  },
  {
   "cell_type": "code",
   "execution_count": 40,
   "id": "f3d518f0",
   "metadata": {},
   "outputs": [],
   "source": [
    "#setear los valores según el rango\n",
    "dataframe.loc[ dataframe['engineSize'] <= 1.5, 'engineSize'] = 0\n",
    "dataframe.loc[ (dataframe['engineSize'] > 1.5) & (dataframe['engineSize'] <= 1.7), 'engineSize'] = 1\n",
    "dataframe.loc[ (dataframe['engineSize'] > 1.7) & (dataframe['engineSize'] <= 2.0), 'engineSize'] = 2\n",
    "dataframe.loc[ dataframe['engineSize'] > 2.0, 'engineSize'] = 3\n",
    "\n",
    "#Eliminamos la variable de 'mileageRango' del dataframe\n",
    "dataframe = dataframe.drop(['engineSizeRange'], axis=1)"
   ]
  },
  {
   "cell_type": "code",
   "execution_count": 41,
   "id": "7c42f280",
   "metadata": {},
   "outputs": [
    {
     "data": {
      "text/html": [
       "<div>\n",
       "<style scoped>\n",
       "    .dataframe tbody tr th:only-of-type {\n",
       "        vertical-align: middle;\n",
       "    }\n",
       "\n",
       "    .dataframe tbody tr th {\n",
       "        vertical-align: top;\n",
       "    }\n",
       "\n",
       "    .dataframe thead th {\n",
       "        text-align: right;\n",
       "    }\n",
       "</style>\n",
       "<table border=\"1\" class=\"dataframe\">\n",
       "  <thead>\n",
       "    <tr style=\"text-align: right;\">\n",
       "      <th></th>\n",
       "      <th>model</th>\n",
       "      <th>year</th>\n",
       "      <th>price</th>\n",
       "      <th>transmission</th>\n",
       "      <th>mileage</th>\n",
       "      <th>fuelType</th>\n",
       "      <th>tax</th>\n",
       "      <th>mpg</th>\n",
       "      <th>engineSize</th>\n",
       "      <th>Brand</th>\n",
       "    </tr>\n",
       "  </thead>\n",
       "  <tbody>\n",
       "    <tr>\n",
       "      <th>0</th>\n",
       "      <td>0</td>\n",
       "      <td>2017</td>\n",
       "      <td>12500</td>\n",
       "      <td>0</td>\n",
       "      <td>4</td>\n",
       "      <td>0</td>\n",
       "      <td>2</td>\n",
       "      <td>4.0</td>\n",
       "      <td>0.0</td>\n",
       "      <td>0</td>\n",
       "    </tr>\n",
       "    <tr>\n",
       "      <th>1</th>\n",
       "      <td>1</td>\n",
       "      <td>2016</td>\n",
       "      <td>16500</td>\n",
       "      <td>1</td>\n",
       "      <td>7</td>\n",
       "      <td>1</td>\n",
       "      <td>0</td>\n",
       "      <td>7.0</td>\n",
       "      <td>2.0</td>\n",
       "      <td>0</td>\n",
       "    </tr>\n",
       "    <tr>\n",
       "      <th>2</th>\n",
       "      <td>0</td>\n",
       "      <td>2016</td>\n",
       "      <td>11000</td>\n",
       "      <td>0</td>\n",
       "      <td>6</td>\n",
       "      <td>0</td>\n",
       "      <td>0</td>\n",
       "      <td>4.0</td>\n",
       "      <td>0.0</td>\n",
       "      <td>0</td>\n",
       "    </tr>\n",
       "    <tr>\n",
       "      <th>3</th>\n",
       "      <td>2</td>\n",
       "      <td>2017</td>\n",
       "      <td>16800</td>\n",
       "      <td>1</td>\n",
       "      <td>6</td>\n",
       "      <td>1</td>\n",
       "      <td>1</td>\n",
       "      <td>8.0</td>\n",
       "      <td>2.0</td>\n",
       "      <td>0</td>\n",
       "    </tr>\n",
       "    <tr>\n",
       "      <th>4</th>\n",
       "      <td>3</td>\n",
       "      <td>2019</td>\n",
       "      <td>17300</td>\n",
       "      <td>0</td>\n",
       "      <td>0</td>\n",
       "      <td>0</td>\n",
       "      <td>1</td>\n",
       "      <td>3.0</td>\n",
       "      <td>0.0</td>\n",
       "      <td>0</td>\n",
       "    </tr>\n",
       "  </tbody>\n",
       "</table>\n",
       "</div>"
      ],
      "text/plain": [
       "   model  year  price  transmission  mileage  fuelType  tax  mpg  engineSize  \\\n",
       "0      0  2017  12500             0        4         0    2  4.0         0.0   \n",
       "1      1  2016  16500             1        7         1    0  7.0         2.0   \n",
       "2      0  2016  11000             0        6         0    0  4.0         0.0   \n",
       "3      2  2017  16800             1        6         1    1  8.0         2.0   \n",
       "4      3  2019  17300             0        0         0    1  3.0         0.0   \n",
       "\n",
       "   Brand  \n",
       "0      0  \n",
       "1      0  \n",
       "2      0  \n",
       "3      0  \n",
       "4      0  "
      ]
     },
     "execution_count": 41,
     "metadata": {},
     "output_type": "execute_result"
    }
   ],
   "source": [
    "dataframe.head()"
   ]
  },
  {
   "cell_type": "code",
   "execution_count": 42,
   "id": "bf07c9d3",
   "metadata": {},
   "outputs": [
    {
     "name": "stdout",
     "output_type": "stream",
     "text": [
      "(4916,)\n"
     ]
    }
   ],
   "source": [
    "#verificar los valores únicos\n",
    "modelunique = pd.unique(dataframe['price'])\n",
    "print(modelunique.shape)"
   ]
  },
  {
   "cell_type": "markdown",
   "id": "7bfd26ab",
   "metadata": {},
   "source": [
    "## 4. Analizar, identificar patrones y explorar los datos"
   ]
  },
  {
   "cell_type": "markdown",
   "id": "6ace77b6",
   "metadata": {},
   "source": [
    "A continuación vamos a realizar unos cuadros comparativos y unas visualizaciones para identificar patrones. En la tabla sobre el `price` y `Brand` podemos observar que la marca influye en el precio, 'Mercedes', 'Bmw', 'Audi', 'Toyota' y 'Hyundi' se encuentran en orden descendiente."
   ]
  },
  {
   "cell_type": "code",
   "execution_count": 43,
   "id": "7db6627a",
   "metadata": {},
   "outputs": [
    {
     "data": {
      "text/html": [
       "<div>\n",
       "<style scoped>\n",
       "    .dataframe tbody tr th:only-of-type {\n",
       "        vertical-align: middle;\n",
       "    }\n",
       "\n",
       "    .dataframe tbody tr th {\n",
       "        vertical-align: top;\n",
       "    }\n",
       "\n",
       "    .dataframe thead th {\n",
       "        text-align: right;\n",
       "    }\n",
       "</style>\n",
       "<table border=\"1\" class=\"dataframe\">\n",
       "  <thead>\n",
       "    <tr style=\"text-align: right;\">\n",
       "      <th></th>\n",
       "      <th>Brand</th>\n",
       "      <th>price</th>\n",
       "    </tr>\n",
       "  </thead>\n",
       "  <tbody>\n",
       "    <tr>\n",
       "      <th>3</th>\n",
       "      <td>Mercedes</td>\n",
       "      <td>36994.132296</td>\n",
       "    </tr>\n",
       "    <tr>\n",
       "      <th>1</th>\n",
       "      <td>Bmw</td>\n",
       "      <td>19138.673008</td>\n",
       "    </tr>\n",
       "    <tr>\n",
       "      <th>0</th>\n",
       "      <td>Audi</td>\n",
       "      <td>19117.472589</td>\n",
       "    </tr>\n",
       "    <tr>\n",
       "      <th>4</th>\n",
       "      <td>Toyota</td>\n",
       "      <td>12869.348506</td>\n",
       "    </tr>\n",
       "    <tr>\n",
       "      <th>2</th>\n",
       "      <td>Hyundi</td>\n",
       "      <td>11460.088368</td>\n",
       "    </tr>\n",
       "  </tbody>\n",
       "</table>\n",
       "</div>"
      ],
      "text/plain": [
       "      Brand         price\n",
       "3  Mercedes  36994.132296\n",
       "1       Bmw  19138.673008\n",
       "0      Audi  19117.472589\n",
       "4    Toyota  12869.348506\n",
       "2    Hyundi  11460.088368"
      ]
     },
     "execution_count": 43,
     "metadata": {},
     "output_type": "execute_result"
    },
    {
     "data": {
      "image/png": "[encoded data removed]",
      "text/plain": [
       "<Figure size 432x288 with 1 Axes>"
      ]
     },
     "metadata": {
      "needs_background": "light"
     },
     "output_type": "display_data"
    }
   ],
   "source": [
    "aux = dataframe[['Brand', 'price']].groupby('Brand', as_index=False).mean().sort_values(by='price', ascending=False)\n",
    "aux['Brand'] = aux['Brand'].map(marcasI)\n",
    "aux.plot.bar(x='Brand', y='price', rot=0)\n",
    "aux"
   ]
  },
  {
   "cell_type": "markdown",
   "id": "e1c9e14e",
   "metadata": {},
   "source": [
    "En la variable `year` notamos que aproximadamente en el año 2010 para adelante guarda una relación de más actual sea el vehiculo, más es su precio, y antes del 2010 no guarda una relación sino que varía, suponemos que esto se debe a las características del vehículo."
   ]
  },
  {
   "cell_type": "code",
   "execution_count": 44,
   "id": "e027b5ae",
   "metadata": {},
   "outputs": [
    {
     "data": {
      "text/html": [
       "<div>\n",
       "<style scoped>\n",
       "    .dataframe tbody tr th:only-of-type {\n",
       "        vertical-align: middle;\n",
       "    }\n",
       "\n",
       "    .dataframe tbody tr th {\n",
       "        vertical-align: top;\n",
       "    }\n",
       "\n",
       "    .dataframe thead th {\n",
       "        text-align: right;\n",
       "    }\n",
       "</style>\n",
       "<table border=\"1\" class=\"dataframe\">\n",
       "  <thead>\n",
       "    <tr style=\"text-align: right;\">\n",
       "      <th></th>\n",
       "      <th>year</th>\n",
       "      <th>price</th>\n",
       "    </tr>\n",
       "  </thead>\n",
       "  <tbody>\n",
       "    <tr>\n",
       "      <th>24</th>\n",
       "      <td>2020</td>\n",
       "      <td>29540.166474</td>\n",
       "    </tr>\n",
       "    <tr>\n",
       "      <th>23</th>\n",
       "      <td>2019</td>\n",
       "      <td>25184.299873</td>\n",
       "    </tr>\n",
       "    <tr>\n",
       "      <th>22</th>\n",
       "      <td>2018</td>\n",
       "      <td>17131.820821</td>\n",
       "    </tr>\n",
       "    <tr>\n",
       "      <th>21</th>\n",
       "      <td>2017</td>\n",
       "      <td>15642.521294</td>\n",
       "    </tr>\n",
       "    <tr>\n",
       "      <th>20</th>\n",
       "      <td>2016</td>\n",
       "      <td>14422.670680</td>\n",
       "    </tr>\n",
       "    <tr>\n",
       "      <th>19</th>\n",
       "      <td>2015</td>\n",
       "      <td>12555.978723</td>\n",
       "    </tr>\n",
       "    <tr>\n",
       "      <th>18</th>\n",
       "      <td>2014</td>\n",
       "      <td>10652.368870</td>\n",
       "    </tr>\n",
       "    <tr>\n",
       "      <th>17</th>\n",
       "      <td>2013</td>\n",
       "      <td>9153.621795</td>\n",
       "    </tr>\n",
       "    <tr>\n",
       "      <th>16</th>\n",
       "      <td>2012</td>\n",
       "      <td>8579.187879</td>\n",
       "    </tr>\n",
       "    <tr>\n",
       "      <th>15</th>\n",
       "      <td>2011</td>\n",
       "      <td>9258.223881</td>\n",
       "    </tr>\n",
       "    <tr>\n",
       "      <th>14</th>\n",
       "      <td>2010</td>\n",
       "      <td>6440.162162</td>\n",
       "    </tr>\n",
       "    <tr>\n",
       "      <th>13</th>\n",
       "      <td>2009</td>\n",
       "      <td>4057.340909</td>\n",
       "    </tr>\n",
       "    <tr>\n",
       "      <th>12</th>\n",
       "      <td>2008</td>\n",
       "      <td>4584.531915</td>\n",
       "    </tr>\n",
       "    <tr>\n",
       "      <th>11</th>\n",
       "      <td>2007</td>\n",
       "      <td>3863.857143</td>\n",
       "    </tr>\n",
       "    <tr>\n",
       "      <th>10</th>\n",
       "      <td>2006</td>\n",
       "      <td>4162.000000</td>\n",
       "    </tr>\n",
       "    <tr>\n",
       "      <th>9</th>\n",
       "      <td>2005</td>\n",
       "      <td>3684.428571</td>\n",
       "    </tr>\n",
       "    <tr>\n",
       "      <th>8</th>\n",
       "      <td>2004</td>\n",
       "      <td>4054.200000</td>\n",
       "    </tr>\n",
       "    <tr>\n",
       "      <th>7</th>\n",
       "      <td>2003</td>\n",
       "      <td>4726.250000</td>\n",
       "    </tr>\n",
       "    <tr>\n",
       "      <th>6</th>\n",
       "      <td>2002</td>\n",
       "      <td>4708.454545</td>\n",
       "    </tr>\n",
       "    <tr>\n",
       "      <th>5</th>\n",
       "      <td>2001</td>\n",
       "      <td>5408.000000</td>\n",
       "    </tr>\n",
       "    <tr>\n",
       "      <th>4</th>\n",
       "      <td>2000</td>\n",
       "      <td>4324.800000</td>\n",
       "    </tr>\n",
       "    <tr>\n",
       "      <th>3</th>\n",
       "      <td>1999</td>\n",
       "      <td>3995.000000</td>\n",
       "    </tr>\n",
       "    <tr>\n",
       "      <th>2</th>\n",
       "      <td>1998</td>\n",
       "      <td>7883.800000</td>\n",
       "    </tr>\n",
       "    <tr>\n",
       "      <th>1</th>\n",
       "      <td>1997</td>\n",
       "      <td>9995.000000</td>\n",
       "    </tr>\n",
       "    <tr>\n",
       "      <th>0</th>\n",
       "      <td>1996</td>\n",
       "      <td>5995.000000</td>\n",
       "    </tr>\n",
       "  </tbody>\n",
       "</table>\n",
       "</div>"
      ],
      "text/plain": [
       "    year         price\n",
       "24  2020  29540.166474\n",
       "23  2019  25184.299873\n",
       "22  2018  17131.820821\n",
       "21  2017  15642.521294\n",
       "20  2016  14422.670680\n",
       "19  2015  12555.978723\n",
       "18  2014  10652.368870\n",
       "17  2013   9153.621795\n",
       "16  2012   8579.187879\n",
       "15  2011   9258.223881\n",
       "14  2010   6440.162162\n",
       "13  2009   4057.340909\n",
       "12  2008   4584.531915\n",
       "11  2007   3863.857143\n",
       "10  2006   4162.000000\n",
       "9   2005   3684.428571\n",
       "8   2004   4054.200000\n",
       "7   2003   4726.250000\n",
       "6   2002   4708.454545\n",
       "5   2001   5408.000000\n",
       "4   2000   4324.800000\n",
       "3   1999   3995.000000\n",
       "2   1998   7883.800000\n",
       "1   1997   9995.000000\n",
       "0   1996   5995.000000"
      ]
     },
     "execution_count": 44,
     "metadata": {},
     "output_type": "execute_result"
    },
    {
     "data": {
      "image/png": "[encoded data removed]",
      "text/plain": [
       "<Figure size 432x288 with 1 Axes>"
      ]
     },
     "metadata": {
      "needs_background": "light"
     },
     "output_type": "display_data"
    }
   ],
   "source": [
    "aux = dataframe[['year', 'price']].groupby('year', as_index=False).mean().sort_values(by='year', ascending=False)\n",
    "aux.plot.line(x='year', y='price')\n",
    "aux"
   ]
  },
  {
   "cell_type": "markdown",
   "id": "f6694e0e",
   "metadata": {},
   "source": [
    "Luego, en el tipo de transmissión, 'Semi-Auto' es el de mayor precio, luego sigue el 'Automatic', 'Other' y por último 'Manual'."
   ]
  },
  {
   "cell_type": "code",
   "execution_count": 45,
   "id": "f525f3b9",
   "metadata": {},
   "outputs": [
    {
     "data": {
      "text/plain": [
       "<AxesSubplot:xlabel='transmission'>"
      ]
     },
     "execution_count": 45,
     "metadata": {},
     "output_type": "execute_result"
    },
    {
     "data": {
      "image/png": "[encoded data removed]",
      "text/plain": [
       "<Figure size 432x288 with 1 Axes>"
      ]
     },
     "metadata": {
      "needs_background": "light"
     },
     "output_type": "display_data"
    }
   ],
   "source": [
    "aux = dataframe[['transmission', 'price']].groupby('transmission', as_index=False).mean().sort_values(by='price', ascending=False)\n",
    "aux['transmission'] = aux['transmission'].map(transmissionI)\n",
    "aux.plot.bar(x='transmission',y='price', rot='0')"
   ]
  },
  {
   "cell_type": "markdown",
   "id": "57966997",
   "metadata": {},
   "source": [
    "De los autos que tienen `mileage` bajo guardan un relacion con su precio de que es mayor, por otro lado cuando van aumentando su `mileage` su precio va disminuyendo."
   ]
  },
  {
   "cell_type": "code",
   "execution_count": 46,
   "id": "7cc0e16b",
   "metadata": {},
   "outputs": [
    {
     "data": {
      "text/html": [
       "<div>\n",
       "<style scoped>\n",
       "    .dataframe tbody tr th:only-of-type {\n",
       "        vertical-align: middle;\n",
       "    }\n",
       "\n",
       "    .dataframe tbody tr th {\n",
       "        vertical-align: top;\n",
       "    }\n",
       "\n",
       "    .dataframe thead th {\n",
       "        text-align: right;\n",
       "    }\n",
       "</style>\n",
       "<table border=\"1\" class=\"dataframe\">\n",
       "  <thead>\n",
       "    <tr style=\"text-align: right;\">\n",
       "      <th></th>\n",
       "      <th>mileage</th>\n",
       "      <th>price</th>\n",
       "    </tr>\n",
       "  </thead>\n",
       "  <tbody>\n",
       "    <tr>\n",
       "      <th>0</th>\n",
       "      <td>(0.999,2928]</td>\n",
       "      <td>27084.253968</td>\n",
       "    </tr>\n",
       "    <tr>\n",
       "      <th>1</th>\n",
       "      <td>(2928,6000]</td>\n",
       "      <td>25169.824672</td>\n",
       "    </tr>\n",
       "    <tr>\n",
       "      <th>2</th>\n",
       "      <td>(6000,9857]</td>\n",
       "      <td>21803.537208</td>\n",
       "    </tr>\n",
       "    <tr>\n",
       "      <th>3</th>\n",
       "      <td>(9857,14772]</td>\n",
       "      <td>17667.230769</td>\n",
       "    </tr>\n",
       "    <tr>\n",
       "      <th>4</th>\n",
       "      <td>(14772,20022]</td>\n",
       "      <td>16111.247565</td>\n",
       "    </tr>\n",
       "    <tr>\n",
       "      <th>5</th>\n",
       "      <td>(20022,25635]</td>\n",
       "      <td>15416.192308</td>\n",
       "    </tr>\n",
       "    <tr>\n",
       "      <th>6</th>\n",
       "      <td>(25635,31544]</td>\n",
       "      <td>14588.169657</td>\n",
       "    </tr>\n",
       "    <tr>\n",
       "      <th>7</th>\n",
       "      <td>(31544,40000]</td>\n",
       "      <td>14170.449261</td>\n",
       "    </tr>\n",
       "    <tr>\n",
       "      <th>8</th>\n",
       "      <td>(40000,54591]</td>\n",
       "      <td>12747.852062</td>\n",
       "    </tr>\n",
       "    <tr>\n",
       "      <th>9</th>\n",
       "      <td>(54591,323000]</td>\n",
       "      <td>10097.515633</td>\n",
       "    </tr>\n",
       "  </tbody>\n",
       "</table>\n",
       "</div>"
      ],
      "text/plain": [
       "          mileage         price\n",
       "0    (0.999,2928]  27084.253968\n",
       "1     (2928,6000]  25169.824672\n",
       "2     (6000,9857]  21803.537208\n",
       "3    (9857,14772]  17667.230769\n",
       "4   (14772,20022]  16111.247565\n",
       "5   (20022,25635]  15416.192308\n",
       "6   (25635,31544]  14588.169657\n",
       "7   (31544,40000]  14170.449261\n",
       "8   (40000,54591]  12747.852062\n",
       "9  (54591,323000]  10097.515633"
      ]
     },
     "execution_count": 46,
     "metadata": {},
     "output_type": "execute_result"
    },
    {
     "data": {
      "image/png": "[encoded data removed]",
      "text/plain": [
       "<Figure size 432x288 with 1 Axes>"
      ]
     },
     "metadata": {
      "needs_background": "light"
     },
     "output_type": "display_data"
    }
   ],
   "source": [
    "aux = dataframe[['mileage', 'price']].groupby('mileage', as_index=False).mean().sort_values(by='price', ascending=False)\n",
    "diccionario={0: \"(0.999,2928]\",1:\"(2928,6000]\",2:\"(6000,9857]\", 3:\"(9857,14772]\", 4:\"(14772,20022]\"\n",
    "             ,5:\"(20022,25635]\",6:\"(25635,31544]\",7:\"(31544,40000]\",8:\"(40000,54591]\",9:\"(54591,323000]\"}\n",
    "aux['mileage'] = aux['mileage'].map(diccionario)\n",
    "aux.plot.bar(x='mileage',y='price',rot='37')\n",
    "aux"
   ]
  },
  {
   "cell_type": "markdown",
   "id": "1944716c",
   "metadata": {},
   "source": [
    "En promedio el mayor precio de `fueltype` es Diesel siguiendoles Hybrid, otros, Petrol."
   ]
  },
  {
   "cell_type": "code",
   "execution_count": 47,
   "id": "1f2ee543",
   "metadata": {},
   "outputs": [
    {
     "data": {
      "text/html": [
       "<div>\n",
       "<style scoped>\n",
       "    .dataframe tbody tr th:only-of-type {\n",
       "        vertical-align: middle;\n",
       "    }\n",
       "\n",
       "    .dataframe tbody tr th {\n",
       "        vertical-align: top;\n",
       "    }\n",
       "\n",
       "    .dataframe thead th {\n",
       "        text-align: right;\n",
       "    }\n",
       "</style>\n",
       "<table border=\"1\" class=\"dataframe\">\n",
       "  <thead>\n",
       "    <tr style=\"text-align: right;\">\n",
       "      <th></th>\n",
       "      <th>fuelType</th>\n",
       "      <th>price</th>\n",
       "    </tr>\n",
       "  </thead>\n",
       "  <tbody>\n",
       "    <tr>\n",
       "      <th>1</th>\n",
       "      <td>Diesel</td>\n",
       "      <td>18779.157882</td>\n",
       "    </tr>\n",
       "    <tr>\n",
       "      <th>2</th>\n",
       "      <td>Hybrid</td>\n",
       "      <td>17173.319976</td>\n",
       "    </tr>\n",
       "    <tr>\n",
       "      <th>3</th>\n",
       "      <td>Other</td>\n",
       "      <td>16596.260870</td>\n",
       "    </tr>\n",
       "    <tr>\n",
       "      <th>0</th>\n",
       "      <td>Petrol</td>\n",
       "      <td>16533.855039</td>\n",
       "    </tr>\n",
       "  </tbody>\n",
       "</table>\n",
       "</div>"
      ],
      "text/plain": [
       "  fuelType         price\n",
       "1   Diesel  18779.157882\n",
       "2   Hybrid  17173.319976\n",
       "3    Other  16596.260870\n",
       "0   Petrol  16533.855039"
      ]
     },
     "execution_count": 47,
     "metadata": {},
     "output_type": "execute_result"
    },
    {
     "data": {
      "image/png": "[encoded data removed]",
      "text/plain": [
       "<Figure size 432x288 with 1 Axes>"
      ]
     },
     "metadata": {
      "needs_background": "light"
     },
     "output_type": "display_data"
    }
   ],
   "source": [
    "aux = dataframe[['fuelType', 'price']].groupby('fuelType', as_index=False).mean().sort_values(by='price', ascending=False)\n",
    "fuelTypeI = { value:key for key, value in fuelType.items()}\n",
    "aux['fuelType'] = aux['fuelType'].map(fuelTypeI)\n",
    "aux.plot.bar(x='fuelType',y='price', rot='0')\n",
    "aux"
   ]
  },
  {
   "cell_type": "markdown",
   "id": "004549c6",
   "metadata": {},
   "source": [
    "En promedio los vehiculos que pagan `tax` entre 0 hasta 125 euros tienen un precio de 12,037 euros, luegos los vehiculos de 125 hasta 145 tienen un precio de 21,589 euros y finalmente los vehiculos de 145 hasta 580 tienen un precio de 18,172 euros."
   ]
  },
  {
   "cell_type": "code",
   "execution_count": 48,
   "id": "361b185e",
   "metadata": {},
   "outputs": [
    {
     "data": {
      "text/html": [
       "<div>\n",
       "<style scoped>\n",
       "    .dataframe tbody tr th:only-of-type {\n",
       "        vertical-align: middle;\n",
       "    }\n",
       "\n",
       "    .dataframe tbody tr th {\n",
       "        vertical-align: top;\n",
       "    }\n",
       "\n",
       "    .dataframe thead th {\n",
       "        text-align: right;\n",
       "    }\n",
       "</style>\n",
       "<table border=\"1\" class=\"dataframe\">\n",
       "  <thead>\n",
       "    <tr style=\"text-align: right;\">\n",
       "      <th></th>\n",
       "      <th>tax</th>\n",
       "      <th>price</th>\n",
       "    </tr>\n",
       "  </thead>\n",
       "  <tbody>\n",
       "    <tr>\n",
       "      <th>0</th>\n",
       "      <td>(0,125]</td>\n",
       "      <td>12037.440192</td>\n",
       "    </tr>\n",
       "    <tr>\n",
       "      <th>1</th>\n",
       "      <td>(125,145]</td>\n",
       "      <td>21589.874593</td>\n",
       "    </tr>\n",
       "    <tr>\n",
       "      <th>2</th>\n",
       "      <td>(145,580]</td>\n",
       "      <td>18172.485649</td>\n",
       "    </tr>\n",
       "  </tbody>\n",
       "</table>\n",
       "</div>"
      ],
      "text/plain": [
       "         tax         price\n",
       "0    (0,125]  12037.440192\n",
       "1  (125,145]  21589.874593\n",
       "2  (145,580]  18172.485649"
      ]
     },
     "execution_count": 48,
     "metadata": {},
     "output_type": "execute_result"
    },
    {
     "data": {
      "image/png": "[encoded data removed]",
      "text/plain": [
       "<Figure size 432x288 with 1 Axes>"
      ]
     },
     "metadata": {
      "needs_background": "light"
     },
     "output_type": "display_data"
    }
   ],
   "source": [
    "aux = dataframe[['tax', 'price']].groupby('tax', as_index=False).mean().sort_values(by='tax', ascending=True)\n",
    "diccionario={0:\"(0,125]\",1:\"(125,145]\",2:\"(145,580]\"}\n",
    "aux['tax'] = aux['tax'].map(diccionario)\n",
    "aux.plot.bar(x='tax',y='price', rot='0')\n",
    "aux"
   ]
  },
  {
   "cell_type": "markdown",
   "id": "c1516174",
   "metadata": {},
   "source": [
    "El `mpg`presenta una correlacion donde va aumentando su precio de acuerdo a las millas por galon."
   ]
  },
  {
   "cell_type": "code",
   "execution_count": 49,
   "id": "fb134da5",
   "metadata": {},
   "outputs": [
    {
     "data": {
      "text/html": [
       "<div>\n",
       "<style scoped>\n",
       "    .dataframe tbody tr th:only-of-type {\n",
       "        vertical-align: middle;\n",
       "    }\n",
       "\n",
       "    .dataframe tbody tr th {\n",
       "        vertical-align: top;\n",
       "    }\n",
       "\n",
       "    .dataframe thead th {\n",
       "        text-align: right;\n",
       "    }\n",
       "</style>\n",
       "<table border=\"1\" class=\"dataframe\">\n",
       "  <thead>\n",
       "    <tr style=\"text-align: right;\">\n",
       "      <th></th>\n",
       "      <th>mpg</th>\n",
       "      <th>price</th>\n",
       "    </tr>\n",
       "  </thead>\n",
       "  <tbody>\n",
       "    <tr>\n",
       "      <th>9</th>\n",
       "      <td>(72,188]</td>\n",
       "      <td>12989.110478</td>\n",
       "    </tr>\n",
       "    <tr>\n",
       "      <th>8</th>\n",
       "      <td>(65,72]</td>\n",
       "      <td>14012.498458</td>\n",
       "    </tr>\n",
       "    <tr>\n",
       "      <th>7</th>\n",
       "      <td>(60,65]</td>\n",
       "      <td>15020.652778</td>\n",
       "    </tr>\n",
       "    <tr>\n",
       "      <th>6</th>\n",
       "      <td>(58,60]</td>\n",
       "      <td>12269.459416</td>\n",
       "    </tr>\n",
       "    <tr>\n",
       "      <th>5</th>\n",
       "      <td>(55,58]</td>\n",
       "      <td>12525.249733</td>\n",
       "    </tr>\n",
       "    <tr>\n",
       "      <th>4</th>\n",
       "      <td>(51,55]</td>\n",
       "      <td>16020.000000</td>\n",
       "    </tr>\n",
       "    <tr>\n",
       "      <th>3</th>\n",
       "      <td>(47,51]</td>\n",
       "      <td>19988.066212</td>\n",
       "    </tr>\n",
       "    <tr>\n",
       "      <th>2</th>\n",
       "      <td>(44,47]</td>\n",
       "      <td>18434.675721</td>\n",
       "    </tr>\n",
       "    <tr>\n",
       "      <th>1</th>\n",
       "      <td>(39,44]</td>\n",
       "      <td>22833.200971</td>\n",
       "    </tr>\n",
       "    <tr>\n",
       "      <th>0</th>\n",
       "      <td>(10,39]</td>\n",
       "      <td>29632.473000</td>\n",
       "    </tr>\n",
       "  </tbody>\n",
       "</table>\n",
       "</div>"
      ],
      "text/plain": [
       "        mpg         price\n",
       "9  (72,188]  12989.110478\n",
       "8   (65,72]  14012.498458\n",
       "7   (60,65]  15020.652778\n",
       "6   (58,60]  12269.459416\n",
       "5   (55,58]  12525.249733\n",
       "4   (51,55]  16020.000000\n",
       "3   (47,51]  19988.066212\n",
       "2   (44,47]  18434.675721\n",
       "1   (39,44]  22833.200971\n",
       "0   (10,39]  29632.473000"
      ]
     },
     "execution_count": 49,
     "metadata": {},
     "output_type": "execute_result"
    },
    {
     "data": {
      "image/png": "[encoded data removed]",
      "text/plain": [
       "<Figure size 432x288 with 1 Axes>"
      ]
     },
     "metadata": {
      "needs_background": "light"
     },
     "output_type": "display_data"
    }
   ],
   "source": [
    "aux = dataframe[['mpg', 'price']].groupby('mpg', as_index=False).mean().sort_values(by='mpg', ascending=False)\n",
    "diccionario={0:\"(10,39]\",1:\"(39,44]\",2:\"(44,47]\",3:\"(47,51]\",4:\"(51,55]\",5:\"(55,58]\",6:\"(58,60]\",7:\"(60,65]\"\n",
    "             ,8:\"(65,72]\",9:\"(72,188]\"}\n",
    "aux['mpg'] = aux['mpg'].map(diccionario)\n",
    "aux.plot.bar(x='mpg',y='price', rot='40')\n",
    "aux"
   ]
  },
  {
   "cell_type": "markdown",
   "id": "fb78a084",
   "metadata": {},
   "source": [
    "Podemos inferir que si la medida del `engineSize` aumenta, entonces su precio tambien."
   ]
  },
  {
   "cell_type": "code",
   "execution_count": 50,
   "id": "b43bbe15",
   "metadata": {},
   "outputs": [
    {
     "data": {
      "text/html": [
       "<div>\n",
       "<style scoped>\n",
       "    .dataframe tbody tr th:only-of-type {\n",
       "        vertical-align: middle;\n",
       "    }\n",
       "\n",
       "    .dataframe tbody tr th {\n",
       "        vertical-align: top;\n",
       "    }\n",
       "\n",
       "    .dataframe thead th {\n",
       "        text-align: right;\n",
       "    }\n",
       "</style>\n",
       "<table border=\"1\" class=\"dataframe\">\n",
       "  <thead>\n",
       "    <tr style=\"text-align: right;\">\n",
       "      <th></th>\n",
       "      <th>engineSize</th>\n",
       "      <th>price</th>\n",
       "    </tr>\n",
       "  </thead>\n",
       "  <tbody>\n",
       "    <tr>\n",
       "      <th>0</th>\n",
       "      <td>(0,1.5]</td>\n",
       "      <td>13249.567980</td>\n",
       "    </tr>\n",
       "    <tr>\n",
       "      <th>1</th>\n",
       "      <td>(1.5,1.7]</td>\n",
       "      <td>13832.362238</td>\n",
       "    </tr>\n",
       "    <tr>\n",
       "      <th>2</th>\n",
       "      <td>(1.7,2]</td>\n",
       "      <td>19701.678893</td>\n",
       "    </tr>\n",
       "    <tr>\n",
       "      <th>3</th>\n",
       "      <td>(2,6.6]</td>\n",
       "      <td>30095.001848</td>\n",
       "    </tr>\n",
       "  </tbody>\n",
       "</table>\n",
       "</div>"
      ],
      "text/plain": [
       "  engineSize         price\n",
       "0    (0,1.5]  13249.567980\n",
       "1  (1.5,1.7]  13832.362238\n",
       "2    (1.7,2]  19701.678893\n",
       "3    (2,6.6]  30095.001848"
      ]
     },
     "execution_count": 50,
     "metadata": {},
     "output_type": "execute_result"
    },
    {
     "data": {
      "image/png": "[encoded data removed]",
      "text/plain": [
       "<Figure size 432x288 with 1 Axes>"
      ]
     },
     "metadata": {
      "needs_background": "light"
     },
     "output_type": "display_data"
    }
   ],
   "source": [
    "aux = dataframe[['engineSize', 'price']].groupby('engineSize', as_index=False).mean().sort_values(by='engineSize', ascending=True)\n",
    "diccionario={0:\"(0,1.5]\",1:\"(1.5,1.7]\",2:\"(1.7,2]\",3:\"(2,6.6]\"}\n",
    "aux['engineSize'] = aux['engineSize'].map(diccionario)\n",
    "aux.plot.bar(x='engineSize',y='price', rot='0')\n",
    "aux"
   ]
  },
  {
   "cell_type": "markdown",
   "id": "d1d9f367",
   "metadata": {},
   "source": [
    "Vamor a crear un mapa de correlación. Luego analizaremos el puntaje de todas las variables contra la variable price."
   ]
  },
  {
   "cell_type": "code",
   "execution_count": 51,
   "id": "5add431d",
   "metadata": {},
   "outputs": [
    {
     "data": {
      "image/png": "[encoded data removed]",
      "text/plain": [
       "<Figure size 864x720 with 2 Axes>"
      ]
     },
     "metadata": {
      "needs_background": "light"
     },
     "output_type": "display_data"
    }
   ],
   "source": [
    "plt.figure(figsize=(12, 10))\n",
    "ax = sns.heatmap(dataframe.corr())"
   ]
  },
  {
   "cell_type": "markdown",
   "id": "2b7ec1b8",
   "metadata": {},
   "source": [
    "## 5. Separar los datos para entrenamiento y prueba"
   ]
  },
  {
   "cell_type": "code",
   "execution_count": 52,
   "id": "fcb02fe6",
   "metadata": {},
   "outputs": [],
   "source": [
    "label = dataframe['price']\n",
    "data = dataframe.drop('price', axis=1)"
   ]
  },
  {
   "cell_type": "code",
   "execution_count": 53,
   "id": "4ce02cf7",
   "metadata": {},
   "outputs": [],
   "source": [
    "from sklearn.model_selection import train_test_split\n",
    "\n",
    "X_train, X_test, Y_train, Y_test = train_test_split(data, label, test_size=0.33)"
   ]
  },
  {
   "cell_type": "markdown",
   "id": "950bf2fc",
   "metadata": {},
   "source": [
    "## 6. Modelizar, predecir y resolver el problema"
   ]
  },
  {
   "cell_type": "code",
   "execution_count": 54,
   "id": "05f207df",
   "metadata": {},
   "outputs": [],
   "source": [
    "# Para machine learning\n",
    "from sklearn.linear_model import LogisticRegression\n",
    "from sklearn.svm import SVC, LinearSVC\n",
    "from sklearn.ensemble import RandomForestClassifier\n",
    "from sklearn.neighbors import KNeighborsClassifier\n",
    "from sklearn.naive_bayes import GaussianNB\n",
    "from sklearn.linear_model import Perceptron\n",
    "from sklearn.linear_model import SGDClassifier\n",
    "from sklearn.tree import DecisionTreeClassifier\n",
    "\n",
    "#import tensorflow as tf\n",
    "from tensorflow.keras.models import Sequential\n",
    "from tensorflow.keras.layers import Dense, Dropout\n",
    "from tensorflow.keras.callbacks import EarlyStopping\n",
    "\n",
    "from sklearn.metrics import mean_squared_error as MSE"
   ]
  },
  {
   "cell_type": "markdown",
   "id": "4782adba",
   "metadata": {},
   "source": [
    "#### Algoritmo de Redes Neuronales Artificiales (RNA)"
   ]
  },
  {
   "cell_type": "code",
   "execution_count": 55,
   "id": "9f9832f2",
   "metadata": {},
   "outputs": [],
   "source": [
    "early_stop = EarlyStopping(monitor='val_loss', mode='min', verbose=1, patience=25)"
   ]
  },
  {
   "cell_type": "markdown",
   "id": "0a1aebac",
   "metadata": {},
   "source": [
    "En la primera evaluación, `year`, `model`, `transmission` y `Brand`."
   ]
  },
  {
   "cell_type": "code",
   "execution_count": 56,
   "id": "f5c5d157",
   "metadata": {},
   "outputs": [],
   "source": [
    "data_1 = dataframe[['year', 'model', 'transmission', 'Brand']]\n",
    "\n",
    "X_train, X_test_1, Y_train, Y_test = train_test_split(data_1, label, test_size=0.33)"
   ]
  },
  {
   "cell_type": "code",
   "execution_count": 57,
   "id": "5338a860",
   "metadata": {},
   "outputs": [],
   "source": [
    "model_1 = Sequential()\n",
    "\n",
    "model_1.add(Dense(4, activation='relu'))\n",
    "model_1.add(Dense(255))\n",
    "model_1.add(Dense(255))\n",
    "model_1.add(Dense(1))\n",
    "\n",
    "model_1.compile(optimizer='adam', loss='mse')"
   ]
  },
  {
   "cell_type": "code",
   "execution_count": 58,
   "id": "864ba220",
   "metadata": {},
   "outputs": [
    {
     "name": "stdout",
     "output_type": "stream",
     "text": [
      "Epoch 1/300\n",
      "409/409 [==============================] - 2s 6ms/step - loss: 111708664.0000 - val_loss: 90026360.0000\n",
      "Epoch 2/300\n",
      "409/409 [==============================] - 1s 3ms/step - loss: 103411392.0000 - val_loss: 89951744.0000\n",
      "Epoch 3/300\n",
      "409/409 [==============================] - 1s 3ms/step - loss: 103115672.0000 - val_loss: 90189480.0000\n",
      "Epoch 4/300\n",
      "409/409 [==============================] - 2s 4ms/step - loss: 103332112.0000 - val_loss: 90110088.0000\n",
      "Epoch 5/300\n",
      "409/409 [==============================] - 2s 4ms/step - loss: 102939208.0000 - val_loss: 89724176.0000\n",
      "Epoch 6/300\n",
      "409/409 [==============================] - 1s 4ms/step - loss: 102976080.0000 - val_loss: 89637440.0000: 0s - loss: 103979952.0\n",
      "Epoch 7/300\n",
      "409/409 [==============================] - 1s 3ms/step - loss: 102879408.0000 - val_loss: 89551696.0000\n",
      "Epoch 8/300\n",
      "409/409 [==============================] - 2s 4ms/step - loss: 102751264.0000 - val_loss: 89990568.0000\n",
      "Epoch 9/300\n",
      "409/409 [==============================] - 1s 3ms/step - loss: 102757888.0000 - val_loss: 90001440.0000\n",
      "Epoch 10/300\n",
      "409/409 [==============================] - 1s 3ms/step - loss: 102482344.0000 - val_loss: 89267096.0000\n",
      "Epoch 11/300\n",
      "409/409 [==============================] - 1s 4ms/step - loss: 102731064.0000 - val_loss: 89180144.0000\n",
      "Epoch 12/300\n",
      "409/409 [==============================] - 1s 4ms/step - loss: 102523848.0000 - val_loss: 90804008.0000\n",
      "Epoch 13/300\n",
      "409/409 [==============================] - 1s 4ms/step - loss: 102289760.0000 - val_loss: 89078376.0000\n",
      "Epoch 14/300\n",
      "409/409 [==============================] - 1s 4ms/step - loss: 101917832.0000 - val_loss: 88757840.0000\n",
      "Epoch 15/300\n",
      "409/409 [==============================] - 1s 3ms/step - loss: 101837992.0000 - val_loss: 88780424.0000\n",
      "Epoch 16/300\n",
      "409/409 [==============================] - 1s 3ms/step - loss: 101825736.0000 - val_loss: 90058616.0000\n",
      "Epoch 17/300\n",
      "409/409 [==============================] - 1s 3ms/step - loss: 101435256.0000 - val_loss: 88164776.0000\n",
      "Epoch 18/300\n",
      "409/409 [==============================] - 1s 3ms/step - loss: 101159880.0000 - val_loss: 89127832.0000\n",
      "Epoch 19/300\n",
      "409/409 [==============================] - 1s 3ms/step - loss: 100853560.0000 - val_loss: 87805624.00000\n",
      "Epoch 20/300\n",
      "409/409 [==============================] - 1s 3ms/step - loss: 100477120.0000 - val_loss: 87833488.0000\n",
      "Epoch 21/300\n",
      "409/409 [==============================] - 1s 3ms/step - loss: 99131464.0000 - val_loss: 85155072.0000\n",
      "Epoch 22/300\n",
      "409/409 [==============================] - 1s 3ms/step - loss: 97629232.0000 - val_loss: 82412088.0000\n",
      "Epoch 23/300\n",
      "409/409 [==============================] - 1s 3ms/step - loss: 94411976.0000 - val_loss: 79471376.0000\n",
      "Epoch 24/300\n",
      "409/409 [==============================] - 1s 3ms/step - loss: 90055600.0000 - val_loss: 74872800.0000\n",
      "Epoch 25/300\n",
      "409/409 [==============================] - 1s 3ms/step - loss: 84373704.0000 - val_loss: 68059936.0000\n",
      "Epoch 26/300\n",
      "409/409 [==============================] - 1s 3ms/step - loss: 81682296.0000 - val_loss: 67398128.0000\n",
      "Epoch 27/300\n",
      "409/409 [==============================] - 1s 3ms/step - loss: 78716112.0000 - val_loss: 65360968.0000\n",
      "Epoch 28/300\n",
      "409/409 [==============================] - 1s 3ms/step - loss: 79040792.0000 - val_loss: 69562424.0000\n",
      "Epoch 29/300\n",
      "409/409 [==============================] - 1s 3ms/step - loss: 77327320.0000 - val_loss: 68829152.0000\n",
      "Epoch 30/300\n",
      "409/409 [==============================] - 1s 3ms/step - loss: 78512376.0000 - val_loss: 66245064.0000\n",
      "Epoch 31/300\n",
      "409/409 [==============================] - 1s 3ms/step - loss: 78450288.0000 - val_loss: 65148076.0000\n",
      "Epoch 32/300\n",
      "409/409 [==============================] - 1s 3ms/step - loss: 77926464.0000 - val_loss: 65308180.0000\n",
      "Epoch 33/300\n",
      "409/409 [==============================] - 1s 4ms/step - loss: 76973392.0000 - val_loss: 66600400.0000\n",
      "Epoch 34/300\n",
      "409/409 [==============================] - 1s 3ms/step - loss: 77813816.0000 - val_loss: 66072548.0000\n",
      "Epoch 35/300\n",
      "409/409 [==============================] - 1s 4ms/step - loss: 78029648.0000 - val_loss: 65155736.0000\n",
      "Epoch 36/300\n",
      "409/409 [==============================] - 1s 4ms/step - loss: 77218368.0000 - val_loss: 68113376.0000\n",
      "Epoch 37/300\n",
      "409/409 [==============================] - 1s 3ms/step - loss: 77224504.0000 - val_loss: 69744696.0000\n",
      "Epoch 38/300\n",
      "409/409 [==============================] - 1s 3ms/step - loss: 77444944.0000 - val_loss: 65151924.0000\n",
      "Epoch 39/300\n",
      "409/409 [==============================] - 1s 4ms/step - loss: 77250704.0000 - val_loss: 65616128.0000\n",
      "Epoch 40/300\n",
      "409/409 [==============================] - 2s 4ms/step - loss: 77407000.0000 - val_loss: 65196128.0000\n",
      "Epoch 41/300\n",
      "409/409 [==============================] - 2s 4ms/step - loss: 77404512.0000 - val_loss: 65194032.0000\n",
      "Epoch 42/300\n",
      "409/409 [==============================] - 2s 4ms/step - loss: 77710440.0000 - val_loss: 67630752.0000\n",
      "Epoch 43/300\n",
      "409/409 [==============================] - 1s 4ms/step - loss: 77131960.0000 - val_loss: 65448156.0000\n",
      "Epoch 44/300\n",
      "409/409 [==============================] - 2s 4ms/step - loss: 77530472.0000 - val_loss: 65494960.0000\n",
      "Epoch 45/300\n",
      "409/409 [==============================] - 2s 4ms/step - loss: 77145280.0000 - val_loss: 65162508.0000\n",
      "Epoch 46/300\n",
      "409/409 [==============================] - 2s 4ms/step - loss: 77452336.0000 - val_loss: 65304396.0000\n",
      "Epoch 47/300\n",
      "409/409 [==============================] - 2s 4ms/step - loss: 77102152.0000 - val_loss: 65803844.0000\n",
      "Epoch 48/300\n",
      "409/409 [==============================] - 2s 4ms/step - loss: 77770896.0000 - val_loss: 65206448.0000\n",
      "Epoch 49/300\n",
      "409/409 [==============================] - 1s 4ms/step - loss: 77769680.0000 - val_loss: 65415452.0000\n",
      "Epoch 50/300\n",
      "409/409 [==============================] - 1s 3ms/step - loss: 77881440.0000 - val_loss: 65805132.0000\n",
      "Epoch 51/300\n",
      "409/409 [==============================] - 1s 3ms/step - loss: 76883560.0000 - val_loss: 65322520.0000\n",
      "Epoch 52/300\n",
      "409/409 [==============================] - 1s 3ms/step - loss: 76976392.0000 - val_loss: 65697396.0000\n",
      "Epoch 53/300\n",
      "409/409 [==============================] - 1s 3ms/step - loss: 76849704.0000 - val_loss: 65443880.0000\n",
      "Epoch 54/300\n",
      "409/409 [==============================] - 1s 3ms/step - loss: 76819392.0000 - val_loss: 65827916.0000\n",
      "Epoch 55/300\n",
      "409/409 [==============================] - 1s 3ms/step - loss: 77186120.0000 - val_loss: 65464516.0000\n",
      "Epoch 56/300\n",
      "409/409 [==============================] - 1s 3ms/step - loss: 77861568.0000 - val_loss: 65803844.0000\n",
      "Epoch 00056: early stopping\n"
     ]
    },
    {
     "data": {
      "text/plain": [
       "<tensorflow.python.keras.callbacks.History at 0x2735387db48>"
      ]
     },
     "execution_count": 58,
     "metadata": {},
     "output_type": "execute_result"
    }
   ],
   "source": [
    "model_1.fit(x=X_train, y=Y_train, epochs=300, validation_data=(X_test_1, Y_test), callbacks=[early_stop])"
   ]
  },
  {
   "cell_type": "markdown",
   "id": "a092af00",
   "metadata": {},
   "source": [
    "En la segunda evaluación, `year`, `transmission`, `engineSize`."
   ]
  },
  {
   "cell_type": "code",
   "execution_count": 59,
   "id": "6c319bea",
   "metadata": {},
   "outputs": [],
   "source": [
    "data_2 = dataframe[['year', 'transmission', 'engineSize']]\n",
    "\n",
    "X_train, X_test_2, Y_train, Y_test = train_test_split(data_2, label, test_size=0.33)"
   ]
  },
  {
   "cell_type": "code",
   "execution_count": 60,
   "id": "14d06edf",
   "metadata": {},
   "outputs": [],
   "source": [
    "model_2 = Sequential()\n",
    "\n",
    "model_2.add(Dense(3, activation='relu'))\n",
    "model_2.add(Dense(255))\n",
    "model_2.add(Dense(255))\n",
    "model_2.add(Dense(1))\n",
    "\n",
    "model_2.compile(optimizer='adam', loss='mse')"
   ]
  },
  {
   "cell_type": "code",
   "execution_count": 61,
   "id": "4d3766a5",
   "metadata": {},
   "outputs": [
    {
     "name": "stdout",
     "output_type": "stream",
     "text": [
      "Epoch 1/300\n",
      "WARNING:tensorflow:Layer dense_4 is casting an input tensor from dtype float64 to the layer's dtype of float32, which is new behavior in TensorFlow 2.  The layer has dtype float32 because its dtype defaults to floatx.\n",
      "\n",
      "If you intended to run this layer in float32, you can safely ignore this warning. If in doubt, this warning is likely only an issue if you are porting a TensorFlow 1.X model to TensorFlow 2.\n",
      "\n",
      "To change all layers to have dtype float64 by default, call `tf.keras.backend.set_floatx('float64')`. To change just this layer, pass dtype='float64' to the layer constructor. If you are the author of this layer, you can disable autocasting by passing autocast=False to the base Layer constructor.\n",
      "\n",
      "409/409 [==============================] - 2s 4ms/step - loss: 105450360.0000 - val_loss: 99419856.0000\n",
      "Epoch 2/300\n",
      "409/409 [==============================] - 2s 5ms/step - loss: 98391832.0000 - val_loss: 99770776.0000\n",
      "Epoch 3/300\n",
      "409/409 [==============================] - 1s 4ms/step - loss: 98296856.0000 - val_loss: 100677976.0000\n",
      "Epoch 4/300\n",
      "409/409 [==============================] - 1s 4ms/step - loss: 97922048.0000 - val_loss: 98860136.0000\n",
      "Epoch 5/300\n",
      "409/409 [==============================] - 1s 3ms/step - loss: 97582640.0000 - val_loss: 99429928.0000\n",
      "Epoch 6/300\n",
      "409/409 [==============================] - 1s 3ms/step - loss: 96323440.0000 - val_loss: 96180120.0000\n",
      "Epoch 7/300\n",
      "409/409 [==============================] - 1s 3ms/step - loss: 92632872.0000 - val_loss: 88266016.0000\n",
      "Epoch 8/300\n",
      "409/409 [==============================] - 1s 3ms/step - loss: 83193272.0000 - val_loss: 74037288.0000\n",
      "Epoch 9/300\n",
      "409/409 [==============================] - 2s 4ms/step - loss: 70716864.0000 - val_loss: 75994776.0000\n",
      "Epoch 10/300\n",
      "409/409 [==============================] - 4s 9ms/step - loss: 68606144.0000 - val_loss: 76323232.0000TA: 0s\n",
      "Epoch 11/300\n",
      "409/409 [==============================] - 2s 4ms/step - loss: 67794648.0000 - val_loss: 65777836.0000\n",
      "Epoch 12/300\n",
      "409/409 [==============================] - 1s 3ms/step - loss: 67106528.0000 - val_loss: 78077720.0000\n",
      "Epoch 13/300\n",
      "409/409 [==============================] - 2s 5ms/step - loss: 67751704.0000 - val_loss: 65791456.0000\n",
      "Epoch 14/300\n",
      "409/409 [==============================] - 1s 3ms/step - loss: 67447840.0000 - val_loss: 66250020.0000\n",
      "Epoch 15/300\n",
      "409/409 [==============================] - 1s 3ms/step - loss: 67645184.0000 - val_loss: 67561008.0000\n",
      "Epoch 16/300\n",
      "409/409 [==============================] - 1s 3ms/step - loss: 66866684.0000 - val_loss: 68913712.0000\n",
      "Epoch 17/300\n",
      "409/409 [==============================] - 1s 3ms/step - loss: 67468696.0000 - val_loss: 66158876.0000\n",
      "Epoch 18/300\n",
      "409/409 [==============================] - 1s 3ms/step - loss: 67054392.0000 - val_loss: 69308664.0000\n",
      "Epoch 19/300\n",
      "409/409 [==============================] - 1s 3ms/step - loss: 67821168.0000 - val_loss: 66523600.0000\n",
      "Epoch 20/300\n",
      "409/409 [==============================] - 1s 3ms/step - loss: 66664428.0000 - val_loss: 65666916.0000\n",
      "Epoch 21/300\n",
      "409/409 [==============================] - 2s 4ms/step - loss: 67043116.0000 - val_loss: 68445696.0000\n",
      "Epoch 22/300\n",
      "409/409 [==============================] - 1s 3ms/step - loss: 67559224.0000 - val_loss: 67757576.0000\n",
      "Epoch 23/300\n",
      "409/409 [==============================] - 1s 3ms/step - loss: 66960696.0000 - val_loss: 67539736.0000\n",
      "Epoch 24/300\n",
      "409/409 [==============================] - 1s 3ms/step - loss: 66853936.0000 - val_loss: 68818896.0000\n",
      "Epoch 25/300\n",
      "409/409 [==============================] - 1s 3ms/step - loss: 66867336.0000 - val_loss: 69153544.0000\n",
      "Epoch 26/300\n",
      "409/409 [==============================] - 1s 3ms/step - loss: 66895432.0000 - val_loss: 66192656.0000\n",
      "Epoch 27/300\n",
      "409/409 [==============================] - 1s 3ms/step - loss: 67109976.0000 - val_loss: 65692400.0000\n",
      "Epoch 28/300\n",
      "409/409 [==============================] - 1s 3ms/step - loss: 66652768.0000 - val_loss: 65656968.0000\n",
      "Epoch 29/300\n",
      "409/409 [==============================] - 2s 4ms/step - loss: 67307352.0000 - val_loss: 67853176.0000\n",
      "Epoch 30/300\n",
      "409/409 [==============================] - 1s 4ms/step - loss: 66438632.0000 - val_loss: 76302680.0000\n",
      "Epoch 31/300\n",
      "409/409 [==============================] - 1s 4ms/step - loss: 66639776.0000 - val_loss: 66328716.0000\n",
      "Epoch 32/300\n",
      "409/409 [==============================] - 1s 3ms/step - loss: 66697064.0000 - val_loss: 68715536.0000\n",
      "Epoch 33/300\n",
      "409/409 [==============================] - 1s 3ms/step - loss: 67497656.0000 - val_loss: 69159952.0000\n",
      "Epoch 34/300\n",
      "409/409 [==============================] - 1s 4ms/step - loss: 66975600.0000 - val_loss: 66522756.0000\n",
      "Epoch 35/300\n",
      "409/409 [==============================] - 1s 3ms/step - loss: 66142812.0000 - val_loss: 66466856.0000\n",
      "Epoch 36/300\n",
      "409/409 [==============================] - 1s 3ms/step - loss: 67145984.0000 - val_loss: 65648096.0000\n",
      "Epoch 37/300\n",
      "409/409 [==============================] - 1s 4ms/step - loss: 66786764.0000 - val_loss: 65712828.0000\n",
      "Epoch 38/300\n",
      "409/409 [==============================] - 1s 3ms/step - loss: 66351132.0000 - val_loss: 65859528.0000\n",
      "Epoch 39/300\n",
      "409/409 [==============================] - 1s 3ms/step - loss: 66569536.0000 - val_loss: 65616456.0000\n",
      "Epoch 40/300\n",
      "409/409 [==============================] - 1s 4ms/step - loss: 65993292.0000 - val_loss: 65939028.0000\n",
      "Epoch 41/300\n",
      "409/409 [==============================] - 1s 4ms/step - loss: 66204880.0000 - val_loss: 65972132.0000\n",
      "Epoch 42/300\n",
      "409/409 [==============================] - 1s 3ms/step - loss: 66126008.0000 - val_loss: 74763008.0000\n",
      "Epoch 43/300\n",
      "409/409 [==============================] - 1s 3ms/step - loss: 66951220.0000 - val_loss: 65961772.0000\n",
      "Epoch 44/300\n",
      "409/409 [==============================] - 1s 3ms/step - loss: 67439336.0000 - val_loss: 66380104.0000\n",
      "Epoch 45/300\n",
      "409/409 [==============================] - 1s 3ms/step - loss: 66369700.0000 - val_loss: 68622848.0000\n",
      "Epoch 46/300\n",
      "409/409 [==============================] - 1s 3ms/step - loss: 66748300.0000 - val_loss: 67941448.0000\n",
      "Epoch 47/300\n",
      "409/409 [==============================] - 1s 3ms/step - loss: 66780948.0000 - val_loss: 66025104.0000\n",
      "Epoch 48/300\n",
      "409/409 [==============================] - 1s 3ms/step - loss: 66417388.0000 - val_loss: 69343192.0000\n",
      "Epoch 49/300\n",
      "409/409 [==============================] - 1s 3ms/step - loss: 66205736.0000 - val_loss: 69648712.0000\n",
      "Epoch 50/300\n",
      "409/409 [==============================] - 1s 3ms/step - loss: 66522792.0000 - val_loss: 65742708.0000\n",
      "Epoch 51/300\n",
      "409/409 [==============================] - 1s 3ms/step - loss: 66327684.0000 - val_loss: 66218480.0000\n",
      "Epoch 52/300\n",
      "409/409 [==============================] - 1s 3ms/step - loss: 66236676.0000 - val_loss: 67007940.0000\n",
      "Epoch 53/300\n",
      "409/409 [==============================] - 1s 3ms/step - loss: 66498200.0000 - val_loss: 66071652.0000\n",
      "Epoch 54/300\n",
      "409/409 [==============================] - 1s 3ms/step - loss: 65981032.0000 - val_loss: 69285536.0000\n",
      "Epoch 55/300\n",
      "409/409 [==============================] - 1s 3ms/step - loss: 66135860.0000 - val_loss: 66329232.0000\n",
      "Epoch 56/300\n",
      "409/409 [==============================] - 1s 3ms/step - loss: 66316252.0000 - val_loss: 65629104.0000\n",
      "Epoch 57/300\n",
      "409/409 [==============================] - 1s 3ms/step - loss: 66308408.0000 - val_loss: 68572152.0000\n",
      "Epoch 58/300\n",
      "409/409 [==============================] - 1s 3ms/step - loss: 66150552.0000 - val_loss: 65967264.0000\n",
      "Epoch 59/300\n",
      "409/409 [==============================] - 1s 3ms/step - loss: 66083392.0000 - val_loss: 65685936.0000\n",
      "Epoch 60/300\n",
      "409/409 [==============================] - 1s 3ms/step - loss: 66370848.0000 - val_loss: 65801176.0000\n",
      "Epoch 61/300\n",
      "409/409 [==============================] - 1s 3ms/step - loss: 66050684.0000 - val_loss: 65702200.0000\n",
      "Epoch 62/300\n",
      "409/409 [==============================] - 1s 3ms/step - loss: 66310148.0000 - val_loss: 66437212.0000\n",
      "Epoch 63/300\n",
      "409/409 [==============================] - 1s 3ms/step - loss: 66141040.0000 - val_loss: 66801664.0000\n",
      "Epoch 64/300\n",
      "409/409 [==============================] - 1s 3ms/step - loss: 66313648.0000 - val_loss: 66852024.0000\n",
      "Epoch 00064: early stopping\n"
     ]
    },
    {
     "data": {
      "text/plain": [
       "<tensorflow.python.keras.callbacks.History at 0x27354e1ae88>"
      ]
     },
     "execution_count": 61,
     "metadata": {},
     "output_type": "execute_result"
    }
   ],
   "source": [
    "model_2.fit(x=X_train, y=Y_train, epochs=300, validation_data=(X_test_2, Y_test), callbacks=[early_stop])"
   ]
  },
  {
   "cell_type": "markdown",
   "id": "3432a517",
   "metadata": {},
   "source": [
    "En la última evaluación, definimos todas las variables."
   ]
  },
  {
   "cell_type": "code",
   "execution_count": 62,
   "id": "369f9586",
   "metadata": {},
   "outputs": [],
   "source": [
    "X_train, X_test_3, Y_train, Y_test = train_test_split(data, label, test_size=0.33)"
   ]
  },
  {
   "cell_type": "code",
   "execution_count": 63,
   "id": "bbd09a4e",
   "metadata": {},
   "outputs": [],
   "source": [
    "model_3 = Sequential()\n",
    "\n",
    "model_3.add(Dense(9, activation='relu'))\n",
    "model_3.add(Dense(255))\n",
    "model_3.add(Dense(255))\n",
    "model_3.add(Dense(1))\n",
    "\n",
    "model_3.compile(optimizer='adam', loss='mse')"
   ]
  },
  {
   "cell_type": "code",
   "execution_count": 64,
   "id": "cf783826",
   "metadata": {},
   "outputs": [
    {
     "name": "stdout",
     "output_type": "stream",
     "text": [
      "Epoch 1/300\n",
      "WARNING:tensorflow:Layer dense_8 is casting an input tensor from dtype float64 to the layer's dtype of float32, which is new behavior in TensorFlow 2.  The layer has dtype float32 because its dtype defaults to floatx.\n",
      "\n",
      "If you intended to run this layer in float32, you can safely ignore this warning. If in doubt, this warning is likely only an issue if you are porting a TensorFlow 1.X model to TensorFlow 2.\n",
      "\n",
      "To change all layers to have dtype float64 by default, call `tf.keras.backend.set_floatx('float64')`. To change just this layer, pass dtype='float64' to the layer constructor. If you are the author of this layer, you can disable autocasting by passing autocast=False to the base Layer constructor.\n",
      "\n",
      "409/409 [==============================] - 2s 4ms/step - loss: 107618368.0000 - val_loss: 96668080.0000\n",
      "Epoch 2/300\n",
      "409/409 [==============================] - 1s 3ms/step - loss: 99457776.0000 - val_loss: 96480712.0000\n",
      "Epoch 3/300\n",
      "409/409 [==============================] - 1s 3ms/step - loss: 98266592.0000 - val_loss: 94666424.0000\n",
      "Epoch 4/300\n",
      "409/409 [==============================] - 1s 3ms/step - loss: 92850112.0000 - val_loss: 79829224.0000\n",
      "Epoch 5/300\n",
      "409/409 [==============================] - 1s 3ms/step - loss: 57890760.0000 - val_loss: 44690504.0000\n",
      "Epoch 6/300\n",
      "409/409 [==============================] - 1s 3ms/step - loss: 43449580.0000 - val_loss: 37328960.0000\n",
      "Epoch 7/300\n",
      "409/409 [==============================] - 1s 3ms/step - loss: 37882084.0000 - val_loss: 34193752.0000\n",
      "Epoch 8/300\n",
      "409/409 [==============================] - 1s 3ms/step - loss: 34997648.0000 - val_loss: 32781780.0000\n",
      "Epoch 9/300\n",
      "409/409 [==============================] - 1s 3ms/step - loss: 32521690.0000 - val_loss: 28939982.0000\n",
      "Epoch 10/300\n",
      "409/409 [==============================] - 1s 3ms/step - loss: 30118616.0000 - val_loss: 28254546.0000\n",
      "Epoch 11/300\n",
      "409/409 [==============================] - 1s 3ms/step - loss: 29348328.0000 - val_loss: 28313208.0000\n",
      "Epoch 12/300\n",
      "409/409 [==============================] - 1s 3ms/step - loss: 27851198.0000 - val_loss: 29326568.0000\n",
      "Epoch 13/300\n",
      "409/409 [==============================] - 1s 3ms/step - loss: 27704724.0000 - val_loss: 26686324.0000\n",
      "Epoch 14/300\n",
      "409/409 [==============================] - 1s 3ms/step - loss: 27896938.0000 - val_loss: 25154094.0000\n",
      "Epoch 15/300\n",
      "409/409 [==============================] - 1s 3ms/step - loss: 27940590.0000 - val_loss: 24755942.0000\n",
      "Epoch 16/300\n",
      "409/409 [==============================] - 1s 3ms/step - loss: 27191250.0000 - val_loss: 26498348.0000\n",
      "Epoch 17/300\n",
      "409/409 [==============================] - 1s 3ms/step - loss: 27433492.0000 - val_loss: 27577196.0000\n",
      "Epoch 18/300\n",
      "409/409 [==============================] - 1s 3ms/step - loss: 27469308.0000 - val_loss: 25741542.0000\n",
      "Epoch 19/300\n",
      "409/409 [==============================] - 1s 3ms/step - loss: 26266446.0000 - val_loss: 24348238.0000\n",
      "Epoch 20/300\n",
      "409/409 [==============================] - 1s 3ms/step - loss: 26515864.0000 - val_loss: 25524966.0000\n",
      "Epoch 21/300\n",
      "409/409 [==============================] - 1s 3ms/step - loss: 26416050.0000 - val_loss: 24816258.0000\n",
      "Epoch 22/300\n",
      "409/409 [==============================] - 1s 3ms/step - loss: 26421270.0000 - val_loss: 25447236.0000\n",
      "Epoch 23/300\n",
      "409/409 [==============================] - 1s 3ms/step - loss: 26355442.0000 - val_loss: 24922634.0000\n",
      "Epoch 24/300\n",
      "409/409 [==============================] - 1s 3ms/step - loss: 26307228.0000 - val_loss: 23628766.0000\n",
      "Epoch 25/300\n",
      "409/409 [==============================] - 1s 3ms/step - loss: 25612336.0000 - val_loss: 24077334.0000\n",
      "Epoch 26/300\n",
      "409/409 [==============================] - 1s 3ms/step - loss: 25898166.0000 - val_loss: 24500466.0000\n",
      "Epoch 27/300\n",
      "409/409 [==============================] - 1s 3ms/step - loss: 26186582.0000 - val_loss: 24309964.0000\n",
      "Epoch 28/300\n",
      "409/409 [==============================] - 1s 3ms/step - loss: 25698610.0000 - val_loss: 23359238.0000\n",
      "Epoch 29/300\n",
      "409/409 [==============================] - 1s 3ms/step - loss: 26183054.0000 - val_loss: 23337734.0000\n",
      "Epoch 30/300\n",
      "409/409 [==============================] - 1s 3ms/step - loss: 25211186.0000 - val_loss: 23443666.0000\n",
      "Epoch 31/300\n",
      "409/409 [==============================] - 1s 3ms/step - loss: 25345776.0000 - val_loss: 23098856.0000\n",
      "Epoch 32/300\n",
      "409/409 [==============================] - 1s 3ms/step - loss: 25201230.0000 - val_loss: 23239114.0000\n",
      "Epoch 33/300\n",
      "409/409 [==============================] - 1s 3ms/step - loss: 25718568.0000 - val_loss: 24269774.0000\n",
      "Epoch 34/300\n",
      "409/409 [==============================] - 1s 3ms/step - loss: 25588458.0000 - val_loss: 23716276.0000\n",
      "Epoch 35/300\n",
      "409/409 [==============================] - 1s 3ms/step - loss: 25184574.0000 - val_loss: 23177568.0000\n",
      "Epoch 36/300\n",
      "409/409 [==============================] - 1s 3ms/step - loss: 24953540.0000 - val_loss: 24747076.0000\n",
      "Epoch 37/300\n",
      "409/409 [==============================] - 1s 3ms/step - loss: 24945130.0000 - val_loss: 23352796.0000\n",
      "Epoch 38/300\n",
      "409/409 [==============================] - 1s 3ms/step - loss: 24563044.0000 - val_loss: 24985518.0000\n",
      "Epoch 39/300\n",
      "409/409 [==============================] - 1s 3ms/step - loss: 24885034.0000 - val_loss: 23634026.0000\n",
      "Epoch 40/300\n",
      "409/409 [==============================] - 1s 3ms/step - loss: 25077274.0000 - val_loss: 26154040.0000\n",
      "Epoch 41/300\n",
      "409/409 [==============================] - 1s 3ms/step - loss: 24628294.0000 - val_loss: 29427084.0000\n",
      "Epoch 42/300\n",
      "409/409 [==============================] - 1s 3ms/step - loss: 25093766.0000 - val_loss: 22999668.0000\n",
      "Epoch 43/300\n",
      "409/409 [==============================] - 1s 3ms/step - loss: 24983600.0000 - val_loss: 22996974.0000\n",
      "Epoch 44/300\n",
      "409/409 [==============================] - 1s 3ms/step - loss: 25389498.0000 - val_loss: 28096412.0000\n",
      "Epoch 45/300\n",
      "409/409 [==============================] - 1s 3ms/step - loss: 24538400.0000 - val_loss: 24569658.0000\n",
      "Epoch 46/300\n",
      "409/409 [==============================] - 1s 3ms/step - loss: 24317214.0000 - val_loss: 22793340.0000\n",
      "Epoch 47/300\n",
      "409/409 [==============================] - 1s 3ms/step - loss: 25133760.0000 - val_loss: 24221304.0000\n",
      "Epoch 48/300\n",
      "409/409 [==============================] - 1s 3ms/step - loss: 24560784.0000 - val_loss: 23070570.0000\n",
      "Epoch 49/300\n",
      "409/409 [==============================] - 1s 3ms/step - loss: 24388474.0000 - val_loss: 24979544.0000\n",
      "Epoch 50/300\n",
      "409/409 [==============================] - 1s 3ms/step - loss: 25004972.0000 - val_loss: 22622064.0000\n",
      "Epoch 51/300\n",
      "409/409 [==============================] - 1s 4ms/step - loss: 24490488.0000 - val_loss: 22956562.0000\n",
      "Epoch 52/300\n",
      "409/409 [==============================] - 1s 4ms/step - loss: 24667918.0000 - val_loss: 22769064.0000\n",
      "Epoch 53/300\n",
      "409/409 [==============================] - 1s 3ms/step - loss: 24421058.0000 - val_loss: 23128146.0000\n",
      "Epoch 54/300\n",
      "409/409 [==============================] - 1s 3ms/step - loss: 24138404.0000 - val_loss: 28924636.0000\n",
      "Epoch 55/300\n",
      "409/409 [==============================] - 1s 3ms/step - loss: 24692844.0000 - val_loss: 24258026.0000\n",
      "Epoch 56/300\n",
      "409/409 [==============================] - 2s 4ms/step - loss: 24380264.0000 - val_loss: 25175652.0000\n",
      "Epoch 57/300\n",
      "409/409 [==============================] - 1s 4ms/step - loss: 24080800.0000 - val_loss: 24571618.0000\n",
      "Epoch 58/300\n",
      "409/409 [==============================] - 1s 3ms/step - loss: 24520400.0000 - val_loss: 22557646.0000\n",
      "Epoch 59/300\n",
      "409/409 [==============================] - 1s 4ms/step - loss: 24213632.0000 - val_loss: 23719022.0000\n",
      "Epoch 60/300\n",
      "409/409 [==============================] - 2s 4ms/step - loss: 24314546.0000 - val_loss: 23354270.0000\n",
      "Epoch 61/300\n",
      "409/409 [==============================] - 1s 3ms/step - loss: 24285506.0000 - val_loss: 23009360.0000\n",
      "Epoch 62/300\n",
      "409/409 [==============================] - 2s 4ms/step - loss: 23887360.0000 - val_loss: 22467716.0000\n",
      "Epoch 63/300\n",
      "409/409 [==============================] - 1s 4ms/step - loss: 24486734.0000 - val_loss: 23035522.0000\n",
      "Epoch 64/300\n",
      "409/409 [==============================] - 1s 4ms/step - loss: 23920356.0000 - val_loss: 22544132.0000\n",
      "Epoch 65/300\n"
     ]
    },
    {
     "name": "stdout",
     "output_type": "stream",
     "text": [
      "409/409 [==============================] - 1s 4ms/step - loss: 23892124.0000 - val_loss: 22789384.0000\n",
      "Epoch 66/300\n",
      "409/409 [==============================] - 1s 4ms/step - loss: 24055112.0000 - val_loss: 23007670.0000\n",
      "Epoch 67/300\n",
      "409/409 [==============================] - 1s 4ms/step - loss: 24567436.0000 - val_loss: 26613256.0000\n",
      "Epoch 68/300\n",
      "409/409 [==============================] - 2s 4ms/step - loss: 23800164.0000 - val_loss: 22554332.0000\n",
      "Epoch 69/300\n",
      "409/409 [==============================] - 1s 4ms/step - loss: 23771580.0000 - val_loss: 22516642.0000\n",
      "Epoch 70/300\n",
      "409/409 [==============================] - 1s 3ms/step - loss: 23990228.0000 - val_loss: 30701408.0000\n",
      "Epoch 71/300\n",
      "409/409 [==============================] - 1s 3ms/step - loss: 24046816.0000 - val_loss: 22588278.0000\n",
      "Epoch 72/300\n",
      "409/409 [==============================] - 1s 3ms/step - loss: 23675148.0000 - val_loss: 22379990.0000\n",
      "Epoch 73/300\n",
      "409/409 [==============================] - 1s 3ms/step - loss: 23524492.0000 - val_loss: 22606998.0000\n",
      "Epoch 74/300\n",
      "409/409 [==============================] - 1s 3ms/step - loss: 24102596.0000 - val_loss: 23076424.0000\n",
      "Epoch 75/300\n",
      "409/409 [==============================] - 1s 3ms/step - loss: 24158856.0000 - val_loss: 23365854.0000\n",
      "Epoch 76/300\n",
      "409/409 [==============================] - 1s 4ms/step - loss: 24065068.0000 - val_loss: 22280546.0000\n",
      "Epoch 77/300\n",
      "409/409 [==============================] - 1s 4ms/step - loss: 24137064.0000 - val_loss: 23671974.0000\n",
      "Epoch 78/300\n",
      "409/409 [==============================] - 2s 4ms/step - loss: 23807104.0000 - val_loss: 22597480.0000\n",
      "Epoch 79/300\n",
      "409/409 [==============================] - 1s 3ms/step - loss: 23854088.0000 - val_loss: 22390644.0000\n",
      "Epoch 80/300\n",
      "409/409 [==============================] - 1s 3ms/step - loss: 23918328.0000 - val_loss: 22235174.0000\n",
      "Epoch 81/300\n",
      "409/409 [==============================] - 2s 4ms/step - loss: 23752260.0000 - val_loss: 22223204.0000\n",
      "Epoch 82/300\n",
      "409/409 [==============================] - 1s 4ms/step - loss: 23797014.0000 - val_loss: 22969528.0000\n",
      "Epoch 83/300\n",
      "409/409 [==============================] - 2s 4ms/step - loss: 23497620.0000 - val_loss: 23291746.0000\n",
      "Epoch 84/300\n",
      "409/409 [==============================] - 1s 4ms/step - loss: 23718292.0000 - val_loss: 23325078.0000\n",
      "Epoch 85/300\n",
      "409/409 [==============================] - 1s 4ms/step - loss: 23732892.0000 - val_loss: 22673912.0000\n",
      "Epoch 86/300\n",
      "409/409 [==============================] - 1s 4ms/step - loss: 23461264.0000 - val_loss: 23793254.0000\n",
      "Epoch 87/300\n",
      "409/409 [==============================] - 2s 4ms/step - loss: 23212468.0000 - val_loss: 22068672.0000\n",
      "Epoch 88/300\n",
      "409/409 [==============================] - 1s 4ms/step - loss: 23610376.0000 - val_loss: 22468564.0000\n",
      "Epoch 89/300\n",
      "409/409 [==============================] - 1s 3ms/step - loss: 23965122.0000 - val_loss: 26561740.0000\n",
      "Epoch 90/300\n",
      "409/409 [==============================] - 1s 4ms/step - loss: 23745316.0000 - val_loss: 22775892.0000\n",
      "Epoch 91/300\n",
      "409/409 [==============================] - 1s 4ms/step - loss: 23821544.0000 - val_loss: 22031536.0000\n",
      "Epoch 92/300\n",
      "409/409 [==============================] - 1s 4ms/step - loss: 23502958.0000 - val_loss: 22095834.0000\n",
      "Epoch 93/300\n",
      "409/409 [==============================] - 1s 3ms/step - loss: 23555746.0000 - val_loss: 24264666.0000\n",
      "Epoch 94/300\n",
      "409/409 [==============================] - 1s 4ms/step - loss: 23453044.0000 - val_loss: 26505186.0000\n",
      "Epoch 95/300\n",
      "409/409 [==============================] - 1s 3ms/step - loss: 23842014.0000 - val_loss: 22048598.0000\n",
      "Epoch 96/300\n",
      "409/409 [==============================] - 1s 3ms/step - loss: 23297424.0000 - val_loss: 26107392.0000\n",
      "Epoch 97/300\n",
      "409/409 [==============================] - 1s 3ms/step - loss: 23891270.0000 - val_loss: 24485722.0000\n",
      "Epoch 98/300\n",
      "409/409 [==============================] - 2s 4ms/step - loss: 23418264.0000 - val_loss: 22169866.0000\n",
      "Epoch 99/300\n",
      "409/409 [==============================] - 2s 4ms/step - loss: 23404100.0000 - val_loss: 24727336.0000\n",
      "Epoch 100/300\n",
      "409/409 [==============================] - 2s 4ms/step - loss: 23490276.0000 - val_loss: 22625988.0000\n",
      "Epoch 101/300\n",
      "409/409 [==============================] - 2s 4ms/step - loss: 23842658.0000 - val_loss: 22366408.0000\n",
      "Epoch 102/300\n",
      "409/409 [==============================] - 2s 4ms/step - loss: 23158620.0000 - val_loss: 23635666.0000\n",
      "Epoch 103/300\n",
      "409/409 [==============================] - 1s 4ms/step - loss: 23487322.0000 - val_loss: 38644164.0000\n",
      "Epoch 104/300\n",
      "409/409 [==============================] - 2s 4ms/step - loss: 23770966.0000 - val_loss: 22855112.0000\n",
      "Epoch 105/300\n",
      "409/409 [==============================] - 2s 4ms/step - loss: 23422108.0000 - val_loss: 23814244.0000\n",
      "Epoch 106/300\n",
      "409/409 [==============================] - 2s 4ms/step - loss: 23811812.0000 - val_loss: 22047612.0000\n",
      "Epoch 107/300\n",
      "409/409 [==============================] - 1s 4ms/step - loss: 23159354.0000 - val_loss: 22002290.0000\n",
      "Epoch 108/300\n",
      "409/409 [==============================] - 2s 4ms/step - loss: 23563534.0000 - val_loss: 27811184.0000\n",
      "Epoch 109/300\n",
      "409/409 [==============================] - 2s 4ms/step - loss: 23565636.0000 - val_loss: 21812046.0000\n",
      "Epoch 110/300\n",
      "409/409 [==============================] - 1s 4ms/step - loss: 23584182.0000 - val_loss: 22103812.0000\n",
      "Epoch 111/300\n",
      "409/409 [==============================] - 2s 4ms/step - loss: 23075908.0000 - val_loss: 21966422.0000\n",
      "Epoch 112/300\n",
      "409/409 [==============================] - 1s 4ms/step - loss: 23652724.0000 - val_loss: 21821000.0000\n",
      "Epoch 113/300\n",
      "409/409 [==============================] - 2s 4ms/step - loss: 24032398.0000 - val_loss: 22464914.0000\n",
      "Epoch 114/300\n",
      "409/409 [==============================] - 2s 4ms/step - loss: 23316208.0000 - val_loss: 21872110.0000\n",
      "Epoch 115/300\n",
      "409/409 [==============================] - 1s 4ms/step - loss: 23540080.0000 - val_loss: 22440558.0000\n",
      "Epoch 116/300\n",
      "409/409 [==============================] - 1s 3ms/step - loss: 23610684.0000 - val_loss: 23778258.0000\n",
      "Epoch 117/300\n",
      "409/409 [==============================] - 2s 4ms/step - loss: 23425914.0000 - val_loss: 21877948.0000\n",
      "Epoch 118/300\n",
      "409/409 [==============================] - 2s 4ms/step - loss: 23564670.0000 - val_loss: 22708712.0000\n",
      "Epoch 119/300\n",
      "409/409 [==============================] - 2s 4ms/step - loss: 23373284.0000 - val_loss: 23671024.0000\n",
      "Epoch 120/300\n",
      "409/409 [==============================] - 1s 3ms/step - loss: 23257666.0000 - val_loss: 21938764.0000\n",
      "Epoch 121/300\n",
      "409/409 [==============================] - 2s 4ms/step - loss: 23383958.0000 - val_loss: 22610454.0000\n",
      "Epoch 122/300\n",
      "409/409 [==============================] - 2s 4ms/step - loss: 23634636.0000 - val_loss: 22032298.0000\n",
      "Epoch 123/300\n",
      "409/409 [==============================] - 2s 4ms/step - loss: 23128998.0000 - val_loss: 22475822.0000\n",
      "Epoch 124/300\n",
      "409/409 [==============================] - 2s 4ms/step - loss: 23422648.0000 - val_loss: 22000404.0000\n",
      "Epoch 125/300\n",
      "409/409 [==============================] - 2s 4ms/step - loss: 23814016.0000 - val_loss: 23598244.0000\n",
      "Epoch 126/300\n",
      "409/409 [==============================] - 2s 4ms/step - loss: 23482090.0000 - val_loss: 22820472.0000\n",
      "Epoch 127/300\n",
      "409/409 [==============================] - 2s 4ms/step - loss: 23592370.0000 - val_loss: 22380628.0000\n",
      "Epoch 128/300\n",
      "409/409 [==============================] - 2s 4ms/step - loss: 23468816.0000 - val_loss: 22523788.0000\n",
      "Epoch 129/300\n",
      "409/409 [==============================] - 2s 4ms/step - loss: 23234838.0000 - val_loss: 22537378.0000\n",
      "Epoch 130/300\n",
      "409/409 [==============================] - 2s 4ms/step - loss: 23198442.0000 - val_loss: 23569626.0000\n",
      "Epoch 131/300\n",
      "409/409 [==============================] - 2s 4ms/step - loss: 22860372.0000 - val_loss: 21947146.0000\n",
      "Epoch 132/300\n",
      "409/409 [==============================] - 2s 4ms/step - loss: 23776112.0000 - val_loss: 22916236.0000\n",
      "Epoch 133/300\n",
      "409/409 [==============================] - 2s 4ms/step - loss: 23397884.0000 - val_loss: 22444510.0000\n",
      "Epoch 134/300\n",
      "409/409 [==============================] - 2s 4ms/step - loss: 23457150.0000 - val_loss: 21858188.0000\n",
      "Epoch 00134: early stopping\n"
     ]
    },
    {
     "data": {
      "text/plain": [
       "<tensorflow.python.keras.callbacks.History at 0x27355176508>"
      ]
     },
     "execution_count": 64,
     "metadata": {},
     "output_type": "execute_result"
    }
   ],
   "source": [
    "model_3.fit(x=X_train, y=Y_train, epochs=300, validation_data=(X_test_3, Y_test), callbacks=[early_stop])"
   ]
  },
  {
   "cell_type": "code",
   "execution_count": 65,
   "id": "ec8ea108",
   "metadata": {},
   "outputs": [
    {
     "name": "stdout",
     "output_type": "stream",
     "text": [
      "Prediccion variables: 'year', 'model', 'transmission', 'Brand':  11007.973938925777\n",
      "Prediccion variables: 'year', , 'transmission', 'Brand':  11490.983240310952\n",
      "Prediccion con todas las variables:  4675.273333963715\n"
     ]
    }
   ],
   "source": [
    "prediction1 = model_1.predict(X_test_1)\n",
    "print(\"Prediccion variables: 'year', 'model', 'transmission', 'Brand': \", np.sqrt(MSE(Y_test, prediction1)))\n",
    "\n",
    "prediction2 = model_2.predict(X_test_2)\n",
    "print(\"Prediccion variables: 'year', , 'transmission', 'Brand': \", np.sqrt(MSE(Y_test, prediction2)))\n",
    "np.sqrt(MSE(Y_test, prediction2))\n",
    "\n",
    "prediction3 = model_3.predict(X_test_3)\n",
    "print(\"Prediccion con todas las variables: \", np.sqrt(MSE(Y_test, prediction3)))"
   ]
  },
  {
   "cell_type": "markdown",
   "id": "66bfd394",
   "metadata": {},
   "source": [
    "Probamos con una entrada"
   ]
  },
  {
   "cell_type": "code",
   "execution_count": 66,
   "id": "cbeda6ff",
   "metadata": {},
   "outputs": [
    {
     "data": {
      "text/html": [
       "<div>\n",
       "<style scoped>\n",
       "    .dataframe tbody tr th:only-of-type {\n",
       "        vertical-align: middle;\n",
       "    }\n",
       "\n",
       "    .dataframe tbody tr th {\n",
       "        vertical-align: top;\n",
       "    }\n",
       "\n",
       "    .dataframe thead th {\n",
       "        text-align: right;\n",
       "    }\n",
       "</style>\n",
       "<table border=\"1\" class=\"dataframe\">\n",
       "  <thead>\n",
       "    <tr style=\"text-align: right;\">\n",
       "      <th></th>\n",
       "      <th>year</th>\n",
       "      <th>model</th>\n",
       "      <th>transmission</th>\n",
       "      <th>Brand</th>\n",
       "    </tr>\n",
       "  </thead>\n",
       "  <tbody>\n",
       "    <tr>\n",
       "      <th>321</th>\n",
       "      <td>2017</td>\n",
       "      <td>2</td>\n",
       "      <td>2</td>\n",
       "      <td>0</td>\n",
       "    </tr>\n",
       "  </tbody>\n",
       "</table>\n",
       "</div>"
      ],
      "text/plain": [
       "     year  model  transmission  Brand\n",
       "321  2017      2             2      0"
      ]
     },
     "execution_count": 66,
     "metadata": {},
     "output_type": "execute_result"
    }
   ],
   "source": [
    "X_test_1.head(1)"
   ]
  },
  {
   "cell_type": "code",
   "execution_count": 67,
   "id": "ed81c0c0",
   "metadata": {},
   "outputs": [],
   "source": [
    "import tensorflow as tf"
   ]
  },
  {
   "cell_type": "code",
   "execution_count": 68,
   "id": "1dedf7cb",
   "metadata": {},
   "outputs": [
    {
     "name": "stdout",
     "output_type": "stream",
     "text": [
      "Hagamos una predicción!\n",
      "El resultado es [[25553.451]]\n"
     ]
    }
   ],
   "source": [
    "print(\"Hagamos una predicción!\")\n",
    "val = [[2019, 8, 2, 1]]\n",
    "resultado = model_1.predict(val)\n",
    "print(\"El resultado es \" + str(resultado))"
   ]
  },
  {
   "cell_type": "code",
   "execution_count": 69,
   "id": "e199aa35",
   "metadata": {},
   "outputs": [
    {
     "data": {
      "text/plain": [
       "[[2019, 8, 2, 1]]"
      ]
     },
     "execution_count": 69,
     "metadata": {},
     "output_type": "execute_result"
    }
   ],
   "source": [
    "val"
   ]
  },
  {
   "cell_type": "markdown",
   "id": "1ba2a239",
   "metadata": {},
   "source": [
    "## 7. Visualizar, informar y presentar los pasos de resolución del problema y la solución final."
   ]
  },
  {
   "cell_type": "markdown",
   "id": "3b4bcc56",
   "metadata": {},
   "source": [
    "Exportar el modelo en formato h5"
   ]
  },
  {
   "cell_type": "code",
   "execution_count": 70,
   "id": "5d5e5314",
   "metadata": {},
   "outputs": [],
   "source": [
    "model_1.save('carpeta_out_model_4/autos.h5')"
   ]
  },
  {
   "cell_type": "markdown",
   "id": "e0a1081f",
   "metadata": {},
   "source": [
    "Luego, podemos ver que elementos existen en la presente carpeta"
   ]
  },
  {
   "cell_type": "code",
   "execution_count": 71,
   "id": "f9891269",
   "metadata": {},
   "outputs": [
    {
     "name": "stdout",
     "output_type": "stream",
     "text": [
      "AnÃ¡lisis y modelo para dataset de autos.ipynb\n",
      "autos.h5\n",
      "carpeta_out\n",
      "carpeta_out_3\n",
      "carpeta_out_model_3\n",
      "carpeta_out_model_4\n",
      "carpeta_out_model_todas\n",
      "preprocesamiento y union de datasets.ipynb\n",
      "prototipo_intefaz.ipynb\n"
     ]
    }
   ],
   "source": [
    "!ls"
   ]
  },
  {
   "cell_type": "markdown",
   "id": "3cab77da",
   "metadata": {},
   "source": [
    "Luego antes de usar el método `tensorflowjs_converter` es necesario instalar la librería `tensorflow.js`, esto se puede realizar\n",
    "con el siguiente comando."
   ]
  },
  {
   "cell_type": "code",
   "execution_count": 72,
   "id": "3d745543",
   "metadata": {},
   "outputs": [
    {
     "name": "stdout",
     "output_type": "stream",
     "text": [
      "Requirement already satisfied: tensorflowjs in c:\\users\\pc\\.conda\\envs\\ia\\lib\\site-packages (3.11.0)\n",
      "Requirement already satisfied: tensorflow<3,>=2.1.0 in c:\\users\\pc\\.conda\\envs\\ia\\lib\\site-packages (from tensorflowjs) (2.3.0)\n",
      "Requirement already satisfied: tensorflow-hub<0.13,>=0.7.0 in c:\\users\\pc\\.conda\\envs\\ia\\lib\\site-packages (from tensorflowjs) (0.12.0)\n",
      "Requirement already satisfied: six<2,>=1.12.0 in c:\\users\\pc\\.conda\\envs\\ia\\lib\\site-packages (from tensorflowjs) (1.16.0)\n",
      "Requirement already satisfied: absl-py>=0.7.0 in c:\\users\\pc\\.conda\\envs\\ia\\lib\\site-packages (from tensorflow<3,>=2.1.0->tensorflowjs) (0.13.0)\n",
      "Requirement already satisfied: h5py<2.11.0,>=2.10.0 in c:\\users\\pc\\.conda\\envs\\ia\\lib\\site-packages (from tensorflow<3,>=2.1.0->tensorflowjs) (2.10.0)\n",
      "Requirement already satisfied: google-pasta>=0.1.8 in c:\\users\\pc\\.conda\\envs\\ia\\lib\\site-packages (from tensorflow<3,>=2.1.0->tensorflowjs) (0.2.0)\n",
      "Requirement already satisfied: tensorboard<3,>=2.3.0 in c:\\users\\pc\\.conda\\envs\\ia\\lib\\site-packages (from tensorflow<3,>=2.1.0->tensorflowjs) (2.4.0)\n",
      "Requirement already satisfied: astunparse==1.6.3 in c:\\users\\pc\\.conda\\envs\\ia\\lib\\site-packages (from tensorflow<3,>=2.1.0->tensorflowjs) (1.6.3)\n",
      "Requirement already satisfied: wrapt>=1.11.1 in c:\\users\\pc\\.conda\\envs\\ia\\lib\\site-packages (from tensorflow<3,>=2.1.0->tensorflowjs) (1.12.1)\n",
      "Requirement already satisfied: opt-einsum>=2.3.2 in c:\\users\\pc\\.conda\\envs\\ia\\lib\\site-packages (from tensorflow<3,>=2.1.0->tensorflowjs) (3.3.0)\n",
      "Requirement already satisfied: wheel>=0.26 in c:\\users\\pc\\.conda\\envs\\ia\\lib\\site-packages (from tensorflow<3,>=2.1.0->tensorflowjs) (0.37.0)\n",
      "Requirement already satisfied: scipy==1.4.1 in c:\\users\\pc\\.conda\\envs\\ia\\lib\\site-packages (from tensorflow<3,>=2.1.0->tensorflowjs) (1.4.1)\n",
      "Requirement already satisfied: termcolor>=1.1.0 in c:\\users\\pc\\.conda\\envs\\ia\\lib\\site-packages (from tensorflow<3,>=2.1.0->tensorflowjs) (1.1.0)\n",
      "Requirement already satisfied: protobuf>=3.9.2 in c:\\users\\pc\\.conda\\envs\\ia\\lib\\site-packages (from tensorflow<3,>=2.1.0->tensorflowjs) (3.17.2)\n",
      "Requirement already satisfied: tensorflow-estimator<2.4.0,>=2.3.0 in c:\\users\\pc\\.conda\\envs\\ia\\lib\\site-packages (from tensorflow<3,>=2.1.0->tensorflowjs) (2.3.0)\n",
      "Requirement already satisfied: grpcio>=1.8.6 in c:\\users\\pc\\.conda\\envs\\ia\\lib\\site-packages (from tensorflow<3,>=2.1.0->tensorflowjs) (1.36.1)\n",
      "Requirement already satisfied: numpy<1.19.0,>=1.16.0 in c:\\users\\pc\\.conda\\envs\\ia\\lib\\site-packages (from tensorflow<3,>=2.1.0->tensorflowjs) (1.18.5)\n",
      "Requirement already satisfied: gast==0.3.3 in c:\\users\\pc\\.conda\\envs\\ia\\lib\\site-packages (from tensorflow<3,>=2.1.0->tensorflowjs) (0.3.3)\n",
      "Requirement already satisfied: keras-preprocessing<1.2,>=1.1.1 in c:\\users\\pc\\.conda\\envs\\ia\\lib\\site-packages (from tensorflow<3,>=2.1.0->tensorflowjs) (1.1.2)\n",
      "Requirement already satisfied: markdown>=2.6.8 in c:\\users\\pc\\.conda\\envs\\ia\\lib\\site-packages (from tensorboard<3,>=2.3.0->tensorflow<3,>=2.1.0->tensorflowjs) (3.3.4)\n",
      "Requirement already satisfied: google-auth-oauthlib<0.5,>=0.4.1 in c:\\users\\pc\\.conda\\envs\\ia\\lib\\site-packages (from tensorboard<3,>=2.3.0->tensorflow<3,>=2.1.0->tensorflowjs) (0.4.4)\n",
      "Requirement already satisfied: requests<3,>=2.21.0 in c:\\users\\pc\\.conda\\envs\\ia\\lib\\site-packages (from tensorboard<3,>=2.3.0->tensorflow<3,>=2.1.0->tensorflowjs) (2.26.0)\n",
      "Requirement already satisfied: tensorboard-plugin-wit>=1.6.0 in c:\\users\\pc\\.conda\\envs\\ia\\lib\\site-packages (from tensorboard<3,>=2.3.0->tensorflow<3,>=2.1.0->tensorflowjs) (1.6.0)\n",
      "Requirement already satisfied: werkzeug>=0.11.15 in c:\\users\\pc\\.conda\\envs\\ia\\lib\\site-packages (from tensorboard<3,>=2.3.0->tensorflow<3,>=2.1.0->tensorflowjs) (1.0.1)\n",
      "Requirement already satisfied: google-auth<2,>=1.6.3 in c:\\users\\pc\\.conda\\envs\\ia\\lib\\site-packages (from tensorboard<3,>=2.3.0->tensorflow<3,>=2.1.0->tensorflowjs) (1.21.3)\n",
      "Requirement already satisfied: setuptools>=41.0.0 in c:\\users\\pc\\.conda\\envs\\ia\\lib\\site-packages (from tensorboard<3,>=2.3.0->tensorflow<3,>=2.1.0->tensorflowjs) (52.0.0.post20210125)\n",
      "Requirement already satisfied: rsa<5,>=3.1.4 in c:\\users\\pc\\.conda\\envs\\ia\\lib\\site-packages (from google-auth<2,>=1.6.3->tensorboard<3,>=2.3.0->tensorflow<3,>=2.1.0->tensorflowjs) (4.7.2)\n",
      "Requirement already satisfied: pyasn1-modules>=0.2.1 in c:\\users\\pc\\.conda\\envs\\ia\\lib\\site-packages (from google-auth<2,>=1.6.3->tensorboard<3,>=2.3.0->tensorflow<3,>=2.1.0->tensorflowjs) (0.2.8)\n",
      "Requirement already satisfied: cachetools<5.0,>=2.0.0 in c:\\users\\pc\\.conda\\envs\\ia\\lib\\site-packages (from google-auth<2,>=1.6.3->tensorboard<3,>=2.3.0->tensorflow<3,>=2.1.0->tensorflowjs) (4.2.2)\n",
      "Requirement already satisfied: requests-oauthlib>=0.7.0 in c:\\users\\pc\\.conda\\envs\\ia\\lib\\site-packages (from google-auth-oauthlib<0.5,>=0.4.1->tensorboard<3,>=2.3.0->tensorflow<3,>=2.1.0->tensorflowjs) (1.3.0)\n",
      "Requirement already satisfied: importlib-metadata in c:\\users\\pc\\.conda\\envs\\ia\\lib\\site-packages (from markdown>=2.6.8->tensorboard<3,>=2.3.0->tensorflow<3,>=2.1.0->tensorflowjs) (3.10.0)\n",
      "Requirement already satisfied: pyasn1<0.5.0,>=0.4.6 in c:\\users\\pc\\.conda\\envs\\ia\\lib\\site-packages (from pyasn1-modules>=0.2.1->google-auth<2,>=1.6.3->tensorboard<3,>=2.3.0->tensorflow<3,>=2.1.0->tensorflowjs) (0.4.8)\n",
      "Requirement already satisfied: urllib3<1.27,>=1.21.1 in c:\\users\\pc\\.conda\\envs\\ia\\lib\\site-packages (from requests<3,>=2.21.0->tensorboard<3,>=2.3.0->tensorflow<3,>=2.1.0->tensorflowjs) (1.26.6)\n",
      "Requirement already satisfied: idna<4,>=2.5 in c:\\users\\pc\\.conda\\envs\\ia\\lib\\site-packages (from requests<3,>=2.21.0->tensorboard<3,>=2.3.0->tensorflow<3,>=2.1.0->tensorflowjs) (3.2)\n",
      "Requirement already satisfied: certifi>=2017.4.17 in c:\\users\\pc\\.conda\\envs\\ia\\lib\\site-packages (from requests<3,>=2.21.0->tensorboard<3,>=2.3.0->tensorflow<3,>=2.1.0->tensorflowjs) (2021.10.8)\n",
      "Requirement already satisfied: charset-normalizer~=2.0.0 in c:\\users\\pc\\.conda\\envs\\ia\\lib\\site-packages (from requests<3,>=2.21.0->tensorboard<3,>=2.3.0->tensorflow<3,>=2.1.0->tensorflowjs) (2.0.4)\n",
      "Requirement already satisfied: oauthlib>=3.0.0 in c:\\users\\pc\\.conda\\envs\\ia\\lib\\site-packages (from requests-oauthlib>=0.7.0->google-auth-oauthlib<0.5,>=0.4.1->tensorboard<3,>=2.3.0->tensorflow<3,>=2.1.0->tensorflowjs) (3.1.1)\n",
      "Requirement already satisfied: zipp>=0.5 in c:\\users\\pc\\.conda\\envs\\ia\\lib\\site-packages (from importlib-metadata->markdown>=2.6.8->tensorboard<3,>=2.3.0->tensorflow<3,>=2.1.0->tensorflowjs) (3.5.0)\n",
      "Requirement already satisfied: typing-extensions>=3.6.4 in c:\\users\\pc\\.conda\\envs\\ia\\lib\\site-packages (from importlib-metadata->markdown>=2.6.8->tensorboard<3,>=2.3.0->tensorflow<3,>=2.1.0->tensorflowjs) (3.10.0.0)\n"
     ]
    }
   ],
   "source": [
    "!pip install tensorflowjs"
   ]
  },
  {
   "cell_type": "markdown",
   "id": "31d23219",
   "metadata": {},
   "source": [
    "Luego, creamos una carpeta donde guardaremos los archivos resultantes. Solo ejecutar una vez, pues sino saldrá error de `already_exists`."
   ]
  },
  {
   "cell_type": "code",
   "execution_count": 73,
   "id": "ddb9f608",
   "metadata": {},
   "outputs": [
    {
     "name": "stderr",
     "output_type": "stream",
     "text": [
      "A subdirectory or file carpeta_out already exists.\n"
     ]
    }
   ],
   "source": [
    "!mkdir carpeta_out"
   ]
  },
  {
   "cell_type": "markdown",
   "id": "4d393afa",
   "metadata": {},
   "source": [
    "Realizamos la exportación a la carpeta `carpeta_out`"
   ]
  },
  {
   "cell_type": "code",
   "execution_count": 74,
   "id": "d11ac8ae",
   "metadata": {},
   "outputs": [],
   "source": [
    "!tensorflowjs_converter --input_format keras carpeta_out_model_4/autos.h5 carpeta_out_model_4"
   ]
  },
  {
   "cell_type": "markdown",
   "id": "ef97d66b",
   "metadata": {},
   "source": [
    "Ingresamos a la carpeta y luego verificamos los archivos de salida (\"bin\", \"json\", \"h5\")."
   ]
  },
  {
   "cell_type": "code",
   "execution_count": 75,
   "id": "7a48e700",
   "metadata": {},
   "outputs": [
    {
     "name": "stdout",
     "output_type": "stream",
     "text": [
      "group1-shard1of1.bin\n",
      "model.json\n"
     ]
    }
   ],
   "source": [
    "!ls carpeta_out"
   ]
  }
 ],
 "metadata": {
  "interpreter": {
   "hash": "0b313e468cc1607c2330207d084c33c11687df5fa3df1247c3547e947e24d22b"
  },
  "kernelspec": {
   "display_name": "Python (IA)",
   "language": "python",
   "name": "ia"
  },
  "language_info": {
   "codemirror_mode": {
    "name": "ipython",
    "version": 3
   },
   "file_extension": ".py",
   "mimetype": "text/x-python",
   "name": "python",
   "nbconvert_exporter": "python",
   "pygments_lexer": "ipython3",
   "version": "3.7.11"
  }
 },
 "nbformat": 4,
 "nbformat_minor": 5
}
