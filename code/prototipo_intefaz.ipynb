{
 "cells": [
  {
   "cell_type": "markdown",
   "metadata": {},
   "source": [
    "# TB2"
   ]
  },
  {
   "cell_type": "markdown",
   "metadata": {},
   "source": [
    "## Imports\n"
   ]
  },
  {
   "cell_type": "code",
   "execution_count": 1,
   "metadata": {},
   "outputs": [],
   "source": [
    "import ipywidgets as widgets"
   ]
  },
  {
   "cell_type": "markdown",
   "metadata": {},
   "source": [
    "## 100,000 UK Used Car Data Set\n",
    "Data set obtained from [Kaggle](https://www.kaggle.com/adityadesai13/used-car-dataset-ford-and-mercedes)\n",
    "\n"
   ]
  },
  {
   "cell_type": "code",
   "execution_count": null,
   "metadata": {},
   "outputs": [],
   "source": []
  },
  {
   "cell_type": "markdown",
   "metadata": {},
   "source": [
    "Limpieza de datos"
   ]
  },
  {
   "cell_type": "markdown",
   "metadata": {},
   "source": [
    "## Modelo"
   ]
  },
  {
   "cell_type": "markdown",
   "metadata": {},
   "source": [
    "## Intefaz de Usuario\n"
   ]
  },
  {
   "cell_type": "markdown",
   "metadata": {},
   "source": [
    "Ingrese la marca de carro de la que desea buscar informacion\n",
    "\n",
    "Marcas disponibles:\n",
    "\n",
    "- Audi\n",
    "- BMW\n",
    "- Ford\n",
    "- Hyundi\n",
    "- Mercedes\n",
    "- Toyota"
   ]
  },
  {
   "cell_type": "code",
   "execution_count": 2,
   "metadata": {},
   "outputs": [
    {
     "data": {
      "application/vnd.jupyter.widget-view+json": {
       "model_id": "8c343257714d41ef9ba617d508a27629",
       "version_major": 2,
       "version_minor": 0
      },
      "text/plain": [
       "VBox(children=(Dropdown(description='Marca:', options=('Audi', 'BMW', 'Ford', 'Hyundi', 'Mercedes', 'Toyota'),…"
      ]
     },
     "metadata": {},
     "output_type": "display_data"
    }
   ],
   "source": [
    "marcaWidget = widgets.Dropdown(\n",
    "    options = ['Audi','BMW','Ford','Hyundi','Mercedes','Toyota'],\n",
    "    value = 'Audi',\n",
    "    description='Marca:'\n",
    ")\n",
    "marcaButton = widgets.VBox([marcaWidget])\n",
    "marcaButton"
   ]
  },
  {
   "cell_type": "code",
   "execution_count": 3,
   "metadata": {},
   "outputs": [],
   "source": [
    "marca = marcaWidget.value\n",
    "modelos = list()\n",
    "if marca == 'Audi':\n",
    "    modelos = ('A3','Q3','A4','A1','A5')\n",
    "elif marca == 'BMW':\n",
    "    modelos = ('1 Series','2 Series','3 Series','4 Series','5 Series')\n",
    "elif marca == 'Ford':\n",
    "    modelos = ('Fiesta','Focus','Kuga','EcoSport','C-MAX')\n",
    "elif marca == 'Hyundi':\n",
    "    modelos = ('Tucson','I10','I20','I30','Kona')\n",
    "elif marca == 'Mercedes':\n",
    "    modelos = ('A Class','B Class','C Class','D Class','E Class','GLA Class','GLC Class')\n",
    "else: #Toyota\n",
    "    modelos = ('GT86','Yaris','Aygo','Auris','C-HR','R4V4')\n"
   ]
  },
  {
   "cell_type": "code",
   "execution_count": 4,
   "metadata": {},
   "outputs": [
    {
     "data": {
      "application/vnd.jupyter.widget-view+json": {
       "model_id": "bd0bb2cd4c8948f987cbbf4bd82b3fe8",
       "version_major": 2,
       "version_minor": 0
      },
      "text/plain": [
       "VBox(children=(Dropdown(description='Modelo:', options=('A3', 'Q3', 'A4', 'A1', 'A5'), value='A3'), Dropdown(d…"
      ]
     },
     "metadata": {},
     "output_type": "display_data"
    }
   ],
   "source": [
    "val = modelos[0]\n",
    "modelosWidget = widgets.Dropdown(\n",
    "    options = modelos,\n",
    "    values = val,\n",
    "    description='Modelo:'\n",
    ")\n",
    "\n",
    "motorWidget = widgets.Dropdown(\n",
    "    options = ['Automatico','Semi-Automatico','Manual'],\n",
    "    values = 'Automatico',\n",
    "    description='Tipo de Motor:'\n",
    ")\n",
    "\n",
    "\n",
    "anioWidget = widgets.IntSlider(\n",
    "    value = 2015,\n",
    "    min=2010,\n",
    "    max=2020,\n",
    "    step=1,\n",
    ")\n",
    "box = widgets.VBox([modelosWidget,motorWidget,anioWidget])\n",
    "box"
   ]
  },
  {
   "cell_type": "code",
   "execution_count": 5,
   "metadata": {},
   "outputs": [
    {
     "name": "stdout",
     "output_type": "stream",
     "text": [
      "A3 Automatico 2015\n"
     ]
    }
   ],
   "source": [
    "modelo = modelosWidget.value\n",
    "motor = motorWidget.value\n",
    "anio = anioWidget.value\n",
    "print(modelo,motor,anio)"
   ]
  }
 ],
 "metadata": {
  "interpreter": {
   "hash": "cf6663ca35ebd57d6121109460e534e72c1e1f8ff142ad985cdcb4b7e585eb79"
  },
  "kernelspec": {
   "display_name": "Python 3.9.2 64-bit",
   "name": "python3"
  },
  "language_info": {
   "codemirror_mode": {
    "name": "ipython",
    "version": 3
   },
   "file_extension": ".py",
   "mimetype": "text/x-python",
   "name": "python",
   "nbconvert_exporter": "python",
   "pygments_lexer": "ipython3",
   "version": "3.9.2"
  },
  "orig_nbformat": 4
 },
 "nbformat": 4,
 "nbformat_minor": 2
}
